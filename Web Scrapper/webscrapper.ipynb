{
 "cells": [
  {
   "cell_type": "code",
   "execution_count": 2,
   "metadata": {},
   "outputs": [],
   "source": [
    "import os\n",
    "import re\n",
    "import pandas as pd\n",
    "import scrapy\n",
    "from scrapy.crawler import CrawlerProcess"
   ]
  },
  {
   "cell_type": "code",
   "execution_count": null,
   "metadata": {},
   "outputs": [
    {
     "name": "stderr",
     "output_type": "stream",
     "text": [
      "2020-05-09 20:09:58 [scrapy.utils.log] INFO: Scrapy 2.1.0 started (bot: scrapybot)\n",
      "2020-05-09 20:09:58 [scrapy.utils.log] INFO: Versions: lxml 4.4.1.0, libxml2 2.9.9, cssselect 1.1.0, parsel 1.6.0, w3lib 1.21.0, Twisted 20.3.0, Python 3.7.4 (default, Aug  9 2019, 18:34:13) [MSC v.1915 64 bit (AMD64)], pyOpenSSL 19.0.0 (OpenSSL 1.1.1d  10 Sep 2019), cryptography 2.7, Platform Windows-10-10.0.18362-SP0\n",
      "2020-05-09 20:09:58 [scrapy.utils.log] DEBUG: Using reactor: twisted.internet.selectreactor.SelectReactor\n",
      "2020-05-09 20:09:58 [scrapy.crawler] INFO: Overridden settings:\n",
      "{}\n",
      "2020-05-09 20:09:59 [scrapy.extensions.telnet] INFO: Telnet Password: 59293be53439698d\n",
      "2020-05-09 20:09:59 [scrapy.middleware] INFO: Enabled extensions:\n",
      "['scrapy.extensions.corestats.CoreStats',\n",
      " 'scrapy.extensions.telnet.TelnetConsole',\n",
      " 'scrapy.extensions.logstats.LogStats']\n",
      "2020-05-09 20:09:59 [scrapy.middleware] INFO: Enabled downloader middlewares:\n",
      "['scrapy.downloadermiddlewares.httpauth.HttpAuthMiddleware',\n",
      " 'scrapy.downloadermiddlewares.downloadtimeout.DownloadTimeoutMiddleware',\n",
      " 'scrapy.downloadermiddlewares.defaultheaders.DefaultHeadersMiddleware',\n",
      " 'scrapy.downloadermiddlewares.useragent.UserAgentMiddleware',\n",
      " 'scrapy.downloadermiddlewares.retry.RetryMiddleware',\n",
      " 'scrapy.downloadermiddlewares.redirect.MetaRefreshMiddleware',\n",
      " 'scrapy.downloadermiddlewares.httpcompression.HttpCompressionMiddleware',\n",
      " 'scrapy.downloadermiddlewares.redirect.RedirectMiddleware',\n",
      " 'scrapy.downloadermiddlewares.cookies.CookiesMiddleware',\n",
      " 'scrapy.downloadermiddlewares.httpproxy.HttpProxyMiddleware',\n",
      " 'scrapy.downloadermiddlewares.stats.DownloaderStats']\n",
      "2020-05-09 20:09:59 [scrapy.middleware] INFO: Enabled spider middlewares:\n",
      "['scrapy.spidermiddlewares.httperror.HttpErrorMiddleware',\n",
      " 'scrapy.spidermiddlewares.offsite.OffsiteMiddleware',\n",
      " 'scrapy.spidermiddlewares.referer.RefererMiddleware',\n",
      " 'scrapy.spidermiddlewares.urllength.UrlLengthMiddleware',\n",
      " 'scrapy.spidermiddlewares.depth.DepthMiddleware']\n",
      "2020-05-09 20:09:59 [scrapy.middleware] INFO: Enabled item pipelines:\n",
      "[]\n",
      "2020-05-09 20:09:59 [scrapy.core.engine] INFO: Spider opened\n",
      "2020-05-09 20:09:59 [scrapy.extensions.logstats] INFO: Crawled 0 pages (at 0 pages/min), scraped 0 items (at 0 items/min)\n",
      "2020-05-09 20:09:59 [scrapy.extensions.telnet] INFO: Telnet console listening on 127.0.0.1:6023\n",
      "2020-05-09 20:10:04 [scrapy.core.engine] DEBUG: Crawled (200) <GET https://www.goodreads.com/list/show/1.Best_Books_Ever?page=1> (referer: None)\n",
      "2020-05-09 20:10:04 [scrapy.core.engine] DEBUG: Crawled (200) <GET https://www.goodreads.com/list/show/1.Best_Books_Ever?page=2> (referer: None)\n",
      "2020-05-09 20:10:05 [scrapy.core.engine] DEBUG: Crawled (200) <GET https://www.goodreads.com/list/show/1.Best_Books_Ever?page=3> (referer: None)\n",
      "2020-05-09 20:10:05 [scrapy.core.engine] DEBUG: Crawled (200) <GET https://www.goodreads.com/list/show/1.Best_Books_Ever?page=4> (referer: None)\n",
      "2020-05-09 20:10:05 [scrapy.core.engine] DEBUG: Crawled (200) <GET https://www.goodreads.com/list/show/1.Best_Books_Ever?page=5> (referer: None)\n",
      "2020-05-09 20:10:06 [scrapy.core.engine] DEBUG: Crawled (200) <GET https://www.goodreads.com/list/show/1.Best_Books_Ever?page=6> (referer: None)\n",
      "2020-05-09 20:10:06 [scrapy.core.engine] DEBUG: Crawled (200) <GET https://www.goodreads.com/list/show/1.Best_Books_Ever?page=8> (referer: None)\n",
      "2020-05-09 20:10:06 [scrapy.core.engine] DEBUG: Crawled (200) <GET https://www.goodreads.com/list/show/1.Best_Books_Ever?page=7> (referer: None)\n",
      "2020-05-09 20:10:07 [scrapy.core.engine] DEBUG: Crawled (200) <GET https://www.goodreads.com/list/show/1.Best_Books_Ever?page=9> (referer: None)\n",
      "2020-05-09 20:10:07 [scrapy.core.engine] DEBUG: Crawled (200) <GET https://www.goodreads.com/list/show/1.Best_Books_Ever?page=10> (referer: None)\n",
      "2020-05-09 20:10:08 [scrapy.core.engine] DEBUG: Crawled (200) <GET https://www.goodreads.com/list/show/1.Best_Books_Ever?page=11> (referer: None)\n",
      "2020-05-09 20:10:08 [scrapy.core.engine] DEBUG: Crawled (200) <GET https://www.goodreads.com/book/show/52036.Siddhartha> (referer: https://www.goodreads.com/list/show/1.Best_Books_Ever?page=1)\n",
      "2020-05-09 20:10:08 [scrapy.core.engine] DEBUG: Crawled (200) <GET https://www.goodreads.com/list/show/1.Best_Books_Ever?page=12> (referer: None)\n"
     ]
    },
    {
     "name": "stdout",
     "output_type": "stream",
     "text": [
      "Warning: Book missing series (https://www.goodreads.com/book/show/52036.Siddhartha).\n"
     ]
    },
    {
     "name": "stderr",
     "output_type": "stream",
     "text": [
      "2020-05-09 20:10:09 [scrapy.core.engine] DEBUG: Crawled (200) <GET https://www.goodreads.com/list/show/1.Best_Books_Ever?page=13> (referer: None)\n",
      "2020-05-09 20:10:09 [scrapy.core.engine] DEBUG: Crawled (200) <GET https://www.goodreads.com/list/show/1.Best_Books_Ever?page=17> (referer: None)\n",
      "2020-05-09 20:10:10 [scrapy.core.engine] DEBUG: Crawled (200) <GET https://www.goodreads.com/list/show/1.Best_Books_Ever?page=14> (referer: None)\n",
      "2020-05-09 20:10:10 [scrapy.core.engine] DEBUG: Crawled (200) <GET https://www.goodreads.com/book/show/29844228-thirteen-reasons-why> (referer: https://www.goodreads.com/list/show/1.Best_Books_Ever?page=2)\n",
      "2020-05-09 20:10:10 [scrapy.core.engine] DEBUG: Crawled (200) <GET https://www.goodreads.com/list/show/1.Best_Books_Ever?page=15> (referer: None)\n",
      "2020-05-09 20:10:10 [scrapy.core.engine] DEBUG: Crawled (200) <GET https://www.goodreads.com/book/show/569564.The_Complete_Works> (referer: https://www.goodreads.com/list/show/1.Best_Books_Ever?page=3)\n",
      "2020-05-09 20:10:10 [scrapy.core.engine] DEBUG: Crawled (200) <GET https://www.goodreads.com/list/show/1.Best_Books_Ever?page=16> (referer: None)\n"
     ]
    },
    {
     "name": "stdout",
     "output_type": "stream",
     "text": [
      "Warning: Book missing series (https://www.goodreads.com/book/show/29844228-thirteen-reasons-why).\n"
     ]
    },
    {
     "name": "stderr",
     "output_type": "stream",
     "text": [
      "2020-05-09 20:10:10 [scrapy.core.engine] DEBUG: Crawled (200) <GET https://www.goodreads.com/book/show/29579.Foundation> (referer: https://www.goodreads.com/list/show/1.Best_Books_Ever?page=3)\n"
     ]
    },
    {
     "name": "stdout",
     "output_type": "stream",
     "text": [
      "Warning: Book missing series (https://www.goodreads.com/book/show/569564.The_Complete_Works).\n"
     ]
    },
    {
     "name": "stderr",
     "output_type": "stream",
     "text": [
      "2020-05-09 20:10:11 [scrapy.core.engine] DEBUG: Crawled (200) <GET https://www.goodreads.com/book/show/43889.Wizard_s_First_Rule> (referer: https://www.goodreads.com/list/show/1.Best_Books_Ever?page=6)\n",
      "2020-05-09 20:10:11 [scrapy.core.engine] DEBUG: Crawled (200) <GET https://www.goodreads.com/book/show/30597.The_Hunchback_of_Notre_Dame> (referer: https://www.goodreads.com/list/show/1.Best_Books_Ever?page=4)\n"
     ]
    },
    {
     "name": "stdout",
     "output_type": "stream",
     "text": [
      "Warning: Book missing series (https://www.goodreads.com/book/show/30597.The_Hunchback_of_Notre_Dame).\n"
     ]
    },
    {
     "name": "stderr",
     "output_type": "stream",
     "text": [
      "2020-05-09 20:10:12 [scrapy.core.engine] DEBUG: Crawled (200) <GET https://www.goodreads.com/book/show/14995.Odd_Thomas> (referer: https://www.goodreads.com/list/show/1.Best_Books_Ever?page=7)\n",
      "2020-05-09 20:10:12 [scrapy.core.engine] DEBUG: Crawled (200) <GET https://www.goodreads.com/book/show/7805.Pale_Fire> (referer: https://www.goodreads.com/list/show/1.Best_Books_Ever?page=8)\n"
     ]
    },
    {
     "name": "stdout",
     "output_type": "stream",
     "text": [
      "Warning: Book missing series (https://www.goodreads.com/book/show/7805.Pale_Fire).\n"
     ]
    },
    {
     "name": "stderr",
     "output_type": "stream",
     "text": [
      "2020-05-09 20:10:12 [scrapy.core.engine] DEBUG: Crawled (200) <GET https://www.goodreads.com/book/show/7996.Redwall> (referer: https://www.goodreads.com/list/show/1.Best_Books_Ever?page=9)\n",
      "2020-05-09 20:10:12 [scrapy.core.engine] DEBUG: Crawled (200) <GET https://www.goodreads.com/book/show/6134826-blue-moon> (referer: https://www.goodreads.com/list/show/1.Best_Books_Ever?page=10)\n",
      "2020-05-09 20:10:13 [scrapy.core.engine] DEBUG: Crawled (200) <GET https://www.goodreads.com/book/show/33676.Saving_the_World_and_Other_Extreme_Sports> (referer: https://www.goodreads.com/list/show/1.Best_Books_Ever?page=10)\n",
      "2020-05-09 20:10:13 [scrapy.core.engine] DEBUG: Crawled (200) <GET https://www.goodreads.com/book/show/187020.Empire_Falls> (referer: https://www.goodreads.com/list/show/1.Best_Books_Ever?page=11)\n",
      "2020-05-09 20:10:13 [scrapy.core.engine] DEBUG: Crawled (200) <GET https://www.goodreads.com/book/show/40792344-mere-christianity> (referer: https://www.goodreads.com/list/show/1.Best_Books_Ever?page=12)\n"
     ]
    },
    {
     "name": "stdout",
     "output_type": "stream",
     "text": [
      "Warning: Book missing series (https://www.goodreads.com/book/show/187020.Empire_Falls).\n",
      "Warning: Book missing series (https://www.goodreads.com/book/show/40792344-mere-christianity).\n",
      "Warning: Book missing language (https://www.goodreads.com/book/show/40792344-mere-christianity).\n"
     ]
    },
    {
     "name": "stderr",
     "output_type": "stream",
     "text": [
      "2020-05-09 20:10:14 [scrapy.core.engine] DEBUG: Crawled (200) <GET https://www.goodreads.com/book/show/27323.Hiroshima> (referer: https://www.goodreads.com/list/show/1.Best_Books_Ever?page=12)\n",
      "2020-05-09 20:10:14 [scrapy.core.engine] DEBUG: Crawled (200) <GET https://www.goodreads.com/book/show/764903.Cheaper_by_the_Dozen> (referer: https://www.goodreads.com/list/show/1.Best_Books_Ever?page=13)\n"
     ]
    },
    {
     "name": "stdout",
     "output_type": "stream",
     "text": [
      "Warning: Book missing series (https://www.goodreads.com/book/show/27323.Hiroshima).\n"
     ]
    },
    {
     "name": "stderr",
     "output_type": "stream",
     "text": [
      "2020-05-09 20:10:14 [scrapy.core.engine] DEBUG: Crawled (200) <GET https://www.goodreads.com/book/show/1895792.The_Fury_Dark_Reunion> (referer: https://www.goodreads.com/list/show/1.Best_Books_Ever?page=12)\n",
      "2020-05-09 20:10:15 [scrapy.core.engine] DEBUG: Crawled (200) <GET https://www.goodreads.com/book/show/6091075-so-long-and-thanks-for-all-the-fish> (referer: https://www.goodreads.com/list/show/1.Best_Books_Ever?page=17)\n",
      "2020-05-09 20:10:15 [scrapy.core.engine] DEBUG: Crawled (200) <GET https://www.goodreads.com/book/show/4932435-finnikin-of-the-rock> (referer: https://www.goodreads.com/list/show/1.Best_Books_Ever?page=17)\n",
      "2020-05-09 20:10:16 [scrapy.core.engine] DEBUG: Crawled (200) <GET https://www.goodreads.com/book/show/10032672-the-language-of-flowers> (referer: https://www.goodreads.com/list/show/1.Best_Books_Ever?page=15)\n",
      "2020-05-09 20:10:16 [scrapy.core.engine] DEBUG: Crawled (200) <GET https://www.goodreads.com/book/show/17851885-i-am-malala> (referer: https://www.goodreads.com/list/show/1.Best_Books_Ever?page=15)\n",
      "2020-05-09 20:10:16 [scrapy.core.engine] DEBUG: Crawled (200) <GET https://www.goodreads.com/book/show/121127.Faith_of_the_Fallen> (referer: https://www.goodreads.com/list/show/1.Best_Books_Ever?page=16)\n"
     ]
    },
    {
     "name": "stdout",
     "output_type": "stream",
     "text": [
      "Warning: Book missing series (https://www.goodreads.com/book/show/10032672-the-language-of-flowers).\n",
      "Warning: Book missing series (https://www.goodreads.com/book/show/17851885-i-am-malala).\n"
     ]
    },
    {
     "name": "stderr",
     "output_type": "stream",
     "text": [
      "2020-05-09 20:10:16 [scrapy.core.engine] DEBUG: Crawled (200) <GET https://www.goodreads.com/book/show/3273.Moloka_i> (referer: https://www.goodreads.com/list/show/1.Best_Books_Ever?page=16)\n",
      "2020-05-09 20:10:17 [scrapy.core.engine] DEBUG: Crawled (200) <GET https://www.goodreads.com/book/show/784911.Rise_of_the_Evening_Star> (referer: https://www.goodreads.com/list/show/1.Best_Books_Ever?page=16)\n",
      "2020-05-09 20:10:17 [scrapy.core.engine] DEBUG: Crawled (200) <GET https://www.goodreads.com/book/show/13125947-reached> (referer: https://www.goodreads.com/list/show/1.Best_Books_Ever?page=16)\n"
     ]
    },
    {
     "name": "stdout",
     "output_type": "stream",
     "text": [
      "Warning: Book missing language (https://www.goodreads.com/book/show/13125947-reached).\n"
     ]
    },
    {
     "name": "stderr",
     "output_type": "stream",
     "text": [
      "2020-05-09 20:10:17 [scrapy.core.engine] DEBUG: Crawled (200) <GET https://www.goodreads.com/book/show/9593.Gal_pagos> (referer: https://www.goodreads.com/list/show/1.Best_Books_Ever?page=16)\n"
     ]
    },
    {
     "name": "stdout",
     "output_type": "stream",
     "text": [
      "Warning: Book missing series (https://www.goodreads.com/book/show/9593.Gal_pagos).\n"
     ]
    },
    {
     "name": "stderr",
     "output_type": "stream",
     "text": [
      "2020-05-09 20:10:18 [scrapy.core.engine] DEBUG: Crawled (200) <GET https://www.goodreads.com/book/show/1170158.The_Earthsea_Trilogy> (referer: https://www.goodreads.com/list/show/1.Best_Books_Ever?page=16)\n",
      "2020-05-09 20:10:18 [scrapy.core.engine] DEBUG: Crawled (200) <GET https://www.goodreads.com/book/show/9761771-pure> (referer: https://www.goodreads.com/list/show/1.Best_Books_Ever?page=16)\n",
      "2020-05-09 20:10:18 [scrapy.core.engine] DEBUG: Crawled (200) <GET https://www.goodreads.com/book/show/31244.Our_Mutual_Friend> (referer: https://www.goodreads.com/list/show/1.Best_Books_Ever?page=16)\n",
      "2020-05-09 20:10:19 [scrapy.core.engine] DEBUG: Crawled (200) <GET https://www.goodreads.com/book/show/359375.Night_Watch> (referer: https://www.goodreads.com/list/show/1.Best_Books_Ever?page=16)\n"
     ]
    },
    {
     "name": "stdout",
     "output_type": "stream",
     "text": [
      "Warning: Book missing series (https://www.goodreads.com/book/show/31244.Our_Mutual_Friend).\n"
     ]
    },
    {
     "name": "stderr",
     "output_type": "stream",
     "text": [
      "2020-05-09 20:10:19 [scrapy.core.engine] DEBUG: Crawled (200) <GET https://www.goodreads.com/book/show/26004546-lips-of-a-mastodon> (referer: https://www.goodreads.com/list/show/1.Best_Books_Ever?page=16)\n",
      "2020-05-09 20:10:19 [scrapy.core.engine] DEBUG: Crawled (200) <GET https://www.goodreads.com/book/show/80890.Buddenbrooks> (referer: https://www.goodreads.com/list/show/1.Best_Books_Ever?page=16)\n"
     ]
    },
    {
     "name": "stdout",
     "output_type": "stream",
     "text": [
      "Warning: Missing book original title (https://www.goodreads.com/book/show/26004546-lips-of-a-mastodon).\n",
      "Warning: Book missing series (https://www.goodreads.com/book/show/26004546-lips-of-a-mastodon).\n",
      "Warning: Book missing series (https://www.goodreads.com/book/show/80890.Buddenbrooks).\n"
     ]
    },
    {
     "name": "stderr",
     "output_type": "stream",
     "text": [
      "2020-05-09 20:10:19 [scrapy.core.engine] DEBUG: Crawled (200) <GET https://www.goodreads.com/book/show/6050678-leviathan> (referer: https://www.goodreads.com/list/show/1.Best_Books_Ever?page=16)\n",
      "2020-05-09 20:10:20 [scrapy.core.engine] DEBUG: Crawled (200) <GET https://www.goodreads.com/book/show/80176.Winesburg_Ohio> (referer: https://www.goodreads.com/list/show/1.Best_Books_Ever?page=16)\n",
      "2020-05-09 20:10:20 [scrapy.core.engine] DEBUG: Crawled (200) <GET https://www.goodreads.com/book/show/99298.The_Harry_Potter_Collection_1_4> (referer: https://www.goodreads.com/list/show/1.Best_Books_Ever?page=16)\n",
      "2020-05-09 20:10:20 [scrapy.core.engine] DEBUG: Crawled (200) <GET https://www.goodreads.com/book/show/8662836-chain-reaction> (referer: https://www.goodreads.com/list/show/1.Best_Books_Ever?page=16)\n"
     ]
    },
    {
     "name": "stdout",
     "output_type": "stream",
     "text": [
      "Warning: Book missing series (https://www.goodreads.com/book/show/80176.Winesburg_Ohio).\n"
     ]
    },
    {
     "name": "stderr",
     "output_type": "stream",
     "text": [
      "2020-05-09 20:10:20 [scrapy.core.engine] DEBUG: Crawled (200) <GET https://www.goodreads.com/book/show/11564.The_Girl_Who_Loved_Tom_Gordon> (referer: https://www.goodreads.com/list/show/1.Best_Books_Ever?page=16)\n",
      "2020-05-09 20:10:21 [scrapy.core.engine] DEBUG: Crawled (200) <GET https://www.goodreads.com/book/show/27833670-dark-matter> (referer: https://www.goodreads.com/list/show/1.Best_Books_Ever?page=16)\n"
     ]
    },
    {
     "name": "stdout",
     "output_type": "stream",
     "text": [
      "Warning: Book missing series (https://www.goodreads.com/book/show/11564.The_Girl_Who_Loved_Tom_Gordon).\n",
      "Warning: Book missing series (https://www.goodreads.com/book/show/27833670-dark-matter).\n"
     ]
    },
    {
     "name": "stderr",
     "output_type": "stream",
     "text": [
      "2020-05-09 20:10:21 [scrapy.core.engine] DEBUG: Crawled (200) <GET https://www.goodreads.com/book/show/25899336-when-breath-becomes-air> (referer: https://www.goodreads.com/list/show/1.Best_Books_Ever?page=16)\n"
     ]
    },
    {
     "name": "stdout",
     "output_type": "stream",
     "text": [
      "Warning: Book missing series (https://www.goodreads.com/book/show/25899336-when-breath-becomes-air).\n"
     ]
    },
    {
     "name": "stderr",
     "output_type": "stream",
     "text": [
      "2020-05-09 20:10:22 [scrapy.core.engine] DEBUG: Crawled (200) <GET https://www.goodreads.com/book/show/16343.The_Mysterious_Affair_at_Styles> (referer: https://www.goodreads.com/list/show/1.Best_Books_Ever?page=16)\n",
      "2020-05-09 20:10:22 [scrapy.core.engine] DEBUG: Crawled (200) <GET https://www.goodreads.com/book/show/6342491-the-demon-king> (referer: https://www.goodreads.com/list/show/1.Best_Books_Ever?page=14)\n",
      "2020-05-09 20:10:22 [scrapy.core.engine] DEBUG: Crawled (200) <GET https://www.goodreads.com/book/show/13158800-the-light-between-oceans> (referer: https://www.goodreads.com/list/show/1.Best_Books_Ever?page=14)\n"
     ]
    },
    {
     "name": "stdout",
     "output_type": "stream",
     "text": [
      "Warning: Book missing series (https://www.goodreads.com/book/show/13158800-the-light-between-oceans).\n"
     ]
    },
    {
     "name": "stderr",
     "output_type": "stream",
     "text": [
      "2020-05-09 20:10:23 [scrapy.core.engine] DEBUG: Crawled (200) <GET https://www.goodreads.com/book/show/52580991-the-ultimate-religion> (referer: https://www.goodreads.com/list/show/1.Best_Books_Ever?page=14)\n",
      "2020-05-09 20:10:23 [scrapy.core.engine] DEBUG: Crawled (200) <GET https://www.goodreads.com/book/show/15753740-the-storyteller> (referer: https://www.goodreads.com/list/show/1.Best_Books_Ever?page=14)\n",
      "2020-05-09 20:10:23 [scrapy.core.engine] DEBUG: Crawled (200) <GET https://www.goodreads.com/book/show/56495.The_Purpose_Driven_Life> (referer: https://www.goodreads.com/list/show/1.Best_Books_Ever?page=14)\n"
     ]
    },
    {
     "name": "stdout",
     "output_type": "stream",
     "text": [
      "Warning: Missing book original title (https://www.goodreads.com/book/show/52580991-the-ultimate-religion).\n",
      "Warning: Book missing series (https://www.goodreads.com/book/show/52580991-the-ultimate-religion).\n",
      "Warning: Book missing series (https://www.goodreads.com/book/show/15753740-the-storyteller).\n",
      "Warning: Book missing series (https://www.goodreads.com/book/show/56495.The_Purpose_Driven_Life).\n"
     ]
    },
    {
     "name": "stderr",
     "output_type": "stream",
     "text": [
      "2020-05-09 20:10:24 [scrapy.core.engine] DEBUG: Crawled (200) <GET https://www.goodreads.com/book/show/2373.The_Bone_Collector> (referer: https://www.goodreads.com/list/show/1.Best_Books_Ever?page=14)\n",
      "2020-05-09 20:10:24 [scrapy.core.engine] DEBUG: Crawled (200) <GET https://www.goodreads.com/book/show/7719245-paranormalcy> (referer: https://www.goodreads.com/list/show/1.Best_Books_Ever?page=14)\n",
      "2020-05-09 20:10:25 [scrapy.core.engine] DEBUG: Crawled (200) <GET https://www.goodreads.com/book/show/44575575-pleasant-day> (referer: https://www.goodreads.com/list/show/1.Best_Books_Ever?page=14)\n",
      "2020-05-09 20:10:25 [scrapy.core.engine] DEBUG: Crawled (200) <GET https://www.goodreads.com/book/show/49455.Notes_from_Underground> (referer: https://www.goodreads.com/list/show/1.Best_Books_Ever?page=14)\n",
      "2020-05-09 20:10:25 [scrapy.core.engine] DEBUG: Crawled (200) <GET https://www.goodreads.com/book/show/607639.The_Beach> (referer: https://www.goodreads.com/list/show/1.Best_Books_Ever?page=14)\n"
     ]
    },
    {
     "name": "stdout",
     "output_type": "stream",
     "text": [
      "Warning: Missing book original title (https://www.goodreads.com/book/show/44575575-pleasant-day).\n",
      "Warning: Book missing series (https://www.goodreads.com/book/show/44575575-pleasant-day).\n",
      "Warning: Book missing series (https://www.goodreads.com/book/show/49455.Notes_from_Underground).\n",
      "Warning: Book missing series (https://www.goodreads.com/book/show/607639.The_Beach).\n"
     ]
    },
    {
     "name": "stderr",
     "output_type": "stream",
     "text": [
      "2020-05-09 20:10:25 [scrapy.core.engine] DEBUG: Crawled (200) <GET https://www.goodreads.com/book/show/16181775-the-rosie-project> (referer: https://www.goodreads.com/list/show/1.Best_Books_Ever?page=14)\n",
      "2020-05-09 20:10:26 [scrapy.core.engine] DEBUG: Crawled (200) <GET https://www.goodreads.com/book/show/6448470-firelight> (referer: https://www.goodreads.com/list/show/1.Best_Books_Ever?page=14)\n",
      "2020-05-09 20:10:26 [scrapy.core.engine] DEBUG: Crawled (200) <GET https://www.goodreads.com/book/show/19581.Ghost_Story> (referer: https://www.goodreads.com/list/show/1.Best_Books_Ever?page=16)\n"
     ]
    },
    {
     "name": "stdout",
     "output_type": "stream",
     "text": [
      "Warning: Book missing series (https://www.goodreads.com/book/show/19581.Ghost_Story).\n"
     ]
    },
    {
     "name": "stderr",
     "output_type": "stream",
     "text": [
      "2020-05-09 20:10:27 [scrapy.core.engine] DEBUG: Crawled (200) <GET https://www.goodreads.com/book/show/77661.The_Daughter_of_Time> (referer: https://www.goodreads.com/list/show/1.Best_Books_Ever?page=16)\n",
      "2020-05-09 20:10:27 [scrapy.core.engine] DEBUG: Crawled (200) <GET https://www.goodreads.com/book/show/5344.Hard_Times> (referer: https://www.goodreads.com/list/show/1.Best_Books_Ever?page=16)\n",
      "2020-05-09 20:10:27 [scrapy.core.engine] DEBUG: Crawled (200) <GET https://www.goodreads.com/book/show/43369.God_Is_Not_Great> (referer: https://www.goodreads.com/list/show/1.Best_Books_Ever?page=16)\n"
     ]
    },
    {
     "name": "stdout",
     "output_type": "stream",
     "text": [
      "Warning: Book missing series (https://www.goodreads.com/book/show/5344.Hard_Times).\n"
     ]
    },
    {
     "name": "stderr",
     "output_type": "stream",
     "text": [
      "2020-05-09 20:10:27 [scrapy.core.engine] DEBUG: Crawled (200) <GET https://www.goodreads.com/book/show/32439.Intensity> (referer: https://www.goodreads.com/list/show/1.Best_Books_Ever?page=16)\n"
     ]
    },
    {
     "name": "stdout",
     "output_type": "stream",
     "text": [
      "Warning: Book missing series (https://www.goodreads.com/book/show/43369.God_Is_Not_Great).\n",
      "Warning: Book missing series (https://www.goodreads.com/book/show/32439.Intensity).\n"
     ]
    },
    {
     "name": "stderr",
     "output_type": "stream",
     "text": [
      "2020-05-09 20:10:28 [scrapy.core.engine] DEBUG: Crawled (200) <GET https://www.goodreads.com/book/show/9917938-blood-red-road> (referer: https://www.goodreads.com/list/show/1.Best_Books_Ever?page=16)\n",
      "2020-05-09 20:10:28 [scrapy.core.engine] DEBUG: Crawled (200) <GET https://www.goodreads.com/book/show/26216087-the-egyptian> (referer: https://www.goodreads.com/list/show/1.Best_Books_Ever?page=16)\n",
      "2020-05-09 20:10:28 [scrapy.core.engine] DEBUG: Crawled (200) <GET https://www.goodreads.com/book/show/31332.The_Vampire_Armand> (referer: https://www.goodreads.com/list/show/1.Best_Books_Ever?page=16)\n",
      "2020-05-09 20:10:28 [scrapy.core.engine] DEBUG: Crawled (200) <GET https://www.goodreads.com/book/show/228630.Black_Boy> (referer: https://www.goodreads.com/list/show/1.Best_Books_Ever?page=16)\n"
     ]
    },
    {
     "name": "stdout",
     "output_type": "stream",
     "text": [
      "Warning: Book missing series (https://www.goodreads.com/book/show/228630.Black_Boy).\n"
     ]
    },
    {
     "name": "stderr",
     "output_type": "stream",
     "text": [
      "2020-05-09 20:10:29 [scrapy.core.engine] DEBUG: Crawled (200) <GET https://www.goodreads.com/book/show/59715.The_Authoritative_Calvin_and_Hobbes> (referer: https://www.goodreads.com/list/show/1.Best_Books_Ever?page=16)\n",
      "2020-05-09 20:10:29 [scrapy.core.engine] DEBUG: Crawled (200) <GET https://www.goodreads.com/book/show/13644055-opposition> (referer: https://www.goodreads.com/list/show/1.Best_Books_Ever?page=16)\n",
      "2020-05-09 20:10:29 [scrapy.core.engine] DEBUG: Crawled (200) <GET https://www.goodreads.com/book/show/22284.Diary> (referer: https://www.goodreads.com/list/show/1.Best_Books_Ever?page=16)\n"
     ]
    },
    {
     "name": "stdout",
     "output_type": "stream",
     "text": [
      "Warning: Book missing series (https://www.goodreads.com/book/show/22284.Diary).\n"
     ]
    },
    {
     "name": "stderr",
     "output_type": "stream",
     "text": [
      "2020-05-09 20:10:30 [scrapy.core.engine] DEBUG: Crawled (200) <GET https://www.goodreads.com/book/show/35133922-educated> (referer: https://www.goodreads.com/list/show/1.Best_Books_Ever?page=16)\n",
      "2020-05-09 20:10:30 [scrapy.core.engine] DEBUG: Crawled (200) <GET https://www.goodreads.com/book/show/69571.Rich_Dad_Poor_Dad> (referer: https://www.goodreads.com/list/show/1.Best_Books_Ever?page=16)\n",
      "2020-05-09 20:10:30 [scrapy.core.engine] DEBUG: Crawled (200) <GET https://www.goodreads.com/book/show/9761778-deity> (referer: https://www.goodreads.com/list/show/1.Best_Books_Ever?page=16)\n",
      "2020-05-09 20:10:30 [scrapy.core.engine] DEBUG: Crawled (200) <GET https://www.goodreads.com/book/show/18501652-the-guardian-of-secrets-and-her-deathly-pact> (referer: https://www.goodreads.com/list/show/1.Best_Books_Ever?page=16)\n"
     ]
    },
    {
     "name": "stdout",
     "output_type": "stream",
     "text": [
      "Warning: Book missing series (https://www.goodreads.com/book/show/35133922-educated).\n"
     ]
    },
    {
     "name": "stderr",
     "output_type": "stream",
     "text": [
      "2020-05-09 20:10:31 [scrapy.core.engine] DEBUG: Crawled (200) <GET https://www.goodreads.com/book/show/7728889-the-diviners> (referer: https://www.goodreads.com/list/show/1.Best_Books_Ever?page=16)\n"
     ]
    },
    {
     "name": "stdout",
     "output_type": "stream",
     "text": [
      "Warning: Missing book original title (https://www.goodreads.com/book/show/18501652-the-guardian-of-secrets-and-her-deathly-pact).\n",
      "Warning: Book missing series (https://www.goodreads.com/book/show/18501652-the-guardian-of-secrets-and-her-deathly-pact).\n"
     ]
    },
    {
     "name": "stderr",
     "output_type": "stream",
     "text": [
      "2020-05-09 20:10:31 [scrapy.core.engine] DEBUG: Crawled (200) <GET https://www.goodreads.com/book/show/310146.The_True_Confessions_of_Charlotte_Doyle> (referer: https://www.goodreads.com/list/show/1.Best_Books_Ever?page=16)\n",
      "2020-05-09 20:10:31 [scrapy.core.engine] DEBUG: Crawled (200) <GET https://www.goodreads.com/book/show/84145.Dance_with_the_Devil> (referer: https://www.goodreads.com/list/show/1.Best_Books_Ever?page=16)\n"
     ]
    },
    {
     "name": "stdout",
     "output_type": "stream",
     "text": [
      "Warning: Book missing series (https://www.goodreads.com/book/show/310146.The_True_Confessions_of_Charlotte_Doyle).\n"
     ]
    },
    {
     "name": "stderr",
     "output_type": "stream",
     "text": [
      "2020-05-09 20:10:31 [scrapy.core.engine] DEBUG: Crawled (200) <GET https://www.goodreads.com/book/show/140963.O_Pioneers_> (referer: https://www.goodreads.com/list/show/1.Best_Books_Ever?page=16)\n",
      "2020-05-09 20:10:32 [scrapy.core.engine] DEBUG: Crawled (200) <GET https://www.goodreads.com/book/show/60931.Kindred> (referer: https://www.goodreads.com/list/show/1.Best_Books_Ever?page=16)\n",
      "2020-05-09 20:10:32 [scrapy.core.engine] DEBUG: Crawled (200) <GET https://www.goodreads.com/book/show/6080337-the-year-of-the-flood> (referer: https://www.goodreads.com/list/show/1.Best_Books_Ever?page=16)\n"
     ]
    },
    {
     "name": "stdout",
     "output_type": "stream",
     "text": [
      "Warning: Book missing series (https://www.goodreads.com/book/show/60931.Kindred).\n"
     ]
    },
    {
     "name": "stderr",
     "output_type": "stream",
     "text": [
      "2020-05-09 20:10:32 [scrapy.core.engine] DEBUG: Crawled (200) <GET https://www.goodreads.com/book/show/161099.Good_Night_Mr_Tom> (referer: https://www.goodreads.com/list/show/1.Best_Books_Ever?page=16)\n"
     ]
    },
    {
     "name": "stdout",
     "output_type": "stream",
     "text": [
      "Warning: Book missing series (https://www.goodreads.com/book/show/161099.Good_Night_Mr_Tom).\n"
     ]
    },
    {
     "name": "stderr",
     "output_type": "stream",
     "text": [
      "2020-05-09 20:10:33 [scrapy.core.engine] DEBUG: Crawled (200) <GET https://www.goodreads.com/book/show/30474.The_Communist_Manifesto> (referer: https://www.goodreads.com/list/show/1.Best_Books_Ever?page=16)\n"
     ]
    },
    {
     "name": "stdout",
     "output_type": "stream",
     "text": [
      "Warning: Book missing series (https://www.goodreads.com/book/show/30474.The_Communist_Manifesto).\n"
     ]
    },
    {
     "name": "stderr",
     "output_type": "stream",
     "text": [
      "2020-05-09 20:10:33 [scrapy.core.engine] DEBUG: Crawled (200) <GET https://www.goodreads.com/book/show/3438000> (referer: https://www.goodreads.com/list/show/1.Best_Books_Ever?page=16)\n"
     ]
    },
    {
     "name": "stdout",
     "output_type": "stream",
     "text": [
      "Warning: Book missing series (https://www.goodreads.com/book/show/3438000).\n"
     ]
    },
    {
     "name": "stderr",
     "output_type": "stream",
     "text": [
      "2020-05-09 20:10:34 [scrapy.core.engine] DEBUG: Crawled (200) <GET https://www.goodreads.com/book/show/16150830-never-fade> (referer: https://www.goodreads.com/list/show/1.Best_Books_Ever?page=16)\n",
      "2020-05-09 20:10:34 [scrapy.core.engine] DEBUG: Crawled (200) <GET https://www.goodreads.com/book/show/18796.In_Search_of_Lost_Time> (referer: https://www.goodreads.com/list/show/1.Best_Books_Ever?page=16)\n",
      "2020-05-09 20:10:35 [scrapy.core.engine] DEBUG: Crawled (200) <GET https://www.goodreads.com/book/show/20821111-the-young-elites> (referer: https://www.goodreads.com/list/show/1.Best_Books_Ever?page=16)\n",
      "2020-05-09 20:10:35 [scrapy.core.engine] DEBUG: Crawled (200) <GET https://www.goodreads.com/book/show/106264.Sarah_Plain_and_Tall> (referer: https://www.goodreads.com/list/show/1.Best_Books_Ever?page=16)\n",
      "2020-05-09 20:10:36 [scrapy.core.engine] DEBUG: Crawled (200) <GET https://www.goodreads.com/book/show/89723.The_Lottery_and_Other_Stories> (referer: https://www.goodreads.com/list/show/1.Best_Books_Ever?page=16)\n",
      "2020-05-09 20:10:36 [scrapy.core.engine] DEBUG: Crawled (200) <GET https://www.goodreads.com/book/show/447.Moon_Palace> (referer: https://www.goodreads.com/list/show/1.Best_Books_Ever?page=16)\n"
     ]
    },
    {
     "name": "stdout",
     "output_type": "stream",
     "text": [
      "Warning: Book missing series (https://www.goodreads.com/book/show/89723.The_Lottery_and_Other_Stories).\n",
      "Warning: Book missing series (https://www.goodreads.com/book/show/447.Moon_Palace).\n"
     ]
    },
    {
     "name": "stderr",
     "output_type": "stream",
     "text": [
      "2020-05-09 20:10:36 [scrapy.core.engine] DEBUG: Crawled (200) <GET https://www.goodreads.com/book/show/63032.2666> (referer: https://www.goodreads.com/list/show/1.Best_Books_Ever?page=16)\n",
      "2020-05-09 20:10:36 [scrapy.core.engine] DEBUG: Crawled (200) <GET https://www.goodreads.com/book/show/10746542-the-sense-of-an-ending> (referer: https://www.goodreads.com/list/show/1.Best_Books_Ever?page=16)\n",
      "2020-05-09 20:10:37 [scrapy.core.engine] DEBUG: Crawled (200) <GET https://www.goodreads.com/book/show/62530.Thud_> (referer: https://www.goodreads.com/list/show/1.Best_Books_Ever?page=16)\n"
     ]
    },
    {
     "name": "stdout",
     "output_type": "stream",
     "text": [
      "Warning: Book missing series (https://www.goodreads.com/book/show/10746542-the-sense-of-an-ending).\n"
     ]
    },
    {
     "name": "stderr",
     "output_type": "stream",
     "text": [
      "2020-05-09 20:10:37 [scrapy.core.engine] DEBUG: Crawled (200) <GET https://www.goodreads.com/book/show/43037.The_Call_of_the_Wild_White_Fang_and_Other_Stories> (referer: https://www.goodreads.com/list/show/1.Best_Books_Ever?page=16)\n",
      "2020-05-09 20:10:37 [scrapy.core.engine] DEBUG: Crawled (200) <GET https://www.goodreads.com/book/show/59263.The_Golem_s_Eye> (referer: https://www.goodreads.com/list/show/1.Best_Books_Ever?page=16)\n"
     ]
    },
    {
     "name": "stdout",
     "output_type": "stream",
     "text": [
      "Warning: Book missing series (https://www.goodreads.com/book/show/43037.The_Call_of_the_Wild_White_Fang_and_Other_Stories).\n"
     ]
    },
    {
     "name": "stderr",
     "output_type": "stream",
     "text": [
      "2020-05-09 20:10:37 [scrapy.core.engine] DEBUG: Crawled (200) <GET https://www.goodreads.com/book/show/768889.A_Storm_of_Swords> (referer: https://www.goodreads.com/list/show/1.Best_Books_Ever?page=16)\n",
      "2020-05-09 20:10:38 [scrapy.core.engine] DEBUG: Crawled (200) <GET https://www.goodreads.com/book/show/22544764-uprooted> (referer: https://www.goodreads.com/list/show/1.Best_Books_Ever?page=16)\n",
      "2020-05-09 20:10:38 [scrapy.core.engine] DEBUG: Crawled (200) <GET https://www.goodreads.com/book/show/3934321-nightfall> (referer: https://www.goodreads.com/list/show/1.Best_Books_Ever?page=16)\n"
     ]
    },
    {
     "name": "stdout",
     "output_type": "stream",
     "text": [
      "Warning: Book missing series (https://www.goodreads.com/book/show/22544764-uprooted).\n"
     ]
    },
    {
     "name": "stderr",
     "output_type": "stream",
     "text": [
      "2020-05-09 20:10:38 [scrapy.core.engine] DEBUG: Crawled (200) <GET https://www.goodreads.com/book/show/544257.Midnight_Alley> (referer: https://www.goodreads.com/list/show/1.Best_Books_Ever?page=14)\n",
      "2020-05-09 20:10:39 [scrapy.core.engine] DEBUG: Crawled (200) <GET https://www.goodreads.com/book/show/12657.The_Source> (referer: https://www.goodreads.com/list/show/1.Best_Books_Ever?page=14)\n",
      "2020-05-09 20:10:39 [scrapy.core.engine] DEBUG: Crawled (200) <GET https://www.goodreads.com/book/show/16843726-nobody-loves-a-bigfoot-like-a-bigfoot-babe> (referer: https://www.goodreads.com/list/show/1.Best_Books_Ever?page=14)\n"
     ]
    },
    {
     "name": "stdout",
     "output_type": "stream",
     "text": [
      "Warning: Book missing series (https://www.goodreads.com/book/show/12657.The_Source).\n",
      "Warning: Missing book original title (https://www.goodreads.com/book/show/16843726-nobody-loves-a-bigfoot-like-a-bigfoot-babe).\n",
      "Warning: Book missing series (https://www.goodreads.com/book/show/16843726-nobody-loves-a-bigfoot-like-a-bigfoot-babe).\n"
     ]
    },
    {
     "name": "stderr",
     "output_type": "stream",
     "text": [
      "2020-05-09 20:10:40 [scrapy.core.engine] DEBUG: Crawled (200) <GET https://www.goodreads.com/book/show/3558003-lord-of-misrule> (referer: https://www.goodreads.com/list/show/1.Best_Books_Ever?page=14)\n",
      "2020-05-09 20:10:40 [scrapy.core.engine] DEBUG: Crawled (200) <GET https://www.goodreads.com/book/show/18333130-switch-the-lost-kingdoms-of-karibu> (referer: https://www.goodreads.com/list/show/1.Best_Books_Ever?page=14)\n",
      "2020-05-09 20:10:40 [scrapy.core.engine] DEBUG: Crawled (200) <GET https://www.goodreads.com/book/show/318431.Long_Walk_to_Freedom> (referer: https://www.goodreads.com/list/show/1.Best_Books_Ever?page=14)\n",
      "2020-05-09 20:10:41 [scrapy.core.engine] DEBUG: Crawled (200) <GET https://www.goodreads.com/book/show/51476294-adhaata-asao-s-liege> (referer: https://www.goodreads.com/list/show/1.Best_Books_Ever?page=14)\n"
     ]
    },
    {
     "name": "stdout",
     "output_type": "stream",
     "text": [
      "Warning: Missing book original title (https://www.goodreads.com/book/show/51476294-adhaata-asao-s-liege).\n",
      "Warning: Book missing series (https://www.goodreads.com/book/show/51476294-adhaata-asao-s-liege).\n"
     ]
    },
    {
     "name": "stderr",
     "output_type": "stream",
     "text": [
      "2020-05-09 20:10:41 [scrapy.core.engine] DEBUG: Crawled (200) <GET https://www.goodreads.com/book/show/42986.War_and_Remembrance> (referer: https://www.goodreads.com/list/show/1.Best_Books_Ever?page=14)\n",
      "2020-05-09 20:10:41 [scrapy.core.engine] DEBUG: Crawled (200) <GET https://www.goodreads.com/book/show/42794237-down-and-rising> (referer: https://www.goodreads.com/list/show/1.Best_Books_Ever?page=14)\n",
      "2020-05-09 20:10:41 [scrapy.core.engine] DEBUG: Crawled (200) <GET https://www.goodreads.com/book/show/3575676-night-world-no-3> (referer: https://www.goodreads.com/list/show/1.Best_Books_Ever?page=14)\n"
     ]
    },
    {
     "name": "stdout",
     "output_type": "stream",
     "text": [
      "Warning: Missing book original title (https://www.goodreads.com/book/show/42794237-down-and-rising).\n",
      "Warning: Book missing series (https://www.goodreads.com/book/show/42794237-down-and-rising).\n"
     ]
    },
    {
     "name": "stderr",
     "output_type": "stream",
     "text": [
      "2020-05-09 20:10:42 [scrapy.core.engine] DEBUG: Crawled (200) <GET https://www.goodreads.com/book/show/17349.The_Demon_Haunted_World> (referer: https://www.goodreads.com/list/show/1.Best_Books_Ever?page=14)\n"
     ]
    },
    {
     "name": "stdout",
     "output_type": "stream",
     "text": [
      "Warning: Book missing series (https://www.goodreads.com/book/show/17349.The_Demon_Haunted_World).\n"
     ]
    },
    {
     "name": "stderr",
     "output_type": "stream",
     "text": [
      "2020-05-09 20:10:42 [scrapy.core.engine] DEBUG: Crawled (200) <GET https://www.goodreads.com/book/show/11966216-torn> (referer: https://www.goodreads.com/list/show/1.Best_Books_Ever?page=14)\n",
      "2020-05-09 20:10:42 [scrapy.core.engine] DEBUG: Crawled (200) <GET https://www.goodreads.com/book/show/6138.The_Moonstone> (referer: https://www.goodreads.com/list/show/1.Best_Books_Ever?page=14)\n",
      "2020-05-09 20:10:42 [scrapy.core.engine] DEBUG: Crawled (200) <GET https://www.goodreads.com/book/show/12240419-table-21> (referer: https://www.goodreads.com/list/show/1.Best_Books_Ever?page=14)\n",
      "2020-05-09 20:10:42 [scrapy.core.engine] DEBUG: Crawled (200) <GET https://www.goodreads.com/book/show/3554772> (referer: https://www.goodreads.com/list/show/1.Best_Books_Ever?page=15)\n",
      "2020-05-09 20:10:43 [scrapy.core.engine] DEBUG: Crawled (200) <GET https://www.goodreads.com/book/show/7544603-smaragdgr-n> (referer: https://www.goodreads.com/list/show/1.Best_Books_Ever?page=15)\n"
     ]
    },
    {
     "name": "stdout",
     "output_type": "stream",
     "text": [
      "Warning: Book missing series (https://www.goodreads.com/book/show/6138.The_Moonstone).\n",
      "Warning: Book missing series (https://www.goodreads.com/book/show/12240419-table-21).\n",
      "Warning: Book missing series (https://www.goodreads.com/book/show/3554772).\n"
     ]
    },
    {
     "name": "stderr",
     "output_type": "stream",
     "text": [
      "2020-05-09 20:10:43 [scrapy.core.engine] DEBUG: Crawled (200) <GET https://www.goodreads.com/book/show/83143.Tatiana_and_Alexander> (referer: https://www.goodreads.com/list/show/1.Best_Books_Ever?page=15)\n",
      "2020-05-09 20:10:44 [scrapy.core.engine] DEBUG: Crawled (200) <GET https://www.goodreads.com/book/show/61179.Ringworld> (referer: https://www.goodreads.com/list/show/1.Best_Books_Ever?page=15)\n",
      "2020-05-09 20:10:44 [scrapy.core.engine] DEBUG: Crawled (200) <GET https://www.goodreads.com/book/show/1472878.Firefly_Lane> (referer: https://www.goodreads.com/list/show/1.Best_Books_Ever?page=15)\n",
      "2020-05-09 20:10:44 [scrapy.core.engine] DEBUG: Crawled (200) <GET https://www.goodreads.com/book/show/12321.Beyond_Good_and_Evil> (referer: https://www.goodreads.com/list/show/1.Best_Books_Ever?page=15)\n",
      "2020-05-09 20:10:45 [scrapy.core.engine] DEBUG: Crawled (200) <GET https://www.goodreads.com/book/show/704043.Kiss_of_Midnight> (referer: https://www.goodreads.com/list/show/1.Best_Books_Ever?page=15)\n"
     ]
    },
    {
     "name": "stdout",
     "output_type": "stream",
     "text": [
      "Warning: Book missing series (https://www.goodreads.com/book/show/12321.Beyond_Good_and_Evil).\n"
     ]
    },
    {
     "name": "stderr",
     "output_type": "stream",
     "text": [
      "2020-05-09 20:10:45 [scrapy.core.engine] DEBUG: Crawled (200) <GET https://www.goodreads.com/book/show/44416211-the-candidate-and-other-stories> (referer: https://www.goodreads.com/list/show/1.Best_Books_Ever?page=15)\n",
      "2020-05-09 20:10:45 [scrapy.core.engine] DEBUG: Crawled (200) <GET https://www.goodreads.com/book/show/3432478-the-forest-of-hands-and-teeth> (referer: https://www.goodreads.com/list/show/1.Best_Books_Ever?page=15)\n"
     ]
    },
    {
     "name": "stdout",
     "output_type": "stream",
     "text": [
      "Warning: Missing book original title (https://www.goodreads.com/book/show/44416211-the-candidate-and-other-stories).\n",
      "Warning: Book missing series (https://www.goodreads.com/book/show/44416211-the-candidate-and-other-stories).\n",
      "Warning: Book missing genres (https://www.goodreads.com/book/show/44416211-the-candidate-and-other-stories).\n"
     ]
    },
    {
     "name": "stderr",
     "output_type": "stream",
     "text": [
      "2020-05-09 20:10:45 [scrapy.core.engine] DEBUG: Crawled (200) <GET https://www.goodreads.com/book/show/12936.Gathering_Blue> (referer: https://www.goodreads.com/list/show/1.Best_Books_Ever?page=15)\n",
      "2020-05-09 20:10:46 [scrapy.core.engine] DEBUG: Crawled (200) <GET https://www.goodreads.com/book/show/9593913-requiem> (referer: https://www.goodreads.com/list/show/1.Best_Books_Ever?page=15)\n",
      "2020-05-09 20:10:46 [scrapy.core.engine] DEBUG: Crawled (200) <GET https://www.goodreads.com/book/show/6587387-silver-borne> (referer: https://www.goodreads.com/list/show/1.Best_Books_Ever?page=15)\n",
      "2020-05-09 20:10:46 [scrapy.core.engine] DEBUG: Crawled (200) <GET https://www.goodreads.com/book/show/390711.Noble_House> (referer: https://www.goodreads.com/list/show/1.Best_Books_Ever?page=15)\n",
      "2020-05-09 20:10:47 [scrapy.core.engine] DEBUG: Crawled (200) <GET https://www.goodreads.com/book/show/15796700-americanah> (referer: https://www.goodreads.com/list/show/1.Best_Books_Ever?page=15)\n"
     ]
    },
    {
     "name": "stdout",
     "output_type": "stream",
     "text": [
      "Warning: Book missing series (https://www.goodreads.com/book/show/15796700-americanah).\n"
     ]
    },
    {
     "name": "stderr",
     "output_type": "stream",
     "text": [
      "2020-05-09 20:10:47 [scrapy.core.engine] DEBUG: Crawled (200) <GET https://www.goodreads.com/book/show/141828.L_cume_des_jours> (referer: https://www.goodreads.com/list/show/1.Best_Books_Ever?page=15)\n",
      "2020-05-09 20:10:47 [scrapy.core.engine] DEBUG: Crawled (200) <GET https://www.goodreads.com/book/show/8525590-wither> (referer: https://www.goodreads.com/list/show/1.Best_Books_Ever?page=15)\n",
      "2020-05-09 20:10:47 [scrapy.core.engine] DEBUG: Crawled (200) <GET https://www.goodreads.com/book/show/394469.Suttree> (referer: https://www.goodreads.com/list/show/1.Best_Books_Ever?page=15)\n"
     ]
    },
    {
     "name": "stdout",
     "output_type": "stream",
     "text": [
      "Warning: Book missing series (https://www.goodreads.com/book/show/141828.L_cume_des_jours).\n",
      "Warning: Book missing series (https://www.goodreads.com/book/show/394469.Suttree).\n"
     ]
    },
    {
     "name": "stderr",
     "output_type": "stream",
     "text": [
      "2020-05-09 20:10:48 [scrapy.core.engine] DEBUG: Crawled (200) <GET https://www.goodreads.com/book/show/8659601-the-power-of-six> (referer: https://www.goodreads.com/list/show/1.Best_Books_Ever?page=15)\n",
      "2020-05-09 20:10:48 [scrapy.core.engine] DEBUG: Crawled (200) <GET https://www.goodreads.com/book/show/20454107-coma> (referer: https://www.goodreads.com/list/show/1.Best_Books_Ever?page=15)\n"
     ]
    },
    {
     "name": "stdout",
     "output_type": "stream",
     "text": [
      "Warning: Book missing series (https://www.goodreads.com/book/show/20454107-coma).\n",
      "Warning: Book missing language (https://www.goodreads.com/book/show/20454107-coma).\n"
     ]
    },
    {
     "name": "stderr",
     "output_type": "stream",
     "text": [
      "2020-05-09 20:10:49 [scrapy.core.engine] DEBUG: Crawled (200) <GET https://www.goodreads.com/book/show/2517.My_Name_Is_Red> (referer: https://www.goodreads.com/list/show/1.Best_Books_Ever?page=15)\n",
      "2020-05-09 20:10:49 [scrapy.core.engine] DEBUG: Crawled (200) <GET https://www.goodreads.com/book/show/38462.Giovanni_s_Room> (referer: https://www.goodreads.com/list/show/1.Best_Books_Ever?page=15)\n"
     ]
    },
    {
     "name": "stdout",
     "output_type": "stream",
     "text": [
      "Warning: Book missing series (https://www.goodreads.com/book/show/2517.My_Name_Is_Red).\n",
      "Warning: Book missing series (https://www.goodreads.com/book/show/38462.Giovanni_s_Room).\n"
     ]
    },
    {
     "name": "stderr",
     "output_type": "stream",
     "text": [
      "2020-05-09 20:10:49 [scrapy.core.engine] DEBUG: Crawled (200) <GET https://www.goodreads.com/book/show/3140.The_Bridge_on_the_Drina> (referer: https://www.goodreads.com/list/show/1.Best_Books_Ever?page=15)\n",
      "2020-05-09 20:10:50 [scrapy.core.engine] DEBUG: Crawled (200) <GET https://www.goodreads.com/book/show/16140036-this-man> (referer: https://www.goodreads.com/list/show/1.Best_Books_Ever?page=15)\n",
      "2020-05-09 20:10:50 [scrapy.core.engine] DEBUG: Crawled (200) <GET https://www.goodreads.com/book/show/2677.A_Modest_Proposal_and_Other_Satirical_Works> (referer: https://www.goodreads.com/list/show/1.Best_Books_Ever?page=15)\n"
     ]
    },
    {
     "name": "stdout",
     "output_type": "stream",
     "text": [
      "Warning: Book missing series (https://www.goodreads.com/book/show/2677.A_Modest_Proposal_and_Other_Satirical_Works).\n"
     ]
    },
    {
     "name": "stderr",
     "output_type": "stream",
     "text": [
      "2020-05-09 20:10:50 [scrapy.core.engine] DEBUG: Crawled (200) <GET https://www.goodreads.com/book/show/77262.Animal_Dreams> (referer: https://www.goodreads.com/list/show/1.Best_Books_Ever?page=15)\n"
     ]
    },
    {
     "name": "stdout",
     "output_type": "stream",
     "text": [
      "Warning: Book missing series (https://www.goodreads.com/book/show/77262.Animal_Dreams).\n"
     ]
    },
    {
     "name": "stderr",
     "output_type": "stream",
     "text": [
      "2020-05-09 20:10:51 [scrapy.core.engine] DEBUG: Crawled (200) <GET https://www.goodreads.com/book/show/17849112-world-after> (referer: https://www.goodreads.com/list/show/1.Best_Books_Ever?page=15)\n",
      "2020-05-09 20:10:51 [scrapy.core.engine] DEBUG: Crawled (200) <GET https://www.goodreads.com/book/show/16102004-beautiful-bastard> (referer: https://www.goodreads.com/list/show/1.Best_Books_Ever?page=15)\n",
      "2020-05-09 20:10:51 [scrapy.core.engine] DEBUG: Crawled (200) <GET https://www.goodreads.com/book/show/47953.The_Black_Jewels_Trilogy> (referer: https://www.goodreads.com/list/show/1.Best_Books_Ever?page=15)\n"
     ]
    },
    {
     "name": "stdout",
     "output_type": "stream",
     "text": [
      "Warning: Missing book original title (https://www.goodreads.com/book/show/47953.The_Black_Jewels_Trilogy).\n"
     ]
    },
    {
     "name": "stderr",
     "output_type": "stream",
     "text": [
      "2020-05-09 20:10:52 [scrapy.core.engine] DEBUG: Crawled (200) <GET https://www.goodreads.com/book/show/27333.Silent_Spring> (referer: https://www.goodreads.com/list/show/1.Best_Books_Ever?page=15)\n",
      "2020-05-09 20:10:52 [scrapy.core.engine] DEBUG: Crawled (200) <GET https://www.goodreads.com/book/show/8600.Eats_Shoots_Leaves> (referer: https://www.goodreads.com/list/show/1.Best_Books_Ever?page=15)\n"
     ]
    },
    {
     "name": "stdout",
     "output_type": "stream",
     "text": [
      "Warning: Book missing series (https://www.goodreads.com/book/show/27333.Silent_Spring).\n",
      "Warning: Book missing series (https://www.goodreads.com/book/show/8600.Eats_Shoots_Leaves).\n"
     ]
    },
    {
     "name": "stderr",
     "output_type": "stream",
     "text": [
      "2020-05-09 20:10:53 [scrapy.core.engine] DEBUG: Crawled (200) <GET https://www.goodreads.com/book/show/42058.Richard_III> (referer: https://www.goodreads.com/list/show/1.Best_Books_Ever?page=15)\n"
     ]
    },
    {
     "name": "stdout",
     "output_type": "stream",
     "text": [
      "Warning: Book missing language (https://www.goodreads.com/book/show/42058.Richard_III).\n"
     ]
    },
    {
     "name": "stderr",
     "output_type": "stream",
     "text": [
      "2020-05-09 20:10:54 [scrapy.core.engine] DEBUG: Crawled (200) <GET https://www.goodreads.com/book/show/433567.Flatland> (referer: https://www.goodreads.com/list/show/1.Best_Books_Ever?page=16)\n",
      "2020-05-09 20:10:54 [scrapy.core.engine] DEBUG: Crawled (200) <GET https://www.goodreads.com/book/show/17899134-annabel-horton> (referer: https://www.goodreads.com/list/show/1.Best_Books_Ever?page=15)\n",
      "2020-05-09 20:10:54 [scrapy.core.engine] DEBUG: Crawled (200) <GET https://www.goodreads.com/book/show/7198988-dark-flame> (referer: https://www.goodreads.com/list/show/1.Best_Books_Ever?page=16)\n"
     ]
    },
    {
     "name": "stdout",
     "output_type": "stream",
     "text": [
      "Warning: Book missing series (https://www.goodreads.com/book/show/433567.Flatland).\n",
      "Warning: Missing book original title (https://www.goodreads.com/book/show/17899134-annabel-horton).\n",
      "Warning: Book missing series (https://www.goodreads.com/book/show/17899134-annabel-horton).\n",
      "Warning: Book missing genres (https://www.goodreads.com/book/show/17899134-annabel-horton).\n"
     ]
    },
    {
     "name": "stderr",
     "output_type": "stream",
     "text": [
      "2020-05-09 20:10:54 [scrapy.core.engine] DEBUG: Crawled (200) <GET https://www.goodreads.com/book/show/40941784> (referer: https://www.goodreads.com/list/show/1.Best_Books_Ever?page=16)\n",
      "2020-05-09 20:10:54 [scrapy.core.engine] DEBUG: Crawled (200) <GET https://www.goodreads.com/book/show/13453029-wool-omnibus> (referer: https://www.goodreads.com/list/show/1.Best_Books_Ever?page=16)\n",
      "2020-05-09 20:10:54 [scrapy.core.engine] DEBUG: Crawled (200) <GET https://www.goodreads.com/book/show/149196.Eva_Luna> (referer: https://www.goodreads.com/list/show/1.Best_Books_Ever?page=16)\n"
     ]
    },
    {
     "name": "stdout",
     "output_type": "stream",
     "text": [
      "Warning: Book missing series (https://www.goodreads.com/book/show/40941784).\n",
      "Warning: Book missing genres (https://www.goodreads.com/book/show/40941784).\n",
      "Warning: Book missing series (https://www.goodreads.com/book/show/149196.Eva_Luna).\n"
     ]
    },
    {
     "name": "stderr",
     "output_type": "stream",
     "text": [
      "2020-05-09 20:10:55 [scrapy.core.engine] DEBUG: Crawled (200) <GET https://www.goodreads.com/book/show/4692.The_Physician> (referer: https://www.goodreads.com/list/show/1.Best_Books_Ever?page=16)\n",
      "2020-05-09 20:10:55 [scrapy.core.engine] DEBUG: Crawled (200) <GET https://www.goodreads.com/book/show/3992598-the-demigod-files> (referer: https://www.goodreads.com/list/show/1.Best_Books_Ever?page=15)\n",
      "2020-05-09 20:10:55 [scrapy.core.engine] DEBUG: Crawled (200) <GET https://www.goodreads.com/book/show/40159.The_King_of_Attolia> (referer: https://www.goodreads.com/list/show/1.Best_Books_Ever?page=16)\n",
      "2020-05-09 20:10:55 [scrapy.core.engine] DEBUG: Crawled (200) <GET https://www.goodreads.com/book/show/20170404-station-eleven> (referer: https://www.goodreads.com/list/show/1.Best_Books_Ever?page=16)\n",
      "2020-05-09 20:10:55 [scrapy.core.engine] DEBUG: Crawled (200) <GET https://www.goodreads.com/book/show/36116546-america-s-daughter> (referer: https://www.goodreads.com/list/show/1.Best_Books_Ever?page=16)\n"
     ]
    },
    {
     "name": "stdout",
     "output_type": "stream",
     "text": [
      "Warning: Book missing series (https://www.goodreads.com/book/show/20170404-station-eleven).\n",
      "Warning: Missing book original title (https://www.goodreads.com/book/show/36116546-america-s-daughter).\n",
      "Warning: Book missing series (https://www.goodreads.com/book/show/36116546-america-s-daughter).\n"
     ]
    },
    {
     "name": "stderr",
     "output_type": "stream",
     "text": [
      "2020-05-09 20:10:56 [scrapy.core.engine] DEBUG: Crawled (200) <GET https://www.goodreads.com/book/show/161744.Common_Sense> (referer: https://www.goodreads.com/list/show/1.Best_Books_Ever?page=16)\n"
     ]
    },
    {
     "name": "stdout",
     "output_type": "stream",
     "text": [
      "Warning: Book missing series (https://www.goodreads.com/book/show/161744.Common_Sense).\n"
     ]
    },
    {
     "name": "stderr",
     "output_type": "stream",
     "text": [
      "2020-05-09 20:10:56 [scrapy.core.engine] DEBUG: Crawled (200) <GET https://www.goodreads.com/book/show/70241.Crash> (referer: https://www.goodreads.com/list/show/1.Best_Books_Ever?page=16)\n",
      "2020-05-09 20:10:57 [scrapy.core.engine] DEBUG: Crawled (200) <GET https://www.goodreads.com/book/show/334643.Abhorsen> (referer: https://www.goodreads.com/list/show/1.Best_Books_Ever?page=16)\n"
     ]
    },
    {
     "name": "stdout",
     "output_type": "stream",
     "text": [
      "Warning: Book missing series (https://www.goodreads.com/book/show/70241.Crash).\n"
     ]
    },
    {
     "name": "stderr",
     "output_type": "stream",
     "text": [
      "2020-05-09 20:10:57 [scrapy.core.engine] DEBUG: Crawled (200) <GET https://www.goodreads.com/book/show/9849568-the-human-obsession> (referer: https://www.goodreads.com/list/show/1.Best_Books_Ever?page=16)\n"
     ]
    },
    {
     "name": "stdout",
     "output_type": "stream",
     "text": [
      "Warning: Missing book original title (https://www.goodreads.com/book/show/9849568-the-human-obsession).\n"
     ]
    },
    {
     "name": "stderr",
     "output_type": "stream",
     "text": [
      "2020-05-09 20:10:58 [scrapy.core.engine] DEBUG: Crawled (200) <GET https://www.goodreads.com/book/show/27883214-caraval> (referer: https://www.goodreads.com/list/show/1.Best_Books_Ever?page=16)\n",
      "2020-05-09 20:10:58 [scrapy.core.engine] DEBUG: Crawled (200) <GET https://www.goodreads.com/book/show/12930.Messenger> (referer: https://www.goodreads.com/list/show/1.Best_Books_Ever?page=16)\n",
      "2020-05-09 20:10:58 [scrapy.core.engine] DEBUG: Crawled (200) <GET https://www.goodreads.com/book/show/11925514-code-name-verity> (referer: https://www.goodreads.com/list/show/1.Best_Books_Ever?page=16)\n",
      "2020-05-09 20:10:58 [scrapy.core.engine] DEBUG: Crawled (200) <GET https://www.goodreads.com/book/show/16046121-after-forever-ends> (referer: https://www.goodreads.com/list/show/1.Best_Books_Ever?page=16)\n"
     ]
    },
    {
     "name": "stdout",
     "output_type": "stream",
     "text": [
      "Warning: Missing book original title (https://www.goodreads.com/book/show/16046121-after-forever-ends).\n",
      "Warning: Book missing series (https://www.goodreads.com/book/show/16046121-after-forever-ends).\n"
     ]
    },
    {
     "name": "stderr",
     "output_type": "stream",
     "text": [
      "2020-05-09 20:10:59 [scrapy.core.engine] DEBUG: Crawled (200) <GET https://www.goodreads.com/book/show/1274.Men_Are_from_Mars_Women_Are_from_Venus> (referer: https://www.goodreads.com/list/show/1.Best_Books_Ever?page=16)\n",
      "2020-05-09 20:10:59 [scrapy.extensions.logstats] INFO: Crawled 172 pages (at 172 pages/min), scraped 0 items (at 0 items/min)\n"
     ]
    },
    {
     "name": "stdout",
     "output_type": "stream",
     "text": [
      "Warning: Book missing series (https://www.goodreads.com/book/show/1274.Men_Are_from_Mars_Women_Are_from_Venus).\n"
     ]
    },
    {
     "name": "stderr",
     "output_type": "stream",
     "text": [
      "2020-05-09 20:10:59 [scrapy.core.engine] DEBUG: Crawled (200) <GET https://www.goodreads.com/book/show/7603.Reading_Lolita_in_Tehran> (referer: https://www.goodreads.com/list/show/1.Best_Books_Ever?page=16)\n",
      "2020-05-09 20:11:00 [scrapy.core.engine] DEBUG: Crawled (200) <GET https://www.goodreads.com/book/show/51428.Rebel_Angels> (referer: https://www.goodreads.com/list/show/1.Best_Books_Ever?page=16)\n",
      "2020-05-09 20:11:00 [scrapy.core.engine] DEBUG: Crawled (200) <GET https://www.goodreads.com/book/show/6174.Survival_in_Auschwitz> (referer: https://www.goodreads.com/list/show/1.Best_Books_Ever?page=16)\n",
      "2020-05-09 20:11:00 [scrapy.core.engine] DEBUG: Crawled (200) <GET https://www.goodreads.com/book/show/4835.Haroun_and_the_Sea_of_Stories> (referer: https://www.goodreads.com/list/show/1.Best_Books_Ever?page=16)\n"
     ]
    },
    {
     "name": "stdout",
     "output_type": "stream",
     "text": [
      "Warning: Book missing series (https://www.goodreads.com/book/show/7603.Reading_Lolita_in_Tehran).\n"
     ]
    },
    {
     "name": "stderr",
     "output_type": "stream",
     "text": [
      "2020-05-09 20:11:00 [scrapy.core.engine] DEBUG: Crawled (200) <GET https://www.goodreads.com/book/show/4447622-some-girls-bite> (referer: https://www.goodreads.com/list/show/1.Best_Books_Ever?page=16)\n",
      "2020-05-09 20:11:01 [scrapy.core.engine] DEBUG: Crawled (200) <GET https://www.goodreads.com/book/show/59264.Ptolemy_s_Gate> (referer: https://www.goodreads.com/list/show/1.Best_Books_Ever?page=16)\n",
      "2020-05-09 20:11:02 [scrapy.core.engine] DEBUG: Crawled (200) <GET https://www.goodreads.com/book/show/12083.Long_Day_s_Journey_into_Night> (referer: https://www.goodreads.com/list/show/1.Best_Books_Ever?page=16)\n"
     ]
    },
    {
     "name": "stdout",
     "output_type": "stream",
     "text": [
      "Warning: Book missing series (https://www.goodreads.com/book/show/12083.Long_Day_s_Journey_into_Night).\n"
     ]
    },
    {
     "name": "stderr",
     "output_type": "stream",
     "text": [
      "2020-05-09 20:11:02 [scrapy.core.engine] DEBUG: Crawled (200) <GET https://www.goodreads.com/book/show/13615.Death_Note_Vol_1> (referer: https://www.goodreads.com/list/show/1.Best_Books_Ever?page=16)\n",
      "2020-05-09 20:11:02 [scrapy.core.engine] DEBUG: Crawled (200) <GET https://www.goodreads.com/book/show/6101718-the-magicians> (referer: https://www.goodreads.com/list/show/1.Best_Books_Ever?page=16)\n",
      "2020-05-09 20:11:03 [scrapy.core.engine] DEBUG: Crawled (200) <GET https://www.goodreads.com/book/show/12294652-my-life-next-door> (referer: https://www.goodreads.com/list/show/1.Best_Books_Ever?page=16)\n",
      "2020-05-09 20:11:03 [scrapy.core.engine] DEBUG: Crawled (200) <GET https://www.goodreads.com/book/show/6581511-shadowland> (referer: https://www.goodreads.com/list/show/1.Best_Books_Ever?page=16)\n"
     ]
    },
    {
     "name": "stdout",
     "output_type": "stream",
     "text": [
      "Warning: Book missing series (https://www.goodreads.com/book/show/12294652-my-life-next-door).\n"
     ]
    },
    {
     "name": "stderr",
     "output_type": "stream",
     "text": [
      "2020-05-09 20:11:03 [scrapy.core.engine] DEBUG: Crawled (200) <GET https://www.goodreads.com/book/show/667234.The_Cat_in_the_Hat_Comes_Back> (referer: https://www.goodreads.com/list/show/1.Best_Books_Ever?page=16)\n",
      "2020-05-09 20:11:03 [scrapy.core.engine] DEBUG: Crawled (200) <GET https://www.goodreads.com/book/show/19181419-a-bird-without-wings> (referer: https://www.goodreads.com/list/show/1.Best_Books_Ever?page=16)\n",
      "2020-05-09 20:11:03 [scrapy.core.engine] DEBUG: Crawled (200) <GET https://www.goodreads.com/book/show/11561469-reason-to-breathe> (referer: https://www.goodreads.com/list/show/1.Best_Books_Ever?page=16)\n",
      "2020-05-09 20:11:04 [scrapy.core.engine] DEBUG: Crawled (200) <GET https://www.goodreads.com/book/show/248484.Book_of_a_Thousand_Days> (referer: https://www.goodreads.com/list/show/1.Best_Books_Ever?page=16)\n"
     ]
    },
    {
     "name": "stdout",
     "output_type": "stream",
     "text": [
      "Warning: Missing book original title (https://www.goodreads.com/book/show/19181419-a-bird-without-wings).\n",
      "Warning: Book missing series (https://www.goodreads.com/book/show/19181419-a-bird-without-wings).\n"
     ]
    },
    {
     "name": "stderr",
     "output_type": "stream",
     "text": [
      "2020-05-09 20:11:04 [scrapy.core.engine] DEBUG: Crawled (200) <GET https://www.goodreads.com/book/show/30119.Where_the_Sidewalk_Ends> (referer: https://www.goodreads.com/list/show/1.Best_Books_Ever?page=16)\n"
     ]
    },
    {
     "name": "stdout",
     "output_type": "stream",
     "text": [
      "Warning: Book missing series (https://www.goodreads.com/book/show/248484.Book_of_a_Thousand_Days).\n"
     ]
    },
    {
     "name": "stderr",
     "output_type": "stream",
     "text": [
      "2020-05-09 20:11:04 [scrapy.core.engine] DEBUG: Crawled (200) <GET https://www.goodreads.com/book/show/10566.Lisey_s_Story> (referer: https://www.goodreads.com/list/show/1.Best_Books_Ever?page=16)\n"
     ]
    },
    {
     "name": "stdout",
     "output_type": "stream",
     "text": [
      "Warning: Book missing series (https://www.goodreads.com/book/show/30119.Where_the_Sidewalk_Ends).\n",
      "Warning: Book missing series (https://www.goodreads.com/book/show/10566.Lisey_s_Story).\n"
     ]
    },
    {
     "name": "stderr",
     "output_type": "stream",
     "text": [
      "2020-05-09 20:11:05 [scrapy.core.engine] DEBUG: Crawled (200) <GET https://www.goodreads.com/book/show/17623975-just-one-day> (referer: https://www.goodreads.com/list/show/1.Best_Books_Ever?page=16)\n"
     ]
    },
    {
     "name": "stdout",
     "output_type": "stream",
     "text": [
      "Warning: Missing book original title (https://www.goodreads.com/book/show/17623975-just-one-day).\n"
     ]
    },
    {
     "name": "stderr",
     "output_type": "stream",
     "text": [
      "2020-05-09 20:11:05 [scrapy.core.engine] DEBUG: Crawled (200) <GET https://www.goodreads.com/book/show/5152561-fragile-eternity> (referer: https://www.goodreads.com/list/show/1.Best_Books_Ever?page=16)\n",
      "2020-05-09 20:11:06 [scrapy.core.engine] DEBUG: Crawled (200) <GET https://www.goodreads.com/book/show/393199.Down_and_Out_in_Paris_and_London> (referer: https://www.goodreads.com/list/show/1.Best_Books_Ever?page=16)\n",
      "2020-05-09 20:11:06 [scrapy.core.engine] DEBUG: Crawled (200) <GET https://www.goodreads.com/book/show/781787.Out_of_Africa> (referer: https://www.goodreads.com/list/show/1.Best_Books_Ever?page=16)\n"
     ]
    },
    {
     "name": "stdout",
     "output_type": "stream",
     "text": [
      "Warning: Book missing series (https://www.goodreads.com/book/show/393199.Down_and_Out_in_Paris_and_London).\n"
     ]
    },
    {
     "name": "stderr",
     "output_type": "stream",
     "text": [
      "2020-05-09 20:11:06 [scrapy.core.engine] DEBUG: Crawled (200) <GET https://www.goodreads.com/book/show/31434883-eleanor-oliphant-is-completely-fine> (referer: https://www.goodreads.com/list/show/1.Best_Books_Ever?page=16)\n"
     ]
    },
    {
     "name": "stdout",
     "output_type": "stream",
     "text": [
      "Warning: Book missing series (https://www.goodreads.com/book/show/781787.Out_of_Africa).\n"
     ]
    },
    {
     "name": "stderr",
     "output_type": "stream",
     "text": [
      "2020-05-09 20:11:07 [scrapy.core.engine] DEBUG: Crawled (200) <GET https://www.goodreads.com/book/show/284996.The_Complete_Stories> (referer: https://www.goodreads.com/list/show/1.Best_Books_Ever?page=14)\n"
     ]
    },
    {
     "name": "stdout",
     "output_type": "stream",
     "text": [
      "Warning: Book missing series (https://www.goodreads.com/book/show/31434883-eleanor-oliphant-is-completely-fine).\n"
     ]
    },
    {
     "name": "stderr",
     "output_type": "stream",
     "text": [
      "2020-05-09 20:11:07 [scrapy.core.engine] DEBUG: Crawled (200) <GET https://www.goodreads.com/book/show/8492319-lover-unleashed> (referer: https://www.goodreads.com/list/show/1.Best_Books_Ever?page=14)\n",
      "2020-05-09 20:11:07 [scrapy.core.engine] DEBUG: Crawled (200) <GET https://www.goodreads.com/book/show/49338.The_Selected_Writings_of_Edgar_Allan_Poe> (referer: https://www.goodreads.com/list/show/1.Best_Books_Ever?page=16)\n",
      "2020-05-09 20:11:07 [scrapy.core.engine] DEBUG: Crawled (200) <GET https://www.goodreads.com/book/show/111450.Quidditch_Through_the_Ages> (referer: https://www.goodreads.com/list/show/1.Best_Books_Ever?page=14)\n"
     ]
    },
    {
     "name": "stdout",
     "output_type": "stream",
     "text": [
      "Warning: Book missing series (https://www.goodreads.com/book/show/284996.The_Complete_Stories).\n",
      "Warning: Missing book original title (https://www.goodreads.com/book/show/49338.The_Selected_Writings_of_Edgar_Allan_Poe).\n",
      "Warning: Book missing series (https://www.goodreads.com/book/show/49338.The_Selected_Writings_of_Edgar_Allan_Poe).\n"
     ]
    },
    {
     "name": "stderr",
     "output_type": "stream",
     "text": [
      "2020-05-09 20:11:07 [scrapy.core.engine] DEBUG: Crawled (200) <GET https://www.goodreads.com/book/show/67920.Sybil> (referer: https://www.goodreads.com/list/show/1.Best_Books_Ever?page=14)\n",
      "2020-05-09 20:11:08 [scrapy.core.engine] DEBUG: Crawled (200) <GET https://www.goodreads.com/book/show/822989.My_Story> (referer: https://www.goodreads.com/list/show/1.Best_Books_Ever?page=14)\n"
     ]
    },
    {
     "name": "stdout",
     "output_type": "stream",
     "text": [
      "Warning: Book missing series (https://www.goodreads.com/book/show/67920.Sybil).\n",
      "Warning: Book missing series (https://www.goodreads.com/book/show/822989.My_Story).\n"
     ]
    },
    {
     "name": "stderr",
     "output_type": "stream",
     "text": [
      "2020-05-09 20:11:08 [scrapy.core.engine] DEBUG: Crawled (200) <GET https://www.goodreads.com/book/show/159178.North_and_South> (referer: https://www.goodreads.com/list/show/1.Best_Books_Ever?page=14)\n",
      "2020-05-09 20:11:09 [scrapy.core.engine] DEBUG: Crawled (200) <GET https://www.goodreads.com/book/show/11559200-shadow-of-night> (referer: https://www.goodreads.com/list/show/1.Best_Books_Ever?page=14)\n",
      "2020-05-09 20:11:09 [scrapy.core.engine] DEBUG: Crawled (200) <GET https://www.goodreads.com/book/show/119829.The_Sunne_in_Splendour> (referer: https://www.goodreads.com/list/show/1.Best_Books_Ever?page=14)\n",
      "2020-05-09 20:11:09 [scrapy.core.engine] DEBUG: Crawled (200) <GET https://www.goodreads.com/book/show/38787.Pedro_P_ramo> (referer: https://www.goodreads.com/list/show/1.Best_Books_Ever?page=14)\n"
     ]
    },
    {
     "name": "stdout",
     "output_type": "stream",
     "text": [
      "Warning: Book missing series (https://www.goodreads.com/book/show/119829.The_Sunne_in_Splendour).\n",
      "Warning: Book missing series (https://www.goodreads.com/book/show/38787.Pedro_P_ramo).\n"
     ]
    },
    {
     "name": "stderr",
     "output_type": "stream",
     "text": [
      "2020-05-09 20:11:10 [scrapy.core.engine] DEBUG: Crawled (200) <GET https://www.goodreads.com/book/show/19351.The_Epic_of_Gilgamesh> (referer: https://www.goodreads.com/list/show/1.Best_Books_Ever?page=14)\n",
      "2020-05-09 20:11:10 [scrapy.core.engine] DEBUG: Crawled (200) <GET https://www.goodreads.com/book/show/8737.The_Last_Temptation_of_Christ> (referer: https://www.goodreads.com/list/show/1.Best_Books_Ever?page=14)\n"
     ]
    },
    {
     "name": "stdout",
     "output_type": "stream",
     "text": [
      "Warning: Book missing series (https://www.goodreads.com/book/show/19351.The_Epic_of_Gilgamesh).\n",
      "Warning: Book missing series (https://www.goodreads.com/book/show/8737.The_Last_Temptation_of_Christ)."
     ]
    },
    {
     "name": "stderr",
     "output_type": "stream",
     "text": [
      "2020-05-09 20:11:10 [scrapy.core.engine] DEBUG: Crawled (200) <GET https://www.goodreads.com/book/show/235718.Succubus_Blues> (referer: https://www.goodreads.com/list/show/1.Best_Books_Ever?page=14)\n",
      "2020-05-09 20:11:10 [scrapy.core.engine] DEBUG: Crawled (200) <GET https://www.goodreads.com/book/show/49823970-more-than-love-a-husband-s-tale> (referer: https://www.goodreads.com/list/show/1.Best_Books_Ever?page=14)\n"
     ]
    },
    {
     "name": "stdout",
     "output_type": "stream",
     "text": [
      "\n",
      "Warning: Missing book original title (https://www.goodreads.com/book/show/49823970-more-than-love-a-husband-s-tale).\n",
      "Warning: Book missing series (https://www.goodreads.com/book/show/49823970-more-than-love-a-husband-s-tale).\n"
     ]
    },
    {
     "name": "stderr",
     "output_type": "stream",
     "text": [
      "2020-05-09 20:11:11 [scrapy.core.engine] DEBUG: Crawled (200) <GET https://www.goodreads.com/book/show/5295735> (referer: https://www.goodreads.com/list/show/1.Best_Books_Ever?page=14)\n"
     ]
    },
    {
     "name": "stdout",
     "output_type": "stream",
     "text": [
      "Warning: Book missing series (https://www.goodreads.com/book/show/5295735).\n"
     ]
    },
    {
     "name": "stderr",
     "output_type": "stream",
     "text": [
      "2020-05-09 20:11:11 [scrapy.core.engine] DEBUG: Crawled (200) <GET https://www.goodreads.com/book/show/12513614-captive-in-the-dark> (referer: https://www.goodreads.com/list/show/1.Best_Books_Ever?page=14)\n",
      "2020-05-09 20:11:12 [scrapy.core.engine] DEBUG: Crawled (200) <GET https://www.goodreads.com/book/show/32071.Sons_and_Lovers> (referer: https://www.goodreads.com/list/show/1.Best_Books_Ever?page=14)\n",
      "2020-05-09 20:11:12 [scrapy.core.engine] DEBUG: Crawled (200) <GET https://www.goodreads.com/book/show/34494.The_Wee_Free_Men> (referer: https://www.goodreads.com/list/show/1.Best_Books_Ever?page=14)\n"
     ]
    },
    {
     "name": "stdout",
     "output_type": "stream",
     "text": [
      "Warning: Book missing series (https://www.goodreads.com/book/show/32071.Sons_and_Lovers).\n"
     ]
    },
    {
     "name": "stderr",
     "output_type": "stream",
     "text": [
      "2020-05-09 20:11:12 [scrapy.core.engine] DEBUG: Crawled (200) <GET https://www.goodreads.com/book/show/9833184-the-fiery-heart> (referer: https://www.goodreads.com/list/show/1.Best_Books_Ever?page=14)\n",
      "2020-05-09 20:11:13 [scrapy.core.engine] DEBUG: Crawled (200) <GET https://www.goodreads.com/book/show/35167685-surely-you-re-joking-mr-feynman> (referer: https://www.goodreads.com/list/show/1.Best_Books_Ever?page=14)\n"
     ]
    },
    {
     "name": "stdout",
     "output_type": "stream",
     "text": [
      "Warning: Book missing series (https://www.goodreads.com/book/show/35167685-surely-you-re-joking-mr-feynman).\n",
      "Warning: Book missing language (https://www.goodreads.com/book/show/35167685-surely-you-re-joking-mr-feynman).\n"
     ]
    },
    {
     "name": "stderr",
     "output_type": "stream",
     "text": [
      "2020-05-09 20:11:13 [scrapy.core.engine] DEBUG: Crawled (200) <GET https://www.goodreads.com/book/show/42607.As_You_Like_It> (referer: https://www.goodreads.com/list/show/1.Best_Books_Ever?page=14)\n"
     ]
    },
    {
     "name": "stdout",
     "output_type": "stream",
     "text": [
      "Warning: Book missing series (https://www.goodreads.com/book/show/42607.As_You_Like_It).\n"
     ]
    },
    {
     "name": "stderr",
     "output_type": "stream",
     "text": [
      "2020-05-09 20:11:13 [scrapy.core.engine] DEBUG: Crawled (200) <GET https://www.goodreads.com/book/show/15505346-on-the-island> (referer: https://www.goodreads.com/list/show/1.Best_Books_Ever?page=14)\n",
      "2020-05-09 20:11:14 [scrapy.core.engine] DEBUG: Crawled (200) <GET https://www.goodreads.com/book/show/4271.About_a_Boy> (referer: https://www.goodreads.com/list/show/1.Best_Books_Ever?page=14)\n"
     ]
    },
    {
     "name": "stdout",
     "output_type": "stream",
     "text": [
      "Warning: Book missing series (https://www.goodreads.com/book/show/4271.About_a_Boy).\n"
     ]
    },
    {
     "name": "stderr",
     "output_type": "stream",
     "text": [
      "2020-05-09 20:11:14 [scrapy.core.engine] DEBUG: Crawled (200) <GET https://www.goodreads.com/book/show/10585.Insomnia> (referer: https://www.goodreads.com/list/show/1.Best_Books_Ever?page=14)\n",
      "2020-05-09 20:11:14 [scrapy.core.engine] DEBUG: Crawled (200) <GET https://www.goodreads.com/book/show/43330.Master_of_the_Game> (referer: https://www.goodreads.com/list/show/1.Best_Books_Ever?page=14)\n"
     ]
    },
    {
     "name": "stdout",
     "output_type": "stream",
     "text": [
      "Warning: Book missing series (https://www.goodreads.com/book/show/10585.Insomnia).\n"
     ]
    },
    {
     "name": "stderr",
     "output_type": "stream",
     "text": [
      "2020-05-09 20:11:15 [scrapy.core.engine] DEBUG: Crawled (200) <GET https://www.goodreads.com/book/show/15842439-warm-bodies> (referer: https://www.goodreads.com/list/show/1.Best_Books_Ever?page=14)\n",
      "2020-05-09 20:11:15 [scrapy.core.engine] DEBUG: Crawled (200) <GET https://www.goodreads.com/book/show/9822.Mrs_Frisby_and_the_Rats_of_NIMH> (referer: https://www.goodreads.com/list/show/1.Best_Books_Ever?page=14)\n",
      "2020-05-09 20:11:15 [scrapy.core.engine] DEBUG: Crawled (200) <GET https://www.goodreads.com/book/show/16527.Daughter_of_Fortune> (referer: https://www.goodreads.com/list/show/1.Best_Books_Ever?page=14)\n",
      "2020-05-09 20:11:15 [scrapy.core.engine] DEBUG: Crawled (200) <GET https://www.goodreads.com/book/show/38726615-ana-rocha> (referer: https://www.goodreads.com/list/show/1.Best_Books_Ever?page=14)\n"
     ]
    },
    {
     "name": "stdout",
     "output_type": "stream",
     "text": [
      "Warning: Book missing series (https://www.goodreads.com/book/show/16527.Daughter_of_Fortune).\n",
      "Warning: Missing book original title (https://www.goodreads.com/book/show/38726615-ana-rocha).\n",
      "Warning: Book missing series (https://www.goodreads.com/book/show/38726615-ana-rocha).\n"
     ]
    },
    {
     "name": "stderr",
     "output_type": "stream",
     "text": [
      "2020-05-09 20:11:16 [scrapy.core.engine] DEBUG: Crawled (200) <GET https://www.goodreads.com/book/show/1166599.The_Gathering_Storm> (referer: https://www.goodreads.com/list/show/1.Best_Books_Ever?page=14)\n",
      "2020-05-09 20:11:16 [scrapy.core.engine] DEBUG: Crawled (200) <GET https://www.goodreads.com/book/show/3819326-angels-blood> (referer: https://www.goodreads.com/list/show/1.Best_Books_Ever?page=14)\n",
      "2020-05-09 20:11:16 [scrapy.core.engine] DEBUG: Crawled (200) <GET https://www.goodreads.com/book/show/22918050-the-heir> (referer: https://www.goodreads.com/list/show/1.Best_Books_Ever?page=14)\n",
      "2020-05-09 20:11:16 [scrapy.core.engine] DEBUG: Crawled (200) <GET https://www.goodreads.com/book/show/10611.The_Eyes_of_the_Dragon> (referer: https://www.goodreads.com/list/show/1.Best_Books_Ever?page=14)\n"
     ]
    },
    {
     "name": "stdout",
     "output_type": "stream",
     "text": [
      "Warning: Book missing series (https://www.goodreads.com/book/show/10611.The_Eyes_of_the_Dragon).\n"
     ]
    },
    {
     "name": "stderr",
     "output_type": "stream",
     "text": [
      "2020-05-09 20:11:17 [scrapy.core.engine] DEBUG: Crawled (200) <GET https://www.goodreads.com/book/show/17184.The_Invisible_Man> (referer: https://www.goodreads.com/list/show/1.Best_Books_Ever?page=14)\n",
      "2020-05-09 20:11:17 [scrapy.core.engine] DEBUG: Crawled (200) <GET https://www.goodreads.com/book/show/28249.The_Magicians_Guild> (referer: https://www.goodreads.com/list/show/1.Best_Books_Ever?page=14)\n"
     ]
    },
    {
     "name": "stdout",
     "output_type": "stream",
     "text": [
      "Warning: Book missing series (https://www.goodreads.com/book/show/17184.The_Invisible_Man).\n"
     ]
    },
    {
     "name": "stderr",
     "output_type": "stream",
     "text": [
      "2020-05-09 20:11:18 [scrapy.core.engine] DEBUG: Crawled (200) <GET https://www.goodreads.com/book/show/35504431-turtles-all-the-way-down> (referer: https://www.goodreads.com/list/show/1.Best_Books_Ever?page=14)\n"
     ]
    },
    {
     "name": "stdout",
     "output_type": "stream",
     "text": [
      "Warning: Book missing series (https://www.goodreads.com/book/show/35504431-turtles-all-the-way-down).\n"
     ]
    },
    {
     "name": "stderr",
     "output_type": "stream",
     "text": [
      "2020-05-09 20:11:18 [scrapy.core.engine] DEBUG: Crawled (200) <GET https://www.goodreads.com/book/show/40874032-vicious> (referer: https://www.goodreads.com/list/show/1.Best_Books_Ever?page=14)\n",
      "2020-05-09 20:11:19 [scrapy.core.engine] DEBUG: Crawled (200) <GET https://www.goodreads.com/book/show/28381.Dead_Souls> (referer: https://www.goodreads.com/list/show/1.Best_Books_Ever?page=14)\n",
      "2020-05-09 20:11:19 [scrapy.core.engine] DEBUG: Crawled (200) <GET https://www.goodreads.com/book/show/40603587-the-last-wish> (referer: https://www.goodreads.com/list/show/1.Best_Books_Ever?page=14)\n"
     ]
    },
    {
     "name": "stdout",
     "output_type": "stream",
     "text": [
      "Warning: Book missing series (https://www.goodreads.com/book/show/28381.Dead_Souls).\n"
     ]
    },
    {
     "name": "stderr",
     "output_type": "stream",
     "text": [
      "2020-05-09 20:11:19 [scrapy.core.engine] DEBUG: Crawled (200) <GET https://www.goodreads.com/book/show/5367.The_Great_Book_of_Amber> (referer: https://www.goodreads.com/list/show/1.Best_Books_Ever?page=14)\n",
      "2020-05-09 20:11:20 [scrapy.core.engine] DEBUG: Crawled (200) <GET https://www.goodreads.com/book/show/233649.The_Great_Hunt> (referer: https://www.goodreads.com/list/show/1.Best_Books_Ever?page=14)\n",
      "2020-05-09 20:11:20 [scrapy.core.engine] DEBUG: Crawled (200) <GET https://www.goodreads.com/book/show/52640.Weaveworld> (referer: https://www.goodreads.com/list/show/1.Best_Books_Ever?page=14)\n",
      "2020-05-09 20:11:20 [scrapy.core.engine] DEBUG: Crawled (200) <GET https://www.goodreads.com/book/show/17689.Franz_Kafka_s_The_Castle> (referer: https://www.goodreads.com/list/show/1.Best_Books_Ever?page=14)\n",
      "2020-05-09 20:11:20 [scrapy.core.engine] DEBUG: Crawled (200) <GET https://www.goodreads.com/book/show/20758105-monsters-of-men> (referer: https://www.goodreads.com/list/show/1.Best_Books_Ever?page=14)\n"
     ]
    },
    {
     "name": "stdout",
     "output_type": "stream",
     "text": [
      "Warning: Book missing series (https://www.goodreads.com/book/show/52640.Weaveworld).\n",
      "Warning: Book missing series (https://www.goodreads.com/book/show/17689.Franz_Kafka_s_The_Castle).\n"
     ]
    },
    {
     "name": "stderr",
     "output_type": "stream",
     "text": [
      "2020-05-09 20:11:20 [scrapy.core.engine] DEBUG: Crawled (200) <GET https://www.goodreads.com/book/show/7826803-wolf-hall> (referer: https://www.goodreads.com/list/show/1.Best_Books_Ever?page=14)\n",
      "2020-05-09 20:11:20 [scrapy.core.engine] DEBUG: Crawled (200) <GET https://www.goodreads.com/book/show/23754.Preludes_Nocturnes> (referer: https://www.goodreads.com/list/show/1.Best_Books_Ever?page=14)\n",
      "2020-05-09 20:11:21 [scrapy.core.engine] DEBUG: Crawled (200) <GET https://www.goodreads.com/book/show/16243767-crossing-the-seas> (referer: https://www.goodreads.com/list/show/1.Best_Books_Ever?page=14)\n",
      "2020-05-09 20:11:21 [scrapy.core.engine] DEBUG: Crawled (200) <GET https://www.goodreads.com/book/show/13148.Kiss_the_Girls> (referer: https://www.goodreads.com/list/show/1.Best_Books_Ever?page=14)\n",
      "2020-05-09 20:11:21 [scrapy.core.engine] DEBUG: Crawled (200) <GET https://www.goodreads.com/book/show/9961796-lola-and-the-boy-next-door> (referer: https://www.goodreads.com/list/show/1.Best_Books_Ever?page=14)\n",
      "2020-05-09 20:11:21 [scrapy.core.engine] DEBUG: Crawled (200) <GET https://www.goodreads.com/book/show/11650.American_Pastoral> (referer: https://www.goodreads.com/list/show/1.Best_Books_Ever?page=14)\n"
     ]
    },
    {
     "name": "stdout",
     "output_type": "stream",
     "text": [
      "Warning: Missing book original title (https://www.goodreads.com/book/show/16243767-crossing-the-seas).\n",
      "Warning: Book missing series (https://www.goodreads.com/book/show/16243767-crossing-the-seas).\n",
      "Warning: Book missing language (https://www.goodreads.com/book/show/16243767-crossing-the-seas).\n"
     ]
    },
    {
     "name": "stderr",
     "output_type": "stream",
     "text": [
      "2020-05-09 20:11:22 [scrapy.core.engine] DEBUG: Crawled (200) <GET https://www.goodreads.com/book/show/1829709.The_Final_Warning> (referer: https://www.goodreads.com/list/show/1.Best_Books_Ever?page=14)\n",
      "2020-05-09 20:11:22 [scrapy.core.engine] DEBUG: Crawled (200) <GET https://www.goodreads.com/book/show/420404.Yertle_the_Turtle_and_Other_Stories> (referer: https://www.goodreads.com/list/show/1.Best_Books_Ever?page=14)\n"
     ]
    },
    {
     "name": "stdout",
     "output_type": "stream",
     "text": [
      "Warning: Book missing series (https://www.goodreads.com/book/show/420404.Yertle_the_Turtle_and_Other_Stories).\n"
     ]
    },
    {
     "name": "stderr",
     "output_type": "stream",
     "text": [
      "2020-05-09 20:11:23 [scrapy.core.engine] DEBUG: Crawled (200) <GET https://www.goodreads.com/book/show/25300956-royal-assassin> (referer: https://www.goodreads.com/list/show/1.Best_Books_Ever?page=14)\n",
      "2020-05-09 20:11:23 [scrapy.core.engine] DEBUG: Crawled (200) <GET https://www.goodreads.com/book/show/41742807-archibald-finch-and-the-lost-witches> (referer: https://www.goodreads.com/list/show/1.Best_Books_Ever?page=14)\n",
      "2020-05-09 20:11:23 [scrapy.core.engine] DEBUG: Crawled (200) <GET https://www.goodreads.com/book/show/28009303-dodging-satan> (referer: https://www.goodreads.com/list/show/1.Best_Books_Ever?page=14)\n"
     ]
    },
    {
     "name": "stdout",
     "output_type": "stream",
     "text": [
      "Warning: Book missing series (https://www.goodreads.com/book/show/41742807-archibald-finch-and-the-lost-witches).\n",
      "Warning: Missing book original title (https://www.goodreads.com/book/show/28009303-dodging-satan).\n",
      "Warning: Book missing series (https://www.goodreads.com/book/show/28009303-dodging-satan).\n"
     ]
    },
    {
     "name": "stderr",
     "output_type": "stream",
     "text": [
      "2020-05-09 20:11:24 [scrapy.core.engine] DEBUG: Crawled (200) <GET https://www.goodreads.com/book/show/17803.After_Dark> (referer: https://www.goodreads.com/list/show/1.Best_Books_Ever?page=14)\n",
      "2020-05-09 20:11:24 [scrapy.core.engine] DEBUG: Crawled (200) <GET https://www.goodreads.com/book/show/78129.Killing_Floor> (referer: https://www.goodreads.com/list/show/1.Best_Books_Ever?page=14)\n"
     ]
    },
    {
     "name": "stdout",
     "output_type": "stream",
     "text": [
      "Warning: Book missing series (https://www.goodreads.com/book/show/17803.After_Dark).\n"
     ]
    },
    {
     "name": "stderr",
     "output_type": "stream",
     "text": [
      "2020-05-09 20:11:24 [scrapy.core.engine] DEBUG: Crawled (200) <GET https://www.goodreads.com/book/show/6431790-fang> (referer: https://www.goodreads.com/list/show/1.Best_Books_Ever?page=14)\n",
      "2020-05-09 20:11:25 [scrapy.core.engine] DEBUG: Crawled (200) <GET https://www.goodreads.com/book/show/6950688-only-the-good-spy-young> (referer: https://www.goodreads.com/list/show/1.Best_Books_Ever?page=14)\n",
      "2020-05-09 20:11:25 [scrapy.core.engine] DEBUG: Crawled (200) <GET https://www.goodreads.com/book/show/929782.Martin_Eden> (referer: https://www.goodreads.com/list/show/1.Best_Books_Ever?page=15)\n",
      "2020-05-09 20:11:25 [scrapy.core.engine] DEBUG: Crawled (200) <GET https://www.goodreads.com/book/show/1314332.Before_I_Die> (referer: https://www.goodreads.com/list/show/1.Best_Books_Ever?page=15)\n"
     ]
    },
    {
     "name": "stdout",
     "output_type": "stream",
     "text": [
      "Warning: Book missing series (https://www.goodreads.com/book/show/929782.Martin_Eden).\n",
      "Warning: Book missing series (https://www.goodreads.com/book/show/1314332.Before_I_Die).\n"
     ]
    },
    {
     "name": "stderr",
     "output_type": "stream",
     "text": [
      "2020-05-09 20:11:26 [scrapy.core.engine] DEBUG: Crawled (200) <GET https://www.goodreads.com/book/show/40409718-post-office> (referer: https://www.goodreads.com/list/show/1.Best_Books_Ever?page=15)\n",
      "2020-05-09 20:11:26 [scrapy.core.engine] DEBUG: Crawled (200) <GET https://www.goodreads.com/book/show/5130.Island> (referer: https://www.goodreads.com/list/show/1.Best_Books_Ever?page=15)\n",
      "2020-05-09 20:11:26 [scrapy.core.engine] DEBUG: Crawled (200) <GET https://www.goodreads.com/book/show/26030383-beg-for-mercy> (referer: https://www.goodreads.com/list/show/1.Best_Books_Ever?page=15)\n"
     ]
    },
    {
     "name": "stdout",
     "output_type": "stream",
     "text": [
      "Warning: Book missing series (https://www.goodreads.com/book/show/40409718-post-office).\n",
      "Warning: Book missing series (https://www.goodreads.com/book/show/5130.Island).\n"
     ]
    },
    {
     "name": "stderr",
     "output_type": "stream",
     "text": [
      "2020-05-09 20:11:26 [scrapy.core.engine] DEBUG: Crawled (200) <GET https://www.goodreads.com/book/show/44274121-the-shadow-girl> (referer: https://www.goodreads.com/list/show/1.Best_Books_Ever?page=15)\n"
     ]
    },
    {
     "name": "stdout",
     "output_type": "stream",
     "text": [
      "Warning: Missing book original title (https://www.goodreads.com/book/show/26030383-beg-for-mercy).\n",
      "Warning: Book missing genres (https://www.goodreads.com/book/show/26030383-beg-for-mercy).\n"
     ]
    },
    {
     "name": "stderr",
     "output_type": "stream",
     "text": [
      "2020-05-09 20:11:27 [scrapy.core.engine] DEBUG: Crawled (200) <GET https://www.goodreads.com/book/show/28251.The_High_Lord> (referer: https://www.goodreads.com/list/show/1.Best_Books_Ever?page=14)\n"
     ]
    },
    {
     "name": "stdout",
     "output_type": "stream",
     "text": [
      "Warning: Missing book original title (https://www.goodreads.com/book/show/44274121-the-shadow-girl).\n",
      "Warning: Book missing series (https://www.goodreads.com/book/show/44274121-the-shadow-girl).\n",
      "Warning: Book missing language (https://www.goodreads.com/book/show/44274121-the-shadow-girl).\n"
     ]
    },
    {
     "name": "stderr",
     "output_type": "stream",
     "text": [
      "2020-05-09 20:11:27 [scrapy.core.engine] DEBUG: Crawled (200) <GET https://www.goodreads.com/book/show/47624.Lirael> (referer: https://www.goodreads.com/list/show/1.Best_Books_Ever?page=15)\n",
      "2020-05-09 20:11:27 [scrapy.core.engine] DEBUG: Crawled (200) <GET https://www.goodreads.com/book/show/11947829-ascend> (referer: https://www.goodreads.com/list/show/1.Best_Books_Ever?page=15)\n",
      "2020-05-09 20:11:28 [scrapy.core.engine] DEBUG: Crawled (200) <GET https://www.goodreads.com/book/show/58922.The_Runaway_Bunny> (referer: https://www.goodreads.com/list/show/1.Best_Books_Ever?page=15)\n",
      "2020-05-09 20:11:28 [scrapy.core.engine] DEBUG: Crawled (200) <GET https://www.goodreads.com/book/show/2241059.Identical> (referer: https://www.goodreads.com/list/show/1.Best_Books_Ever?page=15)\n",
      "2020-05-09 20:11:28 [scrapy.core.engine] DEBUG: Crawled (200) <GET https://www.goodreads.com/book/show/36232319-the-invisible-game> (referer: https://www.goodreads.com/list/show/1.Best_Books_Ever?page=15)\n"
     ]
    },
    {
     "name": "stdout",
     "output_type": "stream",
     "text": [
      "Warning: Book missing series (https://www.goodreads.com/book/show/2241059.Identical).\n",
      "Warning: Book missing series (https://www.goodreads.com/book/show/36232319-the-invisible-game).\n"
     ]
    },
    {
     "name": "stderr",
     "output_type": "stream",
     "text": [
      "2020-05-09 20:11:29 [scrapy.core.engine] DEBUG: Crawled (200) <GET https://www.goodreads.com/book/show/5212771-carpe-corpus> (referer: https://www.goodreads.com/list/show/1.Best_Books_Ever?page=15)\n",
      "2020-05-09 20:11:29 [scrapy.core.engine] DEBUG: Crawled (200) <GET https://www.goodreads.com/book/show/2115.Atlas_Shrugged_The_Fountainhead> (referer: https://www.goodreads.com/list/show/1.Best_Books_Ever?page=15)\n",
      "2020-05-09 20:11:29 [scrapy.core.engine] DEBUG: Crawled (200) <GET https://www.goodreads.com/book/show/752900.Medea> (referer: https://www.goodreads.com/list/show/1.Best_Books_Ever?page=15)\n"
     ]
    },
    {
     "name": "stdout",
     "output_type": "stream",
     "text": [
      "Warning: Book missing series (https://www.goodreads.com/book/show/2115.Atlas_Shrugged_The_Fountainhead).\n",
      "Warning: Book missing language (https://www.goodreads.com/book/show/2115.Atlas_Shrugged_The_Fountainhead).\n",
      "Warning: Book missing series (https://www.goodreads.com/book/show/752900.Medea).\n"
     ]
    },
    {
     "name": "stderr",
     "output_type": "stream",
     "text": [
      "2020-05-09 20:11:30 [scrapy.core.engine] DEBUG: Crawled (200) <GET https://www.goodreads.com/book/show/12853168-sliding-on-the-snow-stone> (referer: https://www.goodreads.com/list/show/1.Best_Books_Ever?page=15)\n",
      "2020-05-09 20:11:30 [scrapy.core.engine] DEBUG: Crawled (200) <GET https://www.goodreads.com/book/show/9557.Sputnik_Sweetheart> (referer: https://www.goodreads.com/list/show/1.Best_Books_Ever?page=16)\n"
     ]
    },
    {
     "name": "stdout",
     "output_type": "stream",
     "text": [
      "Warning: Missing book original title (https://www.goodreads.com/book/show/12853168-sliding-on-the-snow-stone).\n",
      "Warning: Book missing series (https://www.goodreads.com/book/show/12853168-sliding-on-the-snow-stone).\n",
      "Warning: Book missing series (https://www.goodreads.com/book/show/9557.Sputnik_Sweetheart).\n"
     ]
    },
    {
     "name": "stderr",
     "output_type": "stream",
     "text": [
      "2020-05-09 20:11:30 [scrapy.core.engine] DEBUG: Crawled (200) <GET https://www.goodreads.com/book/show/24830.The_Illustrated_Man> (referer: https://www.goodreads.com/list/show/1.Best_Books_Ever?page=14)\n",
      "2020-05-09 20:11:30 [scrapy.core.engine] DEBUG: Crawled (200) <GET https://www.goodreads.com/book/show/3128411-bone-crossed> (referer: https://www.goodreads.com/list/show/1.Best_Books_Ever?page=14)\n",
      "2020-05-09 20:11:31 [scrapy.core.engine] DEBUG: Crawled (200) <GET https://www.goodreads.com/book/show/431.The_New_York_Trilogy> (referer: https://www.goodreads.com/list/show/1.Best_Books_Ever?page=14)\n",
      "2020-05-09 20:11:31 [scrapy.core.engine] DEBUG: Crawled (200) <GET https://www.goodreads.com/book/show/19117.Fathers_and_Sons> (referer: https://www.goodreads.com/list/show/1.Best_Books_Ever?page=14)\n",
      "2020-05-09 20:11:32 [scrapy.core.engine] DEBUG: Crawled (200) <GET https://www.goodreads.com/book/show/29056083-harry-potter-and-the-cursed-child> (referer: https://www.goodreads.com/list/show/1.Best_Books_Ever?page=14)\n"
     ]
    },
    {
     "name": "stdout",
     "output_type": "stream",
     "text": [
      "Warning: Book missing series (https://www.goodreads.com/book/show/19117.Fathers_and_Sons).\n"
     ]
    },
    {
     "name": "stderr",
     "output_type": "stream",
     "text": [
      "2020-05-09 20:11:32 [scrapy.core.engine] DEBUG: Crawled (200) <GET https://www.goodreads.com/book/show/9462812-die-for-me> (referer: https://www.goodreads.com/list/show/1.Best_Books_Ever?page=14)\n",
      "2020-05-09 20:11:32 [scrapy.core.engine] DEBUG: Crawled (200) <GET https://www.goodreads.com/book/show/1379961.People_of_the_Book> (referer: https://www.goodreads.com/list/show/1.Best_Books_Ever?page=14)\n",
      "2020-05-09 20:11:32 [scrapy.core.engine] DEBUG: Crawled (200) <GET https://www.goodreads.com/book/show/540020.The_Day_of_the_Jackal> (referer: https://www.goodreads.com/list/show/1.Best_Books_Ever?page=14)\n"
     ]
    },
    {
     "name": "stdout",
     "output_type": "stream",
     "text": [
      "Warning: Book missing series (https://www.goodreads.com/book/show/1379961.People_of_the_Book).\n"
     ]
    },
    {
     "name": "stderr",
     "output_type": "stream",
     "text": [
      "2020-05-09 20:11:33 [scrapy.core.engine] DEBUG: Crawled (200) <GET https://www.goodreads.com/book/show/89959.The_Constitution_of_the_United_States_of_America> (referer: https://www.goodreads.com/list/show/1.Best_Books_Ever?page=14)\n"
     ]
    },
    {
     "name": "stdout",
     "output_type": "stream",
     "text": [
      "Warning: Book missing series (https://www.goodreads.com/book/show/540020.The_Day_of_the_Jackal).\n"
     ]
    },
    {
     "name": "stderr",
     "output_type": "stream",
     "text": [
      "2020-05-09 20:11:33 [scrapy.core.engine] DEBUG: Crawled (200) <GET https://www.goodreads.com/book/show/13628209-the-boy-who-sneaks-in-my-bedroom-window> (referer: https://www.goodreads.com/list/show/1.Best_Books_Ever?page=14)\n"
     ]
    },
    {
     "name": "stdout",
     "output_type": "stream",
     "text": [
      "Warning: Book missing series (https://www.goodreads.com/book/show/89959.The_Constitution_of_the_United_States_of_America).\n",
      "Warning: Book missing description (https://www.goodreads.com/book/show/89959.The_Constitution_of_the_United_States_of_America).\n"
     ]
    },
    {
     "name": "stderr",
     "output_type": "stream",
     "text": [
      "2020-05-09 20:11:33 [scrapy.core.engine] DEBUG: Crawled (200) <GET https://www.goodreads.com/book/show/714902.Noughts_Crosses> (referer: https://www.goodreads.com/list/show/1.Best_Books_Ever?page=14)\n",
      "2020-05-09 20:11:34 [scrapy.core.engine] DEBUG: Crawled (200) <GET https://www.goodreads.com/book/show/16160797-the-cuckoo-s-calling> (referer: https://www.goodreads.com/list/show/1.Best_Books_Ever?page=14)\n",
      "2020-05-09 20:11:34 [scrapy.core.engine] DEBUG: Crawled (200) <GET https://www.goodreads.com/book/show/71865.Tomorrow_When_the_War_Began> (referer: https://www.goodreads.com/list/show/1.Best_Books_Ever?page=14)\n",
      "2020-05-09 20:11:35 [scrapy.core.engine] DEBUG: Crawled (200) <GET https://www.goodreads.com/book/show/30120.Falling_Up> (referer: https://www.goodreads.com/list/show/1.Best_Books_Ever?page=17)\n"
     ]
    },
    {
     "name": "stdout",
     "output_type": "stream",
     "text": [
      "Warning: Book missing series (https://www.goodreads.com/book/show/30120.Falling_Up).\n"
     ]
    },
    {
     "name": "stderr",
     "output_type": "stream",
     "text": [
      "2020-05-09 20:11:35 [scrapy.core.engine] DEBUG: Crawled (200) <GET https://www.goodreads.com/book/show/42941607-hairspray-and-lighter> (referer: https://www.goodreads.com/list/show/1.Best_Books_Ever?page=17)\n"
     ]
    },
    {
     "name": "stdout",
     "output_type": "stream",
     "text": [
      "Warning: Book missing series (https://www.goodreads.com/book/show/42941607-hairspray-and-lighter).\n"
     ]
    },
    {
     "name": "stderr",
     "output_type": "stream",
     "text": [
      "2020-05-09 20:11:36 [scrapy.core.engine] DEBUG: Crawled (200) <GET https://www.goodreads.com/book/show/16033842-la-v-rit-sur-l-affaire-harry-quebert> (referer: https://www.goodreads.com/list/show/1.Best_Books_Ever?page=17)\n",
      "2020-05-09 20:11:36 [scrapy.core.engine] DEBUG: Crawled (200) <GET https://www.goodreads.com/book/show/12875258-tell-the-wolves-i-m-home> (referer: https://www.goodreads.com/list/show/1.Best_Books_Ever?page=17)\n"
     ]
    },
    {
     "name": "stdout",
     "output_type": "stream",
     "text": [
      "Warning: Book missing series (https://www.goodreads.com/book/show/12875258-tell-the-wolves-i-m-home).\n"
     ]
    },
    {
     "name": "stderr",
     "output_type": "stream",
     "text": [
      "2020-05-09 20:11:36 [scrapy.core.engine] DEBUG: Crawled (200) <GET https://www.goodreads.com/book/show/77773.To_Say_Nothing_of_the_Dog> (referer: https://www.goodreads.com/list/show/1.Best_Books_Ever?page=17)\n",
      "2020-05-09 20:11:36 [scrapy.core.engine] DEBUG: Crawled (200) <GET https://www.goodreads.com/book/show/22557520-after> (referer: https://www.goodreads.com/list/show/1.Best_Books_Ever?page=17)\n",
      "2020-05-09 20:11:37 [scrapy.core.engine] DEBUG: Crawled (200) <GET https://www.goodreads.com/book/show/16181.The_Constant_Princess> (referer: https://www.goodreads.com/list/show/1.Best_Books_Ever?page=17)\n",
      "2020-05-09 20:11:37 [scrapy.core.engine] DEBUG: Crawled (200) <GET https://www.goodreads.com/book/show/316845.The_Sword_in_the_Stone> (referer: https://www.goodreads.com/list/show/1.Best_Books_Ever?page=17)\n",
      "2020-05-09 20:11:37 [scrapy.core.engine] DEBUG: Crawled (200) <GET https://www.goodreads.com/book/show/15992857-baby> (referer: https://www.goodreads.com/list/show/1.Best_Books_Ever?page=17)\n",
      "2020-05-09 20:11:37 [scrapy.core.engine] DEBUG: Crawled (200) <GET https://www.goodreads.com/book/show/457264.The_Second_Sex> (referer: https://www.goodreads.com/list/show/1.Best_Books_Ever?page=17)\n",
      "2020-05-09 20:11:37 [scrapy.core.engine] DEBUG: Crawled (200) <GET https://www.goodreads.com/book/show/16213.The_Hot_Zone> (referer: https://www.goodreads.com/list/show/1.Best_Books_Ever?page=17)\n",
      "2020-05-09 20:11:38 [scrapy.core.engine] DEBUG: Crawled (200) <GET https://www.goodreads.com/book/show/2161733.Child_44> (referer: https://www.goodreads.com/list/show/1.Best_Books_Ever?page=17)\n"
     ]
    },
    {
     "name": "stdout",
     "output_type": "stream",
     "text": [
      "Warning: Book missing series (https://www.goodreads.com/book/show/16213.The_Hot_Zone).\n"
     ]
    },
    {
     "name": "stderr",
     "output_type": "stream",
     "text": [
      "2020-05-09 20:11:38 [scrapy.core.engine] DEBUG: Crawled (200) <GET https://www.goodreads.com/book/show/43328.Rage_of_Angels> (referer: https://www.goodreads.com/list/show/1.Best_Books_Ever?page=17)\n",
      "2020-05-09 20:11:38 [scrapy.core.engine] DEBUG: Crawled (200) <GET https://www.goodreads.com/book/show/14384.A_Hunger_Like_No_Other> (referer: https://www.goodreads.com/list/show/1.Best_Books_Ever?page=17)\n"
     ]
    },
    {
     "name": "stdout",
     "output_type": "stream",
     "text": [
      "Warning: Book missing series (https://www.goodreads.com/book/show/43328.Rage_of_Angels).\n"
     ]
    },
    {
     "name": "stderr",
     "output_type": "stream",
     "text": [
      "2020-05-09 20:11:39 [scrapy.core.engine] DEBUG: Crawled (200) <GET https://www.goodreads.com/book/show/248482.Enna_Burning> (referer: https://www.goodreads.com/list/show/1.Best_Books_Ever?page=17)\n",
      "2020-05-09 20:11:39 [scrapy.core.engine] DEBUG: Crawled (200) <GET https://www.goodreads.com/book/show/17378527-the-raven-king> (referer: https://www.goodreads.com/list/show/1.Best_Books_Ever?page=17)\n",
      "2020-05-09 20:11:40 [scrapy.core.engine] DEBUG: Crawled (200) <GET https://www.goodreads.com/book/show/16282066-significance> (referer: https://www.goodreads.com/list/show/1.Best_Books_Ever?page=17)\n",
      "2020-05-09 20:11:40 [scrapy.core.engine] DEBUG: Crawled (200) <GET https://www.goodreads.com/book/show/767171.The_Rise_and_Fall_of_the_Third_Reich> (referer: https://www.goodreads.com/list/show/1.Best_Books_Ever?page=17)\n",
      "2020-05-09 20:11:40 [scrapy.core.engine] DEBUG: Crawled (200) <GET https://www.goodreads.com/book/show/13836.Wild_Magic> (referer: https://www.goodreads.com/list/show/1.Best_Books_Ever?page=17)\n"
     ]
    },
    {
     "name": "stdout",
     "output_type": "stream",
     "text": [
      "Warning: Book missing series (https://www.goodreads.com/book/show/767171.The_Rise_and_Fall_of_the_Third_Reich).\n"
     ]
    },
    {
     "name": "stderr",
     "output_type": "stream",
     "text": [
      "2020-05-09 20:11:41 [scrapy.core.engine] DEBUG: Crawled (200) <GET https://www.goodreads.com/book/show/3754016-shadow-s-edge> (referer: https://www.goodreads.com/list/show/1.Best_Books_Ever?page=17)\n",
      "2020-05-09 20:11:41 [scrapy.core.engine] DEBUG: Crawled (200) <GET https://www.goodreads.com/book/show/43524300-take-my-heart> (referer: https://www.goodreads.com/list/show/1.Best_Books_Ever?page=17)\n",
      "2020-05-09 20:11:41 [scrapy.core.engine] DEBUG: Crawled (200) <GET https://www.goodreads.com/book/show/33609.Katherine> (referer: https://www.goodreads.com/list/show/1.Best_Books_Ever?page=15)\n"
     ]
    },
    {
     "name": "stdout",
     "output_type": "stream",
     "text": [
      "Warning: Missing book original title (https://www.goodreads.com/book/show/43524300-take-my-heart).\n",
      "Warning: Book missing series (https://www.goodreads.com/book/show/43524300-take-my-heart).\n",
      "Warning: Book missing genres (https://www.goodreads.com/book/show/43524300-take-my-heart).\n",
      "Warning: Book missing series (https://www.goodreads.com/book/show/33609.Katherine).\n"
     ]
    },
    {
     "name": "stderr",
     "output_type": "stream",
     "text": [
      "2020-05-09 20:11:41 [scrapy.core.engine] DEBUG: Crawled (200) <GET https://www.goodreads.com/book/show/20803953-bully> (referer: https://www.goodreads.com/list/show/1.Best_Books_Ever?page=15)\n",
      "2020-05-09 20:11:41 [scrapy.core.engine] DEBUG: Crawled (200) <GET https://www.goodreads.com/book/show/11607446-the-wishing-spell> (referer: https://www.goodreads.com/list/show/1.Best_Books_Ever?page=15)\n"
     ]
    },
    {
     "name": "stdout",
     "output_type": "stream",
     "text": [
      "Warning: Book missing language (https://www.goodreads.com/book/show/20803953-bully).\n"
     ]
    },
    {
     "name": "stderr",
     "output_type": "stream",
     "text": [
      "2020-05-09 20:11:41 [scrapy.core.engine] DEBUG: Crawled (200) <GET https://www.goodreads.com/book/show/18126198-four> (referer: https://www.goodreads.com/list/show/1.Best_Books_Ever?page=15)\n",
      "2020-05-09 20:11:42 [scrapy.core.engine] DEBUG: Crawled (200) <GET https://www.goodreads.com/book/show/8428064-demonglass> (referer: https://www.goodreads.com/list/show/1.Best_Books_Ever?page=15)\n",
      "2020-05-09 20:11:42 [scrapy.core.engine] DEBUG: Crawled (200) <GET https://www.goodreads.com/book/show/325085.Nicholas_Nickleby> (referer: https://www.goodreads.com/list/show/1.Best_Books_Ever?page=15)\n",
      "2020-05-09 20:11:42 [scrapy.core.engine] DEBUG: Crawled (200) <GET https://www.goodreads.com/book/show/6381205-soulless> (referer: https://www.goodreads.com/list/show/1.Best_Books_Ever?page=15)\n"
     ]
    },
    {
     "name": "stdout",
     "output_type": "stream",
     "text": [
      "Warning: Book missing series (https://www.goodreads.com/book/show/325085.Nicholas_Nickleby).\n"
     ]
    },
    {
     "name": "stderr",
     "output_type": "stream",
     "text": [
      "2020-05-09 20:11:43 [scrapy.core.engine] DEBUG: Crawled (200) <GET https://www.goodreads.com/book/show/18749.Half_of_a_Yellow_Sun> (referer: https://www.goodreads.com/list/show/1.Best_Books_Ever?page=15)\n",
      "2020-05-09 20:11:43 [scrapy.core.engine] DEBUG: Crawled (200) <GET https://www.goodreads.com/book/show/46165.This_Side_of_Paradise> (referer: https://www.goodreads.com/list/show/1.Best_Books_Ever?page=15)\n"
     ]
    },
    {
     "name": "stdout",
     "output_type": "stream",
     "text": [
      "Warning: Book missing series (https://www.goodreads.com/book/show/18749.Half_of_a_Yellow_Sun).\n",
      "Warning: Book missing series (https://www.goodreads.com/book/show/46165.This_Side_of_Paradise).\n"
     ]
    },
    {
     "name": "stderr",
     "output_type": "stream",
     "text": [
      "2020-05-09 20:11:44 [scrapy.core.engine] DEBUG: Crawled (200) <GET https://www.goodreads.com/book/show/10629.Christine> (referer: https://www.goodreads.com/list/show/1.Best_Books_Ever?page=15)\n"
     ]
    },
    {
     "name": "stdout",
     "output_type": "stream",
     "text": [
      "Warning: Book missing series (https://www.goodreads.com/book/show/10629.Christine).\n"
     ]
    },
    {
     "name": "stderr",
     "output_type": "stream",
     "text": [
      "2020-05-09 20:11:44 [scrapy.core.engine] DEBUG: Crawled (200) <GET https://www.goodreads.com/book/show/12262741-wild> (referer: https://www.goodreads.com/list/show/1.Best_Books_Ever?page=15)\n",
      "2020-05-09 20:11:44 [scrapy.core.engine] DEBUG: Crawled (200) <GET https://www.goodreads.com/book/show/11084145-steve-jobs> (referer: https://www.goodreads.com/list/show/1.Best_Books_Ever?page=15)\n",
      "2020-05-09 20:11:44 [scrapy.core.engine] DEBUG: Crawled (200) <GET https://www.goodreads.com/book/show/42849823-brownout---666> (referer: https://www.goodreads.com/list/show/1.Best_Books_Ever?page=15)\n"
     ]
    },
    {
     "name": "stdout",
     "output_type": "stream",
     "text": [
      "Warning: Book missing series (https://www.goodreads.com/book/show/12262741-wild).\n"
     ]
    },
    {
     "name": "stderr",
     "output_type": "stream",
     "text": [
      "2020-05-09 20:11:44 [scrapy.core.engine] DEBUG: Crawled (200) <GET https://www.goodreads.com/book/show/7091488-dead-in-the-family> (referer: https://www.goodreads.com/list/show/1.Best_Books_Ever?page=15)\n"
     ]
    },
    {
     "name": "stdout",
     "output_type": "stream",
     "text": [
      "Warning: Book missing series (https://www.goodreads.com/book/show/11084145-steve-jobs).\n",
      "Warning: Missing book original title (https://www.goodreads.com/book/show/42849823-brownout---666).\n",
      "Warning: Book missing series (https://www.goodreads.com/book/show/42849823-brownout---666).\n",
      "Warning: Book missing language (https://www.goodreads.com/book/show/42849823-brownout---666).\n"
     ]
    },
    {
     "name": "stderr",
     "output_type": "stream",
     "text": [
      "2020-05-09 20:11:45 [scrapy.core.engine] DEBUG: Crawled (200) <GET https://www.goodreads.com/book/show/18864.The_Rum_Diary> (referer: https://www.goodreads.com/list/show/1.Best_Books_Ever?page=15)\n"
     ]
    },
    {
     "name": "stdout",
     "output_type": "stream",
     "text": [
      "Warning: Book missing series (https://www.goodreads.com/book/show/18864.The_Rum_Diary).\n"
     ]
    },
    {
     "name": "stderr",
     "output_type": "stream",
     "text": [
      "2020-05-09 20:11:45 [scrapy.core.engine] DEBUG: Crawled (200) <GET https://www.goodreads.com/book/show/40940649-i-am-legend> (referer: https://www.goodreads.com/list/show/1.Best_Books_Ever?page=15)\n"
     ]
    },
    {
     "name": "stdout",
     "output_type": "stream",
     "text": [
      "Warning: Book missing series (https://www.goodreads.com/book/show/40940649-i-am-legend).\n"
     ]
    },
    {
     "name": "stderr",
     "output_type": "stream",
     "text": [
      "2020-05-09 20:11:46 [scrapy.core.engine] DEBUG: Crawled (200) <GET https://www.goodreads.com/book/show/113310.The_Eight> (referer: https://www.goodreads.com/list/show/1.Best_Books_Ever?page=15)\n",
      "2020-05-09 20:11:46 [scrapy.core.engine] DEBUG: Crawled (200) <GET https://www.goodreads.com/book/show/9418327-bossypants> (referer: https://www.goodreads.com/list/show/1.Best_Books_Ever?page=15)\n",
      "2020-05-09 20:11:46 [scrapy.core.engine] DEBUG: Crawled (200) <GET https://www.goodreads.com/book/show/6931356-the-duff> (referer: https://www.goodreads.com/list/show/1.Best_Books_Ever?page=15)\n"
     ]
    },
    {
     "name": "stdout",
     "output_type": "stream",
     "text": [
      "Warning: Book missing series (https://www.goodreads.com/book/show/9418327-bossypants).\n"
     ]
    },
    {
     "name": "stderr",
     "output_type": "stream",
     "text": [
      "2020-05-09 20:11:47 [scrapy.core.engine] DEBUG: Crawled (200) <GET https://www.goodreads.com/book/show/2295829.Feast_of_Fools> (referer: https://www.goodreads.com/list/show/1.Best_Books_Ever?page=15)\n",
      "2020-05-09 20:11:47 [scrapy.core.engine] DEBUG: Crawled (200) <GET https://www.goodreads.com/book/show/42389.Band_of_Brothers> (referer: https://www.goodreads.com/list/show/1.Best_Books_Ever?page=15)\n",
      "2020-05-09 20:11:47 [scrapy.core.engine] DEBUG: Crawled (200) <GET https://www.goodreads.com/book/show/32263.The_Surgeon> (referer: https://www.goodreads.com/list/show/1.Best_Books_Ever?page=15)\n"
     ]
    },
    {
     "name": "stdout",
     "output_type": "stream",
     "text": [
      "Warning: Book missing series (https://www.goodreads.com/book/show/42389.Band_of_Brothers).\n"
     ]
    },
    {
     "name": "stderr",
     "output_type": "stream",
     "text": [
      "2020-05-09 20:11:47 [scrapy.core.engine] DEBUG: Crawled (200) <GET https://www.goodreads.com/book/show/193755.The_Diving_Bell_and_the_Butterfly> (referer: https://www.goodreads.com/list/show/1.Best_Books_Ever?page=15)\n",
      "2020-05-09 20:11:48 [scrapy.core.engine] DEBUG: Crawled (200) <GET https://www.goodreads.com/book/show/104089.Tigana> (referer: https://www.goodreads.com/list/show/1.Best_Books_Ever?page=15)\n"
     ]
    },
    {
     "name": "stdout",
     "output_type": "stream",
     "text": [
      "Warning: Book missing series (https://www.goodreads.com/book/show/193755.The_Diving_Bell_and_the_Butterfly).\n",
      "Warning: Book missing series (https://www.goodreads.com/book/show/104089.Tigana).\n"
     ]
    },
    {
     "name": "stderr",
     "output_type": "stream",
     "text": [
      "2020-05-09 20:11:49 [scrapy.core.engine] DEBUG: Crawled (200) <GET https://www.goodreads.com/book/show/61975.Dragonflight> (referer: https://www.goodreads.com/list/show/1.Best_Books_Ever?page=15)\n",
      "2020-05-09 20:11:49 [scrapy.core.engine] DEBUG: Crawled (200) <GET https://www.goodreads.com/book/show/2364284._> (referer: https://www.goodreads.com/list/show/1.Best_Books_Ever?page=15)\n"
     ]
    },
    {
     "name": "stdout",
     "output_type": "stream",
     "text": [
      "Warning: Book missing series (https://www.goodreads.com/book/show/2364284._).\n"
     ]
    },
    {
     "name": "stderr",
     "output_type": "stream",
     "text": [
      "2020-05-09 20:11:49 [scrapy.core.engine] DEBUG: Crawled (200) <GET https://www.goodreads.com/book/show/1097.Fast_Food_Nation> (referer: https://www.goodreads.com/list/show/1.Best_Books_Ever?page=15)\n"
     ]
    },
    {
     "name": "stdout",
     "output_type": "stream",
     "text": [
      "Warning: Book missing series (https://www.goodreads.com/book/show/1097.Fast_Food_Nation).\n"
     ]
    },
    {
     "name": "stderr",
     "output_type": "stream",
     "text": [
      "2020-05-09 20:11:50 [scrapy.core.engine] DEBUG: Crawled (200) <GET https://www.goodreads.com/book/show/63033.The_Savage_Detectives> (referer: https://www.goodreads.com/list/show/1.Best_Books_Ever?page=15)\n"
     ]
    },
    {
     "name": "stdout",
     "output_type": "stream",
     "text": [
      "Warning: Book missing series (https://www.goodreads.com/book/show/63033.The_Savage_Detectives).\n"
     ]
    },
    {
     "name": "stderr",
     "output_type": "stream",
     "text": [
      "2020-05-09 20:11:50 [scrapy.core.engine] DEBUG: Crawled (200) <GET https://www.goodreads.com/book/show/568236.A_Distant_Mirror> (referer: https://www.goodreads.com/list/show/1.Best_Books_Ever?page=15)\n"
     ]
    },
    {
     "name": "stdout",
     "output_type": "stream",
     "text": [
      "Warning: Book missing series (https://www.goodreads.com/book/show/568236.A_Distant_Mirror).\n"
     ]
    },
    {
     "name": "stderr",
     "output_type": "stream",
     "text": [
      "2020-05-09 20:11:50 [scrapy.core.engine] DEBUG: Crawled (200) <GET https://www.goodreads.com/book/show/476543.The_Darkest_Night> (referer: https://www.goodreads.com/list/show/1.Best_Books_Ever?page=15)\n",
      "2020-05-09 20:11:51 [scrapy.core.engine] DEBUG: Crawled (200) <GET https://www.goodreads.com/book/show/9516.Persepolis> (referer: https://www.goodreads.com/list/show/1.Best_Books_Ever?page=15)\n",
      "2020-05-09 20:11:51 [scrapy.core.engine] DEBUG: Crawled (200) <GET https://www.goodreads.com/book/show/10073506-tinker-tailor-soldier-spy> (referer: https://www.goodreads.com/list/show/1.Best_Books_Ever?page=15)\n",
      "2020-05-09 20:11:51 [scrapy.core.engine] DEBUG: Crawled (200) <GET https://www.goodreads.com/book/show/1540.The_Oedipus_Cycle> (referer: https://www.goodreads.com/list/show/1.Best_Books_Ever?page=15)\n"
     ]
    },
    {
     "name": "stdout",
     "output_type": "stream",
     "text": [
      "Warning: Missing book original title (https://www.goodreads.com/book/show/1540.The_Oedipus_Cycle).\n"
     ]
    },
    {
     "name": "stderr",
     "output_type": "stream",
     "text": [
      "2020-05-09 20:11:51 [scrapy.core.engine] DEBUG: Crawled (200) <GET https://www.goodreads.com/book/show/4345498-magic-strikes> (referer: https://www.goodreads.com/list/show/1.Best_Books_Ever?page=15)\n",
      "2020-05-09 20:11:51 [scrapy.core.engine] DEBUG: Crawled (200) <GET https://www.goodreads.com/book/show/3690.The_Power_and_the_Glory> (referer: https://www.goodreads.com/list/show/1.Best_Books_Ever?page=15)\n",
      "2020-05-09 20:11:51 [scrapy.core.engine] DEBUG: Crawled (200) <GET https://www.goodreads.com/book/show/43945.Portnoy_s_Complaint> (referer: https://www.goodreads.com/list/show/1.Best_Books_Ever?page=15)\n"
     ]
    },
    {
     "name": "stdout",
     "output_type": "stream",
     "text": [
      "Warning: Book missing series (https://www.goodreads.com/book/show/3690.The_Power_and_the_Glory).\n",
      "Warning: Book missing series (https://www.goodreads.com/book/show/43945.Portnoy_s_Complaint).\n"
     ]
    },
    {
     "name": "stderr",
     "output_type": "stream",
     "text": [
      "2020-05-09 20:11:52 [scrapy.core.engine] DEBUG: Crawled (200) <GET https://www.goodreads.com/book/show/24983.Doomsday_Book> (referer: https://www.goodreads.com/list/show/1.Best_Books_Ever?page=15)\n",
      "2020-05-09 20:11:52 [scrapy.core.engine] DEBUG: Crawled (200) <GET https://www.goodreads.com/book/show/33516773-big-little-lies> (referer: https://www.goodreads.com/list/show/1.Best_Books_Ever?page=15)\n",
      "2020-05-09 20:11:52 [scrapy.core.engine] DEBUG: Crawled (200) <GET https://www.goodreads.com/book/show/57913.The_Illuminatus_Trilogy> (referer: https://www.goodreads.com/list/show/1.Best_Books_Ever?page=15)\n"
     ]
    },
    {
     "name": "stdout",
     "output_type": "stream",
     "text": [
      "Warning: Book missing series (https://www.goodreads.com/book/show/33516773-big-little-lies).\n"
     ]
    },
    {
     "name": "stderr",
     "output_type": "stream",
     "text": [
      "2020-05-09 20:11:53 [scrapy.core.engine] DEBUG: Crawled (200) <GET https://www.goodreads.com/book/show/3054684-stargazer> (referer: https://www.goodreads.com/list/show/1.Best_Books_Ever?page=15)\n",
      "2020-05-09 20:11:53 [scrapy.core.engine] DEBUG: Crawled (200) <GET https://www.goodreads.com/book/show/18386.The_Death_of_Ivan_Ilych> (referer: https://www.goodreads.com/list/show/1.Best_Books_Ever?page=15)\n",
      "2020-05-09 20:11:54 [scrapy.core.engine] DEBUG: Crawled (200) <GET https://www.goodreads.com/book/show/25460.Animal_Vegetable_Miracle> (referer: https://www.goodreads.com/list/show/1.Best_Books_Ever?page=15)\n",
      "2020-05-09 20:11:54 [scrapy.core.engine] DEBUG: Crawled (200) <GET https://www.goodreads.com/book/show/13089710-the-kill-order> (referer: https://www.goodreads.com/list/show/1.Best_Books_Ever?page=15)\n"
     ]
    },
    {
     "name": "stdout",
     "output_type": "stream",
     "text": [
      "Warning: Book missing series (https://www.goodreads.com/book/show/25460.Animal_Vegetable_Miracle).\n"
     ]
    },
    {
     "name": "stderr",
     "output_type": "stream",
     "text": [
      "2020-05-09 20:11:54 [scrapy.core.engine] DEBUG: Crawled (200) <GET https://www.goodreads.com/book/show/23174274-glass-sword> (referer: https://www.goodreads.com/list/show/1.Best_Books_Ever?page=15)\n",
      "2020-05-09 20:11:54 [scrapy.core.engine] DEBUG: Crawled (200) <GET https://www.goodreads.com/book/show/264158.The_Raven> (referer: https://www.goodreads.com/list/show/1.Best_Books_Ever?page=15)\n"
     ]
    },
    {
     "name": "stdout",
     "output_type": "stream",
     "text": [
      "Warning: Book missing series (https://www.goodreads.com/book/show/264158.The_Raven).\n"
     ]
    },
    {
     "name": "stderr",
     "output_type": "stream",
     "text": [
      "2020-05-09 20:11:55 [scrapy.core.engine] DEBUG: Crawled (200) <GET https://www.goodreads.com/book/show/61666.Contact> (referer: https://www.goodreads.com/list/show/1.Best_Books_Ever?page=15)\n",
      "2020-05-09 20:11:55 [scrapy.core.engine] DEBUG: Crawled (200) <GET https://www.goodreads.com/book/show/318525.Red_Storm_Rising> (referer: https://www.goodreads.com/list/show/1.Best_Books_Ever?page=15)\n"
     ]
    },
    {
     "name": "stdout",
     "output_type": "stream",
     "text": [
      "Warning: Book missing series (https://www.goodreads.com/book/show/61666.Contact).\n",
      "Warning: Book missing series (https://www.goodreads.com/book/show/318525.Red_Storm_Rising).\n"
     ]
    },
    {
     "name": "stderr",
     "output_type": "stream",
     "text": [
      "2020-05-09 20:11:55 [scrapy.core.engine] DEBUG: Crawled (200) <GET https://www.goodreads.com/book/show/37380.The_Heart_Is_a_Lonely_Hunter> (referer: https://www.goodreads.com/list/show/1.Best_Books_Ever?page=15)\n",
      "2020-05-09 20:11:56 [scrapy.core.engine] DEBUG: Crawled (200) <GET https://www.goodreads.com/book/show/13033.The_Alexandria_Quartet> (referer: https://www.goodreads.com/list/show/1.Best_Books_Ever?page=15)\n"
     ]
    },
    {
     "name": "stdout",
     "output_type": "stream",
     "text": [
      "Warning: Book missing series (https://www.goodreads.com/book/show/37380.The_Heart_Is_a_Lonely_Hunter).\n"
     ]
    },
    {
     "name": "stderr",
     "output_type": "stream",
     "text": [
      "2020-05-09 20:11:56 [scrapy.core.engine] DEBUG: Crawled (200) <GET https://www.goodreads.com/book/show/53022.The_Collected_Poems_of_W_B_Yeats> (referer: https://www.goodreads.com/list/show/1.Best_Books_Ever?page=15)\n",
      "2020-05-09 20:11:57 [scrapy.core.engine] DEBUG: Crawled (200) <GET https://www.goodreads.com/book/show/69136.The_Book_of_Lost_Things> (referer: https://www.goodreads.com/list/show/1.Best_Books_Ever?page=14)\n",
      "2020-05-09 20:11:57 [scrapy.core.engine] DEBUG: Crawled (200) <GET https://www.goodreads.com/book/show/12194.Lord_Jim> (referer: https://www.goodreads.com/list/show/1.Best_Books_Ever?page=17)\n"
     ]
    },
    {
     "name": "stdout",
     "output_type": "stream",
     "text": [
      "Warning: Book missing series (https://www.goodreads.com/book/show/69136.The_Book_of_Lost_Things).\n",
      "Warning: Book missing series (https://www.goodreads.com/book/show/12194.Lord_Jim).\n"
     ]
    },
    {
     "name": "stderr",
     "output_type": "stream",
     "text": [
      "2020-05-09 20:11:57 [scrapy.core.engine] DEBUG: Crawled (200) <GET https://www.goodreads.com/book/show/9912.The_Rules_of_Attraction> (referer: https://www.goodreads.com/list/show/1.Best_Books_Ever?page=17)\n"
     ]
    },
    {
     "name": "stdout",
     "output_type": "stream",
     "text": [
      "Warning: Book missing series (https://www.goodreads.com/book/show/9912.The_Rules_of_Attraction).\n"
     ]
    },
    {
     "name": "stderr",
     "output_type": "stream",
     "text": [
      "2020-05-09 20:11:58 [scrapy.core.engine] DEBUG: Crawled (200) <GET https://www.goodreads.com/book/show/2986865-eon> (referer: https://www.goodreads.com/list/show/1.Best_Books_Ever?page=17)\n",
      "2020-05-09 20:11:58 [scrapy.core.engine] DEBUG: Crawled (200) <GET https://www.goodreads.com/book/show/55403.Black_Hawk_Down> (referer: https://www.goodreads.com/list/show/1.Best_Books_Ever?page=17)\n",
      "2020-05-09 20:11:58 [scrapy.core.engine] DEBUG: Crawled (200) <GET https://www.goodreads.com/book/show/15784909-this-girl> (referer: https://www.goodreads.com/list/show/1.Best_Books_Ever?page=17)\n"
     ]
    },
    {
     "name": "stdout",
     "output_type": "stream",
     "text": [
      "Warning: Book missing series (https://www.goodreads.com/book/show/55403.Black_Hawk_Down).\n"
     ]
    },
    {
     "name": "stderr",
     "output_type": "stream",
     "text": [
      "2020-05-09 20:11:59 [scrapy.core.engine] DEBUG: Crawled (200) <GET https://www.goodreads.com/book/show/357.The_Long_Dark_Tea_Time_of_the_Soul> (referer: https://www.goodreads.com/list/show/1.Best_Books_Ever?page=17)\n",
      "2020-05-09 20:11:59 [scrapy.extensions.logstats] INFO: Crawled 361 pages (at 189 pages/min), scraped 0 items (at 0 items/min)\n",
      "2020-05-09 20:11:59 [scrapy.core.engine] DEBUG: Crawled (200) <GET https://www.goodreads.com/book/show/1268479.Warbreaker> (referer: https://www.goodreads.com/list/show/1.Best_Books_Ever?page=17)\n",
      "2020-05-09 20:12:00 [scrapy.core.engine] DEBUG: Crawled (200) <GET https://www.goodreads.com/book/show/9508678-the-grand-delusion> (referer: https://www.goodreads.com/list/show/1.Best_Books_Ever?page=17)\n",
      "2020-05-09 20:12:00 [scrapy.core.engine] DEBUG: Crawled (200) <GET https://www.goodreads.com/book/show/16130549-doctor-sleep> (referer: https://www.goodreads.com/list/show/1.Best_Books_Ever?page=17)\n"
     ]
    },
    {
     "name": "stdout",
     "output_type": "stream",
     "text": [
      "Warning: Missing book original title (https://www.goodreads.com/book/show/9508678-the-grand-delusion).\n"
     ]
    },
    {
     "name": "stderr",
     "output_type": "stream",
     "text": [
      "2020-05-09 20:12:00 [scrapy.core.engine] DEBUG: Crawled (200) <GET https://www.goodreads.com/book/show/40121205-broken-promises> (referer: https://www.goodreads.com/list/show/1.Best_Books_Ever?page=17)\n",
      "2020-05-09 20:12:00 [scrapy.core.engine] DEBUG: Crawled (200) <GET https://www.goodreads.com/book/show/816953.Someone_Like_You> (referer: https://www.goodreads.com/list/show/1.Best_Books_Ever?page=17)\n"
     ]
    },
    {
     "name": "stdout",
     "output_type": "stream",
     "text": [
      "Warning: Missing book original title (https://www.goodreads.com/book/show/40121205-broken-promises).\n",
      "Warning: Book missing series (https://www.goodreads.com/book/show/40121205-broken-promises).\n",
      "Warning: Book missing series (https://www.goodreads.com/book/show/816953.Someone_Like_You).\n"
     ]
    },
    {
     "name": "stderr",
     "output_type": "stream",
     "text": [
      "2020-05-09 20:12:00 [scrapy.core.engine] DEBUG: Crawled (200) <GET https://www.goodreads.com/book/show/18297707-tangled> (referer: https://www.goodreads.com/list/show/1.Best_Books_Ever?page=17)\n",
      "2020-05-09 20:12:01 [scrapy.core.engine] DEBUG: Crawled (200) <GET https://www.goodreads.com/book/show/7897851-bloodlines> (referer: https://www.goodreads.com/list/show/1.Best_Books_Ever?page=17)\n",
      "2020-05-09 20:12:01 [scrapy.core.engine] DEBUG: Crawled (200) <GET https://www.goodreads.com/book/show/45100.Ship_of_Magic> (referer: https://www.goodreads.com/list/show/1.Best_Books_Ever?page=17)\n"
     ]
    },
    {
     "name": "stdout",
     "output_type": "stream",
     "text": [
      "Warning: Missing book original title (https://www.goodreads.com/book/show/7897851-bloodlines).\n"
     ]
    },
    {
     "name": "stderr",
     "output_type": "stream",
     "text": [
      "2020-05-09 20:12:01 [scrapy.core.engine] DEBUG: Crawled (200) <GET https://www.goodreads.com/book/show/3754026-beyond-the-shadows> (referer: https://www.goodreads.com/list/show/1.Best_Books_Ever?page=17)\n",
      "2020-05-09 20:12:01 [scrapy.core.engine] DEBUG: Crawled (200) <GET https://www.goodreads.com/book/show/13223520-existence> (referer: https://www.goodreads.com/list/show/1.Best_Books_Ever?page=17)\n",
      "2020-05-09 20:12:02 [scrapy.core.engine] DEBUG: Crawled (200) <GET https://www.goodreads.com/book/show/91981.The_Dragonbone_Chair> (referer: https://www.goodreads.com/list/show/1.Best_Books_Ever?page=17)\n"
     ]
    },
    {
     "name": "stdout",
     "output_type": "stream",
     "text": [
      "Warning: Missing book original title (https://www.goodreads.com/book/show/13223520-existence).\n"
     ]
    },
    {
     "name": "stderr",
     "output_type": "stream",
     "text": [
      "2020-05-09 20:12:02 [scrapy.core.engine] DEBUG: Crawled (200) <GET https://www.goodreads.com/book/show/9565548-grave-mercy> (referer: https://www.goodreads.com/list/show/1.Best_Books_Ever?page=17)\n",
      "2020-05-09 20:12:02 [scrapy.core.engine] DEBUG: Crawled (200) <GET https://www.goodreads.com/book/show/10589.Bag_of_Bones> (referer: https://www.goodreads.com/list/show/1.Best_Books_Ever?page=17)\n"
     ]
    },
    {
     "name": "stdout",
     "output_type": "stream",
     "text": [
      "Warning: Book missing series (https://www.goodreads.com/book/show/10589.Bag_of_Bones).\n"
     ]
    },
    {
     "name": "stderr",
     "output_type": "stream",
     "text": [
      "2020-05-09 20:12:03 [scrapy.core.engine] DEBUG: Crawled (200) <GET https://www.goodreads.com/book/show/187812.Avalon_High> (referer: https://www.goodreads.com/list/show/1.Best_Books_Ever?page=17)\n",
      "2020-05-09 20:12:03 [scrapy.core.engine] DEBUG: Crawled (200) <GET https://www.goodreads.com/book/show/12177850-a-song-of-ice-and-fire> (referer: https://www.goodreads.com/list/show/1.Best_Books_Ever?page=17)\n",
      "2020-05-09 20:12:03 [scrapy.core.engine] DEBUG: Crawled (200) <GET https://www.goodreads.com/book/show/16429619-the-kiss-of-deception> (referer: https://www.goodreads.com/list/show/1.Best_Books_Ever?page=17)\n",
      "2020-05-09 20:12:04 [scrapy.core.engine] DEBUG: Crawled (200) <GET https://www.goodreads.com/book/show/77565.The_Fall_of_Hyperion> (referer: https://www.goodreads.com/list/show/1.Best_Books_Ever?page=17)\n",
      "2020-05-09 20:12:04 [scrapy.core.engine] DEBUG: Crawled (200) <GET https://www.goodreads.com/book/show/7664334-amy-roger-s-epic-detour> (referer: https://www.goodreads.com/list/show/1.Best_Books_Ever?page=17)\n"
     ]
    },
    {
     "name": "stdout",
     "output_type": "stream",
     "text": [
      "Warning: Book missing series (https://www.goodreads.com/book/show/7664334-amy-roger-s-epic-detour).\n"
     ]
    },
    {
     "name": "stderr",
     "output_type": "stream",
     "text": [
      "2020-05-09 20:12:05 [scrapy.core.engine] DEBUG: Crawled (200) <GET https://www.goodreads.com/book/show/34506.The_Light_Fantastic> (referer: https://www.goodreads.com/list/show/1.Best_Books_Ever?page=17)\n",
      "2020-05-09 20:12:05 [scrapy.core.engine] DEBUG: Crawled (200) <GET https://www.goodreads.com/book/show/21969786-more-than-this> (referer: https://www.goodreads.com/list/show/1.Best_Books_Ever?page=17)\n",
      "2020-05-09 20:12:05 [scrapy.core.engine] DEBUG: Crawled (200) <GET https://www.goodreads.com/book/show/32650.The_Return_of_the_Native> (referer: https://www.goodreads.com/list/show/1.Best_Books_Ever?page=17)\n"
     ]
    },
    {
     "name": "stdout",
     "output_type": "stream",
     "text": [
      "Warning: Book missing series (https://www.goodreads.com/book/show/21969786-more-than-this).\n"
     ]
    },
    {
     "name": "stderr",
     "output_type": "stream",
     "text": [
      "2020-05-09 20:12:06 [scrapy.core.engine] DEBUG: Crawled (200) <GET https://www.goodreads.com/book/show/78418.The_Reptile_Room> (referer: https://www.goodreads.com/list/show/1.Best_Books_Ever?page=17)\n"
     ]
    },
    {
     "name": "stdout",
     "output_type": "stream",
     "text": [
      "Warning: Book missing series (https://www.goodreads.com/book/show/32650.The_Return_of_the_Native).\n"
     ]
    },
    {
     "name": "stderr",
     "output_type": "stream",
     "text": [
      "2020-05-09 20:12:06 [scrapy.core.engine] DEBUG: Crawled (200) <GET https://www.goodreads.com/book/show/13927.Son_of_the_Shadows> (referer: https://www.goodreads.com/list/show/1.Best_Books_Ever?page=17)\n",
      "2020-05-09 20:12:06 [scrapy.core.engine] DEBUG: Crawled (200) <GET https://www.goodreads.com/book/show/1305.Gates_of_Fire> (referer: https://www.goodreads.com/list/show/1.Best_Books_Ever?page=17)\n",
      "2020-05-09 20:12:06 [scrapy.core.engine] DEBUG: Crawled (200) <GET https://www.goodreads.com/book/show/16155612-the-orb-of-truth> (referer: https://www.goodreads.com/list/show/1.Best_Books_Ever?page=17)\n"
     ]
    },
    {
     "name": "stdout",
     "output_type": "stream",
     "text": [
      "Warning: Book missing series (https://www.goodreads.com/book/show/1305.Gates_of_Fire).\n",
      "Warning: Missing book original title (https://www.goodreads.com/book/show/16155612-the-orb-of-truth).\n"
     ]
    },
    {
     "name": "stderr",
     "output_type": "stream",
     "text": [
      "2020-05-09 20:12:07 [scrapy.core.engine] DEBUG: Crawled (200) <GET https://www.goodreads.com/book/show/4325.Dreamland> (referer: https://www.goodreads.com/list/show/1.Best_Books_Ever?page=17)\n",
      "2020-05-09 20:12:07 [scrapy.core.engine] DEBUG: Crawled (200) <GET https://www.goodreads.com/book/show/234184.Stone_of_Tears> (referer: https://www.goodreads.com/list/show/1.Best_Books_Ever?page=17)\n",
      "2020-05-09 20:12:07 [scrapy.core.engine] DEBUG: Crawled (200) <GET https://www.goodreads.com/book/show/36809135-where-the-crawdads-sing> (referer: https://www.goodreads.com/list/show/1.Best_Books_Ever?page=17)\n"
     ]
    },
    {
     "name": "stdout",
     "output_type": "stream",
     "text": [
      "Warning: Book missing series (https://www.goodreads.com/book/show/4325.Dreamland).\n"
     ]
    },
    {
     "name": "stderr",
     "output_type": "stream",
     "text": [
      "2020-05-09 20:12:07 [scrapy.core.engine] DEBUG: Crawled (200) <GET https://www.goodreads.com/book/show/7673244-carnal> (referer: https://www.goodreads.com/list/show/1.Best_Books_Ever?page=17)\n"
     ]
    },
    {
     "name": "stdout",
     "output_type": "stream",
     "text": [
      "Warning: Book missing series (https://www.goodreads.com/book/show/36809135-where-the-crawdads-sing).\n",
      "Warning: Missing book original title (https://www.goodreads.com/book/show/7673244-carnal).\n",
      "Warning: Book missing series (https://www.goodreads.com/book/show/7673244-carnal).\n"
     ]
    },
    {
     "name": "stderr",
     "output_type": "stream",
     "text": [
      "2020-05-09 20:12:08 [scrapy.core.engine] DEBUG: Crawled (200) <GET https://www.goodreads.com/book/show/12971616-the-rise-of-nine> (referer: https://www.goodreads.com/list/show/1.Best_Books_Ever?page=17)\n",
      "2020-05-09 20:12:08 [scrapy.core.engine] DEBUG: Crawled (200) <GET https://www.goodreads.com/book/show/1428.By_the_River_Piedra_I_Sat_Down_and_Wept> (referer: https://www.goodreads.com/list/show/1.Best_Books_Ever?page=17)\n",
      "2020-05-09 20:12:08 [scrapy.core.engine] DEBUG: Crawled (200) <GET https://www.goodreads.com/book/show/113205.Heart_of_a_Dog> (referer: https://www.goodreads.com/list/show/1.Best_Books_Ever?page=17)\n",
      "2020-05-09 20:12:08 [scrapy.core.engine] DEBUG: Crawled (200) <GET https://www.goodreads.com/book/show/6447501-explosion-in-paris> (referer: https://www.goodreads.com/list/show/1.Best_Books_Ever?page=17)\n"
     ]
    },
    {
     "name": "stdout",
     "output_type": "stream",
     "text": [
      "Warning: Book missing series (https://www.goodreads.com/book/show/113205.Heart_of_a_Dog).\n"
     ]
    },
    {
     "name": "stderr",
     "output_type": "stream",
     "text": [
      "2020-05-09 20:12:09 [scrapy.core.engine] DEBUG: Crawled (200) <GET https://www.goodreads.com/book/show/35231.Lord_of_Chaos> (referer: https://www.goodreads.com/list/show/1.Best_Books_Ever?page=17)\n"
     ]
    },
    {
     "name": "stdout",
     "output_type": "stream",
     "text": [
      "Warning: Book missing series (https://www.goodreads.com/book/show/6447501-explosion-in-paris).\n"
     ]
    },
    {
     "name": "stderr",
     "output_type": "stream",
     "text": [
      "2020-05-09 20:12:09 [scrapy.core.engine] DEBUG: Crawled (200) <GET https://www.goodreads.com/book/show/7510368-the-cadaver-factory> (referer: https://www.goodreads.com/list/show/1.Best_Books_Ever?page=17)\n",
      "2020-05-09 20:12:09 [scrapy.core.engine] DEBUG: Crawled (200) <GET https://www.goodreads.com/book/show/5941033-let-the-great-world-spin> (referer: https://www.goodreads.com/list/show/1.Best_Books_Ever?page=17)\n"
     ]
    },
    {
     "name": "stdout",
     "output_type": "stream",
     "text": [
      "Warning: Missing book original title (https://www.goodreads.com/book/show/7510368-the-cadaver-factory).\n",
      "Warning: Book missing series (https://www.goodreads.com/book/show/7510368-the-cadaver-factory).\n",
      "Warning: Book missing series (https://www.goodreads.com/book/show/5941033-let-the-great-world-spin).\n"
     ]
    },
    {
     "name": "stderr",
     "output_type": "stream",
     "text": [
      "2020-05-09 20:12:10 [scrapy.core.engine] DEBUG: Crawled (200) <GET https://www.goodreads.com/book/show/16113791-the-coincidence-of-callie-kayden> (referer: https://www.goodreads.com/list/show/1.Best_Books_Ever?page=17)\n",
      "2020-05-09 20:12:10 [scrapy.core.engine] DEBUG: Crawled (200) <GET https://www.goodreads.com/book/show/127459.The_Sweet_Far_Thing> (referer: https://www.goodreads.com/list/show/1.Best_Books_Ever?page=17)\n",
      "2020-05-09 20:12:11 [scrapy.core.engine] DEBUG: Crawled (200) <GET https://www.goodreads.com/book/show/93724.Twilight> (referer: https://www.goodreads.com/list/show/1.Best_Books_Ever?page=17)\n",
      "2020-05-09 20:12:11 [scrapy.core.engine] DEBUG: Crawled (200) <GET https://www.goodreads.com/book/show/178476.Slave_to_Sensation> (referer: https://www.goodreads.com/list/show/1.Best_Books_Ever?page=17)\n",
      "2020-05-09 20:12:11 [scrapy.core.engine] DEBUG: Crawled (200) <GET https://www.goodreads.com/book/show/6479550-magic-bleeds> (referer: https://www.goodreads.com/list/show/1.Best_Books_Ever?page=14)\n",
      "2020-05-09 20:12:12 [scrapy.core.engine] DEBUG: Crawled (200) <GET https://www.goodreads.com/book/show/285205.Blood_Bound> (referer: https://www.goodreads.com/list/show/1.Best_Books_Ever?page=13)\n",
      "2020-05-09 20:12:12 [scrapy.core.engine] DEBUG: Crawled (200) <GET https://www.goodreads.com/book/show/139069.Endurance> (referer: https://www.goodreads.com/list/show/1.Best_Books_Ever?page=13)\n",
      "2020-05-09 20:12:13 [scrapy.core.engine] DEBUG: Crawled (200) <GET https://www.goodreads.com/book/show/11553.Boy_s_Life> (referer: https://www.goodreads.com/list/show/1.Best_Books_Ever?page=13)\n"
     ]
    },
    {
     "name": "stdout",
     "output_type": "stream",
     "text": [
      "Warning: Book missing series (https://www.goodreads.com/book/show/139069.Endurance).\n"
     ]
    },
    {
     "name": "stderr",
     "output_type": "stream",
     "text": [
      "2020-05-09 20:12:13 [scrapy.core.engine] DEBUG: Crawled (200) <GET https://www.goodreads.com/book/show/30186948-think-and-grow-rich> (referer: https://www.goodreads.com/list/show/1.Best_Books_Ever?page=13)\n"
     ]
    },
    {
     "name": "stdout",
     "output_type": "stream",
     "text": [
      "Warning: Book missing series (https://www.goodreads.com/book/show/11553.Boy_s_Life).\n",
      "Warning: Book missing series (https://www.goodreads.com/book/show/30186948-think-and-grow-rich).\n"
     ]
    },
    {
     "name": "stderr",
     "output_type": "stream",
     "text": [
      "2020-05-09 20:12:13 [scrapy.core.engine] DEBUG: Crawled (200) <GET https://www.goodreads.com/book/show/37186.The_Miraculous_Journey_of_Edward_Tulane> (referer: https://www.goodreads.com/list/show/1.Best_Books_Ever?page=13)\n",
      "2020-05-09 20:12:13 [scrapy.core.engine] DEBUG: Crawled (200) <GET https://www.goodreads.com/book/show/58085.The_Sight> (referer: https://www.goodreads.com/list/show/1.Best_Books_Ever?page=17)\n"
     ]
    },
    {
     "name": "stdout",
     "output_type": "stream",
     "text": [
      "Warning: Book missing series (https://www.goodreads.com/book/show/37186.The_Miraculous_Journey_of_Edward_Tulane).\n"
     ]
    },
    {
     "name": "stderr",
     "output_type": "stream",
     "text": [
      "2020-05-09 20:12:14 [scrapy.core.engine] DEBUG: Crawled (200) <GET https://www.goodreads.com/book/show/8520610-quiet> (referer: https://www.goodreads.com/list/show/1.Best_Books_Ever?page=13)\n",
      "2020-05-09 20:12:14 [scrapy.core.engine] DEBUG: Crawled (200) <GET https://www.goodreads.com/book/show/12543.Bird_by_Bird> (referer: https://www.goodreads.com/list/show/1.Best_Books_Ever?page=13)\n"
     ]
    },
    {
     "name": "stdout",
     "output_type": "stream",
     "text": [
      "Warning: Book missing series (https://www.goodreads.com/book/show/8520610-quiet).\n",
      "Warning: Book missing series (https://www.goodreads.com/book/show/12543.Bird_by_Bird).\n",
      "Warning: Book missing language (https://www.goodreads.com/book/show/12543.Bird_by_Bird).\n"
     ]
    },
    {
     "name": "stderr",
     "output_type": "stream",
     "text": [
      "2020-05-09 20:12:14 [scrapy.core.engine] DEBUG: Crawled (200) <GET https://www.goodreads.com/book/show/38500.Women> (referer: https://www.goodreads.com/list/show/1.Best_Books_Ever?page=13)\n",
      "2020-05-09 20:12:14 [scrapy.core.engine] DEBUG: Crawled (200) <GET https://www.goodreads.com/book/show/35642518-for-the-love-of-armin> (referer: https://www.goodreads.com/list/show/1.Best_Books_Ever?page=13)\n",
      "2020-05-09 20:12:14 [scrapy.core.engine] DEBUG: Crawled (200) <GET https://www.goodreads.com/book/show/331920.Flipped> (referer: https://www.goodreads.com/list/show/1.Best_Books_Ever?page=13)\n"
     ]
    },
    {
     "name": "stdout",
     "output_type": "stream",
     "text": [
      "Warning: Book missing series (https://www.goodreads.com/book/show/38500.Women).\n",
      "Warning: Missing book original title (https://www.goodreads.com/book/show/35642518-for-the-love-of-armin).\n",
      "Warning: Book missing series (https://www.goodreads.com/book/show/35642518-for-the-love-of-armin).\n",
      "Warning: Book missing language (https://www.goodreads.com/book/show/35642518-for-the-love-of-armin).\n",
      "Warning: Book missing series (https://www.goodreads.com/book/show/331920.Flipped).\n"
     ]
    },
    {
     "name": "stderr",
     "output_type": "stream",
     "text": [
      "2020-05-09 20:12:15 [scrapy.core.engine] DEBUG: Crawled (200) <GET https://www.goodreads.com/book/show/15858248-wallbanger> (referer: https://www.goodreads.com/list/show/1.Best_Books_Ever?page=13)\n",
      "2020-05-09 20:12:16 [scrapy.core.engine] DEBUG: Crawled (200) <GET https://www.goodreads.com/book/show/6708.The_Power_of_Now> (referer: https://www.goodreads.com/list/show/1.Best_Books_Ever?page=13)\n"
     ]
    },
    {
     "name": "stdout",
     "output_type": "stream",
     "text": [
      "Warning: Book missing series (https://www.goodreads.com/book/show/6708.The_Power_of_Now).\n"
     ]
    },
    {
     "name": "stderr",
     "output_type": "stream",
     "text": [
      "2020-05-09 20:12:16 [scrapy.core.engine] DEBUG: Crawled (200) <GET https://www.goodreads.com/book/show/27362503-it-ends-with-us> (referer: https://www.goodreads.com/list/show/1.Best_Books_Ever?page=13)\n",
      "2020-05-09 20:12:16 [scrapy.core.engine] DEBUG: Crawled (200) <GET https://www.goodreads.com/book/show/27252.Pope_Joan> (referer: https://www.goodreads.com/list/show/1.Best_Books_Ever?page=13)\n"
     ]
    },
    {
     "name": "stdout",
     "output_type": "stream",
     "text": [
      "Warning: Book missing series (https://www.goodreads.com/book/show/27362503-it-ends-with-us).\n",
      "Warning: Book missing series (https://www.goodreads.com/book/show/27252.Pope_Joan).\n"
     ]
    },
    {
     "name": "stderr",
     "output_type": "stream",
     "text": [
      "2020-05-09 20:12:17 [scrapy.core.engine] DEBUG: Crawled (200) <GET https://www.goodreads.com/book/show/9915.Less_Than_Zero> (referer: https://www.goodreads.com/list/show/1.Best_Books_Ever?page=13)\n",
      "2020-05-09 20:12:17 [scrapy.core.engine] DEBUG: Crawled (200) <GET https://www.goodreads.com/book/show/38210.The_Art_of_Happiness> (referer: https://www.goodreads.com/list/show/1.Best_Books_Ever?page=13)\n"
     ]
    },
    {
     "name": "stdout",
     "output_type": "stream",
     "text": [
      "Warning: Book missing series (https://www.goodreads.com/book/show/38210.The_Art_of_Happiness).\n"
     ]
    },
    {
     "name": "stderr",
     "output_type": "stream",
     "text": [
      "2020-05-09 20:12:17 [scrapy.core.engine] DEBUG: Crawled (200) <GET https://www.goodreads.com/book/show/49540.Les_Liaisons_dangereuses> (referer: https://www.goodreads.com/list/show/1.Best_Books_Ever?page=13)\n",
      "2020-05-09 20:12:18 [scrapy.core.engine] DEBUG: Crawled (200) <GET https://www.goodreads.com/book/show/412732.The_Dharma_Bums> (referer: https://www.goodreads.com/list/show/1.Best_Books_Ever?page=13)\n"
     ]
    },
    {
     "name": "stdout",
     "output_type": "stream",
     "text": [
      "Warning: Book missing series (https://www.goodreads.com/book/show/49540.Les_Liaisons_dangereuses).\n"
     ]
    },
    {
     "name": "stderr",
     "output_type": "stream",
     "text": [
      "2020-05-09 20:12:18 [scrapy.core.engine] DEBUG: Crawled (200) <GET https://www.goodreads.com/book/show/19534.The_Brothers_K> (referer: https://www.goodreads.com/list/show/1.Best_Books_Ever?page=13)\n",
      "2020-05-09 20:12:18 [scrapy.core.engine] DEBUG: Crawled (200) <GET https://www.goodreads.com/book/show/49041.New_Moon> (referer: https://www.goodreads.com/list/show/1.Best_Books_Ever?page=13)\n"
     ]
    },
    {
     "name": "stdout",
     "output_type": "stream",
     "text": [
      "Warning: Book missing series (https://www.goodreads.com/book/show/19534.The_Brothers_K).\n"
     ]
    },
    {
     "name": "stderr",
     "output_type": "stream",
     "text": [
      "2020-05-09 20:12:18 [scrapy.core.engine] DEBUG: Crawled (200) <GET https://www.goodreads.com/book/show/347852.The_Road_Less_Traveled> (referer: https://www.goodreads.com/list/show/1.Best_Books_Ever?page=17)\n",
      "2020-05-09 20:12:19 [scrapy.core.engine] DEBUG: Crawled (200) <GET https://www.goodreads.com/book/show/51964.Old_Man_s_War> (referer: https://www.goodreads.com/list/show/1.Best_Books_Ever?page=13)\n"
     ]
    },
    {
     "name": "stdout",
     "output_type": "stream",
     "text": [
      "Warning: Book missing series (https://www.goodreads.com/book/show/347852.The_Road_Less_Traveled).\n"
     ]
    },
    {
     "name": "stderr",
     "output_type": "stream",
     "text": [
      "2020-05-09 20:12:19 [scrapy.core.engine] DEBUG: Crawled (200) <GET https://www.goodreads.com/book/show/31250.Little_Dorrit> (referer: https://www.goodreads.com/list/show/1.Best_Books_Ever?page=17)\n",
      "2020-05-09 20:12:19 [scrapy.core.engine] DEBUG: Crawled (200) <GET https://www.goodreads.com/book/show/16255.Tales_of_the_City> (referer: https://www.goodreads.com/list/show/1.Best_Books_Ever?page=17)\n"
     ]
    },
    {
     "name": "stdout",
     "output_type": "stream",
     "text": [
      "Warning: Book missing series (https://www.goodreads.com/book/show/31250.Little_Dorrit).\n"
     ]
    },
    {
     "name": "stderr",
     "output_type": "stream",
     "text": [
      "2020-05-09 20:12:20 [scrapy.core.engine] DEBUG: Crawled (200) <GET https://www.goodreads.com/book/show/18798983-the-wrath-and-the-dawn> (referer: https://www.goodreads.com/list/show/1.Best_Books_Ever?page=17)\n",
      "2020-05-09 20:12:20 [scrapy.core.engine] DEBUG: Crawled (200) <GET https://www.goodreads.com/book/show/7129598-nevermore> (referer: https://www.goodreads.com/list/show/1.Best_Books_Ever?page=17)\n",
      "2020-05-09 20:12:21 [scrapy.core.engine] DEBUG: Crawled (200) <GET https://www.goodreads.com/book/show/106085.Masquerade> (referer: https://www.goodreads.com/list/show/1.Best_Books_Ever?page=13)\n",
      "2020-05-09 20:12:21 [scrapy.core.engine] DEBUG: Crawled (200) <GET https://www.goodreads.com/book/show/27037.Confessions> (referer: https://www.goodreads.com/list/show/1.Best_Books_Ever?page=17)\n",
      "2020-05-09 20:12:21 [scrapy.core.engine] DEBUG: Crawled (200) <GET https://www.goodreads.com/book/show/15724396-the-sword-of-summer> (referer: https://www.goodreads.com/list/show/1.Best_Books_Ever?page=17)\n"
     ]
    },
    {
     "name": "stdout",
     "output_type": "stream",
     "text": [
      "Warning: Book missing series (https://www.goodreads.com/book/show/27037.Confessions).\n"
     ]
    },
    {
     "name": "stderr",
     "output_type": "stream",
     "text": [
      "2020-05-09 20:12:21 [scrapy.core.engine] DEBUG: Crawled (200) <GET https://www.goodreads.com/book/show/2054.The_Long_Goodbye> (referer: https://www.goodreads.com/list/show/1.Best_Books_Ever?page=17)\n",
      "2020-05-09 20:12:22 [scrapy.core.engine] DEBUG: Crawled (200) <GET https://www.goodreads.com/book/show/92364.Eye_of_the_Needle> (referer: https://www.goodreads.com/list/show/1.Best_Books_Ever?page=17)\n"
     ]
    },
    {
     "name": "stdout",
     "output_type": "stream",
     "text": [
      "Warning: Book missing series (https://www.goodreads.com/book/show/92364.Eye_of_the_Needle).\n"
     ]
    },
    {
     "name": "stderr",
     "output_type": "stream",
     "text": [
      "2020-05-09 20:12:22 [scrapy.core.engine] DEBUG: Crawled (200) <GET https://www.goodreads.com/book/show/7100490-the-forbidden-game> (referer: https://www.goodreads.com/list/show/1.Best_Books_Ever?page=17)\n",
      "2020-05-09 20:12:22 [scrapy.core.engine] DEBUG: Crawled (200) <GET https://www.goodreads.com/book/show/448873.The_Thief> (referer: https://www.goodreads.com/list/show/1.Best_Books_Ever?page=17)\n",
      "2020-05-09 20:12:23 [scrapy.core.engine] DEBUG: Crawled (200) <GET https://www.goodreads.com/book/show/509784.The_End_of_Eternity> (referer: https://www.goodreads.com/list/show/1.Best_Books_Ever?page=17)\n"
     ]
    },
    {
     "name": "stdout",
     "output_type": "stream",
     "text": [
      "Warning: Book missing series (https://www.goodreads.com/book/show/509784.The_End_of_Eternity).\n"
     ]
    },
    {
     "name": "stderr",
     "output_type": "stream",
     "text": [
      "2020-05-09 20:12:23 [scrapy.core.engine] DEBUG: Crawled (200) <GET https://www.goodreads.com/book/show/1278752.The_House_at_Riverton> (referer: https://www.goodreads.com/list/show/1.Best_Books_Ever?page=17)\n"
     ]
    },
    {
     "name": "stdout",
     "output_type": "stream",
     "text": [
      "Warning: Book missing series (https://www.goodreads.com/book/show/1278752.The_House_at_Riverton).\n"
     ]
    },
    {
     "name": "stderr",
     "output_type": "stream",
     "text": [
      "2020-05-09 20:12:23 [scrapy.core.engine] DEBUG: Crawled (200) <GET https://www.goodreads.com/book/show/12842828-keeper-of-the-lost-cities> (referer: https://www.goodreads.com/list/show/1.Best_Books_Ever?page=17)\n",
      "2020-05-09 20:12:24 [scrapy.core.engine] DEBUG: Crawled (200) <GET https://www.goodreads.com/book/show/13600318-reckless> (referer: https://www.goodreads.com/list/show/1.Best_Books_Ever?page=17)\n",
      "2020-05-09 20:12:24 [scrapy.core.engine] DEBUG: Crawled (200) <GET https://www.goodreads.com/book/show/8648.Xenocide> (referer: https://www.goodreads.com/list/show/1.Best_Books_Ever?page=17)\n",
      "2020-05-09 20:12:24 [scrapy.core.engine] DEBUG: Crawled (200) <GET https://www.goodreads.com/book/show/10757833-beautiful-chaos> (referer: https://www.goodreads.com/list/show/1.Best_Books_Ever?page=17)\n",
      "2020-05-09 20:12:25 [scrapy.core.engine] DEBUG: Crawled (200) <GET https://www.goodreads.com/book/show/32559.The_Fall_of_the_House_of_Usher_and_Other_Tales> (referer: https://www.goodreads.com/list/show/1.Best_Books_Ever?page=17)\n"
     ]
    },
    {
     "name": "stdout",
     "output_type": "stream",
     "text": [
      "Warning: Book missing series (https://www.goodreads.com/book/show/32559.The_Fall_of_the_House_of_Usher_and_Other_Tales).\n"
     ]
    },
    {
     "name": "stderr",
     "output_type": "stream",
     "text": [
      "2020-05-09 20:12:25 [scrapy.core.engine] DEBUG: Crawled (200) <GET https://www.goodreads.com/book/show/62031.The_City_of_Dreaming_Books> (referer: https://www.goodreads.com/list/show/1.Best_Books_Ever?page=17)\n",
      "2020-05-09 20:12:25 [scrapy.core.engine] DEBUG: Crawled (200) <GET https://www.goodreads.com/book/show/13326831-the-testing> (referer: https://www.goodreads.com/list/show/1.Best_Books_Ever?page=17)\n",
      "2020-05-09 20:12:26 [scrapy.core.engine] DEBUG: Crawled (200) <GET https://www.goodreads.com/book/show/1869.Nickel_and_Dimed> (referer: https://www.goodreads.com/list/show/1.Best_Books_Ever?page=17)\n",
      "2020-05-09 20:12:26 [scrapy.core.engine] DEBUG: Crawled (200) <GET https://www.goodreads.com/book/show/52775419-the-steps> (referer: https://www.goodreads.com/list/show/1.Best_Books_Ever?page=17)\n",
      "2020-05-09 20:12:26 [scrapy.core.engine] DEBUG: Crawled (200) <GET https://www.goodreads.com/book/show/1249630.Os_Maias> (referer: https://www.goodreads.com/list/show/1.Best_Books_Ever?page=17)\n"
     ]
    },
    {
     "name": "stdout",
     "output_type": "stream",
     "text": [
      "Warning: Book missing series (https://www.goodreads.com/book/show/1869.Nickel_and_Dimed).\n",
      "Warning: Book missing series (https://www.goodreads.com/book/show/52775419-the-steps).\n",
      "Warning: Book missing language (https://www.goodreads.com/book/show/52775419-the-steps).\n"
     ]
    },
    {
     "name": "stderr",
     "output_type": "stream",
     "text": [
      "2020-05-09 20:12:27 [scrapy.core.engine] DEBUG: Crawled (200) <GET https://www.goodreads.com/book/show/6837103-the-kitchen-house> (referer: https://www.goodreads.com/list/show/1.Best_Books_Ever?page=17)\n"
     ]
    },
    {
     "name": "stdout",
     "output_type": "stream",
     "text": [
      "Warning: Book missing series (https://www.goodreads.com/book/show/1249630.Os_Maias).\n"
     ]
    },
    {
     "name": "stderr",
     "output_type": "stream",
     "text": [
      "2020-05-09 20:12:27 [scrapy.core.engine] DEBUG: Crawled (200) <GET https://www.goodreads.com/book/show/383206.Wives_and_Daughters> (referer: https://www.goodreads.com/list/show/1.Best_Books_Ever?page=17)\n"
     ]
    },
    {
     "name": "stdout",
     "output_type": "stream",
     "text": [
      "Warning: Book missing series (https://www.goodreads.com/book/show/6837103-the-kitchen-house).\n"
     ]
    },
    {
     "name": "stderr",
     "output_type": "stream",
     "text": [
      "2020-05-09 20:12:27 [scrapy.core.engine] DEBUG: Crawled (200) <GET https://www.goodreads.com/book/show/12558285-splintered> (referer: https://www.goodreads.com/list/show/1.Best_Books_Ever?page=17)\n",
      "2020-05-09 20:12:27 [scrapy.core.engine] DEBUG: Crawled (200) <GET https://www.goodreads.com/book/show/16069030-the-winner-s-curse> (referer: https://www.goodreads.com/list/show/1.Best_Books_Ever?page=17)\n"
     ]
    },
    {
     "name": "stdout",
     "output_type": "stream",
     "text": [
      "Warning: Book missing series (https://www.goodreads.com/book/show/383206.Wives_and_Daughters).\n"
     ]
    },
    {
     "name": "stderr",
     "output_type": "stream",
     "text": [
      "2020-05-09 20:12:28 [scrapy.core.engine] DEBUG: Crawled (200) <GET https://www.goodreads.com/book/show/85443.The_Lords_of_Discipline> (referer: https://www.goodreads.com/list/show/1.Best_Books_Ever?page=17)\n"
     ]
    },
    {
     "name": "stdout",
     "output_type": "stream",
     "text": [
      "Warning: Book missing series (https://www.goodreads.com/book/show/85443.The_Lords_of_Discipline).\n"
     ]
    },
    {
     "name": "stderr",
     "output_type": "stream",
     "text": [
      "2020-05-09 20:12:28 [scrapy.core.engine] DEBUG: Crawled (200) <GET https://www.goodreads.com/book/show/20564.The_Mill_on_the_Floss> (referer: https://www.goodreads.com/list/show/1.Best_Books_Ever?page=17)\n",
      "2020-05-09 20:12:28 [scrapy.core.engine] DEBUG: Crawled (200) <GET https://www.goodreads.com/book/show/44164186-stones> (referer: https://www.goodreads.com/list/show/1.Best_Books_Ever?page=17)\n"
     ]
    },
    {
     "name": "stdout",
     "output_type": "stream",
     "text": [
      "Warning: Book missing series (https://www.goodreads.com/book/show/20564.The_Mill_on_the_Floss).\n",
      "Warning: Missing book original title (https://www.goodreads.com/book/show/44164186-stones).\n",
      "Warning: Book missing series (https://www.goodreads.com/book/show/44164186-stones).\n",
      "Warning: Book missing language (https://www.goodreads.com/book/show/44164186-stones).\n"
     ]
    },
    {
     "name": "stderr",
     "output_type": "stream",
     "text": [
      "2020-05-09 20:12:29 [scrapy.core.engine] DEBUG: Crawled (200) <GET https://www.goodreads.com/book/show/18774964-a-man-called-ove> (referer: https://www.goodreads.com/list/show/1.Best_Books_Ever?page=13)\n",
      "2020-05-09 20:12:29 [scrapy.core.engine] DEBUG: Crawled (200) <GET https://www.goodreads.com/book/show/43933.Tell_No_One> (referer: https://www.goodreads.com/list/show/1.Best_Books_Ever?page=13)\n"
     ]
    },
    {
     "name": "stdout",
     "output_type": "stream",
     "text": [
      "Warning: Book missing series (https://www.goodreads.com/book/show/18774964-a-man-called-ove).\n",
      "Warning: Book missing series (https://www.goodreads.com/book/show/43933.Tell_No_One).\n"
     ]
    },
    {
     "name": "stderr",
     "output_type": "stream",
     "text": [
      "2020-05-09 20:12:30 [scrapy.core.engine] DEBUG: Crawled (200) <GET https://www.goodreads.com/book/show/22242097-honor-and-polygamy> (referer: https://www.goodreads.com/list/show/1.Best_Books_Ever?page=13)\n"
     ]
    },
    {
     "name": "stdout",
     "output_type": "stream",
     "text": [
      "Warning: Missing book original title (https://www.goodreads.com/book/show/22242097-honor-and-polygamy).\n",
      "Warning: Book missing series (https://www.goodreads.com/book/show/22242097-honor-and-polygamy).\n",
      "Warning: Book missing language (https://www.goodreads.com/book/show/22242097-honor-and-polygamy).\n"
     ]
    },
    {
     "name": "stderr",
     "output_type": "stream",
     "text": [
      "2020-05-09 20:12:30 [scrapy.core.engine] DEBUG: Crawled (200) <GET https://www.goodreads.com/book/show/7742.Ahab_s_Wife_or_The_Star_Gazer> (referer: https://www.goodreads.com/list/show/1.Best_Books_Ever?page=13)\n",
      "2020-05-09 20:12:31 [scrapy.core.engine] DEBUG: Crawled (200) <GET https://www.goodreads.com/book/show/12432220-the-false-prince> (referer: https://www.goodreads.com/list/show/1.Best_Books_Ever?page=13)\n"
     ]
    },
    {
     "name": "stdout",
     "output_type": "stream",
     "text": [
      "Warning: Missing book original title (https://www.goodreads.com/book/show/7742.Ahab_s_Wife_or_The_Star_Gazer).\n",
      "Warning: Book missing series (https://www.goodreads.com/book/show/7742.Ahab_s_Wife_or_The_Star_Gazer).\n"
     ]
    },
    {
     "name": "stderr",
     "output_type": "stream",
     "text": [
      "2020-05-09 20:12:31 [scrapy.core.engine] DEBUG: Crawled (200) <GET https://www.goodreads.com/book/show/50365.A_Suitable_Boy> (referer: https://www.goodreads.com/list/show/1.Best_Books_Ever?page=13)\n",
      "2020-05-09 20:12:31 [scrapy.core.engine] DEBUG: Crawled (200) <GET https://www.goodreads.com/book/show/27208.The_Third_Policeman> (referer: https://www.goodreads.com/list/show/1.Best_Books_Ever?page=13)\n",
      "2020-05-09 20:12:32 [scrapy.core.engine] DEBUG: Crawled (200) <GET https://www.goodreads.com/book/show/33724.Can_You_Keep_a_Secret_> (referer: https://www.goodreads.com/list/show/1.Best_Books_Ever?page=13)\n"
     ]
    },
    {
     "name": "stdout",
     "output_type": "stream",
     "text": [
      "Warning: Book missing series (https://www.goodreads.com/book/show/27208.The_Third_Policeman).\n"
     ]
    },
    {
     "name": "stderr",
     "output_type": "stream",
     "text": [
      "2020-05-09 20:12:32 [scrapy.core.engine] DEBUG: Crawled (200) <GET https://www.goodreads.com/book/show/4894.Who_Moved_My_Cheese_> (referer: https://www.goodreads.com/list/show/1.Best_Books_Ever?page=13)\n"
     ]
    },
    {
     "name": "stdout",
     "output_type": "stream",
     "text": [
      "Warning: Missing book original title (https://www.goodreads.com/book/show/33724.Can_You_Keep_a_Secret_).\n",
      "Warning: Book missing series (https://www.goodreads.com/book/show/33724.Can_You_Keep_a_Secret_).\n",
      "Warning: Book missing series (https://www.goodreads.com/book/show/4894.Who_Moved_My_Cheese_).\n"
     ]
    },
    {
     "name": "stderr",
     "output_type": "stream",
     "text": [
      "2020-05-09 20:12:32 [scrapy.core.engine] DEBUG: Crawled (200) <GET https://www.goodreads.com/book/show/112537.Rendezvous_with_Rama> (referer: https://www.goodreads.com/list/show/1.Best_Books_Ever?page=13)\n",
      "2020-05-09 20:12:32 [scrapy.core.engine] DEBUG: Crawled (200) <GET https://www.goodreads.com/book/show/32585.Hunger> (referer: https://www.goodreads.com/list/show/1.Best_Books_Ever?page=13)\n",
      "2020-05-09 20:12:32 [scrapy.core.engine] DEBUG: Crawled (200) <GET https://www.goodreads.com/book/show/20758103-the-ask-and-the-answer> (referer: https://www.goodreads.com/list/show/1.Best_Books_Ever?page=13)\n"
     ]
    },
    {
     "name": "stdout",
     "output_type": "stream",
     "text": [
      "Warning: Book missing series (https://www.goodreads.com/book/show/32585.Hunger).\n"
     ]
    },
    {
     "name": "stderr",
     "output_type": "stream",
     "text": [
      "2020-05-09 20:12:33 [scrapy.core.engine] DEBUG: Crawled (200) <GET https://www.goodreads.com/book/show/21611.The_Forever_War> (referer: https://www.goodreads.com/list/show/1.Best_Books_Ever?page=13)\n",
      "2020-05-09 20:12:34 [scrapy.core.engine] DEBUG: Crawled (200) <GET https://www.goodreads.com/book/show/68783.Girl_Interrupted> (referer: https://www.goodreads.com/list/show/1.Best_Books_Ever?page=13)\n"
     ]
    },
    {
     "name": "stdout",
     "output_type": "stream",
     "text": [
      "Warning: Book missing series (https://www.goodreads.com/book/show/68783.Girl_Interrupted).\n"
     ]
    },
    {
     "name": "stderr",
     "output_type": "stream",
     "text": [
      "2020-05-09 20:12:34 [scrapy.core.engine] DEBUG: Crawled (200) <GET https://www.goodreads.com/book/show/133430.Centennial> (referer: https://www.goodreads.com/list/show/1.Best_Books_Ever?page=13)\n",
      "2020-05-09 20:12:34 [scrapy.core.engine] DEBUG: Crawled (200) <GET https://www.goodreads.com/book/show/8073.Cloudy_With_a_Chance_of_Meatballs> (referer: https://www.goodreads.com/list/show/1.Best_Books_Ever?page=13)\n",
      "2020-05-09 20:12:34 [scrapy.core.engine] DEBUG: Crawled (200) <GET https://www.goodreads.com/book/show/5166.Midwives> (referer: https://www.goodreads.com/list/show/1.Best_Books_Ever?page=13)\n"
     ]
    },
    {
     "name": "stdout",
     "output_type": "stream",
     "text": [
      "Warning: Book missing series (https://www.goodreads.com/book/show/133430.Centennial).\n",
      "Warning: Book missing series (https://www.goodreads.com/book/show/5166.Midwives).\n"
     ]
    },
    {
     "name": "stderr",
     "output_type": "stream",
     "text": [
      "2020-05-09 20:12:35 [scrapy.core.engine] DEBUG: Crawled (200) <GET https://www.goodreads.com/book/show/676737.Grendel> (referer: https://www.goodreads.com/list/show/1.Best_Books_Ever?page=13)\n"
     ]
    },
    {
     "name": "stdout",
     "output_type": "stream",
     "text": [
      "Warning: Book missing series (https://www.goodreads.com/book/show/676737.Grendel).\n"
     ]
    },
    {
     "name": "stderr",
     "output_type": "stream",
     "text": [
      "2020-05-09 20:12:35 [scrapy.core.engine] DEBUG: Crawled (200) <GET https://www.goodreads.com/book/show/25701594-complicate-me> (referer: https://www.goodreads.com/list/show/1.Best_Books_Ever?page=13)\n",
      "2020-05-09 20:12:36 [scrapy.core.engine] DEBUG: Crawled (200) <GET https://www.goodreads.com/book/show/23164983-hollow-city> (referer: https://www.goodreads.com/list/show/1.Best_Books_Ever?page=13)\n",
      "2020-05-09 20:12:36 [scrapy.core.engine] DEBUG: Crawled (200) <GET https://www.goodreads.com/book/show/284440.Skulduggery_Pleasant> (referer: https://www.goodreads.com/list/show/1.Best_Books_Ever?page=13)\n"
     ]
    },
    {
     "name": "stdout",
     "output_type": "stream",
     "text": [
      "Warning: Missing book original title (https://www.goodreads.com/book/show/25701594-complicate-me).\n"
     ]
    },
    {
     "name": "stderr",
     "output_type": "stream",
     "text": [
      "2020-05-09 20:12:36 [scrapy.core.engine] DEBUG: Crawled (200) <GET https://www.goodreads.com/book/show/13312527-the-opportunist> (referer: https://www.goodreads.com/list/show/1.Best_Books_Ever?page=13)\n",
      "2020-05-09 20:12:36 [scrapy.core.engine] DEBUG: Crawled (200) <GET https://www.goodreads.com/book/show/7905092-freedom> (referer: https://www.goodreads.com/list/show/1.Best_Books_Ever?page=13)\n",
      "2020-05-09 20:12:36 [scrapy.core.engine] DEBUG: Crawled (200) <GET https://www.goodreads.com/book/show/15812814-crossed> (referer: https://www.goodreads.com/list/show/1.Best_Books_Ever?page=13)\n"
     ]
    },
    {
     "name": "stdout",
     "output_type": "stream",
     "text": [
      "Warning: Book missing series (https://www.goodreads.com/book/show/7905092-freedom).\n"
     ]
    },
    {
     "name": "stderr",
     "output_type": "stream",
     "text": [
      "2020-05-09 20:12:37 [scrapy.core.engine] DEBUG: Crawled (200) <GET https://www.goodreads.com/book/show/17617277-real> (referer: https://www.goodreads.com/list/show/1.Best_Books_Ever?page=13)\n",
      "2020-05-09 20:12:37 [scrapy.core.engine] DEBUG: Crawled (200) <GET https://www.goodreads.com/book/show/91203.Three_Comrades> (referer: https://www.goodreads.com/list/show/1.Best_Books_Ever?page=13)\n",
      "2020-05-09 20:12:37 [scrapy.core.engine] DEBUG: Crawled (200) <GET https://www.goodreads.com/book/show/5695.Demons> (referer: https://www.goodreads.com/list/show/1.Best_Books_Ever?page=13)\n"
     ]
    },
    {
     "name": "stdout",
     "output_type": "stream",
     "text": [
      "Warning: Book missing series (https://www.goodreads.com/book/show/91203.Three_Comrades).\n",
      "Warning: Missing book original title (https://www.goodreads.com/book/show/5695.Demons).\n",
      "Warning: Book missing series (https://www.goodreads.com/book/show/5695.Demons).\n"
     ]
    },
    {
     "name": "stderr",
     "output_type": "stream",
     "text": [
      "2020-05-09 20:12:38 [scrapy.core.engine] DEBUG: Crawled (200) <GET https://www.goodreads.com/book/show/9539.The_Shadow_Rising> (referer: https://www.goodreads.com/list/show/1.Best_Books_Ever?page=13)\n",
      "2020-05-09 20:12:38 [scrapy.core.engine] DEBUG: Crawled (200) <GET https://www.goodreads.com/book/show/2479827.Eragon_Eldest_Brisingr> (referer: https://www.goodreads.com/list/show/1.Best_Books_Ever?page=13)\n",
      "2020-05-09 20:12:38 [scrapy.core.engine] DEBUG: Crawled (200) <GET https://www.goodreads.com/book/show/7933292-heaven-is-for-real> (referer: https://www.goodreads.com/list/show/1.Best_Books_Ever?page=13)\n",
      "2020-05-09 20:12:38 [scrapy.core.engine] DEBUG: Crawled (200) <GET https://www.goodreads.com/book/show/7278752-dolores-claiborne> (referer: https://www.goodreads.com/list/show/1.Best_Books_Ever?page=13)\n"
     ]
    },
    {
     "name": "stdout",
     "output_type": "stream",
     "text": [
      "Warning: Book missing series (https://www.goodreads.com/book/show/7933292-heaven-is-for-real).\n",
      "Warning: Book missing series (https://www.goodreads.com/book/show/7278752-dolores-claiborne).\n"
     ]
    },
    {
     "name": "stderr",
     "output_type": "stream",
     "text": [
      "2020-05-09 20:12:39 [scrapy.core.engine] DEBUG: Crawled (200) <GET https://www.goodreads.com/book/show/15575.The_Sword_of_Shannara> (referer: https://www.goodreads.com/list/show/1.Best_Books_Ever?page=13)\n",
      "2020-05-09 20:12:39 [scrapy.core.engine] DEBUG: Crawled (200) <GET https://www.goodreads.com/book/show/51019.Cat_s_Eye> (referer: https://www.goodreads.com/list/show/1.Best_Books_Ever?page=13)\n"
     ]
    },
    {
     "name": "stdout",
     "output_type": "stream",
     "text": [
      "Warning: Book missing series (https://www.goodreads.com/book/show/51019.Cat_s_Eye).\n"
     ]
    },
    {
     "name": "stderr",
     "output_type": "stream",
     "text": [
      "2020-05-09 20:12:39 [scrapy.core.engine] DEBUG: Crawled (200) <GET https://www.goodreads.com/book/show/34517.Reaper_Man> (referer: https://www.goodreads.com/list/show/1.Best_Books_Ever?page=13)\n",
      "2020-05-09 20:12:40 [scrapy.core.engine] DEBUG: Crawled (200) <GET https://www.goodreads.com/book/show/95617.A_Voice_in_the_Wind> (referer: https://www.goodreads.com/list/show/1.Best_Books_Ever?page=13)\n",
      "2020-05-09 20:12:40 [scrapy.core.engine] DEBUG: Crawled (200) <GET https://www.goodreads.com/book/show/23395680-illuminae> (referer: https://www.goodreads.com/list/show/1.Best_Books_Ever?page=13)\n",
      "2020-05-09 20:12:41 [scrapy.core.engine] DEBUG: Crawled (200) <GET https://www.goodreads.com/book/show/7572.Even_Cowgirls_Get_the_Blues> (referer: https://www.goodreads.com/list/show/1.Best_Books_Ever?page=13)\n"
     ]
    },
    {
     "name": "stdout",
     "output_type": "stream",
     "text": [
      "Warning: Book missing series (https://www.goodreads.com/book/show/7572.Even_Cowgirls_Get_the_Blues).\n"
     ]
    },
    {
     "name": "stderr",
     "output_type": "stream",
     "text": [
      "2020-05-09 20:12:41 [scrapy.core.engine] DEBUG: Crawled (200) <GET https://www.goodreads.com/book/show/147915.A_Storm_of_Swords> (referer: https://www.goodreads.com/list/show/1.Best_Books_Ever?page=13)\n",
      "2020-05-09 20:12:41 [scrapy.core.engine] DEBUG: Crawled (200) <GET https://www.goodreads.com/book/show/5821978-the-summer-i-turned-pretty> (referer: https://www.goodreads.com/list/show/1.Best_Books_Ever?page=13)\n",
      "2020-05-09 20:12:41 [scrapy.core.engine] DEBUG: Crawled (200) <GET https://www.goodreads.com/book/show/23316548-the-book-of-negroes> (referer: https://www.goodreads.com/list/show/1.Best_Books_Ever?page=13)\n"
     ]
    },
    {
     "name": "stdout",
     "output_type": "stream",
     "text": [
      "Warning: Book missing series (https://www.goodreads.com/book/show/23316548-the-book-of-negroes).\n"
     ]
    },
    {
     "name": "stderr",
     "output_type": "stream",
     "text": [
      "2020-05-09 20:12:42 [scrapy.core.engine] DEBUG: Crawled (200) <GET https://www.goodreads.com/book/show/15731779-entwined-with-you> (referer: https://www.goodreads.com/list/show/1.Best_Books_Ever?page=13)\n",
      "2020-05-09 20:12:42 [scrapy.core.engine] DEBUG: Crawled (200) <GET https://www.goodreads.com/book/show/6609765-out-of-my-mind> (referer: https://www.goodreads.com/list/show/1.Best_Books_Ever?page=13)\n",
      "2020-05-09 20:12:42 [scrapy.core.engine] DEBUG: Crawled (200) <GET https://www.goodreads.com/book/show/56759.The_Mayor_of_Casterbridge> (referer: https://www.goodreads.com/list/show/1.Best_Books_Ever?page=13)\n",
      "2020-05-09 20:12:42 [scrapy.core.engine] DEBUG: Crawled (200) <GET https://www.goodreads.com/book/show/6507691-the-manufactured-identity> (referer: https://www.goodreads.com/list/show/1.Best_Books_Ever?page=13)\n",
      "2020-05-09 20:12:42 [scrapy.core.engine] DEBUG: Crawled (200) <GET https://www.goodreads.com/book/show/38743.All_Things_Bright_and_Beautiful> (referer: https://www.goodreads.com/list/show/1.Best_Books_Ever?page=13)\n"
     ]
    },
    {
     "name": "stdout",
     "output_type": "stream",
     "text": [
      "Warning: Book missing series (https://www.goodreads.com/book/show/6609765-out-of-my-mind).\n",
      "Warning: Book missing series (https://www.goodreads.com/book/show/56759.The_Mayor_of_Casterbridge).\n"
     ]
    },
    {
     "name": "stderr",
     "output_type": "stream",
     "text": [
      "2020-05-09 20:12:43 [scrapy.core.engine] DEBUG: Crawled (200) <GET https://www.goodreads.com/book/show/213753.Life_As_We_Knew_It> (referer: https://www.goodreads.com/list/show/1.Best_Books_Ever?page=13)\n",
      "2020-05-09 20:12:43 [scrapy.core.engine] DEBUG: Crawled (200) <GET https://www.goodreads.com/book/show/6339989-vampire-academy-collection> (referer: https://www.goodreads.com/list/show/1.Best_Books_Ever?page=13)\n",
      "2020-05-09 20:12:43 [scrapy.core.engine] DEBUG: Crawled (200) <GET https://www.goodreads.com/book/show/9659607-the-iron-knight> (referer: https://www.goodreads.com/list/show/1.Best_Books_Ever?page=13)\n",
      "2020-05-09 20:12:43 [scrapy.core.engine] DEBUG: Crawled (200) <GET https://www.goodreads.com/book/show/48464.A_Good_Man_is_Hard_to_Find_and_Other_Stories> (referer: https://www.goodreads.com/list/show/1.Best_Books_Ever?page=13)\n",
      "2020-05-09 20:12:44 [scrapy.core.engine] DEBUG: Crawled (200) <GET https://www.goodreads.com/book/show/5954.Narcissus_and_Goldmund> (referer: https://www.goodreads.com/list/show/1.Best_Books_Ever?page=13)\n"
     ]
    },
    {
     "name": "stdout",
     "output_type": "stream",
     "text": [
      "Warning: Book missing series (https://www.goodreads.com/book/show/48464.A_Good_Man_is_Hard_to_Find_and_Other_Stories).\n",
      "Warning: Book missing series (https://www.goodreads.com/book/show/5954.Narcissus_and_Goldmund).\n"
     ]
    },
    {
     "name": "stderr",
     "output_type": "stream",
     "text": [
      "2020-05-09 20:12:44 [scrapy.core.engine] DEBUG: Crawled (200) <GET https://www.goodreads.com/book/show/23513349-milk-and-honey> (referer: https://www.goodreads.com/list/show/1.Best_Books_Ever?page=13)\n",
      "2020-05-09 20:12:44 [scrapy.core.engine] DEBUG: Crawled (200) <GET https://www.goodreads.com/book/show/21348.Aesop_s_Fables> (referer: https://www.goodreads.com/list/show/1.Best_Books_Ever?page=13)\n",
      "2020-05-09 20:12:44 [scrapy.core.engine] DEBUG: Crawled (200) <GET https://www.goodreads.com/book/show/10626594-the-scorpio-races> (referer: https://www.goodreads.com/list/show/1.Best_Books_Ever?page=13)\n"
     ]
    },
    {
     "name": "stdout",
     "output_type": "stream",
     "text": [
      "Warning: Book missing series (https://www.goodreads.com/book/show/23513349-milk-and-honey).\n",
      "Warning: Book missing series (https://www.goodreads.com/book/show/21348.Aesop_s_Fables).\n",
      "Warning: Book missing description (https://www.goodreads.com/book/show/21348.Aesop_s_Fables).\n",
      "Warning: Book missing series (https://www.goodreads.com/book/show/10626594-the-scorpio-races).\n"
     ]
    },
    {
     "name": "stderr",
     "output_type": "stream",
     "text": [
      "2020-05-09 20:12:45 [scrapy.core.engine] DEBUG: Crawled (200) <GET https://www.goodreads.com/book/show/321645.Kissed_by_an_Angel_The_Power_of_Love_Soulmates> (referer: https://www.goodreads.com/list/show/1.Best_Books_Ever?page=13)\n"
     ]
    },
    {
     "name": "stdout",
     "output_type": "stream",
     "text": [
      "Warning: Missing book original title (https://www.goodreads.com/book/show/321645.Kissed_by_an_Angel_The_Power_of_Love_Soulmates).\n"
     ]
    },
    {
     "name": "stderr",
     "output_type": "stream",
     "text": [
      "2020-05-09 20:12:45 [scrapy.core.engine] DEBUG: Crawled (200) <GET https://www.goodreads.com/book/show/36578942-the-100-year-old-man-who-climbed-out-the-window-and-disappeared> (referer: https://www.goodreads.com/list/show/1.Best_Books_Ever?page=13)\n",
      "2020-05-09 20:12:45 [scrapy.core.engine] DEBUG: Crawled (200) <GET https://www.goodreads.com/book/show/22206.Lullaby> (referer: https://www.goodreads.com/list/show/1.Best_Books_Ever?page=13)\n"
     ]
    },
    {
     "name": "stdout",
     "output_type": "stream",
     "text": [
      "Warning: Book missing series (https://www.goodreads.com/book/show/22206.Lullaby).\n"
     ]
    },
    {
     "name": "stderr",
     "output_type": "stream",
     "text": [
      "2020-05-09 20:12:46 [scrapy.core.engine] DEBUG: Crawled (200) <GET https://www.goodreads.com/book/show/5267365-don-t-judge-a-girl-by-her-cover> (referer: https://www.goodreads.com/list/show/1.Best_Books_Ever?page=13)\n",
      "2020-05-09 20:12:46 [scrapy.core.engine] DEBUG: Crawled (200) <GET https://www.goodreads.com/book/show/18452.The_Painted_Bird> (referer: https://www.goodreads.com/list/show/1.Best_Books_Ever?page=13)\n"
     ]
    },
    {
     "name": "stdout",
     "output_type": "stream",
     "text": [
      "Warning: Book missing series (https://www.goodreads.com/book/show/18452.The_Painted_Bird).\n"
     ]
    },
    {
     "name": "stderr",
     "output_type": "stream",
     "text": [
      "2020-05-09 20:12:47 [scrapy.core.engine] DEBUG: Crawled (200) <GET https://www.goodreads.com/book/show/17717.Labyrinths> (referer: https://www.goodreads.com/list/show/1.Best_Books_Ever?page=13)\n",
      "2020-05-09 20:12:47 [scrapy.core.engine] DEBUG: Crawled (200) <GET https://www.goodreads.com/book/show/95558.Solaris> (referer: https://www.goodreads.com/list/show/1.Best_Books_Ever?page=13)\n"
     ]
    },
    {
     "name": "stdout",
     "output_type": "stream",
     "text": [
      "Warning: Book missing series (https://www.goodreads.com/book/show/17717.Labyrinths).\n"
     ]
    },
    {
     "name": "stderr",
     "output_type": "stream",
     "text": [
      "2020-05-09 20:12:47 [scrapy.core.engine] DEBUG: Crawled (200) <GET https://www.goodreads.com/book/show/389627.Diary_of_a_Wimpy_Kid> (referer: https://www.goodreads.com/list/show/1.Best_Books_Ever?page=13)\n"
     ]
    },
    {
     "name": "stdout",
     "output_type": "stream",
     "text": [
      "Warning: Missing book original title (https://www.goodreads.com/book/show/95558.Solaris).\n",
      "Warning: Book missing series (https://www.goodreads.com/book/show/95558.Solaris).\n"
     ]
    },
    {
     "name": "stderr",
     "output_type": "stream",
     "text": [
      "2020-05-09 20:12:48 [scrapy.core.engine] DEBUG: Crawled (200) <GET https://www.goodreads.com/book/show/10204213-the-traitor-s-emblem> (referer: https://www.goodreads.com/list/show/1.Best_Books_Ever?page=13)\n"
     ]
    },
    {
     "name": "stdout",
     "output_type": "stream",
     "text": [
      "Warning: Book missing series (https://www.goodreads.com/book/show/10204213-the-traitor-s-emblem).\n"
     ]
    },
    {
     "name": "stderr",
     "output_type": "stream",
     "text": [
      "2020-05-09 20:12:48 [scrapy.core.engine] DEBUG: Crawled (200) <GET https://www.goodreads.com/book/show/517188.The_Prime_of_Miss_Jean_Brodie> (referer: https://www.goodreads.com/list/show/1.Best_Books_Ever?page=13)\n",
      "2020-05-09 20:12:48 [scrapy.core.engine] DEBUG: Crawled (200) <GET https://www.goodreads.com/book/show/13497818-the-casual-vacancy> (referer: https://www.goodreads.com/list/show/1.Best_Books_Ever?page=13)\n"
     ]
    },
    {
     "name": "stdout",
     "output_type": "stream",
     "text": [
      "Warning: Book missing series (https://www.goodreads.com/book/show/517188.The_Prime_of_Miss_Jean_Brodie).\n",
      "Warning: Book missing series (https://www.goodreads.com/book/show/13497818-the-casual-vacancy).\n"
     ]
    },
    {
     "name": "stderr",
     "output_type": "stream",
     "text": [
      "2020-05-09 20:12:49 [scrapy.core.engine] DEBUG: Crawled (200) <GET https://www.goodreads.com/book/show/34084.The_Waste_Lands> (referer: https://www.goodreads.com/list/show/1.Best_Books_Ever?page=13)\n",
      "2020-05-09 20:12:49 [scrapy.core.engine] DEBUG: Crawled (200) <GET https://www.goodreads.com/book/show/43015.A_Long_Way_Gone> (referer: https://www.goodreads.com/list/show/1.Best_Books_Ever?page=13)\n",
      "2020-05-09 20:12:49 [scrapy.core.engine] DEBUG: Crawled (200) <GET https://www.goodreads.com/book/show/597790.The_Children_of_H_rin> (referer: https://www.goodreads.com/list/show/1.Best_Books_Ever?page=13)\n",
      "2020-05-09 20:12:49 [scrapy.core.engine] DEBUG: Crawled (200) <GET https://www.goodreads.com/book/show/10194514-pushing-the-limits> (referer: https://www.goodreads.com/list/show/1.Best_Books_Ever?page=13)\n"
     ]
    },
    {
     "name": "stdout",
     "output_type": "stream",
     "text": [
      "Warning: Book missing series (https://www.goodreads.com/book/show/43015.A_Long_Way_Gone).\n"
     ]
    },
    {
     "name": "stderr",
     "output_type": "stream",
     "text": [
      "2020-05-09 20:12:50 [scrapy.core.engine] DEBUG: Crawled (200) <GET https://www.goodreads.com/book/show/44659.Pawn_of_Prophecy> (referer: https://www.goodreads.com/list/show/1.Best_Books_Ever?page=13)\n",
      "2020-05-09 20:12:50 [scrapy.core.engine] DEBUG: Crawled (200) <GET https://www.goodreads.com/book/show/14554.If_Tomorrow_Comes> (referer: https://www.goodreads.com/list/show/1.Best_Books_Ever?page=13)\n",
      "2020-05-09 20:12:50 [scrapy.core.engine] DEBUG: Crawled (200) <GET https://www.goodreads.com/book/show/13639050-gabriel-s-rapture> (referer: https://www.goodreads.com/list/show/1.Best_Books_Ever?page=13)\n",
      "2020-05-09 20:12:51 [scrapy.core.engine] DEBUG: Crawled (200) <GET https://www.goodreads.com/book/show/82192.The_Crystal_Cave> (referer: https://www.goodreads.com/list/show/1.Best_Books_Ever?page=13)\n",
      "2020-05-09 20:12:52 [scrapy.core.engine] DEBUG: Crawled (200) <GET https://www.goodreads.com/book/show/261122.The_Dead_Girls_Dance> (referer: https://www.goodreads.com/list/show/1.Best_Books_Ever?page=13)\n",
      "2020-05-09 20:12:52 [scrapy.core.engine] DEBUG: Crawled (200) <GET https://www.goodreads.com/book/show/12812550-days-of-blood-starlight> (referer: https://www.goodreads.com/list/show/1.Best_Books_Ever?page=13)\n",
      "2020-05-09 20:12:52 [scrapy.core.engine] DEBUG: Crawled (200) <GET https://www.goodreads.com/book/show/38501.Ham_on_Rye> (referer: https://www.goodreads.com/list/show/1.Best_Books_Ever?page=13)\n"
     ]
    },
    {
     "name": "stdout",
     "output_type": "stream",
     "text": [
      "Warning: Book missing series (https://www.goodreads.com/book/show/38501.Ham_on_Rye).\n"
     ]
    },
    {
     "name": "stderr",
     "output_type": "stream",
     "text": [
      "2020-05-09 20:12:53 [scrapy.core.engine] DEBUG: Crawled (200) <GET https://www.goodreads.com/book/show/12893742-the-serpent-s-shadow> (referer: https://www.goodreads.com/list/show/1.Best_Books_Ever?page=13)\n",
      "2020-05-09 20:12:53 [scrapy.core.engine] DEBUG: Crawled (200) <GET https://www.goodreads.com/book/show/13530588-china-blues> (referer: https://www.goodreads.com/list/show/1.Best_Books_Ever?page=13)\n",
      "2020-05-09 20:12:53 [scrapy.core.engine] DEBUG: Crawled (200) <GET https://www.goodreads.com/book/show/29641.The_End_of_the_Affair> (referer: https://www.goodreads.com/list/show/1.Best_Books_Ever?page=12)\n",
      "2020-05-09 20:12:53 [scrapy.core.engine] DEBUG: Crawled (200) <GET https://www.goodreads.com/book/show/17347389-the-dream-thieves> (referer: https://www.goodreads.com/list/show/1.Best_Books_Ever?page=12)\n"
     ]
    },
    {
     "name": "stdout",
     "output_type": "stream",
     "text": [
      "Warning: Book missing series (https://www.goodreads.com/book/show/13530588-china-blues).\n",
      "Warning: Book missing series (https://www.goodreads.com/book/show/29641.The_End_of_the_Affair).\n"
     ]
    },
    {
     "name": "stderr",
     "output_type": "stream",
     "text": [
      "2020-05-09 20:12:54 [scrapy.core.engine] DEBUG: Crawled (200) <GET https://www.goodreads.com/book/show/767680.If_You_Give_a_Mouse_a_Cookie> (referer: https://www.goodreads.com/list/show/1.Best_Books_Ever?page=12)\n",
      "2020-05-09 20:12:54 [scrapy.core.engine] DEBUG: Crawled (200) <GET https://www.goodreads.com/book/show/429138.River_God> (referer: https://www.goodreads.com/list/show/1.Best_Books_Ever?page=12)\n",
      "2020-05-09 20:12:54 [scrapy.core.engine] DEBUG: Crawled (200) <GET https://www.goodreads.com/book/show/5152478-wintergirls> (referer: https://www.goodreads.com/list/show/1.Best_Books_Ever?page=12)\n",
      "2020-05-09 20:12:54 [scrapy.core.engine] DEBUG: Crawled (200) <GET https://www.goodreads.com/book/show/64216.Guards_Guards_> (referer: https://www.goodreads.com/list/show/1.Best_Books_Ever?page=12)\n",
      "2020-05-09 20:12:54 [scrapy.core.engine] DEBUG: Crawled (200) <GET https://www.goodreads.com/book/show/827.The_Diamond_Age> (referer: https://www.goodreads.com/list/show/1.Best_Books_Ever?page=12)\n"
     ]
    },
    {
     "name": "stdout",
     "output_type": "stream",
     "text": [
      "Warning: Book missing series (https://www.goodreads.com/book/show/5152478-wintergirls).\n",
      "Warning: Book missing series (https://www.goodreads.com/book/show/827.The_Diamond_Age).\n"
     ]
    },
    {
     "name": "stderr",
     "output_type": "stream",
     "text": [
      "2020-05-09 20:12:55 [scrapy.core.engine] DEBUG: Crawled (200) <GET https://www.goodreads.com/book/show/567704.Imajica> (referer: https://www.goodreads.com/list/show/1.Best_Books_Ever?page=12)\n",
      "2020-05-09 20:12:55 [scrapy.core.engine] DEBUG: Crawled (200) <GET https://www.goodreads.com/book/show/270805.Impulse> (referer: https://www.goodreads.com/list/show/1.Best_Books_Ever?page=12)\n",
      "2020-05-09 20:12:55 [scrapy.core.engine] DEBUG: Crawled (200) <GET https://www.goodreads.com/book/show/227651.Among_the_Hidden> (referer: https://www.goodreads.com/list/show/1.Best_Books_Ever?page=12)\n"
     ]
    },
    {
     "name": "stdout",
     "output_type": "stream",
     "text": [
      "Warning: Book missing series (https://www.goodreads.com/book/show/567704.Imajica).\n"
     ]
    },
    {
     "name": "stderr",
     "output_type": "stream",
     "text": [
      "2020-05-09 20:12:56 [scrapy.core.engine] DEBUG: Crawled (200) <GET https://www.goodreads.com/book/show/12781.The_Satanic_Verses> (referer: https://www.goodreads.com/list/show/1.Best_Books_Ever?page=12)\n",
      "2020-05-09 20:12:56 [scrapy.core.engine] DEBUG: Crawled (200) <GET https://www.goodreads.com/book/show/4070493-need> (referer: https://www.goodreads.com/list/show/1.Best_Books_Ever?page=12)\n"
     ]
    },
    {
     "name": "stdout",
     "output_type": "stream",
     "text": [
      "Warning: Book missing series (https://www.goodreads.com/book/show/12781.The_Satanic_Verses).\n"
     ]
    },
    {
     "name": "stderr",
     "output_type": "stream",
     "text": [
      "2020-05-09 20:12:57 [scrapy.core.engine] DEBUG: Crawled (200) <GET https://www.goodreads.com/book/show/1768603.The_White_Tiger> (referer: https://www.goodreads.com/list/show/1.Best_Books_Ever?page=12)\n"
     ]
    },
    {
     "name": "stdout",
     "output_type": "stream",
     "text": [
      "Warning: Book missing series (https://www.goodreads.com/book/show/1768603.The_White_Tiger).\n"
     ]
    },
    {
     "name": "stderr",
     "output_type": "stream",
     "text": [
      "2020-05-09 20:12:57 [scrapy.core.engine] DEBUG: Crawled (200) <GET https://www.goodreads.com/book/show/3428935-the-warded-man> (referer: https://www.goodreads.com/list/show/1.Best_Books_Ever?page=12)\n",
      "2020-05-09 20:12:57 [scrapy.core.engine] DEBUG: Crawled (200) <GET https://www.goodreads.com/book/show/2832909-an-echo-in-the-bone> (referer: https://www.goodreads.com/list/show/1.Best_Books_Ever?page=12)\n",
      "2020-05-09 20:12:58 [scrapy.core.engine] DEBUG: Crawled (200) <GET https://www.goodreads.com/book/show/68427.Elantris> (referer: https://www.goodreads.com/list/show/1.Best_Books_Ever?page=12)\n",
      "2020-05-09 20:12:58 [scrapy.core.engine] DEBUG: Crawled (200) <GET https://www.goodreads.com/book/show/175675.Ragtime> (referer: https://www.goodreads.com/list/show/1.Best_Books_Ever?page=12)\n",
      "2020-05-09 20:12:59 [scrapy.core.engine] DEBUG: Crawled (200) <GET https://www.goodreads.com/book/show/331319.An_American_Tragedy> (referer: https://www.goodreads.com/list/show/1.Best_Books_Ever?page=12)\n"
     ]
    },
    {
     "name": "stdout",
     "output_type": "stream",
     "text": [
      "Warning: Book missing series (https://www.goodreads.com/book/show/175675.Ragtime).\n",
      "Warning: Book missing series (https://www.goodreads.com/book/show/331319.An_American_Tragedy).\n",
      "Warning: Book missing description (https://www.goodreads.com/book/show/331319.An_American_Tragedy).\n"
     ]
    },
    {
     "name": "stderr",
     "output_type": "stream",
     "text": [
      "2020-05-09 20:12:59 [scrapy.core.engine] DEBUG: Crawled (200) <GET https://www.goodreads.com/book/show/42156.Something_Borrowed> (referer: https://www.goodreads.com/list/show/1.Best_Books_Ever?page=12)\n",
      "2020-05-09 20:12:59 [scrapy.core.engine] DEBUG: Crawled (200) <GET https://www.goodreads.com/book/show/41899.Fantastic_Beasts_and_Where_to_Find_Them> (referer: https://www.goodreads.com/list/show/1.Best_Books_Ever?page=12)\n",
      "2020-05-09 20:12:59 [scrapy.core.engine] DEBUG: Crawled (200) <GET https://www.goodreads.com/book/show/113304.The_Thief_Lord> (referer: https://www.goodreads.com/list/show/1.Best_Books_Ever?page=12)\n",
      "2020-05-09 20:12:59 [scrapy.extensions.logstats] INFO: Crawled 553 pages (at 192 pages/min), scraped 0 items (at 0 items/min)\n",
      "2020-05-09 20:12:59 [scrapy.core.engine] DEBUG: Crawled (200) <GET https://www.goodreads.com/book/show/4921.Three_Men_in_a_Boat> (referer: https://www.goodreads.com/list/show/1.Best_Books_Ever?page=12)\n"
     ]
    },
    {
     "name": "stdout",
     "output_type": "stream",
     "text": [
      "Warning: Book missing series (https://www.goodreads.com/book/show/113304.The_Thief_Lord).\n"
     ]
    },
    {
     "name": "stderr",
     "output_type": "stream",
     "text": [
      "2020-05-09 20:13:00 [scrapy.core.engine] DEBUG: Crawled (200) <GET https://www.goodreads.com/book/show/42603.Black_Like_Me> (referer: https://www.goodreads.com/list/show/1.Best_Books_Ever?page=12)\n",
      "2020-05-09 20:13:00 [scrapy.core.engine] DEBUG: Crawled (200) <GET https://www.goodreads.com/book/show/270807.Burned> (referer: https://www.goodreads.com/list/show/1.Best_Books_Ever?page=12)\n"
     ]
    },
    {
     "name": "stdout",
     "output_type": "stream",
     "text": [
      "Warning: Book missing series (https://www.goodreads.com/book/show/42603.Black_Like_Me).\n"
     ]
    },
    {
     "name": "stderr",
     "output_type": "stream",
     "text": [
      "2020-05-09 20:13:01 [scrapy.core.engine] DEBUG: Crawled (200) <GET https://www.goodreads.com/book/show/1971304.City_of_Thieves> (referer: https://www.goodreads.com/list/show/1.Best_Books_Ever?page=12)\n",
      "2020-05-09 20:13:01 [scrapy.core.engine] DEBUG: Crawled (200) <GET https://www.goodreads.com/book/show/4796.The_Winter_of_Our_Discontent> (referer: https://www.goodreads.com/list/show/1.Best_Books_Ever?page=12)\n",
      "2020-05-09 20:13:01 [scrapy.core.engine] DEBUG: Crawled (200) <GET https://www.goodreads.com/book/show/30672.Darkness_at_Noon> (referer: https://www.goodreads.com/list/show/1.Best_Books_Ever?page=12)\n"
     ]
    },
    {
     "name": "stdout",
     "output_type": "stream",
     "text": [
      "Warning: Book missing series (https://www.goodreads.com/book/show/1971304.City_of_Thieves).\n",
      "Warning: Book missing series (https://www.goodreads.com/book/show/4796.The_Winter_of_Our_Discontent).\n",
      "Warning: Book missing series (https://www.goodreads.com/book/show/30672.Darkness_at_Noon).\n"
     ]
    },
    {
     "name": "stderr",
     "output_type": "stream",
     "text": [
      "2020-05-09 20:13:01 [scrapy.core.engine] DEBUG: Crawled (200) <GET https://www.goodreads.com/book/show/4912857-the-angel-s-game> (referer: https://www.goodreads.com/list/show/1.Best_Books_Ever?page=12)\n",
      "2020-05-09 20:13:01 [scrapy.core.engine] DEBUG: Crawled (200) <GET https://www.goodreads.com/book/show/68494.Perdido_Street_Station> (referer: https://www.goodreads.com/list/show/1.Best_Books_Ever?page=12)\n",
      "2020-05-09 20:13:02 [scrapy.core.engine] DEBUG: Crawled (200) <GET https://www.goodreads.com/book/show/7849341-tiger-s-voyage> (referer: https://www.goodreads.com/list/show/1.Best_Books_Ever?page=12)\n",
      "2020-05-09 20:13:02 [scrapy.core.engine] DEBUG: Crawled (200) <GET https://www.goodreads.com/book/show/7315573-fall-of-giants> (referer: https://www.goodreads.com/list/show/1.Best_Books_Ever?page=12)\n",
      "2020-05-09 20:13:02 [scrapy.core.engine] DEBUG: Crawled (200) <GET https://www.goodreads.com/book/show/46306.The_Complete_Fairy_Tales> (referer: https://www.goodreads.com/list/show/1.Best_Books_Ever?page=12)\n",
      "2020-05-09 20:13:03 [scrapy.core.engine] DEBUG: Crawled (200) <GET https://www.goodreads.com/book/show/130580.Old_Yeller> (referer: https://www.goodreads.com/list/show/1.Best_Books_Ever?page=12)\n",
      "2020-05-09 20:13:03 [scrapy.core.engine] DEBUG: Crawled (200) <GET https://www.goodreads.com/book/show/2612.The_Tipping_Point> (referer: https://www.goodreads.com/list/show/1.Best_Books_Ever?page=12)\n",
      "2020-05-09 20:13:03 [scrapy.core.engine] DEBUG: Crawled (200) <GET https://www.goodreads.com/book/show/42447688-the-scopas-factor> (referer: https://www.goodreads.com/list/show/1.Best_Books_Ever?page=12)\n"
     ]
    },
    {
     "name": "stdout",
     "output_type": "stream",
     "text": [
      "Warning: Book missing series (https://www.goodreads.com/book/show/2612.The_Tipping_Point).\n",
      "Warning: Missing book original title (https://www.goodreads.com/book/show/42447688-the-scopas-factor).\n",
      "Warning: Book missing series (https://www.goodreads.com/book/show/42447688-the-scopas-factor).\n",
      "Warning: Book missing language (https://www.goodreads.com/book/show/42447688-the-scopas-factor).\n"
     ]
    },
    {
     "name": "stderr",
     "output_type": "stream",
     "text": [
      "2020-05-09 20:13:03 [scrapy.core.engine] DEBUG: Crawled (200) <GET https://www.goodreads.com/book/show/1412138.Iron_Kissed> (referer: https://www.goodreads.com/list/show/1.Best_Books_Ever?page=12)\n",
      "2020-05-09 20:13:04 [scrapy.core.engine] DEBUG: Crawled (200) <GET https://www.goodreads.com/book/show/22288.Haunted> (referer: https://www.goodreads.com/list/show/1.Best_Books_Ever?page=12)\n"
     ]
    },
    {
     "name": "stdout",
     "output_type": "stream",
     "text": [
      "Warning: Book missing series (https://www.goodreads.com/book/show/22288.Haunted).\n"
     ]
    },
    {
     "name": "stderr",
     "output_type": "stream",
     "text": [
      "2020-05-09 20:13:04 [scrapy.core.engine] DEBUG: Crawled (200) <GET https://www.goodreads.com/book/show/4952.What_Is_the_What> (referer: https://www.goodreads.com/list/show/1.Best_Books_Ever?page=12)\n"
     ]
    },
    {
     "name": "stdout",
     "output_type": "stream",
     "text": [
      "Warning: Book missing series (https://www.goodreads.com/book/show/4952.What_Is_the_What).\n"
     ]
    },
    {
     "name": "stderr",
     "output_type": "stream",
     "text": [
      "2020-05-09 20:13:04 [scrapy.core.engine] DEBUG: Crawled (200) <GET https://www.goodreads.com/book/show/538845.Quo_Vadis> (referer: https://www.goodreads.com/list/show/1.Best_Books_Ever?page=12)\n",
      "2020-05-09 20:13:05 [scrapy.core.engine] DEBUG: Crawled (200) <GET https://www.goodreads.com/book/show/8705784-born-at-midnight> (referer: https://www.goodreads.com/list/show/1.Best_Books_Ever?page=12)\n"
     ]
    },
    {
     "name": "stdout",
     "output_type": "stream",
     "text": [
      "Warning: Book missing series (https://www.goodreads.com/book/show/538845.Quo_Vadis).\n"
     ]
    },
    {
     "name": "stderr",
     "output_type": "stream",
     "text": [
      "2020-05-09 20:13:05 [scrapy.core.engine] DEBUG: Crawled (200) <GET https://www.goodreads.com/book/show/2321296.Ink_Exchange> (referer: https://www.goodreads.com/list/show/1.Best_Books_Ever?page=12)\n",
      "2020-05-09 20:13:05 [scrapy.core.engine] DEBUG: Crawled (200) <GET https://www.goodreads.com/book/show/12716010-rapture> (referer: https://www.goodreads.com/list/show/1.Best_Books_Ever?page=12)\n",
      "2020-05-09 20:13:06 [scrapy.core.engine] DEBUG: Crawled (200) <GET https://www.goodreads.com/book/show/6604794-the-sky-is-everywhere> (referer: https://www.goodreads.com/list/show/1.Best_Books_Ever?page=12)\n"
     ]
    },
    {
     "name": "stdout",
     "output_type": "stream",
     "text": [
      "Warning: Book missing series (https://www.goodreads.com/book/show/6604794-the-sky-is-everywhere).\n"
     ]
    },
    {
     "name": "stderr",
     "output_type": "stream",
     "text": [
      "2020-05-09 20:13:06 [scrapy.core.engine] DEBUG: Crawled (200) <GET https://www.goodreads.com/book/show/13376.The_House_of_the_Scorpion> (referer: https://www.goodreads.com/list/show/1.Best_Books_Ever?page=12)\n",
      "2020-05-09 20:13:06 [scrapy.core.engine] DEBUG: Crawled (200) <GET https://www.goodreads.com/book/show/76527.The_Life_and_Opinions_of_Tristram_Shandy_Gentleman> (referer: https://www.goodreads.com/list/show/1.Best_Books_Ever?page=12)\n",
      "2020-05-09 20:13:07 [scrapy.core.engine] DEBUG: Crawled (200) <GET https://www.goodreads.com/book/show/77392.Anne_of_the_Island> (referer: https://www.goodreads.com/list/show/1.Best_Books_Ever?page=12)\n"
     ]
    },
    {
     "name": "stdout",
     "output_type": "stream",
     "text": [
      "Warning: Book missing series (https://www.goodreads.com/book/show/76527.The_Life_and_Opinions_of_Tristram_Shandy_Gentleman).\n"
     ]
    },
    {
     "name": "stderr",
     "output_type": "stream",
     "text": [
      "2020-05-09 20:13:07 [scrapy.core.engine] DEBUG: Crawled (200) <GET https://www.goodreads.com/book/show/493456.Extras> (referer: https://www.goodreads.com/list/show/1.Best_Books_Ever?page=12)\n",
      "2020-05-09 20:13:07 [scrapy.core.engine] DEBUG: Crawled (200) <GET https://www.goodreads.com/book/show/34053.Just_So_Stories> (referer: https://www.goodreads.com/list/show/1.Best_Books_Ever?page=12)\n"
     ]
    },
    {
     "name": "stdout",
     "output_type": "stream",
     "text": [
      "Warning: Book missing series (https://www.goodreads.com/book/show/34053.Just_So_Stories).\n"
     ]
    },
    {
     "name": "stderr",
     "output_type": "stream",
     "text": [
      "2020-05-09 20:13:08 [scrapy.core.engine] DEBUG: Crawled (200) <GET https://www.goodreads.com/book/show/1715.Metamorphoses> (referer: https://www.goodreads.com/list/show/1.Best_Books_Ever?page=12)\n",
      "2020-05-09 20:13:08 [scrapy.core.engine] DEBUG: Crawled (200) <GET https://www.goodreads.com/book/show/56034.The_French_Lieutenant_s_Woman> (referer: https://www.goodreads.com/list/show/1.Best_Books_Ever?page=12)\n"
     ]
    },
    {
     "name": "stdout",
     "output_type": "stream",
     "text": [
      "Warning: Book missing series (https://www.goodreads.com/book/show/1715.Metamorphoses).\n",
      "Warning: Book missing series (https://www.goodreads.com/book/show/56034.The_French_Lieutenant_s_Woman).\n"
     ]
    },
    {
     "name": "stderr",
     "output_type": "stream",
     "text": [
      "2020-05-09 20:13:08 [scrapy.core.engine] DEBUG: Crawled (200) <GET https://www.goodreads.com/book/show/13328554-the-pandarus-file> (referer: https://www.goodreads.com/list/show/1.Best_Books_Ever?page=12)\n",
      "2020-05-09 20:13:08 [scrapy.core.engine] DEBUG: Crawled (200) <GET https://www.goodreads.com/book/show/479309.Naked_in_Death> (referer: https://www.goodreads.com/list/show/1.Best_Books_Ever?page=12)\n"
     ]
    },
    {
     "name": "stdout",
     "output_type": "stream",
     "text": [
      "Warning: Missing book original title (https://www.goodreads.com/book/show/13328554-the-pandarus-file).\n",
      "Warning: Book missing series (https://www.goodreads.com/book/show/13328554-the-pandarus-file).\n"
     ]
    },
    {
     "name": "stderr",
     "output_type": "stream",
     "text": [
      "2020-05-09 20:13:09 [scrapy.core.engine] DEBUG: Crawled (200) <GET https://www.goodreads.com/book/show/407813.The_Blue_Sword> (referer: https://www.goodreads.com/list/show/1.Best_Books_Ever?page=12)\n",
      "2020-05-09 20:13:09 [scrapy.core.engine] DEBUG: Crawled (200) <GET https://www.goodreads.com/book/show/1162543.Breaking_Dawn> (referer: https://www.goodreads.com/list/show/1.Best_Books_Ever?page=12)\n",
      "2020-05-09 20:13:10 [scrapy.core.engine] DEBUG: Crawled (200) <GET https://www.goodreads.com/book/show/6408862-stolen> (referer: https://www.goodreads.com/list/show/1.Best_Books_Ever?page=12)\n",
      "2020-05-09 20:13:10 [scrapy.core.engine] DEBUG: Crawled (200) <GET https://www.goodreads.com/book/show/76334.A_New_Earth> (referer: https://www.goodreads.com/list/show/1.Best_Books_Ever?page=12)\n"
     ]
    },
    {
     "name": "stdout",
     "output_type": "stream",
     "text": [
      "Warning: Book missing series (https://www.goodreads.com/book/show/6408862-stolen).\n"
     ]
    },
    {
     "name": "stderr",
     "output_type": "stream",
     "text": [
      "2020-05-09 20:13:10 [scrapy.core.engine] DEBUG: Crawled (200) <GET https://www.goodreads.com/book/show/68210.Gilead> (referer: https://www.goodreads.com/list/show/1.Best_Books_Ever?page=12)\n"
     ]
    },
    {
     "name": "stdout",
     "output_type": "stream",
     "text": [
      "Warning: Book missing series (https://www.goodreads.com/book/show/76334.A_New_Earth).\n"
     ]
    },
    {
     "name": "stderr",
     "output_type": "stream",
     "text": [
      "2020-05-09 20:13:11 [scrapy.core.engine] DEBUG: Crawled (200) <GET https://www.goodreads.com/book/show/1158967.Garden_Spells> (referer: https://www.goodreads.com/list/show/1.Best_Books_Ever?page=12)\n",
      "2020-05-09 20:13:11 [scrapy.core.engine] DEBUG: Crawled (200) <GET https://www.goodreads.com/book/show/428263.Eclipse> (referer: https://www.goodreads.com/list/show/1.Best_Books_Ever?page=12)\n",
      "2020-05-09 20:13:11 [scrapy.core.engine] DEBUG: Crawled (200) <GET https://www.goodreads.com/book/show/337113.The_Tenant_of_Wildfell_Hall> (referer: https://www.goodreads.com/list/show/1.Best_Books_Ever?page=12)\n",
      "2020-05-09 20:13:12 [scrapy.core.engine] DEBUG: Crawled (200) <GET https://www.goodreads.com/book/show/17314430-wait-for-you> (referer: https://www.goodreads.com/list/show/1.Best_Books_Ever?page=12)\n"
     ]
    },
    {
     "name": "stdout",
     "output_type": "stream",
     "text": [
      "Warning: Book missing series (https://www.goodreads.com/book/show/337113.The_Tenant_of_Wildfell_Hall).\n"
     ]
    },
    {
     "name": "stderr",
     "output_type": "stream",
     "text": [
      "2020-05-09 20:13:12 [scrapy.core.engine] DEBUG: Crawled (200) <GET https://www.goodreads.com/book/show/95693.The_Blue_Castle> (referer: https://www.goodreads.com/list/show/1.Best_Books_Ever?page=12)\n"
     ]
    },
    {
     "name": "stdout",
     "output_type": "stream",
     "text": [
      "Warning: Book missing series (https://www.goodreads.com/book/show/95693.The_Blue_Castle).\n"
     ]
    },
    {
     "name": "stderr",
     "output_type": "stream",
     "text": [
      "2020-05-09 20:13:12 [scrapy.core.engine] DEBUG: Crawled (200) <GET https://www.goodreads.com/book/show/30201299-el-diablo> (referer: https://www.goodreads.com/list/show/1.Best_Books_Ever?page=12)\n",
      "2020-05-09 20:13:13 [scrapy.core.engine] DEBUG: Crawled (200) <GET https://www.goodreads.com/book/show/3393124-max> (referer: https://www.goodreads.com/list/show/1.Best_Books_Ever?page=12)\n",
      "2020-05-09 20:13:13 [scrapy.core.engine] DEBUG: Crawled (200) <GET https://www.goodreads.com/book/show/12172.Memoirs_of_Hadrian> (referer: https://www.goodreads.com/list/show/1.Best_Books_Ever?page=12)\n"
     ]
    },
    {
     "name": "stdout",
     "output_type": "stream",
     "text": [
      "Warning: Book missing series (https://www.goodreads.com/book/show/12172.Memoirs_of_Hadrian).\n"
     ]
    },
    {
     "name": "stderr",
     "output_type": "stream",
     "text": [
      "2020-05-09 20:13:13 [scrapy.core.engine] DEBUG: Crawled (200) <GET https://www.goodreads.com/book/show/166997.Stoner> (referer: https://www.goodreads.com/list/show/1.Best_Books_Ever?page=12)\n",
      "2020-05-09 20:13:13 [scrapy.core.engine] DEBUG: Crawled (200) <GET https://www.goodreads.com/book/show/13539044-the-silver-linings-playbook> (referer: https://www.goodreads.com/list/show/1.Best_Books_Ever?page=12)\n"
     ]
    },
    {
     "name": "stdout",
     "output_type": "stream",
     "text": [
      "Warning: Book missing series (https://www.goodreads.com/book/show/166997.Stoner).\n",
      "Warning: Book missing series (https://www.goodreads.com/book/show/13539044-the-silver-linings-playbook).\n"
     ]
    },
    {
     "name": "stderr",
     "output_type": "stream",
     "text": [
      "2020-05-09 20:13:14 [scrapy.core.engine] DEBUG: Crawled (200) <GET https://www.goodreads.com/book/show/7842288-beautiful-darkness> (referer: https://www.goodreads.com/list/show/1.Best_Books_Ever?page=12)\n",
      "2020-05-09 20:13:14 [scrapy.core.engine] DEBUG: Crawled (200) <GET https://www.goodreads.com/book/show/17340050-losing-hope> (referer: https://www.goodreads.com/list/show/1.Best_Books_Ever?page=12)\n",
      "2020-05-09 20:13:15 [scrapy.core.engine] DEBUG: Crawled (200) <GET https://www.goodreads.com/book/show/38980.The_Princess_Diaries> (referer: https://www.goodreads.com/list/show/1.Best_Books_Ever?page=12)\n",
      "2020-05-09 20:13:15 [scrapy.core.engine] DEBUG: Crawled (200) <GET https://www.goodreads.com/book/show/38619.Magic_Bites> (referer: https://www.goodreads.com/list/show/1.Best_Books_Ever?page=12)\n",
      "2020-05-09 20:13:15 [scrapy.core.engine] DEBUG: Crawled (200) <GET https://www.goodreads.com/book/show/46677.Alexander_and_the_Terrible_Horrible_No_Good_Very_Bad_Day> (referer: https://www.goodreads.com/list/show/1.Best_Books_Ever?page=12)\n",
      "2020-05-09 20:13:15 [scrapy.core.engine] DEBUG: Crawled (200) <GET https://www.goodreads.com/book/show/3711.White_Teeth> (referer: https://www.goodreads.com/list/show/1.Best_Books_Ever?page=12)\n",
      "2020-05-09 20:13:16 [scrapy.core.engine] DEBUG: Crawled (200) <GET https://www.goodreads.com/book/show/31173.Villette> (referer: https://www.goodreads.com/list/show/1.Best_Books_Ever?page=12)\n"
     ]
    },
    {
     "name": "stdout",
     "output_type": "stream",
     "text": [
      "Warning: Book missing series (https://www.goodreads.com/book/show/3711.White_Teeth).\n",
      "Warning: Book missing series (https://www.goodreads.com/book/show/31173.Villette).\n"
     ]
    },
    {
     "name": "stderr",
     "output_type": "stream",
     "text": [
      "2020-05-09 20:13:16 [scrapy.core.engine] DEBUG: Crawled (200) <GET https://www.goodreads.com/book/show/147865.Love_Rosie> (referer: https://www.goodreads.com/list/show/1.Best_Books_Ever?page=12)\n",
      "2020-05-09 20:13:16 [scrapy.core.engine] DEBUG: Crawled (200) <GET https://www.goodreads.com/book/show/568645.Cross_My_Heart_and_Hope_to_Spy> (referer: https://www.goodreads.com/list/show/1.Best_Books_Ever?page=12)\n"
     ]
    },
    {
     "name": "stdout",
     "output_type": "stream",
     "text": [
      "Warning: Book missing series (https://www.goodreads.com/book/show/147865.Love_Rosie).\n"
     ]
    },
    {
     "name": "stderr",
     "output_type": "stream",
     "text": [
      "2020-05-09 20:13:17 [scrapy.core.engine] DEBUG: Crawled (200) <GET https://www.goodreads.com/book/show/15842441-effortless> (referer: https://www.goodreads.com/list/show/1.Best_Books_Ever?page=12)\n",
      "2020-05-09 20:13:17 [scrapy.core.engine] DEBUG: Crawled (200) <GET https://www.goodreads.com/book/show/16220184-crossroads-and-the-himalayan-crystals> (referer: https://www.goodreads.com/list/show/1.Best_Books_Ever?page=12)\n"
     ]
    },
    {
     "name": "stdout",
     "output_type": "stream",
     "text": [
      "Warning: Book missing language (https://www.goodreads.com/book/show/16220184-crossroads-and-the-himalayan-crystals).\n"
     ]
    },
    {
     "name": "stderr",
     "output_type": "stream",
     "text": [
      "2020-05-09 20:13:18 [scrapy.core.engine] DEBUG: Crawled (200) <GET https://www.goodreads.com/book/show/61535.The_Selfish_Gene> (referer: https://www.goodreads.com/list/show/1.Best_Books_Ever?page=12)\n"
     ]
    },
    {
     "name": "stdout",
     "output_type": "stream",
     "text": [
      "Warning: Book missing series (https://www.goodreads.com/book/show/61535.The_Selfish_Gene).\n"
     ]
    },
    {
     "name": "stderr",
     "output_type": "stream",
     "text": [
      "2020-05-09 20:13:18 [scrapy.core.engine] DEBUG: Crawled (200) <GET https://www.goodreads.com/book/show/17402605-the-alchemyst> (referer: https://www.goodreads.com/list/show/1.Best_Books_Ever?page=12)\n",
      "2020-05-09 20:13:18 [scrapy.core.engine] DEBUG: Crawled (200) <GET https://www.goodreads.com/book/show/40199729-the-heart-of-aleppo> (referer: https://www.goodreads.com/list/show/1.Best_Books_Ever?page=12)\n"
     ]
    },
    {
     "name": "stdout",
     "output_type": "stream",
     "text": [
      "Warning: Missing book original title (https://www.goodreads.com/book/show/40199729-the-heart-of-aleppo).\n",
      "Warning: Book missing series (https://www.goodreads.com/book/show/40199729-the-heart-of-aleppo).\n"
     ]
    },
    {
     "name": "stderr",
     "output_type": "stream",
     "text": [
      "2020-05-09 20:13:19 [scrapy.core.engine] DEBUG: Crawled (200) <GET https://www.goodreads.com/book/show/203220.Les_Fleurs_du_Mal> (referer: https://www.goodreads.com/list/show/1.Best_Books_Ever?page=12)\n"
     ]
    },
    {
     "name": "stdout",
     "output_type": "stream",
     "text": [
      "Warning: Book missing series (https://www.goodreads.com/book/show/203220.Les_Fleurs_du_Mal).\n"
     ]
    },
    {
     "name": "stderr",
     "output_type": "stream",
     "text": [
      "2020-05-09 20:13:19 [scrapy.core.engine] DEBUG: Crawled (200) <GET https://www.goodreads.com/book/show/22285.Rant> (referer: https://www.goodreads.com/list/show/1.Best_Books_Ever?page=12)\n",
      "2020-05-09 20:13:19 [scrapy.core.engine] DEBUG: Crawled (200) <GET https://www.goodreads.com/book/show/107291.Needful_Things> (referer: https://www.goodreads.com/list/show/1.Best_Books_Ever?page=12)\n",
      "2020-05-09 20:13:20 [scrapy.core.engine] DEBUG: Crawled (200) <GET https://www.goodreads.com/book/show/22354895-arrangement-in-black-and-white> (referer: https://www.goodreads.com/list/show/1.Best_Books_Ever?page=12)\n"
     ]
    },
    {
     "name": "stdout",
     "output_type": "stream",
     "text": [
      "Warning: Book missing series (https://www.goodreads.com/book/show/22285.Rant).\n",
      "Warning: Book missing series (https://www.goodreads.com/book/show/107291.Needful_Things).\n",
      "Warning: Missing book original title (https://www.goodreads.com/book/show/22354895-arrangement-in-black-and-white).\n",
      "Warning: Book missing series (https://www.goodreads.com/book/show/22354895-arrangement-in-black-and-white).\n",
      "Warning: Book missing language (https://www.goodreads.com/book/show/22354895-arrangement-in-black-and-white).\n"
     ]
    },
    {
     "name": "stderr",
     "output_type": "stream",
     "text": [
      "2020-05-09 20:13:20 [scrapy.core.engine] DEBUG: Crawled (200) <GET https://www.goodreads.com/book/show/10603.Cujo> (referer: https://www.goodreads.com/list/show/1.Best_Books_Ever?page=12)\n"
     ]
    },
    {
     "name": "stdout",
     "output_type": "stream",
     "text": [
      "Warning: Book missing series (https://www.goodreads.com/book/show/10603.Cujo).\n"
     ]
    },
    {
     "name": "stderr",
     "output_type": "stream",
     "text": [
      "2020-05-09 20:13:21 [scrapy.core.engine] DEBUG: Crawled (200) <GET https://www.goodreads.com/book/show/16115612-and-the-mountains-echoed> (referer: https://www.goodreads.com/list/show/1.Best_Books_Ever?page=12)\n",
      "2020-05-09 20:13:21 [scrapy.core.engine] DEBUG: Crawled (200) <GET https://www.goodreads.com/book/show/19494.The_Spy_Who_Came_In_from_the_Cold> (referer: https://www.goodreads.com/list/show/1.Best_Books_Ever?page=12)\n"
     ]
    },
    {
     "name": "stdout",
     "output_type": "stream",
     "text": [
      "Warning: Book missing series (https://www.goodreads.com/book/show/16115612-and-the-mountains-echoed).\n"
     ]
    },
    {
     "name": "stderr",
     "output_type": "stream",
     "text": [
      "2020-05-09 20:13:21 [scrapy.core.engine] DEBUG: Crawled (200) <GET https://www.goodreads.com/book/show/34897.The_Dragon_Reborn> (referer: https://www.goodreads.com/list/show/1.Best_Books_Ever?page=12)\n",
      "2020-05-09 20:13:21 [scrapy.core.engine] DEBUG: Crawled (200) <GET https://www.goodreads.com/book/show/11808950-sweet-evil> (referer: https://www.goodreads.com/list/show/1.Best_Books_Ever?page=12)\n",
      "2020-05-09 20:13:21 [scrapy.core.engine] DEBUG: Crawled (200) <GET https://www.goodreads.com/book/show/10215349-the-immortal-rules> (referer: https://www.goodreads.com/list/show/1.Best_Books_Ever?page=12)\n",
      "2020-05-09 20:13:22 [scrapy.core.engine] DEBUG: Crawled (200) <GET https://www.goodreads.com/book/show/13584236-fifty-shades-trilogy> (referer: https://www.goodreads.com/list/show/1.Best_Books_Ever?page=12)\n",
      "2020-05-09 20:13:22 [scrapy.core.engine] DEBUG: Crawled (200) <GET https://www.goodreads.com/book/show/2325825.Inkdeath> (referer: https://www.goodreads.com/list/show/1.Best_Books_Ever?page=12)\n"
     ]
    },
    {
     "name": "stdout",
     "output_type": "stream",
     "text": [
      "Warning: Missing book original title (https://www.goodreads.com/book/show/13584236-fifty-shades-trilogy).\n"
     ]
    },
    {
     "name": "stderr",
     "output_type": "stream",
     "text": [
      "2020-05-09 20:13:22 [scrapy.core.engine] DEBUG: Crawled (200) <GET https://www.goodreads.com/book/show/13103.The_Celestine_Prophecy> (referer: https://www.goodreads.com/list/show/1.Best_Books_Ever?page=12)\n",
      "2020-05-09 20:13:23 [scrapy.core.engine] DEBUG: Crawled (200) <GET https://www.goodreads.com/book/show/11573.The_Dead_Zone> (referer: https://www.goodreads.com/list/show/1.Best_Books_Ever?page=12)\n",
      "2020-05-09 20:13:23 [scrapy.core.engine] DEBUG: Crawled (200) <GET https://www.goodreads.com/book/show/12658.Hawaii> (referer: https://www.goodreads.com/list/show/1.Best_Books_Ever?page=11)\n"
     ]
    },
    {
     "name": "stdout",
     "output_type": "stream",
     "text": [
      "Warning: Book missing series (https://www.goodreads.com/book/show/11573.The_Dead_Zone).\n",
      "Warning: Book missing series (https://www.goodreads.com/book/show/12658.Hawaii).\n"
     ]
    },
    {
     "name": "stderr",
     "output_type": "stream",
     "text": [
      "2020-05-09 20:13:24 [scrapy.core.engine] DEBUG: Crawled (200) <GET https://www.goodreads.com/book/show/25354.Bastard_Out_of_Carolina> (referer: https://www.goodreads.com/list/show/1.Best_Books_Ever?page=11)\n",
      "2020-05-09 20:13:24 [scrapy.core.engine] DEBUG: Crawled (200) <GET https://www.goodreads.com/book/show/40034669-the-octunnumi-fosbit-files-prologue> (referer: https://www.goodreads.com/list/show/1.Best_Books_Ever?page=12)\n"
     ]
    },
    {
     "name": "stdout",
     "output_type": "stream",
     "text": [
      "Warning: Book missing series (https://www.goodreads.com/book/show/25354.Bastard_Out_of_Carolina).\n",
      "Warning: Missing book original title (https://www.goodreads.com/book/show/40034669-the-octunnumi-fosbit-files-prologue).\n",
      "Warning: Book missing series (https://www.goodreads.com/book/show/40034669-the-octunnumi-fosbit-files-prologue).\n"
     ]
    },
    {
     "name": "stderr",
     "output_type": "stream",
     "text": [
      "2020-05-09 20:13:24 [scrapy.core.engine] DEBUG: Crawled (200) <GET https://www.goodreads.com/book/show/9067850-the-throne-of-fire> (referer: https://www.goodreads.com/list/show/1.Best_Books_Ever?page=11)\n",
      "2020-05-09 20:13:25 [scrapy.core.engine] DEBUG: Crawled (200) <GET https://www.goodreads.com/book/show/3698.The_Quiet_American> (referer: https://www.goodreads.com/list/show/1.Best_Books_Ever?page=11)\n"
     ]
    },
    {
     "name": "stdout",
     "output_type": "stream",
     "text": [
      "Warning: Book missing series (https://www.goodreads.com/book/show/3698.The_Quiet_American).\n"
     ]
    },
    {
     "name": "stderr",
     "output_type": "stream",
     "text": [
      "2020-05-09 20:13:25 [scrapy.core.engine] DEBUG: Crawled (200) <GET https://www.goodreads.com/book/show/39058.The_Gormenghast_Novels> (referer: https://www.goodreads.com/list/show/1.Best_Books_Ever?page=11)\n",
      "2020-05-09 20:13:25 [scrapy.core.engine] DEBUG: Crawled (200) <GET https://www.goodreads.com/book/show/16634.The_Glass_Bead_Game> (referer: https://www.goodreads.com/list/show/1.Best_Books_Ever?page=11)\n",
      "2020-05-09 20:13:26 [scrapy.core.engine] DEBUG: Crawled (200) <GET https://www.goodreads.com/book/show/14662.The_Red_and_the_Black> (referer: https://www.goodreads.com/list/show/1.Best_Books_Ever?page=11)\n"
     ]
    },
    {
     "name": "stdout",
     "output_type": "stream",
     "text": [
      "Warning: Book missing series (https://www.goodreads.com/book/show/16634.The_Glass_Bead_Game).\n"
     ]
    },
    {
     "name": "stderr",
     "output_type": "stream",
     "text": [
      "2020-05-09 20:13:26 [scrapy.core.engine] DEBUG: Crawled (200) <GET https://www.goodreads.com/book/show/944073.The_Blade_Itself> (referer: https://www.goodreads.com/list/show/1.Best_Books_Ever?page=11)\n"
     ]
    },
    {
     "name": "stdout",
     "output_type": "stream",
     "text": [
      "Warning: Book missing series (https://www.goodreads.com/book/show/14662.The_Red_and_the_Black).\n"
     ]
    },
    {
     "name": "stderr",
     "output_type": "stream",
     "text": [
      "2020-05-09 20:13:26 [scrapy.core.engine] DEBUG: Crawled (200) <GET https://www.goodreads.com/book/show/25494343-lady-midnight> (referer: https://www.goodreads.com/list/show/1.Best_Books_Ever?page=11)\n",
      "2020-05-09 20:13:27 [scrapy.core.engine] DEBUG: Crawled (200) <GET https://www.goodreads.com/book/show/3228917-outliers> (referer: https://www.goodreads.com/list/show/1.Best_Books_Ever?page=11)\n",
      "2020-05-09 20:13:27 [scrapy.core.engine] DEBUG: Crawled (200) <GET https://www.goodreads.com/book/show/1162022.On_the_Jellicoe_Road> (referer: https://www.goodreads.com/list/show/1.Best_Books_Ever?page=11)\n"
     ]
    },
    {
     "name": "stdout",
     "output_type": "stream",
     "text": [
      "Warning: Book missing series (https://www.goodreads.com/book/show/3228917-outliers).\n",
      "Warning: Book missing series (https://www.goodreads.com/book/show/1162022.On_the_Jellicoe_Road).\n"
     ]
    },
    {
     "name": "stderr",
     "output_type": "stream",
     "text": [
      "2020-05-09 20:13:28 [scrapy.core.engine] DEBUG: Crawled (200) <GET https://www.goodreads.com/book/show/11594257-under-the-never-sky> (referer: https://www.goodreads.com/list/show/1.Best_Books_Ever?page=11)\n",
      "2020-05-09 20:13:28 [scrapy.core.engine] DEBUG: Crawled (200) <GET https://www.goodreads.com/book/show/3579.The_Complete_Anne_of_Green_Gables_Boxed_Set> (referer: https://www.goodreads.com/list/show/1.Best_Books_Ever?page=11)\n",
      "2020-05-09 20:13:28 [scrapy.core.engine] DEBUG: Crawled (200) <GET https://www.goodreads.com/book/show/38343303-chasing-the-red-queen> (referer: https://www.goodreads.com/list/show/1.Best_Books_Ever?page=11)\n",
      "2020-05-09 20:13:29 [scrapy.core.engine] DEBUG: Crawled (200) <GET https://www.goodreads.com/book/show/4965.Year_of_Wonders> (referer: https://www.goodreads.com/list/show/1.Best_Books_Ever?page=11)\n",
      "2020-05-09 20:13:29 [scrapy.core.engine] DEBUG: Crawled (200) <GET https://www.goodreads.com/book/show/7778981-halo> (referer: https://www.goodreads.com/list/show/1.Best_Books_Ever?page=11)\n"
     ]
    },
    {
     "name": "stdout",
     "output_type": "stream",
     "text": [
      "Warning: Missing book original title (https://www.goodreads.com/book/show/38343303-chasing-the-red-queen).\n",
      "Warning: Book missing series (https://www.goodreads.com/book/show/38343303-chasing-the-red-queen).\n",
      "Warning: Book missing language (https://www.goodreads.com/book/show/38343303-chasing-the-red-queen).\n",
      "Warning: Book missing series (https://www.goodreads.com/book/show/4965.Year_of_Wonders).\n"
     ]
    },
    {
     "name": "stderr",
     "output_type": "stream",
     "text": [
      "2020-05-09 20:13:29 [scrapy.core.engine] DEBUG: Crawled (200) <GET https://www.goodreads.com/book/show/60792.The_Accidental_Tourist> (referer: https://www.goodreads.com/list/show/1.Best_Books_Ever?page=11)\n",
      "2020-05-09 20:13:29 [scrapy.core.engine] DEBUG: Crawled (200) <GET https://www.goodreads.com/book/show/72579.Alias_Grace> (referer: https://www.goodreads.com/list/show/1.Best_Books_Ever?page=11)\n"
     ]
    },
    {
     "name": "stdout",
     "output_type": "stream",
     "text": [
      "Warning: Book missing series (https://www.goodreads.com/book/show/60792.The_Accidental_Tourist).\n",
      "Warning: Book missing series (https://www.goodreads.com/book/show/72579.Alias_Grace).\n"
     ]
    },
    {
     "name": "stderr",
     "output_type": "stream",
     "text": [
      "2020-05-09 20:13:29 [scrapy.core.engine] DEBUG: Crawled (200) <GET https://www.goodreads.com/book/show/2985500-night-world-no-2> (referer: https://www.goodreads.com/list/show/1.Best_Books_Ever?page=11)\n",
      "2020-05-09 20:13:30 [scrapy.core.engine] DEBUG: Crawled (200) <GET https://www.goodreads.com/book/show/25402194-the-choice> (referer: https://www.goodreads.com/list/show/1.Best_Books_Ever?page=11)\n",
      "2020-05-09 20:13:30 [scrapy.core.engine] DEBUG: Crawled (200) <GET https://www.goodreads.com/book/show/28877.Red_Dragon> (referer: https://www.goodreads.com/list/show/1.Best_Books_Ever?page=11)\n",
      "2020-05-09 20:13:30 [scrapy.core.engine] DEBUG: Crawled (200) <GET https://www.goodreads.com/book/show/162085.Pretty_Little_Liars> (referer: https://www.goodreads.com/list/show/1.Best_Books_Ever?page=11)\n"
     ]
    },
    {
     "name": "stdout",
     "output_type": "stream",
     "text": [
      "Warning: Book missing series (https://www.goodreads.com/book/show/25402194-the-choice).\n"
     ]
    },
    {
     "name": "stderr",
     "output_type": "stream",
     "text": [
      "2020-05-09 20:13:30 [scrapy.core.engine] DEBUG: Crawled (200) <GET https://www.goodreads.com/book/show/23878.Chronicle_of_a_Death_Foretold> (referer: https://www.goodreads.com/list/show/1.Best_Books_Ever?page=11)\n"
     ]
    },
    {
     "name": "stdout",
     "output_type": "stream",
     "text": [
      "Warning: Book missing series (https://www.goodreads.com/book/show/23878.Chronicle_of_a_Death_Foretold).\n"
     ]
    },
    {
     "name": "stderr",
     "output_type": "stream",
     "text": [
      "2020-05-09 20:13:31 [scrapy.core.engine] DEBUG: Crawled (200) <GET https://www.goodreads.com/book/show/9592.Mother_Night> (referer: https://www.goodreads.com/list/show/1.Best_Books_Ever?page=11)\n",
      "2020-05-09 20:13:31 [scrapy.core.engine] DEBUG: Crawled (200) <GET https://www.goodreads.com/book/show/530965.The_Day_of_the_Triffids> (referer: https://www.goodreads.com/list/show/1.Best_Books_Ever?page=11)\n"
     ]
    },
    {
     "name": "stdout",
     "output_type": "stream",
     "text": [
      "Warning: Book missing series (https://www.goodreads.com/book/show/9592.Mother_Night).\n"
     ]
    },
    {
     "name": "stderr",
     "output_type": "stream",
     "text": [
      "2020-05-09 20:13:32 [scrapy.core.engine] DEBUG: Crawled (200) <GET https://www.goodreads.com/book/show/40881621-the-book-of-disquiet> (referer: https://www.goodreads.com/list/show/1.Best_Books_Ever?page=11)\n",
      "2020-05-09 20:13:32 [scrapy.core.engine] DEBUG: Crawled (200) <GET https://www.goodreads.com/book/show/13206900-winter> (referer: https://www.goodreads.com/list/show/1.Best_Books_Ever?page=11)\n"
     ]
    },
    {
     "name": "stdout",
     "output_type": "stream",
     "text": [
      "Warning: Book missing series (https://www.goodreads.com/book/show/40881621-the-book-of-disquiet).\n"
     ]
    },
    {
     "name": "stderr",
     "output_type": "stream",
     "text": [
      "2020-05-09 20:13:32 [scrapy.core.engine] DEBUG: Crawled (200) <GET https://www.goodreads.com/book/show/32499.The_Pelican_Brief> (referer: https://www.goodreads.com/list/show/1.Best_Books_Ever?page=11)\n"
     ]
    },
    {
     "name": "stdout",
     "output_type": "stream",
     "text": [
      "Warning: Book missing series (https://www.goodreads.com/book/show/32499.The_Pelican_Brief).\n"
     ]
    },
    {
     "name": "stderr",
     "output_type": "stream",
     "text": [
      "2020-05-09 20:13:33 [scrapy.core.engine] DEBUG: Crawled (200) <GET https://www.goodreads.com/book/show/35220.The_Red_Badge_of_Courage> (referer: https://www.goodreads.com/list/show/1.Best_Books_Ever?page=11)\n",
      "2020-05-09 20:13:33 [scrapy.core.engine] DEBUG: Crawled (200) <GET https://www.goodreads.com/book/show/59960.Batman> (referer: https://www.goodreads.com/list/show/1.Best_Books_Ever?page=11)\n"
     ]
    },
    {
     "name": "stdout",
     "output_type": "stream",
     "text": [
      "Warning: Book missing series (https://www.goodreads.com/book/show/35220.The_Red_Badge_of_Courage).\n"
     ]
    },
    {
     "name": "stderr",
     "output_type": "stream",
     "text": [
      "2020-05-09 20:13:33 [scrapy.core.engine] DEBUG: Crawled (200) <GET https://www.goodreads.com/book/show/53413.Hopscotch> (referer: https://www.goodreads.com/list/show/1.Best_Books_Ever?page=11)\n"
     ]
    },
    {
     "name": "stdout",
     "output_type": "stream",
     "text": [
      "Warning: Book missing series (https://www.goodreads.com/book/show/53413.Hopscotch).\n"
     ]
    },
    {
     "name": "stderr",
     "output_type": "stream",
     "text": [
      "2020-05-09 20:13:34 [scrapy.core.engine] DEBUG: Crawled (200) <GET https://www.goodreads.com/book/show/232576.Harriet_the_Spy> (referer: https://www.goodreads.com/list/show/1.Best_Books_Ever?page=11)\n",
      "2020-05-09 20:13:34 [scrapy.core.engine] DEBUG: Crawled (200) <GET https://www.goodreads.com/book/show/36336078-call-me-by-your-name> (referer: https://www.goodreads.com/list/show/1.Best_Books_Ever?page=11)\n",
      "2020-05-09 20:13:34 [scrapy.core.engine] DEBUG: Crawled (200) <GET https://www.goodreads.com/book/show/64222.Going_Postal> (referer: https://www.goodreads.com/list/show/1.Best_Books_Ever?page=11)\n",
      "2020-05-09 20:13:35 [scrapy.core.engine] DEBUG: Crawled (200) <GET https://www.goodreads.com/book/show/22055262-a-darker-shade-of-magic> (referer: https://www.goodreads.com/list/show/1.Best_Books_Ever?page=11)\n",
      "2020-05-09 20:13:35 [scrapy.core.engine] DEBUG: Crawled (200) <GET https://www.goodreads.com/book/show/15926.Nights_in_Rodanthe> (referer: https://www.goodreads.com/list/show/1.Best_Books_Ever?page=11)\n",
      "2020-05-09 20:13:35 [scrapy.core.engine] DEBUG: Crawled (200) <GET https://www.goodreads.com/book/show/6642715-the-forty-rules-of-love> (referer: https://www.goodreads.com/list/show/1.Best_Books_Ever?page=11)\n"
     ]
    },
    {
     "name": "stdout",
     "output_type": "stream",
     "text": [
      "Warning: Book missing series (https://www.goodreads.com/book/show/15926.Nights_in_Rodanthe).\n",
      "Warning: Book missing series (https://www.goodreads.com/book/show/6642715-the-forty-rules-of-love).\n"
     ]
    },
    {
     "name": "stderr",
     "output_type": "stream",
     "text": [
      "2020-05-09 20:13:36 [scrapy.core.engine] DEBUG: Crawled (200) <GET https://www.goodreads.com/book/show/16070903-fallen-too-far> (referer: https://www.goodreads.com/list/show/1.Best_Books_Ever?page=11)\n",
      "2020-05-09 20:13:36 [scrapy.core.engine] DEBUG: Crawled (200) <GET https://www.goodreads.com/book/show/42933.Tai_Pan> (referer: https://www.goodreads.com/list/show/1.Best_Books_Ever?page=12)\n",
      "2020-05-09 20:13:36 [scrapy.core.engine] DEBUG: Crawled (200) <GET https://www.goodreads.com/book/show/18521.A_Room_of_One_s_Own> (referer: https://www.goodreads.com/list/show/1.Best_Books_Ever?page=11)\n"
     ]
    },
    {
     "name": "stdout",
     "output_type": "stream",
     "text": [
      "Warning: Missing book original title (https://www.goodreads.com/book/show/16070903-fallen-too-far).\n",
      "Warning: Book missing series (https://www.goodreads.com/book/show/18521.A_Room_of_One_s_Own).\n"
     ]
    },
    {
     "name": "stderr",
     "output_type": "stream",
     "text": [
      "2020-05-09 20:13:37 [scrapy.core.engine] DEBUG: Crawled (200) <GET https://www.goodreads.com/book/show/13643567-the-evolution-of-mara-dyer> (referer: https://www.goodreads.com/list/show/1.Best_Books_Ever?page=11)\n",
      "2020-05-09 20:13:37 [scrapy.core.engine] DEBUG: Crawled (200) <GET https://www.goodreads.com/book/show/2794.The_Crying_of_Lot_49> (referer: https://www.goodreads.com/list/show/1.Best_Books_Ever?page=11)\n",
      "2020-05-09 20:13:37 [scrapy.core.engine] DEBUG: Crawled (200) <GET https://www.goodreads.com/book/show/7619.The_Time_Quartet_Box_Set> (referer: https://www.goodreads.com/list/show/1.Best_Books_Ever?page=11)\n",
      "2020-05-09 20:13:37 [scrapy.core.engine] DEBUG: Crawled (200) <GET https://www.goodreads.com/book/show/46114.The_Waves> (referer: https://www.goodreads.com/list/show/1.Best_Books_Ever?page=11)\n"
     ]
    },
    {
     "name": "stdout",
     "output_type": "stream",
     "text": [
      "Warning: Book missing series (https://www.goodreads.com/book/show/2794.The_Crying_of_Lot_49).\n"
     ]
    },
    {
     "name": "stderr",
     "output_type": "stream",
     "text": [
      "2020-05-09 20:13:37 [scrapy.core.engine] DEBUG: Crawled (200) <GET https://www.goodreads.com/book/show/7042.The_Tale_of_Genji> (referer: https://www.goodreads.com/list/show/1.Best_Books_Ever?page=11)\n"
     ]
    },
    {
     "name": "stdout",
     "output_type": "stream",
     "text": [
      "Warning: Book missing series (https://www.goodreads.com/book/show/46114.The_Waves).\n"
     ]
    },
    {
     "name": "stderr",
     "output_type": "stream",
     "text": [
      "2020-05-09 20:13:37 [scrapy.core.engine] DEBUG: Crawled (200) <GET https://www.goodreads.com/book/show/126232.Jaws> (referer: https://www.goodreads.com/list/show/1.Best_Books_Ever?page=11)\n",
      "2020-05-09 20:13:38 [scrapy.core.engine] DEBUG: Crawled (200) <GET https://www.goodreads.com/book/show/91661.The_Beekeeper_s_Apprentice> (referer: https://www.goodreads.com/list/show/1.Best_Books_Ever?page=11)\n",
      "2020-05-09 20:13:38 [scrapy.core.engine] DEBUG: Crawled (200) <GET https://www.goodreads.com/book/show/32829.Journey_to_the_Center_of_the_Earth> (referer: https://www.goodreads.com/list/show/1.Best_Books_Ever?page=11)\n",
      "2020-05-09 20:13:38 [scrapy.core.engine] DEBUG: Crawled (200) <GET https://www.goodreads.com/book/show/68811.Momo> (referer: https://www.goodreads.com/list/show/1.Best_Books_Ever?page=11)\n"
     ]
    },
    {
     "name": "stdout",
     "output_type": "stream",
     "text": [
      "Warning: Book missing series (https://www.goodreads.com/book/show/32829.Journey_to_the_Center_of_the_Earth).\n",
      "Warning: Book missing series (https://www.goodreads.com/book/show/68811.Momo).\n"
     ]
    },
    {
     "name": "stderr",
     "output_type": "stream",
     "text": [
      "2020-05-09 20:13:39 [scrapy.core.engine] DEBUG: Crawled (200) <GET https://www.goodreads.com/book/show/11602.Hearts_in_Atlantis> (referer: https://www.goodreads.com/list/show/1.Best_Books_Ever?page=11)\n"
     ]
    },
    {
     "name": "stdout",
     "output_type": "stream",
     "text": [
      "Warning: Book missing series (https://www.goodreads.com/book/show/11602.Hearts_in_Atlantis).\n"
     ]
    },
    {
     "name": "stderr",
     "output_type": "stream",
     "text": [
      "2020-05-09 20:13:39 [scrapy.core.engine] DEBUG: Crawled (200) <GET https://www.goodreads.com/book/show/269322.The_Raven_and_Other_Poems> (referer: https://www.goodreads.com/list/show/1.Best_Books_Ever?page=11)\n",
      "2020-05-09 20:13:39 [scrapy.core.engine] DEBUG: Crawled (200) <GET https://www.goodreads.com/book/show/22822858-a-little-life> (referer: https://www.goodreads.com/list/show/1.Best_Books_Ever?page=11)\n",
      "2020-05-09 20:13:40 [scrapy.core.engine] DEBUG: Crawled (200) <GET https://www.goodreads.com/book/show/29395568-exotic-neurotic> (referer: https://www.goodreads.com/list/show/1.Best_Books_Ever?page=11)\n"
     ]
    },
    {
     "name": "stdout",
     "output_type": "stream",
     "text": [
      "Warning: Book missing series (https://www.goodreads.com/book/show/269322.The_Raven_and_Other_Poems).\n",
      "Warning: Book missing series (https://www.goodreads.com/book/show/22822858-a-little-life).\n",
      "Warning: Missing book original title (https://www.goodreads.com/book/show/29395568-exotic-neurotic).\n",
      "Warning: Book missing series (https://www.goodreads.com/book/show/29395568-exotic-neurotic).\n"
     ]
    },
    {
     "name": "stderr",
     "output_type": "stream",
     "text": [
      "2020-05-09 20:13:40 [scrapy.core.engine] DEBUG: Crawled (200) <GET https://www.goodreads.com/book/show/29209.The_Color_of_Water> (referer: https://www.goodreads.com/list/show/1.Best_Books_Ever?page=11)\n",
      "2020-05-09 20:13:40 [scrapy.core.engine] DEBUG: Crawled (200) <GET https://www.goodreads.com/book/show/5604848-destined-for-an-early-grave> (referer: https://www.goodreads.com/list/show/1.Best_Books_Ever?page=11)\n"
     ]
    },
    {
     "name": "stdout",
     "output_type": "stream",
     "text": [
      "Warning: Book missing series (https://www.goodreads.com/book/show/29209.The_Color_of_Water).\n"
     ]
    },
    {
     "name": "stderr",
     "output_type": "stream",
     "text": [
      "2020-05-09 20:13:41 [scrapy.core.engine] DEBUG: Crawled (200) <GET https://www.goodreads.com/book/show/3462.The_Rescue> (referer: https://www.goodreads.com/list/show/1.Best_Books_Ever?page=11)\n",
      "2020-05-09 20:13:41 [scrapy.core.engine] DEBUG: Crawled (200) <GET https://www.goodreads.com/book/show/5479.Brave_New_World_Brave_New_World_Revisited> (referer: https://www.goodreads.com/list/show/1.Best_Books_Ever?page=11)\n"
     ]
    },
    {
     "name": "stdout",
     "output_type": "stream",
     "text": [
      "Warning: Book missing series (https://www.goodreads.com/book/show/3462.The_Rescue).\n"
     ]
    },
    {
     "name": "stderr",
     "output_type": "stream",
     "text": [
      "2020-05-09 20:13:41 [scrapy.core.engine] DEBUG: Crawled (200) <GET https://www.goodreads.com/book/show/12948.The_Turn_of_the_Screw> (referer: https://www.goodreads.com/list/show/1.Best_Books_Ever?page=11)\n"
     ]
    },
    {
     "name": "stdout",
     "output_type": "stream",
     "text": [
      "Warning: Book missing series (https://www.goodreads.com/book/show/5479.Brave_New_World_Brave_New_World_Revisited).\n",
      "Warning: Book missing series (https://www.goodreads.com/book/show/12948.The_Turn_of_the_Screw).\n"
     ]
    },
    {
     "name": "stderr",
     "output_type": "stream",
     "text": [
      "2020-05-09 20:13:42 [scrapy.core.engine] DEBUG: Crawled (200) <GET https://www.goodreads.com/book/show/9462795-starcrossed> (referer: https://www.goodreads.com/list/show/1.Best_Books_Ever?page=11)\n",
      "2020-05-09 20:13:42 [scrapy.core.engine] DEBUG: Crawled (200) <GET https://www.goodreads.com/book/show/37190.The_Tale_of_Despereaux> (referer: https://www.goodreads.com/list/show/1.Best_Books_Ever?page=11)\n",
      "2020-05-09 20:13:42 [scrapy.core.engine] DEBUG: Crawled (200) <GET https://www.goodreads.com/book/show/6493208-the-immortal-life-of-henrietta-lacks> (referer: https://www.goodreads.com/list/show/1.Best_Books_Ever?page=11)\n"
     ]
    },
    {
     "name": "stdout",
     "output_type": "stream",
     "text": [
      "Warning: Book missing series (https://www.goodreads.com/book/show/37190.The_Tale_of_Despereaux).\n",
      "Warning: Book missing series (https://www.goodreads.com/book/show/6493208-the-immortal-life-of-henrietta-lacks).\n"
     ]
    },
    {
     "name": "stderr",
     "output_type": "stream",
     "text": [
      "2020-05-09 20:13:42 [scrapy.core.engine] DEBUG: Crawled (200) <GET https://www.goodreads.com/book/show/18692431-everything-everything> (referer: https://www.goodreads.com/list/show/1.Best_Books_Ever?page=11)\n",
      "2020-05-09 20:13:43 [scrapy.core.engine] DEBUG: Crawled (200) <GET https://www.goodreads.com/book/show/991197.The_Complete_Persepolis> (referer: https://www.goodreads.com/list/show/1.Best_Books_Ever?page=11)\n"
     ]
    },
    {
     "name": "stdout",
     "output_type": "stream",
     "text": [
      "Warning: Book missing series (https://www.goodreads.com/book/show/18692431-everything-everything).\n"
     ]
    },
    {
     "name": "stderr",
     "output_type": "stream",
     "text": [
      "2020-05-09 20:13:43 [scrapy.core.engine] DEBUG: Crawled (200) <GET https://www.goodreads.com/book/show/51799.The_Decameron> (referer: https://www.goodreads.com/list/show/1.Best_Books_Ever?page=11)\n"
     ]
    },
    {
     "name": "stdout",
     "output_type": "stream",
     "text": [
      "Warning: Book missing series (https://www.goodreads.com/book/show/51799.The_Decameron).\n"
     ]
    },
    {
     "name": "stderr",
     "output_type": "stream",
     "text": [
      "2020-05-09 20:13:43 [scrapy.core.engine] DEBUG: Crawled (200) <GET https://www.goodreads.com/book/show/28407.Germinal> (referer: https://www.goodreads.com/list/show/1.Best_Books_Ever?page=11)\n",
      "2020-05-09 20:13:44 [scrapy.core.engine] DEBUG: Crawled (200) <GET https://www.goodreads.com/book/show/9736930-before-i-go-to-sleep> (referer: https://www.goodreads.com/list/show/1.Best_Books_Ever?page=11)\n",
      "2020-05-09 20:13:44 [scrapy.core.engine] DEBUG: Crawled (200) <GET https://www.goodreads.com/book/show/32822135-archer-s-voice> (referer: https://www.goodreads.com/list/show/1.Best_Books_Ever?page=11)\n"
     ]
    },
    {
     "name": "stdout",
     "output_type": "stream",
     "text": [
      "Warning: Book missing series (https://www.goodreads.com/book/show/9736930-before-i-go-to-sleep).\n",
      "Warning: Book missing series (https://www.goodreads.com/book/show/32822135-archer-s-voice).\n"
     ]
    },
    {
     "name": "stderr",
     "output_type": "stream",
     "text": [
      "2020-05-09 20:13:44 [scrapy.core.engine] DEBUG: Crawled (200) <GET https://www.goodreads.com/book/show/22590.Ubik> (referer: https://www.goodreads.com/list/show/1.Best_Books_Ever?page=11)\n",
      "2020-05-09 20:13:44 [scrapy.core.engine] DEBUG: Crawled (200) <GET https://www.goodreads.com/book/show/27774758-an-ember-in-the-ashes> (referer: https://www.goodreads.com/list/show/1.Best_Books_Ever?page=11)\n"
     ]
    },
    {
     "name": "stdout",
     "output_type": "stream",
     "text": [
      "Warning: Book missing series (https://www.goodreads.com/book/show/22590.Ubik).\n"
     ]
    },
    {
     "name": "stderr",
     "output_type": "stream",
     "text": [
      "2020-05-09 20:13:45 [scrapy.core.engine] DEBUG: Crawled (200) <GET https://www.goodreads.com/book/show/33456.A_Dirty_Job> (referer: https://www.goodreads.com/list/show/1.Best_Books_Ever?page=11)\n",
      "2020-05-09 20:13:45 [scrapy.core.engine] DEBUG: Crawled (200) <GET https://www.goodreads.com/book/show/693208.The_Absolutely_True_Diary_of_a_Part_Time_Indian> (referer: https://www.goodreads.com/list/show/1.Best_Books_Ever?page=11)\n"
     ]
    },
    {
     "name": "stdout",
     "output_type": "stream",
     "text": [
      "Warning: Missing book original title (https://www.goodreads.com/book/show/33456.A_Dirty_Job).\n"
     ]
    },
    {
     "name": "stderr",
     "output_type": "stream",
     "text": [
      "2020-05-09 20:13:45 [scrapy.core.engine] DEBUG: Crawled (200) <GET https://www.goodreads.com/book/show/107301.A_Town_Like_Alice> (referer: https://www.goodreads.com/list/show/1.Best_Books_Ever?page=11)\n"
     ]
    },
    {
     "name": "stdout",
     "output_type": "stream",
     "text": [
      "Warning: Book missing series (https://www.goodreads.com/book/show/693208.The_Absolutely_True_Diary_of_a_Part_Time_Indian).\n",
      "Warning: Book missing series (https://www.goodreads.com/book/show/107301.A_Town_Like_Alice).\n"
     ]
    },
    {
     "name": "stderr",
     "output_type": "stream",
     "text": [
      "2020-05-09 20:13:46 [scrapy.core.engine] DEBUG: Crawled (200) <GET https://www.goodreads.com/book/show/153008.Kushiel_s_Dart> (referer: https://www.goodreads.com/list/show/1.Best_Books_Ever?page=11)\n",
      "2020-05-09 20:13:46 [scrapy.core.engine] DEBUG: Crawled (200) <GET https://www.goodreads.com/book/show/40605329-the-mysterious-benedict-society> (referer: https://www.goodreads.com/list/show/1.Best_Books_Ever?page=11)\n",
      "2020-05-09 20:13:47 [scrapy.core.engine] DEBUG: Crawled (200) <GET https://www.goodreads.com/book/show/5472.Animal_Farm_1984> (referer: https://www.goodreads.com/list/show/1.Best_Books_Ever?page=11)\n"
     ]
    },
    {
     "name": "stdout",
     "output_type": "stream",
     "text": [
      "Warning: Book missing series (https://www.goodreads.com/book/show/5472.Animal_Farm_1984).\n"
     ]
    },
    {
     "name": "stderr",
     "output_type": "stream",
     "text": [
      "2020-05-09 20:13:47 [scrapy.core.engine] DEBUG: Crawled (200) <GET https://www.goodreads.com/book/show/53639.Zorba_the_Greek> (referer: https://www.goodreads.com/list/show/1.Best_Books_Ever?page=11)\n",
      "2020-05-09 20:13:47 [scrapy.core.engine] DEBUG: Crawled (200) <GET https://www.goodreads.com/book/show/9409458-forever> (referer: https://www.goodreads.com/list/show/1.Best_Books_Ever?page=11)\n"
     ]
    },
    {
     "name": "stdout",
     "output_type": "stream",
     "text": [
      "Warning: Book missing series (https://www.goodreads.com/book/show/53639.Zorba_the_Greek).\n"
     ]
    },
    {
     "name": "stderr",
     "output_type": "stream",
     "text": [
      "2020-05-09 20:13:48 [scrapy.core.engine] DEBUG: Crawled (200) <GET https://www.goodreads.com/book/show/15196.Maus_I> (referer: https://www.goodreads.com/list/show/1.Best_Books_Ever?page=11)\n",
      "2020-05-09 20:13:48 [scrapy.core.engine] DEBUG: Crawled (200) <GET https://www.goodreads.com/book/show/22896.Practical_Magic> (referer: https://www.goodreads.com/list/show/1.Best_Books_Ever?page=11)\n",
      "2020-05-09 20:13:48 [scrapy.core.engine] DEBUG: Crawled (200) <GET https://www.goodreads.com/book/show/12180581-switched> (referer: https://www.goodreads.com/list/show/1.Best_Books_Ever?page=11)\n",
      "2020-05-09 20:13:48 [scrapy.core.engine] DEBUG: Crawled (200) <GET https://www.goodreads.com/book/show/77163.Stones_from_the_River> (referer: https://www.goodreads.com/list/show/1.Best_Books_Ever?page=11)\n",
      "2020-05-09 20:13:49 [scrapy.core.engine] DEBUG: Crawled (200) <GET https://www.goodreads.com/book/show/7669.Timeline> (referer: https://www.goodreads.com/list/show/1.Best_Books_Ever?page=11)\n"
     ]
    },
    {
     "name": "stdout",
     "output_type": "stream",
     "text": [
      "Warning: Book missing series (https://www.goodreads.com/book/show/7669.Timeline).\n"
     ]
    },
    {
     "name": "stderr",
     "output_type": "stream",
     "text": [
      "2020-05-09 20:13:49 [scrapy.core.engine] DEBUG: Crawled (200) <GET https://www.goodreads.com/book/show/28195.Inkspell> (referer: https://www.goodreads.com/list/show/1.Best_Books_Ever?page=11)\n",
      "2020-05-09 20:13:50 [scrapy.core.engine] DEBUG: Crawled (200) <GET https://www.goodreads.com/book/show/40493.The_Valley_of_Horses> (referer: https://www.goodreads.com/list/show/1.Best_Books_Ever?page=11)\n",
      "2020-05-09 20:13:50 [scrapy.core.engine] DEBUG: Crawled (200) <GET https://www.goodreads.com/book/show/249.Tropic_of_Cancer> (referer: https://www.goodreads.com/list/show/1.Best_Books_Ever?page=11)\n",
      "2020-05-09 20:13:50 [scrapy.core.engine] DEBUG: Crawled (200) <GET https://www.goodreads.com/book/show/5174.Fall_on_Your_Knees> (referer: https://www.goodreads.com/list/show/1.Best_Books_Ever?page=11)\n",
      "2020-05-09 20:13:50 [scrapy.core.engine] DEBUG: Crawled (200) <GET https://www.goodreads.com/book/show/14817.A_Scanner_Darkly> (referer: https://www.goodreads.com/list/show/1.Best_Books_Ever?page=11)\n",
      "2020-05-09 20:13:50 [scrapy.core.engine] DEBUG: Crawled (200) <GET https://www.goodreads.com/book/show/344262.Bloodfever> (referer: https://www.goodreads.com/list/show/1.Best_Books_Ever?page=11)\n"
     ]
    },
    {
     "name": "stdout",
     "output_type": "stream",
     "text": [
      "Warning: Book missing series (https://www.goodreads.com/book/show/5174.Fall_on_Your_Knees).\n",
      "Warning: Book missing series (https://www.goodreads.com/book/show/14817.A_Scanner_Darkly).\n"
     ]
    },
    {
     "name": "stderr",
     "output_type": "stream",
     "text": [
      "2020-05-09 20:13:51 [scrapy.core.engine] DEBUG: Crawled (200) <GET https://www.goodreads.com/book/show/460548.Go_Dog_Go_> (referer: https://www.goodreads.com/list/show/1.Best_Books_Ever?page=11)\n"
     ]
    },
    {
     "name": "stdout",
     "output_type": "stream",
     "text": [
      "Warning: Book missing series (https://www.goodreads.com/book/show/460548.Go_Dog_Go_).\n"
     ]
    },
    {
     "name": "stderr",
     "output_type": "stream",
     "text": [
      "2020-05-09 20:13:51 [scrapy.core.engine] DEBUG: Crawled (200) <GET https://www.goodreads.com/book/show/9680718-half-blood> (referer: https://www.goodreads.com/list/show/1.Best_Books_Ever?page=11)\n",
      "2020-05-09 20:13:51 [scrapy.core.engine] DEBUG: Crawled (200) <GET https://www.goodreads.com/book/show/17343.Till_We_Have_Faces> (referer: https://www.goodreads.com/list/show/1.Best_Books_Ever?page=11)\n",
      "2020-05-09 20:13:52 [scrapy.core.engine] DEBUG: Crawled (200) <GET https://www.goodreads.com/book/show/35743.The_Tin_Drum> (referer: https://www.goodreads.com/list/show/1.Best_Books_Ever?page=11)\n"
     ]
    },
    {
     "name": "stdout",
     "output_type": "stream",
     "text": [
      "Warning: Book missing series (https://www.goodreads.com/book/show/17343.Till_We_Have_Faces).\n"
     ]
    },
    {
     "name": "stderr",
     "output_type": "stream",
     "text": [
      "2020-05-09 20:13:52 [scrapy.core.engine] DEBUG: Crawled (200) <GET https://www.goodreads.com/book/show/8652190-awakened> (referer: https://www.goodreads.com/list/show/1.Best_Books_Ever?page=11)\n",
      "2020-05-09 20:13:52 [scrapy.core.engine] DEBUG: Crawled (200) <GET https://www.goodreads.com/book/show/13644052-origin> (referer: https://www.goodreads.com/list/show/1.Best_Books_Ever?page=11)\n",
      "2020-05-09 20:13:53 [scrapy.core.engine] DEBUG: Crawled (200) <GET https://www.goodreads.com/book/show/3227063-the-way-of-shadows> (referer: https://www.goodreads.com/list/show/1.Best_Books_Ever?page=11)\n",
      "2020-05-09 20:13:53 [scrapy.core.engine] DEBUG: Crawled (200) <GET https://www.goodreads.com/book/show/7137775-rules-of-attraction> (referer: https://www.goodreads.com/list/show/1.Best_Books_Ever?page=11)\n",
      "2020-05-09 20:13:53 [scrapy.core.engine] DEBUG: Crawled (200) <GET https://www.goodreads.com/book/show/8694.Life_the_Universe_and_Everything> (referer: https://www.goodreads.com/list/show/1.Best_Books_Ever?page=11)\n",
      "2020-05-09 20:13:53 [scrapy.core.engine] DEBUG: Crawled (200) <GET https://www.goodreads.com/book/show/36314.Tales_of_H_P_Lovecraft> (referer: https://www.goodreads.com/list/show/1.Best_Books_Ever?page=11)\n",
      "2020-05-09 20:13:53 [scrapy.core.engine] DEBUG: Crawled (200) <GET https://www.goodreads.com/book/show/9809.Invisible_Cities> (referer: https://www.goodreads.com/list/show/1.Best_Books_Ever?page=11)\n",
      "2020-05-09 20:13:54 [scrapy.core.engine] DEBUG: Crawled (200) <GET https://www.goodreads.com/book/show/10929.For_One_More_Day> (referer: https://www.goodreads.com/list/show/1.Best_Books_Ever?page=11)\n"
     ]
    },
    {
     "name": "stdout",
     "output_type": "stream",
     "text": [
      "Warning: Missing book original title (https://www.goodreads.com/book/show/36314.Tales_of_H_P_Lovecraft).\n",
      "Warning: Book missing series (https://www.goodreads.com/book/show/36314.Tales_of_H_P_Lovecraft).\n",
      "Warning: Book missing series (https://www.goodreads.com/book/show/9809.Invisible_Cities).\n"
     ]
    },
    {
     "name": "stderr",
     "output_type": "stream",
     "text": [
      "2020-05-09 20:13:54 [scrapy.core.engine] DEBUG: Crawled (200) <GET https://www.goodreads.com/book/show/105992.Helter_Skelter> (referer: https://www.goodreads.com/list/show/1.Best_Books_Ever?page=10)\n"
     ]
    },
    {
     "name": "stdout",
     "output_type": "stream",
     "text": [
      "Warning: Book missing series (https://www.goodreads.com/book/show/10929.For_One_More_Day).\n",
      "Warning: Book missing series (https://www.goodreads.com/book/show/105992.Helter_Skelter).\n"
     ]
    },
    {
     "name": "stderr",
     "output_type": "stream",
     "text": [
      "2020-05-09 20:13:55 [scrapy.core.engine] DEBUG: Crawled (200) <GET https://www.goodreads.com/book/show/23766634-a-court-of-wings-and-ruin> (referer: https://www.goodreads.com/list/show/1.Best_Books_Ever?page=10)\n",
      "2020-05-09 20:13:55 [scrapy.core.engine] DEBUG: Crawled (200) <GET https://www.goodreads.com/book/show/243705.The_Collector> (referer: https://www.goodreads.com/list/show/1.Best_Books_Ever?page=10)\n"
     ]
    },
    {
     "name": "stdout",
     "output_type": "stream",
     "text": [
      "Warning: Book missing series (https://www.goodreads.com/book/show/243705.The_Collector).\n"
     ]
    },
    {
     "name": "stderr",
     "output_type": "stream",
     "text": [
      "2020-05-09 20:13:55 [scrapy.core.engine] DEBUG: Crawled (200) <GET https://www.goodreads.com/book/show/23692271-sapiens> (referer: https://www.goodreads.com/list/show/1.Best_Books_Ever?page=10)\n"
     ]
    },
    {
     "name": "stdout",
     "output_type": "stream",
     "text": [
      "Warning: Book missing series (https://www.goodreads.com/book/show/23692271-sapiens).\n"
     ]
    },
    {
     "name": "stderr",
     "output_type": "stream",
     "text": [
      "2020-05-09 20:13:56 [scrapy.core.engine] DEBUG: Crawled (200) <GET https://www.goodreads.com/book/show/17309.This_Present_Darkness> (referer: https://www.goodreads.com/list/show/1.Best_Books_Ever?page=10)\n",
      "2020-05-09 20:13:56 [scrapy.core.engine] DEBUG: Crawled (200) <GET https://www.goodreads.com/book/show/21484.The_Winds_of_War> (referer: https://www.goodreads.com/list/show/1.Best_Books_Ever?page=10)\n",
      "2020-05-09 20:13:56 [scrapy.core.engine] DEBUG: Crawled (200) <GET https://www.goodreads.com/book/show/47212.Storm_Front> (referer: https://www.goodreads.com/list/show/1.Best_Books_Ever?page=10)\n",
      "2020-05-09 20:13:56 [scrapy.core.engine] DEBUG: Crawled (200) <GET https://www.goodreads.com/book/show/13139.School_s_Out_Forever> (referer: https://www.goodreads.com/list/show/1.Best_Books_Ever?page=10)\n",
      "2020-05-09 20:13:57 [scrapy.core.engine] DEBUG: Crawled (200) <GET https://www.goodreads.com/book/show/7747064-the-iron-daughter> (referer: https://www.goodreads.com/list/show/1.Best_Books_Ever?page=10)\n",
      "2020-05-09 20:13:57 [scrapy.core.engine] DEBUG: Crawled (200) <GET https://www.goodreads.com/book/show/407429.The_Stinky_Cheese_Man_and_Other_Fairly_Stupid_Tales> (referer: https://www.goodreads.com/list/show/1.Best_Books_Ever?page=10)\n"
     ]
    },
    {
     "name": "stdout",
     "output_type": "stream",
     "text": [
      "Warning: Book missing series (https://www.goodreads.com/book/show/407429.The_Stinky_Cheese_Man_and_Other_Fairly_Stupid_Tales).\n"
     ]
    },
    {
     "name": "stderr",
     "output_type": "stream",
     "text": [
      "2020-05-09 20:13:57 [scrapy.core.engine] DEBUG: Crawled (200) <GET https://www.goodreads.com/book/show/30043.A_River_Runs_Through_it_and_Other_Stories> (referer: https://www.goodreads.com/list/show/1.Best_Books_Ever?page=10)\n",
      "2020-05-09 20:13:58 [scrapy.core.engine] DEBUG: Crawled (200) <GET https://www.goodreads.com/book/show/31338.Memnoch_the_Devil> (referer: https://www.goodreads.com/list/show/1.Best_Books_Ever?page=10)\n"
     ]
    },
    {
     "name": "stdout",
     "output_type": "stream",
     "text": [
      "Warning: Book missing series (https://www.goodreads.com/book/show/30043.A_River_Runs_Through_it_and_Other_Stories).\n"
     ]
    },
    {
     "name": "stderr",
     "output_type": "stream",
     "text": [
      "2020-05-09 20:13:58 [scrapy.core.engine] DEBUG: Crawled (200) <GET https://www.goodreads.com/book/show/50.Hatchet> (referer: https://www.goodreads.com/list/show/1.Best_Books_Ever?page=10)\n",
      "2020-05-09 20:13:58 [scrapy.core.engine] DEBUG: Crawled (200) <GET https://www.goodreads.com/book/show/365.Dirk_Gently_s_Holistic_Detective_Agency> (referer: https://www.goodreads.com/list/show/1.Best_Books_Ever?page=10)\n",
      "2020-05-09 20:13:59 [scrapy.core.engine] DEBUG: Crawled (200) <GET https://www.goodreads.com/book/show/11557.Swan_Song> (referer: https://www.goodreads.com/list/show/1.Best_Books_Ever?page=10)\n",
      "2020-05-09 20:13:59 [scrapy.core.engine] DEBUG: Crawled (200) <GET https://www.goodreads.com/book/show/8913370-fingersmith> (referer: https://www.goodreads.com/list/show/1.Best_Books_Ever?page=10)\n"
     ]
    },
    {
     "name": "stdout",
     "output_type": "stream",
     "text": [
      "Warning: Book missing series (https://www.goodreads.com/book/show/11557.Swan_Song).\n"
     ]
    },
    {
     "name": "stderr",
     "output_type": "stream",
     "text": [
      "2020-05-09 20:13:59 [scrapy.core.engine] DEBUG: Crawled (200) <GET https://www.goodreads.com/book/show/7937462-the-short-second-life-of-bree-tanner> (referer: https://www.goodreads.com/list/show/1.Best_Books_Ever?page=10)\n",
      "2020-05-09 20:13:59 [scrapy.extensions.logstats] INFO: Crawled 745 pages (at 192 pages/min), scraped 0 items (at 0 items/min)\n"
     ]
    },
    {
     "name": "stdout",
     "output_type": "stream",
     "text": [
      "Warning: Book missing series (https://www.goodreads.com/book/show/8913370-fingersmith).\n"
     ]
    },
    {
     "name": "stderr",
     "output_type": "stream",
     "text": [
      "2020-05-09 20:13:59 [scrapy.core.engine] DEBUG: Crawled (200) <GET https://www.goodreads.com/book/show/89724.We_Have_Always_Lived_in_the_Castle> (referer: https://www.goodreads.com/list/show/1.Best_Books_Ever?page=10)\n"
     ]
    },
    {
     "name": "stdout",
     "output_type": "stream",
     "text": [
      "Warning: Book missing series (https://www.goodreads.com/book/show/89724.We_Have_Always_Lived_in_the_Castle).\n"
     ]
    },
    {
     "name": "stderr",
     "output_type": "stream",
     "text": [
      "2020-05-09 20:14:00 [scrapy.core.engine] DEBUG: Crawled (200) <GET https://www.goodreads.com/book/show/43916.Magician> (referer: https://www.goodreads.com/list/show/1.Best_Books_Ever?page=10)\n",
      "2020-05-09 20:14:00 [scrapy.core.engine] DEBUG: Crawled (200) <GET https://www.goodreads.com/book/show/7824322-between-shades-of-gray> (referer: https://www.goodreads.com/list/show/1.Best_Books_Ever?page=10)\n",
      "2020-05-09 20:14:00 [scrapy.core.engine] DEBUG: Crawled (200) <GET https://www.goodreads.com/book/show/3165162-percy-jackson-and-the-olympians> (referer: https://www.goodreads.com/list/show/1.Best_Books_Ever?page=10)\n",
      "2020-05-09 20:14:00 [scrapy.core.engine] DEBUG: Crawled (200) <GET https://www.goodreads.com/book/show/12557.The_Kitchen_God_s_Wife> (referer: https://www.goodreads.com/list/show/1.Best_Books_Ever?page=10)\n"
     ]
    },
    {
     "name": "stdout",
     "output_type": "stream",
     "text": [
      "Warning: Book missing series (https://www.goodreads.com/book/show/7824322-between-shades-of-gray).\n",
      "Warning: Book missing series (https://www.goodreads.com/book/show/12557.The_Kitchen_God_s_Wife).\n"
     ]
    },
    {
     "name": "stderr",
     "output_type": "stream",
     "text": [
      "2020-05-09 20:14:01 [scrapy.core.engine] DEBUG: Crawled (200) <GET https://www.goodreads.com/book/show/27822.Eugene_Onegin> (referer: https://www.goodreads.com/list/show/1.Best_Books_Ever?page=10)\n"
     ]
    },
    {
     "name": "stdout",
     "output_type": "stream",
     "text": [
      "Warning: Book missing series (https://www.goodreads.com/book/show/27822.Eugene_Onegin).\n"
     ]
    },
    {
     "name": "stderr",
     "output_type": "stream",
     "text": [
      "2020-05-09 20:14:01 [scrapy.core.engine] DEBUG: Crawled (200) <GET https://www.goodreads.com/book/show/2355575.Cry_Wolf> (referer: https://www.goodreads.com/list/show/1.Best_Books_Ever?page=10)\n",
      "2020-05-09 20:14:01 [scrapy.core.engine] DEBUG: Crawled (200) <GET https://www.goodreads.com/book/show/943402.Let_the_Right_One_In> (referer: https://www.goodreads.com/list/show/1.Best_Books_Ever?page=10)\n"
     ]
    },
    {
     "name": "stdout",
     "output_type": "stream",
     "text": [
      "Warning: Book missing series (https://www.goodreads.com/book/show/943402.Let_the_Right_One_In).\n"
     ]
    },
    {
     "name": "stderr",
     "output_type": "stream",
     "text": [
      "2020-05-09 20:14:02 [scrapy.core.engine] DEBUG: Crawled (200) <GET https://www.goodreads.com/book/show/5932.Twenty_Love_Poems_and_a_Song_of_Despair> (referer: https://www.goodreads.com/list/show/1.Best_Books_Ever?page=10)\n",
      "2020-05-09 20:14:03 [scrapy.core.engine] DEBUG: Crawled (200) <GET https://www.goodreads.com/book/show/34532.Hogfather> (referer: https://www.goodreads.com/list/show/1.Best_Books_Ever?page=10)\n"
     ]
    },
    {
     "name": "stdout",
     "output_type": "stream",
     "text": [
      "Warning: Book missing series (https://www.goodreads.com/book/show/5932.Twenty_Love_Poems_and_a_Song_of_Despair).\n"
     ]
    },
    {
     "name": "stderr",
     "output_type": "stream",
     "text": [
      "2020-05-09 20:14:03 [scrapy.core.engine] DEBUG: Crawled (200) <GET https://www.goodreads.com/book/show/13651.The_Dispossessed> (referer: https://www.goodreads.com/list/show/1.Best_Books_Ever?page=10)\n",
      "2020-05-09 20:14:03 [scrapy.core.engine] DEBUG: Crawled (200) <GET https://www.goodreads.com/book/show/2722413-evernight> (referer: https://www.goodreads.com/list/show/1.Best_Books_Ever?page=10)\n",
      "2020-05-09 20:14:04 [scrapy.core.engine] DEBUG: Crawled (200) <GET https://www.goodreads.com/book/show/1295102.Lock_and_Key> (referer: https://www.goodreads.com/list/show/1.Best_Books_Ever?page=10)\n"
     ]
    },
    {
     "name": "stdout",
     "output_type": "stream",
     "text": [
      "Warning: Book missing series (https://www.goodreads.com/book/show/1295102.Lock_and_Key).\n"
     ]
    },
    {
     "name": "stderr",
     "output_type": "stream",
     "text": [
      "2020-05-09 20:14:04 [scrapy.core.engine] DEBUG: Crawled (200) <GET https://www.goodreads.com/book/show/15760001-on-dublin-street> (referer: https://www.goodreads.com/list/show/1.Best_Books_Ever?page=10)\n",
      "2020-05-09 20:14:05 [scrapy.core.engine] DEBUG: Crawled (200) <GET https://www.goodreads.com/book/show/38296.The_Last_of_the_Mohicans> (referer: https://www.goodreads.com/list/show/1.Best_Books_Ever?page=10)\n",
      "2020-05-09 20:14:05 [scrapy.core.engine] DEBUG: Crawled (200) <GET https://www.goodreads.com/book/show/18243700-the-assassin-s-blade> (referer: https://www.goodreads.com/list/show/1.Best_Books_Ever?page=10)\n",
      "2020-05-09 20:14:06 [scrapy.core.engine] DEBUG: Crawled (200) <GET https://www.goodreads.com/book/show/581811.Valley_of_the_Dolls> (referer: https://www.goodreads.com/list/show/1.Best_Books_Ever?page=10)\n",
      "2020-05-09 20:14:06 [scrapy.core.engine] DEBUG: Crawled (200) <GET https://www.goodreads.com/book/show/13496084-point-of-retreat> (referer: https://www.goodreads.com/list/show/1.Best_Books_Ever?page=10)\n"
     ]
    },
    {
     "name": "stdout",
     "output_type": "stream",
     "text": [
      "Warning: Book missing series (https://www.goodreads.com/book/show/581811.Valley_of_the_Dolls).\n"
     ]
    },
    {
     "name": "stderr",
     "output_type": "stream",
     "text": [
      "2020-05-09 20:14:06 [scrapy.core.engine] DEBUG: Crawled (200) <GET https://www.goodreads.com/book/show/2744.Anansi_Boys> (referer: https://www.goodreads.com/list/show/1.Best_Books_Ever?page=10)\n",
      "2020-05-09 20:14:06 [scrapy.core.engine] DEBUG: Crawled (200) <GET https://www.goodreads.com/book/show/17889664-to-live-and-die-in-fantasyland> (referer: https://www.goodreads.com/list/show/1.Best_Books_Ever?page=10)\n",
      "2020-05-09 20:14:06 [scrapy.core.engine] DEBUG: Crawled (200) <GET https://www.goodreads.com/book/show/242006.Running_with_Scissors> (referer: https://www.goodreads.com/list/show/1.Best_Books_Ever?page=10)\n",
      "2020-05-09 20:14:06 [scrapy.core.engine] DEBUG: Crawled (200) <GET https://www.goodreads.com/book/show/7600924-forbidden> (referer: https://www.goodreads.com/list/show/1.Best_Books_Ever?page=10)\n"
     ]
    },
    {
     "name": "stdout",
     "output_type": "stream",
     "text": [
      "Warning: Missing book original title (https://www.goodreads.com/book/show/17889664-to-live-and-die-in-fantasyland).\n",
      "Warning: Book missing language (https://www.goodreads.com/book/show/17889664-to-live-and-die-in-fantasyland).\n",
      "Warning: Book missing series (https://www.goodreads.com/book/show/242006.Running_with_Scissors).\n",
      "Warning: Book missing series (https://www.goodreads.com/book/show/7600924-forbidden).\n"
     ]
    },
    {
     "name": "stderr",
     "output_type": "stream",
     "text": [
      "2020-05-09 20:14:07 [scrapy.core.engine] DEBUG: Crawled (200) <GET https://www.goodreads.com/book/show/29797.The_Pilgrim_s_Progress> (referer: https://www.goodreads.com/list/show/1.Best_Books_Ever?page=10)\n",
      "2020-05-09 20:14:07 [scrapy.core.engine] DEBUG: Crawled (200) <GET https://www.goodreads.com/book/show/24113.G_del_Escher_Bach> (referer: https://www.goodreads.com/list/show/1.Best_Books_Ever?page=10)\n",
      "2020-05-09 20:14:07 [scrapy.core.engine] DEBUG: Crawled (200) <GET https://www.goodreads.com/book/show/7402393-nightshade> (referer: https://www.goodreads.com/list/show/1.Best_Books_Ever?page=10)\n"
     ]
    },
    {
     "name": "stdout",
     "output_type": "stream",
     "text": [
      "Warning: Book missing series (https://www.goodreads.com/book/show/29797.The_Pilgrim_s_Progress).\n",
      "Warning: Book missing series (https://www.goodreads.com/book/show/24113.G_del_Escher_Bach).\n"
     ]
    },
    {
     "name": "stderr",
     "output_type": "stream",
     "text": [
      "2020-05-09 20:14:08 [scrapy.core.engine] DEBUG: Crawled (200) <GET https://www.goodreads.com/book/show/8235178-across-the-universe> (referer: https://www.goodreads.com/list/show/1.Best_Books_Ever?page=10)\n",
      "2020-05-09 20:14:08 [scrapy.core.engine] DEBUG: Crawled (200) <GET https://www.goodreads.com/book/show/12985.The_Tempest> (referer: https://www.goodreads.com/list/show/1.Best_Books_Ever?page=10)\n"
     ]
    },
    {
     "name": "stdout",
     "output_type": "stream",
     "text": [
      "Warning: Book missing series (https://www.goodreads.com/book/show/12985.The_Tempest).\n"
     ]
    },
    {
     "name": "stderr",
     "output_type": "stream",
     "text": [
      "2020-05-09 20:14:08 [scrapy.core.engine] DEBUG: Crawled (200) <GET https://www.goodreads.com/book/show/8685612-the-iron-queen> (referer: https://www.goodreads.com/list/show/1.Best_Books_Ever?page=10)\n",
      "2020-05-09 20:14:09 [scrapy.core.engine] DEBUG: Crawled (200) <GET https://www.goodreads.com/book/show/1371.The_Iliad> (referer: https://www.goodreads.com/list/show/1.Best_Books_Ever?page=10)\n",
      "2020-05-09 20:14:09 [scrapy.core.engine] DEBUG: Crawled (200) <GET https://www.goodreads.com/book/show/5359.The_Client> (referer: https://www.goodreads.com/list/show/1.Best_Books_Ever?page=10)\n",
      "2020-05-09 20:14:09 [scrapy.core.engine] DEBUG: Crawled (200) <GET https://www.goodreads.com/book/show/6259.Birdsong> (referer: https://www.goodreads.com/list/show/1.Best_Books_Ever?page=10)\n"
     ]
    },
    {
     "name": "stdout",
     "output_type": "stream",
     "text": [
      "Warning: Book missing series (https://www.goodreads.com/book/show/1371.The_Iliad).\n",
      "Warning: Book missing series (https://www.goodreads.com/book/show/5359.The_Client)."
     ]
    },
    {
     "name": "stderr",
     "output_type": "stream",
     "text": [
      "2020-05-09 20:14:09 [scrapy.core.engine] DEBUG: Crawled (200) <GET https://www.goodreads.com/book/show/25845273-the-great-divorce> (referer: https://www.goodreads.com/list/show/1.Best_Books_Ever?page=10)\n"
     ]
    },
    {
     "name": "stdout",
     "output_type": "stream",
     "text": [
      "\n"
     ]
    },
    {
     "name": "stderr",
     "output_type": "stream",
     "text": [
      "2020-05-09 20:14:10 [scrapy.core.engine] DEBUG: Crawled (200) <GET https://www.goodreads.com/book/show/1240662.Lover_Enshrined> (referer: https://www.goodreads.com/list/show/1.Best_Books_Ever?page=10)\n"
     ]
    },
    {
     "name": "stdout",
     "output_type": "stream",
     "text": [
      "Warning: Book missing series (https://www.goodreads.com/book/show/25845273-the-great-divorce).\n"
     ]
    },
    {
     "name": "stderr",
     "output_type": "stream",
     "text": [
      "2020-05-09 20:14:10 [scrapy.core.engine] DEBUG: Crawled (200) <GET https://www.goodreads.com/book/show/102868.A_Study_in_Scarlet> (referer: https://www.goodreads.com/list/show/1.Best_Books_Ever?page=10)\n",
      "2020-05-09 20:14:11 [scrapy.core.engine] DEBUG: Crawled (200) <GET https://www.goodreads.com/book/show/45195.A_Passage_to_India> (referer: https://www.goodreads.com/list/show/1.Best_Books_Ever?page=10)\n",
      "2020-05-09 20:14:11 [scrapy.core.engine] DEBUG: Crawled (200) <GET https://www.goodreads.com/book/show/37793.A_Doll_s_House> (referer: https://www.goodreads.com/list/show/1.Best_Books_Ever?page=10)\n",
      "2020-05-09 20:14:11 [scrapy.core.engine] DEBUG: Crawled (200) <GET https://www.goodreads.com/book/show/124509.Smilla_s_Sense_of_Snow> (referer: https://www.goodreads.com/list/show/1.Best_Books_Ever?page=10)\n",
      "2020-05-09 20:14:11 [scrapy.core.engine] DEBUG: Crawled (200) <GET https://www.goodreads.com/book/show/32075671-the-hate-u-give> (referer: https://www.goodreads.com/list/show/1.Best_Books_Ever?page=10)\n"
     ]
    },
    {
     "name": "stdout",
     "output_type": "stream",
     "text": [
      "Warning: Book missing series (https://www.goodreads.com/book/show/45195.A_Passage_to_India).\n",
      "Warning: Book missing series (https://www.goodreads.com/book/show/37793.A_Doll_s_House).\n",
      "Warning: Book missing series (https://www.goodreads.com/book/show/124509.Smilla_s_Sense_of_Snow).\n",
      "Warning: Book missing series (https://www.goodreads.com/book/show/32075671-the-hate-u-give).\n"
     ]
    },
    {
     "name": "stderr",
     "output_type": "stream",
     "text": [
      "2020-05-09 20:14:12 [scrapy.core.engine] DEBUG: Crawled (200) <GET https://www.goodreads.com/book/show/7494.Suzanne_s_Diary_for_Nicholas> (referer: https://www.goodreads.com/list/show/1.Best_Books_Ever?page=10)\n"
     ]
    },
    {
     "name": "stdout",
     "output_type": "stream",
     "text": [
      "Warning: Book missing series (https://www.goodreads.com/book/show/7494.Suzanne_s_Diary_for_Nicholas).\n"
     ]
    },
    {
     "name": "stderr",
     "output_type": "stream",
     "text": [
      "2020-05-09 20:14:12 [scrapy.core.engine] DEBUG: Crawled (200) <GET https://www.goodreads.com/book/show/1430.Eleven_Minutes> (referer: https://www.goodreads.com/list/show/1.Best_Books_Ever?page=10)\n"
     ]
    },
    {
     "name": "stdout",
     "output_type": "stream",
     "text": [
      "Warning: Book missing series (https://www.goodreads.com/book/show/1430.Eleven_Minutes).\n"
     ]
    },
    {
     "name": "stderr",
     "output_type": "stream",
     "text": [
      "2020-05-09 20:14:13 [scrapy.core.engine] DEBUG: Crawled (200) <GET https://www.goodreads.com/book/show/68429.The_Well_of_Ascension> (referer: https://www.goodreads.com/list/show/1.Best_Books_Ever?page=10)\n",
      "2020-05-09 20:14:13 [scrapy.core.engine] DEBUG: Crawled (200) <GET https://www.goodreads.com/book/show/171547.Songs_of_Innocence_and_of_Experience> (referer: https://www.goodreads.com/list/show/1.Best_Books_Ever?page=10)\n",
      "2020-05-09 20:14:13 [scrapy.core.engine] DEBUG: Crawled (200) <GET https://www.goodreads.com/book/show/28251250-white-noise> (referer: https://www.goodreads.com/list/show/1.Best_Books_Ever?page=10)\n",
      "2020-05-09 20:14:13 [scrapy.core.engine] DEBUG: Crawled (200) <GET https://www.goodreads.com/book/show/5139.The_Devil_Wears_Prada> (referer: https://www.goodreads.com/list/show/1.Best_Books_Ever?page=10)\n"
     ]
    },
    {
     "name": "stdout",
     "output_type": "stream",
     "text": [
      "Warning: Book missing series (https://www.goodreads.com/book/show/171547.Songs_of_Innocence_and_of_Experience).\n",
      "Warning: Book missing series (https://www.goodreads.com/book/show/28251250-white-noise).\n"
     ]
    },
    {
     "name": "stderr",
     "output_type": "stream",
     "text": [
      "2020-05-09 20:14:13 [scrapy.core.engine] DEBUG: Crawled (200) <GET https://www.goodreads.com/book/show/7940583-chasing-the-devil> (referer: https://www.goodreads.com/list/show/1.Best_Books_Ever?page=10)\n"
     ]
    },
    {
     "name": "stdout",
     "output_type": "stream",
     "text": [
      "Warning: Missing book original title (https://www.goodreads.com/book/show/7940583-chasing-the-devil).\n",
      "Warning: Book missing series (https://www.goodreads.com/book/show/7940583-chasing-the-devil).\n"
     ]
    },
    {
     "name": "stderr",
     "output_type": "stream",
     "text": [
      "2020-05-09 20:14:14 [scrapy.core.engine] DEBUG: Crawled (200) <GET https://www.goodreads.com/book/show/19405702-walks-away-woman> (referer: https://www.goodreads.com/list/show/1.Best_Books_Ever?page=10)\n",
      "2020-05-09 20:14:14 [scrapy.core.engine] DEBUG: Crawled (200) <GET https://www.goodreads.com/book/show/3463.A_Bend_in_the_Road> (referer: https://www.goodreads.com/list/show/1.Best_Books_Ever?page=10)\n",
      "2020-05-09 20:14:15 [scrapy.core.engine] DEBUG: Crawled (200) <GET https://www.goodreads.com/book/show/5664985-along-for-the-ride> (referer: https://www.goodreads.com/list/show/1.Best_Books_Ever?page=10)\n"
     ]
    },
    {
     "name": "stdout",
     "output_type": "stream",
     "text": [
      "Warning: Missing book original title (https://www.goodreads.com/book/show/19405702-walks-away-woman).\n",
      "Warning: Book missing series (https://www.goodreads.com/book/show/19405702-walks-away-woman).\n",
      "Warning: Book missing series (https://www.goodreads.com/book/show/3463.A_Bend_in_the_Road).\n"
     ]
    },
    {
     "name": "stderr",
     "output_type": "stream",
     "text": [
      "2020-05-09 20:14:15 [scrapy.core.engine] DEBUG: Crawled (200) <GET https://www.goodreads.com/book/show/3570231-at-grave-s-end> (referer: https://www.goodreads.com/list/show/1.Best_Books_Ever?page=10)\n"
     ]
    },
    {
     "name": "stdout",
     "output_type": "stream",
     "text": [
      "Warning: Book missing series (https://www.goodreads.com/book/show/5664985-along-for-the-ride).\n"
     ]
    },
    {
     "name": "stderr",
     "output_type": "stream",
     "text": [
      "2020-05-09 20:14:15 [scrapy.core.engine] DEBUG: Crawled (200) <GET https://www.goodreads.com/book/show/10222.The_Far_Pavilions> (referer: https://www.goodreads.com/list/show/1.Best_Books_Ever?page=10)\n"
     ]
    },
    {
     "name": "stdout",
     "output_type": "stream",
     "text": [
      "Warning: Book missing series (https://www.goodreads.com/book/show/10222.The_Far_Pavilions).\n"
     ]
    },
    {
     "name": "stderr",
     "output_type": "stream",
     "text": [
      "2020-05-09 20:14:15 [scrapy.core.engine] DEBUG: Crawled (200) <GET https://www.goodreads.com/book/show/47021.The_Taming_of_the_Shrew> (referer: https://www.goodreads.com/list/show/1.Best_Books_Ever?page=10)\n",
      "2020-05-09 20:14:15 [scrapy.core.engine] DEBUG: Crawled (200) <GET https://www.goodreads.com/book/show/8709526-the-indigo-spell> (referer: https://www.goodreads.com/list/show/1.Best_Books_Ever?page=10)\n",
      "2020-05-09 20:14:16 [scrapy.core.engine] DEBUG: Crawled (200) <GET https://www.goodreads.com/book/show/111332.Into_the_Wild> (referer: https://www.goodreads.com/list/show/1.Best_Books_Ever?page=10)\n",
      "2020-05-09 20:14:16 [scrapy.core.engine] DEBUG: Crawled (200) <GET https://www.goodreads.com/book/show/10979.Light_in_August> (referer: https://www.goodreads.com/list/show/1.Best_Books_Ever?page=10)\n"
     ]
    },
    {
     "name": "stdout",
     "output_type": "stream",
     "text": [
      "Warning: Book missing series (https://www.goodreads.com/book/show/47021.The_Taming_of_the_Shrew).\n",
      "Warning: Book missing series (https://www.goodreads.com/book/show/10979.Light_in_August).\n"
     ]
    },
    {
     "name": "stderr",
     "output_type": "stream",
     "text": [
      "2020-05-09 20:14:17 [scrapy.core.engine] DEBUG: Crawled (200) <GET https://www.goodreads.com/book/show/872333.Blue_Bloods> (referer: https://www.goodreads.com/list/show/1.Best_Books_Ever?page=10)\n",
      "2020-05-09 20:14:17 [scrapy.core.engine] DEBUG: Crawled (200) <GET https://www.goodreads.com/book/show/544891.Beastly> (referer: https://www.goodreads.com/list/show/1.Best_Books_Ever?page=10)\n",
      "2020-05-09 20:14:17 [scrapy.core.engine] DEBUG: Crawled (200) <GET https://www.goodreads.com/book/show/5094.The_Drawing_of_the_Three> (referer: https://www.goodreads.com/list/show/1.Best_Books_Ever?page=10)\n",
      "2020-05-09 20:14:18 [scrapy.core.engine] DEBUG: Crawled (200) <GET https://www.goodreads.com/book/show/5287473-hex-hall> (referer: https://www.goodreads.com/list/show/1.Best_Books_Ever?page=10)\n",
      "2020-05-09 20:14:19 [scrapy.core.engine] DEBUG: Crawled (200) <GET https://www.goodreads.com/book/show/54539.Silas_Marner> (referer: https://www.goodreads.com/list/show/1.Best_Books_Ever?page=10)\n",
      "2020-05-09 20:14:19 [scrapy.core.engine] DEBUG: Crawled (200) <GET https://www.goodreads.com/book/show/469571.All_the_Pretty_Horses> (referer: https://www.goodreads.com/list/show/1.Best_Books_Ever?page=10)\n",
      "2020-05-09 20:14:19 [scrapy.core.engine] DEBUG: Crawled (200) <GET https://www.goodreads.com/book/show/36590307-unblinded> (referer: https://www.goodreads.com/list/show/1.Best_Books_Ever?page=10)\n"
     ]
    },
    {
     "name": "stdout",
     "output_type": "stream",
     "text": [
      "Warning: Book missing series (https://www.goodreads.com/book/show/54539.Silas_Marner).\n",
      "Warning: Missing book original title (https://www.goodreads.com/book/show/36590307-unblinded).\n",
      "Warning: Book missing series (https://www.goodreads.com/book/show/36590307-unblinded).\n",
      "Warning: Book missing language (https://www.goodreads.com/book/show/36590307-unblinded).\n",
      "Warning: Book missing description (https://www.goodreads.com/book/show/36590307-unblinded).\n"
     ]
    },
    {
     "name": "stderr",
     "output_type": "stream",
     "text": [
      "2020-05-09 20:14:19 [scrapy.core.engine] DEBUG: Crawled (200) <GET https://www.goodreads.com/book/show/60400.The_Ruins_of_Gorlan> (referer: https://www.goodreads.com/list/show/1.Best_Books_Ever?page=10)\n",
      "2020-05-09 20:14:20 [scrapy.core.engine] DEBUG: Crawled (200) <GET https://www.goodreads.com/book/show/22881898-shot-down> (referer: https://www.goodreads.com/list/show/1.Best_Books_Ever?page=10)\n"
     ]
    },
    {
     "name": "stdout",
     "output_type": "stream",
     "text": [
      "Warning: Book missing series (https://www.goodreads.com/book/show/22881898-shot-down).\n"
     ]
    },
    {
     "name": "stderr",
     "output_type": "stream",
     "text": [
      "2020-05-09 20:14:20 [scrapy.core.engine] DEBUG: Crawled (200) <GET https://www.goodreads.com/book/show/29999.The_Maltese_Falcon> (referer: https://www.goodreads.com/list/show/1.Best_Books_Ever?page=10)\n",
      "2020-05-09 20:14:20 [scrapy.core.engine] DEBUG: Crawled (200) <GET https://www.goodreads.com/book/show/15925.The_Guardian> (referer: https://www.goodreads.com/list/show/1.Best_Books_Ever?page=10)\n",
      "2020-05-09 20:14:20 [scrapy.core.engine] DEBUG: Crawled (200) <GET https://www.goodreads.com/book/show/773951.The_Story_of_Ferdinand> (referer: https://www.goodreads.com/list/show/1.Best_Books_Ever?page=10)\n"
     ]
    },
    {
     "name": "stdout",
     "output_type": "stream",
     "text": [
      "Warning: Book missing series (https://www.goodreads.com/book/show/29999.The_Maltese_Falcon).\n",
      "Warning: Book missing series (https://www.goodreads.com/book/show/15925.The_Guardian).\n"
     ]
    },
    {
     "name": "stderr",
     "output_type": "stream",
     "text": [
      "2020-05-09 20:14:21 [scrapy.core.engine] DEBUG: Crawled (200) <GET https://www.goodreads.com/book/show/30264.Dead_Witch_Walking> (referer: https://www.goodreads.com/list/show/1.Best_Books_Ever?page=10)\n",
      "2020-05-09 20:14:21 [scrapy.core.engine] DEBUG: Crawled (200) <GET https://www.goodreads.com/book/show/43483262-love-is-the-answer-god-is-the-cure> (referer: https://www.goodreads.com/list/show/1.Best_Books_Ever?page=10)\n"
     ]
    },
    {
     "name": "stdout",
     "output_type": "stream",
     "text": [
      "Warning: Book missing series (https://www.goodreads.com/book/show/773951.The_Story_of_Ferdinand).\n",
      "Warning: Book missing series (https://www.goodreads.com/book/show/43483262-love-is-the-answer-god-is-the-cure).\n"
     ]
    },
    {
     "name": "stderr",
     "output_type": "stream",
     "text": [
      "2020-05-09 20:14:21 [scrapy.core.engine] DEBUG: Crawled (200) <GET https://www.goodreads.com/book/show/527756.The_Man_Without_Qualities> (referer: https://www.goodreads.com/list/show/1.Best_Books_Ever?page=10)\n"
     ]
    },
    {
     "name": "stdout",
     "output_type": "stream",
     "text": [
      "Warning: Book missing series (https://www.goodreads.com/book/show/527756.The_Man_Without_Qualities).\n"
     ]
    },
    {
     "name": "stderr",
     "output_type": "stream",
     "text": [
      "2020-05-09 20:14:21 [scrapy.core.engine] DEBUG: Crawled (200) <GET https://www.goodreads.com/book/show/13262783-every-day> (referer: https://www.goodreads.com/list/show/1.Best_Books_Ever?page=10)\n",
      "2020-05-09 20:14:22 [scrapy.core.engine] DEBUG: Crawled (200) <GET https://www.goodreads.com/book/show/414999.Childhood_s_End> (referer: https://www.goodreads.com/list/show/1.Best_Books_Ever?page=10)\n"
     ]
    },
    {
     "name": "stdout",
     "output_type": "stream",
     "text": [
      "Warning: Book missing series (https://www.goodreads.com/book/show/414999.Childhood_s_End).\n"
     ]
    },
    {
     "name": "stderr",
     "output_type": "stream",
     "text": [
      "2020-05-09 20:14:22 [scrapy.core.engine] DEBUG: Crawled (200) <GET https://www.goodreads.com/book/show/51893.Thus_Spoke_Zarathustra> (referer: https://www.goodreads.com/list/show/1.Best_Books_Ever?page=10)\n"
     ]
    },
    {
     "name": "stdout",
     "output_type": "stream",
     "text": [
      "Warning: Book missing series (https://www.goodreads.com/book/show/51893.Thus_Spoke_Zarathustra).\n"
     ]
    },
    {
     "name": "stderr",
     "output_type": "stream",
     "text": [
      "2020-05-09 20:14:23 [scrapy.core.engine] DEBUG: Crawled (200) <GET https://www.goodreads.com/book/show/24192.The_Runaway_Jury> (referer: https://www.goodreads.com/list/show/1.Best_Books_Ever?page=10)\n",
      "2020-05-09 20:14:23 [scrapy.core.engine] DEBUG: Crawled (200) <GET https://www.goodreads.com/book/show/30659.Meditations> (referer: https://www.goodreads.com/list/show/1.Best_Books_Ever?page=10)\n",
      "2020-05-09 20:14:23 [scrapy.core.engine] DEBUG: Crawled (200) <GET https://www.goodreads.com/book/show/5096.Wizard_and_Glass> (referer: https://www.goodreads.com/list/show/1.Best_Books_Ever?page=10)\n",
      "2020-05-09 20:14:23 [scrapy.core.engine] DEBUG: Crawled (200) <GET https://www.goodreads.com/book/show/19547856-simon-vs-the-homo-sapiens-agenda> (referer: https://www.goodreads.com/list/show/1.Best_Books_Ever?page=10)\n"
     ]
    },
    {
     "name": "stdout",
     "output_type": "stream",
     "text": [
      "Warning: Book missing series (https://www.goodreads.com/book/show/24192.The_Runaway_Jury).\n"
     ]
    },
    {
     "name": "stderr",
     "output_type": "stream",
     "text": [
      "2020-05-09 20:14:24 [scrapy.core.engine] DEBUG: Crawled (200) <GET https://www.goodreads.com/book/show/216363.The_Man_in_the_High_Castle> (referer: https://www.goodreads.com/list/show/1.Best_Books_Ever?page=10)\n"
     ]
    },
    {
     "name": "stdout",
     "output_type": "stream",
     "text": [
      "Warning: Book missing series (https://www.goodreads.com/book/show/30659.Meditations).\n",
      "Warning: Book missing series (https://www.goodreads.com/book/show/216363.The_Man_in_the_High_Castle).\n"
     ]
    },
    {
     "name": "stderr",
     "output_type": "stream",
     "text": [
      "2020-05-09 20:14:24 [scrapy.core.engine] DEBUG: Crawled (200) <GET https://www.goodreads.com/book/show/40603730-safe-haven> (referer: https://www.goodreads.com/list/show/1.Best_Books_Ever?page=9)\n",
      "2020-05-09 20:14:25 [scrapy.core.engine] DEBUG: Crawled (200) <GET https://www.goodreads.com/book/show/9284655-tiger-s-curse> (referer: https://www.goodreads.com/list/show/1.Best_Books_Ever?page=10)\n"
     ]
    },
    {
     "name": "stdout",
     "output_type": "stream",
     "text": [
      "Warning: Book missing series (https://www.goodreads.com/book/show/40603730-safe-haven).\n"
     ]
    },
    {
     "name": "stderr",
     "output_type": "stream",
     "text": [
      "2020-05-09 20:14:25 [scrapy.core.engine] DEBUG: Crawled (200) <GET https://www.goodreads.com/book/show/732562.The_Rime_of_the_Ancient_Mariner> (referer: https://www.goodreads.com/list/show/1.Best_Books_Ever?page=9)\n"
     ]
    },
    {
     "name": "stdout",
     "output_type": "stream",
     "text": [
      "Warning: Book missing series (https://www.goodreads.com/book/show/732562.The_Rime_of_the_Ancient_Mariner).\n"
     ]
    },
    {
     "name": "stderr",
     "output_type": "stream",
     "text": [
      "2020-05-09 20:14:25 [scrapy.core.engine] DEBUG: Crawled (200) <GET https://www.goodreads.com/book/show/31196.The_Razor_s_Edge> (referer: https://www.goodreads.com/list/show/1.Best_Books_Ever?page=10)\n",
      "2020-05-09 20:14:25 [scrapy.core.engine] DEBUG: Crawled (200) <GET https://www.goodreads.com/book/show/5161066-dead-and-gone> (referer: https://www.goodreads.com/list/show/1.Best_Books_Ever?page=9)\n",
      "2020-05-09 20:14:25 [scrapy.core.engine] DEBUG: Crawled (200) <GET https://www.goodreads.com/book/show/7488244-unearthly> (referer: https://www.goodreads.com/list/show/1.Best_Books_Ever?page=10)\n"
     ]
    },
    {
     "name": "stdout",
     "output_type": "stream",
     "text": [
      "Warning: Book missing series (https://www.goodreads.com/book/show/31196.The_Razor_s_Edge).\n"
     ]
    },
    {
     "name": "stderr",
     "output_type": "stream",
     "text": [
      "2020-05-09 20:14:26 [scrapy.core.engine] DEBUG: Crawled (200) <GET https://www.goodreads.com/book/show/479415.The_Horse_Whisperer> (referer: https://www.goodreads.com/list/show/1.Best_Books_Ever?page=9)\n",
      "2020-05-09 20:14:26 [scrapy.core.engine] DEBUG: Crawled (200) <GET https://www.goodreads.com/book/show/6192.Disgrace> (referer: https://www.goodreads.com/list/show/1.Best_Books_Ever?page=9)\n"
     ]
    },
    {
     "name": "stdout",
     "output_type": "stream",
     "text": [
      "Warning: Book missing series (https://www.goodreads.com/book/show/479415.The_Horse_Whisperer).\n",
      "Warning: Book missing series (https://www.goodreads.com/book/show/6192.Disgrace).\n"
     ]
    },
    {
     "name": "stderr",
     "output_type": "stream",
     "text": [
      "2020-05-09 20:14:26 [scrapy.core.engine] DEBUG: Crawled (200) <GET https://www.goodreads.com/book/show/2122.The_Fountainhead> (referer: https://www.goodreads.com/list/show/1.Best_Books_Ever?page=9)\n"
     ]
    },
    {
     "name": "stdout",
     "output_type": "stream",
     "text": [
      "Warning: Book missing series (https://www.goodreads.com/book/show/2122.The_Fountainhead).\n"
     ]
    },
    {
     "name": "stderr",
     "output_type": "stream",
     "text": [
      "2020-05-09 20:14:27 [scrapy.core.engine] DEBUG: Crawled (200) <GET https://www.goodreads.com/book/show/18300212-the-trigger> (referer: https://www.goodreads.com/list/show/1.Best_Books_Ever?page=9)\n",
      "2020-05-09 20:14:27 [scrapy.core.engine] DEBUG: Crawled (200) <GET https://www.goodreads.com/book/show/348225.These_Is_My_Words> (referer: https://www.goodreads.com/list/show/1.Best_Books_Ever?page=10)\n",
      "2020-05-09 20:14:27 [scrapy.core.engine] DEBUG: Crawled (200) <GET https://www.goodreads.com/book/show/297673.The_Brief_Wondrous_Life_of_Oscar_Wao> (referer: https://www.goodreads.com/list/show/1.Best_Books_Ever?page=9)\n"
     ]
    },
    {
     "name": "stdout",
     "output_type": "stream",
     "text": [
      "Warning: Book missing series (https://www.goodreads.com/book/show/18300212-the-trigger).\n",
      "Warning: Book missing series (https://www.goodreads.com/book/show/297673.The_Brief_Wondrous_Life_of_Oscar_Wao).\n"
     ]
    },
    {
     "name": "stderr",
     "output_type": "stream",
     "text": [
      "2020-05-09 20:14:28 [scrapy.core.engine] DEBUG: Crawled (200) <GET https://www.goodreads.com/book/show/16328.The_Murder_of_Roger_Ackroyd> (referer: https://www.goodreads.com/list/show/1.Best_Books_Ever?page=9)\n",
      "2020-05-09 20:14:28 [scrapy.core.engine] DEBUG: Crawled (200) <GET https://www.goodreads.com/book/show/17788401-ugly-love> (referer: https://www.goodreads.com/list/show/1.Best_Books_Ever?page=9)\n",
      "2020-05-09 20:14:28 [scrapy.core.engine] DEBUG: Crawled (200) <GET https://www.goodreads.com/book/show/99944.The_Bhagavad_Gita> (referer: https://www.goodreads.com/list/show/1.Best_Books_Ever?page=9)\n",
      "2020-05-09 20:14:28 [scrapy.core.engine] DEBUG: Crawled (200) <GET https://www.goodreads.com/book/show/12395.Journey_to_the_End_of_the_Night> (referer: https://www.goodreads.com/list/show/1.Best_Books_Ever?page=9)\n"
     ]
    },
    {
     "name": "stdout",
     "output_type": "stream",
     "text": [
      "Warning: Book missing series (https://www.goodreads.com/book/show/17788401-ugly-love).\n",
      "Warning: Book missing series (https://www.goodreads.com/book/show/99944.The_Bhagavad_Gita).\n"
     ]
    },
    {
     "name": "stderr",
     "output_type": "stream",
     "text": [
      "2020-05-09 20:14:29 [scrapy.core.engine] DEBUG: Crawled (200) <GET https://www.goodreads.com/book/show/5886881-dark-places> (referer: https://www.goodreads.com/list/show/1.Best_Books_Ever?page=9)\n",
      "2020-05-09 20:14:29 [scrapy.core.engine] DEBUG: Crawled (200) <GET https://www.goodreads.com/book/show/23878688-the-5-love-languages> (referer: https://www.goodreads.com/list/show/1.Best_Books_Ever?page=9)\n"
     ]
    },
    {
     "name": "stdout",
     "output_type": "stream",
     "text": [
      "Warning: Book missing series (https://www.goodreads.com/book/show/5886881-dark-places).\n"
     ]
    },
    {
     "name": "stderr",
     "output_type": "stream",
     "text": [
      "2020-05-09 20:14:29 [scrapy.core.engine] DEBUG: Crawled (200) <GET https://www.goodreads.com/book/show/140075.All_Together_Dead> (referer: https://www.goodreads.com/list/show/1.Best_Books_Ever?page=9)\n",
      "2020-05-09 20:14:29 [scrapy.core.engine] DEBUG: Crawled (200) <GET https://www.goodreads.com/book/show/12926063-skagboys> (referer: https://www.goodreads.com/list/show/1.Best_Books_Ever?page=9)\n",
      "2020-05-09 20:14:30 [scrapy.core.engine] DEBUG: Crawled (200) <GET https://www.goodreads.com/book/show/5056084-wings> (referer: https://www.goodreads.com/list/show/1.Best_Books_Ever?page=9)\n",
      "2020-05-09 20:14:30 [scrapy.core.engine] DEBUG: Crawled (200) <GET https://www.goodreads.com/book/show/18045891-sharp-objects> (referer: https://www.goodreads.com/list/show/1.Best_Books_Ever?page=9)\n",
      "2020-05-09 20:14:30 [scrapy.core.engine] DEBUG: Crawled (200) <GET https://www.goodreads.com/book/show/2233407.From_Dead_to_Worse> (referer: https://www.goodreads.com/list/show/1.Best_Books_Ever?page=9)\n"
     ]
    },
    {
     "name": "stdout",
     "output_type": "stream",
     "text": [
      "Warning: Book missing series (https://www.goodreads.com/book/show/18045891-sharp-objects).\n"
     ]
    },
    {
     "name": "stderr",
     "output_type": "stream",
     "text": [
      "2020-05-09 20:14:31 [scrapy.core.engine] DEBUG: Crawled (200) <GET https://www.goodreads.com/book/show/9369720-passion> (referer: https://www.goodreads.com/list/show/1.Best_Books_Ever?page=9)\n",
      "2020-05-09 20:14:31 [scrapy.core.engine] DEBUG: Crawled (200) <GET https://www.goodreads.com/book/show/76171.We> (referer: https://www.goodreads.com/list/show/1.Best_Books_Ever?page=9)\n",
      "2020-05-09 20:14:31 [scrapy.core.engine] DEBUG: Crawled (200) <GET https://www.goodreads.com/book/show/6567017-will-grayson-will-grayson> (referer: https://www.goodreads.com/list/show/1.Best_Books_Ever?page=9)\n"
     ]
    },
    {
     "name": "stdout",
     "output_type": "stream",
     "text": [
      "Warning: Book missing series (https://www.goodreads.com/book/show/76171.We).\n"
     ]
    },
    {
     "name": "stderr",
     "output_type": "stream",
     "text": [
      "2020-05-09 20:14:31 [scrapy.core.engine] DEBUG: Crawled (200) <GET https://www.goodreads.com/book/show/9566.Still_Life_with_Woodpecker> (referer: https://www.goodreads.com/list/show/1.Best_Books_Ever?page=9)\n",
      "2020-05-09 20:14:32 [scrapy.core.engine] DEBUG: Crawled (200) <GET https://www.goodreads.com/book/show/13047090-onyx> (referer: https://www.goodreads.com/list/show/1.Best_Books_Ever?page=9)\n"
     ]
    },
    {
     "name": "stdout",
     "output_type": "stream",
     "text": [
      "Warning: Book missing series (https://www.goodreads.com/book/show/9566.Still_Life_with_Woodpecker).\n"
     ]
    },
    {
     "name": "stderr",
     "output_type": "stream",
     "text": [
      "2020-05-09 20:14:32 [scrapy.core.engine] DEBUG: Crawled (200) <GET https://www.goodreads.com/book/show/11918.Bitten> (referer: https://www.goodreads.com/list/show/1.Best_Books_Ever?page=9)\n",
      "2020-05-09 20:14:32 [scrapy.core.engine] DEBUG: Crawled (200) <GET https://www.goodreads.com/book/show/976.Deception_Point> (referer: https://www.goodreads.com/list/show/1.Best_Books_Ever?page=9)\n"
     ]
    },
    {
     "name": "stdout",
     "output_type": "stream",
     "text": [
      "Warning: Book missing series (https://www.goodreads.com/book/show/976.Deception_Point).\n"
     ]
    },
    {
     "name": "stderr",
     "output_type": "stream",
     "text": [
      "2020-05-09 20:14:33 [scrapy.core.engine] DEBUG: Crawled (200) <GET https://www.goodreads.com/book/show/2702704-faefever> (referer: https://www.goodreads.com/list/show/1.Best_Books_Ever?page=9)\n",
      "2020-05-09 20:14:33 [scrapy.core.engine] DEBUG: Crawled (200) <GET https://www.goodreads.com/book/show/42038.Shakespeare_s_Sonnets> (referer: https://www.goodreads.com/list/show/1.Best_Books_Ever?page=9)\n"
     ]
    },
    {
     "name": "stdout",
     "output_type": "stream",
     "text": [
      "Warning: Book missing series (https://www.goodreads.com/book/show/42038.Shakespeare_s_Sonnets).\n",
      "Warning: Book missing description (https://www.goodreads.com/book/show/42038.Shakespeare_s_Sonnets).\n"
     ]
    },
    {
     "name": "stderr",
     "output_type": "stream",
     "text": [
      "2020-05-09 20:14:34 [scrapy.core.engine] DEBUG: Crawled (200) <GET https://www.goodreads.com/book/show/38180.On_the_Beach> (referer: https://www.goodreads.com/list/show/1.Best_Books_Ever?page=9)\n",
      "2020-05-09 20:14:34 [scrapy.core.engine] DEBUG: Crawled (200) <GET https://www.goodreads.com/book/show/84136.Fantasy_Lover> (referer: https://www.goodreads.com/list/show/1.Best_Books_Ever?page=9)\n"
     ]
    },
    {
     "name": "stdout",
     "output_type": "stream",
     "text": [
      "Warning: Book missing series (https://www.goodreads.com/book/show/38180.On_the_Beach).\n"
     ]
    },
    {
     "name": "stderr",
     "output_type": "stream",
     "text": [
      "2020-05-09 20:14:34 [scrapy.core.engine] DEBUG: Crawled (200) <GET https://www.goodreads.com/book/show/22205.This_Lullaby> (referer: https://www.goodreads.com/list/show/1.Best_Books_Ever?page=9)\n",
      "2020-05-09 20:14:34 [scrapy.core.engine] DEBUG: Crawled (200) <GET https://www.goodreads.com/book/show/16729.Beach_Music> (referer: https://www.goodreads.com/list/show/1.Best_Books_Ever?page=9)\n"
     ]
    },
    {
     "name": "stdout",
     "output_type": "stream",
     "text": [
      "Warning: Book missing series (https://www.goodreads.com/book/show/22205.This_Lullaby).\n"
     ]
    },
    {
     "name": "stderr",
     "output_type": "stream",
     "text": [
      "2020-05-09 20:14:35 [scrapy.core.engine] DEBUG: Crawled (200) <GET https://www.goodreads.com/book/show/395871.The_Awakening_The_Struggle> (referer: https://www.goodreads.com/list/show/1.Best_Books_Ever?page=9)\n"
     ]
    },
    {
     "name": "stdout",
     "output_type": "stream",
     "text": [
      "Warning: Book missing series (https://www.goodreads.com/book/show/16729.Beach_Music).\n"
     ]
    },
    {
     "name": "stderr",
     "output_type": "stream",
     "text": [
      "2020-05-09 20:14:35 [scrapy.core.engine] DEBUG: Crawled (200) <GET https://www.goodreads.com/book/show/310459.Roll_of_Thunder_Hear_My_Cry> (referer: https://www.goodreads.com/list/show/1.Best_Books_Ever?page=9)\n",
      "2020-05-09 20:14:35 [scrapy.core.engine] DEBUG: Crawled (200) <GET https://www.goodreads.com/book/show/17728.The_House_of_Mirth> (referer: https://www.goodreads.com/list/show/1.Best_Books_Ever?page=9)\n"
     ]
    },
    {
     "name": "stdout",
     "output_type": "stream",
     "text": [
      "Warning: Book missing series (https://www.goodreads.com/book/show/17728.The_House_of_Mirth).\n"
     ]
    },
    {
     "name": "stderr",
     "output_type": "stream",
     "text": [
      "2020-05-09 20:14:35 [scrapy.core.engine] DEBUG: Crawled (200) <GET https://www.goodreads.com/book/show/10916.The_Pact> (referer: https://www.goodreads.com/list/show/1.Best_Books_Ever?page=9)\n",
      "2020-05-09 20:14:36 [scrapy.core.engine] DEBUG: Crawled (200) <GET https://www.goodreads.com/book/show/9014.The_Long_Walk> (referer: https://www.goodreads.com/list/show/1.Best_Books_Ever?page=9)\n"
     ]
    },
    {
     "name": "stdout",
     "output_type": "stream",
     "text": [
      "Warning: Book missing series (https://www.goodreads.com/book/show/10916.The_Pact).\n"
     ]
    },
    {
     "name": "stderr",
     "output_type": "stream",
     "text": [
      "2020-05-09 20:14:36 [scrapy.core.engine] DEBUG: Crawled (200) <GET https://www.goodreads.com/book/show/44652.Fablehaven> (referer: https://www.goodreads.com/list/show/1.Best_Books_Ever?page=9)\n"
     ]
    },
    {
     "name": "stdout",
     "output_type": "stream",
     "text": [
      "Warning: Book missing series (https://www.goodreads.com/book/show/9014.The_Long_Walk).\n"
     ]
    },
    {
     "name": "stderr",
     "output_type": "stream",
     "text": [
      "2020-05-09 20:14:36 [scrapy.core.engine] DEBUG: Crawled (200) <GET https://www.goodreads.com/book/show/10194157-shadow-and-bone> (referer: https://www.goodreads.com/list/show/1.Best_Books_Ever?page=9)\n",
      "2020-05-09 20:14:37 [scrapy.core.engine] DEBUG: Crawled (200) <GET https://www.goodreads.com/book/show/7437.Naked_Lunch> (referer: https://www.goodreads.com/list/show/1.Best_Books_Ever?page=9)\n"
     ]
    },
    {
     "name": "stdout",
     "output_type": "stream",
     "text": [
      "Warning: Book missing series (https://www.goodreads.com/book/show/7437.Naked_Lunch).\n"
     ]
    },
    {
     "name": "stderr",
     "output_type": "stream",
     "text": [
      "2020-05-09 20:14:37 [scrapy.core.engine] DEBUG: Crawled (200) <GET https://www.goodreads.com/book/show/13517535-thoughtless> (referer: https://www.goodreads.com/list/show/1.Best_Books_Ever?page=9)\n",
      "2020-05-09 20:14:37 [scrapy.core.engine] DEBUG: Crawled (200) <GET https://www.goodreads.com/book/show/16056408-easy> (referer: https://www.goodreads.com/list/show/1.Best_Books_Ever?page=9)\n",
      "2020-05-09 20:14:38 [scrapy.core.engine] DEBUG: Crawled (200) <GET https://www.goodreads.com/book/show/41424.Beauty> (referer: https://www.goodreads.com/list/show/1.Best_Books_Ever?page=9)\n",
      "2020-05-09 20:14:38 [scrapy.core.engine] DEBUG: Crawled (200) <GET https://www.goodreads.com/book/show/5168.Where_the_Heart_Is> (referer: https://www.goodreads.com/list/show/1.Best_Books_Ever?page=9)\n"
     ]
    },
    {
     "name": "stdout",
     "output_type": "stream",
     "text": [
      "Warning: Book missing series (https://www.goodreads.com/book/show/5168.Where_the_Heart_Is).\n"
     ]
    },
    {
     "name": "stderr",
     "output_type": "stream",
     "text": [
      "2020-05-09 20:14:38 [scrapy.core.engine] DEBUG: Crawled (200) <GET https://www.goodreads.com/book/show/9791.A_Walk_in_the_Woods> (referer: https://www.goodreads.com/list/show/1.Best_Books_Ever?page=9)\n",
      "2020-05-09 20:14:39 [scrapy.core.engine] DEBUG: Crawled (200) <GET https://www.goodreads.com/book/show/2731276-the-story-of-edgar-sawtelle> (referer: https://www.goodreads.com/list/show/1.Best_Books_Ever?page=9)\n",
      "2020-05-09 20:14:39 [scrapy.core.engine] DEBUG: Crawled (200) <GET https://www.goodreads.com/book/show/18839.Orlando> (referer: https://www.goodreads.com/list/show/1.Best_Books_Ever?page=9)\n"
     ]
    },
    {
     "name": "stdout",
     "output_type": "stream",
     "text": [
      "Warning: Book missing series (https://www.goodreads.com/book/show/2731276-the-story-of-edgar-sawtelle).\n",
      "Warning: Book missing series (https://www.goodreads.com/book/show/18839.Orlando).\n"
     ]
    },
    {
     "name": "stderr",
     "output_type": "stream",
     "text": [
      "2020-05-09 20:14:40 [scrapy.core.engine] DEBUG: Crawled (200) <GET https://www.goodreads.com/book/show/2666.The_Bonfire_of_the_Vanities> (referer: https://www.goodreads.com/list/show/1.Best_Books_Ever?page=9)\n",
      "2020-05-09 20:14:40 [scrapy.core.engine] DEBUG: Crawled (200) <GET https://www.goodreads.com/book/show/4631.A_Moveable_Feast> (referer: https://www.goodreads.com/list/show/1.Best_Books_Ever?page=9)\n"
     ]
    },
    {
     "name": "stdout",
     "output_type": "stream",
     "text": [
      "Warning: Book missing series (https://www.goodreads.com/book/show/2666.The_Bonfire_of_the_Vanities).\n",
      "Warning: Book missing description (https://www.goodreads.com/book/show/2666.The_Bonfire_of_the_Vanities).\n"
     ]
    },
    {
     "name": "stderr",
     "output_type": "stream",
     "text": [
      "2020-05-09 20:14:40 [scrapy.core.engine] DEBUG: Crawled (200) <GET https://www.goodreads.com/book/show/334123.The_Amulet_of_Samarkand> (referer: https://www.goodreads.com/list/show/1.Best_Books_Ever?page=9)\n"
     ]
    },
    {
     "name": "stdout",
     "output_type": "stream",
     "text": [
      "Warning: Book missing series (https://www.goodreads.com/book/show/4631.A_Moveable_Feast).\n"
     ]
    },
    {
     "name": "stderr",
     "output_type": "stream",
     "text": [
      "2020-05-09 20:14:41 [scrapy.core.engine] DEBUG: Crawled (200) <GET https://www.goodreads.com/book/show/11991.The_Fall> (referer: https://www.goodreads.com/list/show/1.Best_Books_Ever?page=9)\n"
     ]
    },
    {
     "name": "stdout",
     "output_type": "stream",
     "text": [
      "Warning: Book missing series (https://www.goodreads.com/book/show/11991.The_Fall).\n"
     ]
    },
    {
     "name": "stderr",
     "output_type": "stream",
     "text": [
      "2020-05-09 20:14:41 [scrapy.core.engine] DEBUG: Crawled (200) <GET https://www.goodreads.com/book/show/7822895-the-millennium-trilogy> (referer: https://www.goodreads.com/list/show/1.Best_Books_Ever?page=9)\n",
      "2020-05-09 20:14:42 [scrapy.core.engine] DEBUG: Crawled (200) <GET https://www.goodreads.com/book/show/162898.A_Connecticut_Yankee_in_King_Arthur_s_Court> (referer: https://www.goodreads.com/list/show/1.Best_Books_Ever?page=9)\n"
     ]
    },
    {
     "name": "stdout",
     "output_type": "stream",
     "text": [
      "Warning: Book missing series (https://www.goodreads.com/book/show/7822895-the-millennium-trilogy).\n"
     ]
    },
    {
     "name": "stderr",
     "output_type": "stream",
     "text": [
      "2020-05-09 20:14:42 [scrapy.core.engine] DEBUG: Crawled (200) <GET https://www.goodreads.com/book/show/529626.Sometimes_a_Great_Notion> (referer: https://www.goodreads.com/list/show/1.Best_Books_Ever?page=9)\n"
     ]
    },
    {
     "name": "stdout",
     "output_type": "stream",
     "text": [
      "Warning: Book missing series (https://www.goodreads.com/book/show/162898.A_Connecticut_Yankee_in_King_Arthur_s_Court).\n",
      "Warning: Book missing series (https://www.goodreads.com/book/show/529626.Sometimes_a_Great_Notion).\n"
     ]
    },
    {
     "name": "stderr",
     "output_type": "stream",
     "text": [
      "2020-05-09 20:14:42 [scrapy.core.engine] DEBUG: Crawled (200) <GET https://www.goodreads.com/book/show/18705209-the-blood-of-olympus> (referer: https://www.goodreads.com/list/show/1.Best_Books_Ever?page=9)\n",
      "2020-05-09 20:14:43 [scrapy.core.engine] DEBUG: Crawled (200) <GET https://www.goodreads.com/book/show/4031.Lunar_Park> (referer: https://www.goodreads.com/list/show/1.Best_Books_Ever?page=9)\n",
      "2020-05-09 20:14:43 [scrapy.core.engine] DEBUG: Crawled (200) <GET https://www.goodreads.com/book/show/170210.Dead_as_a_Doornail> (referer: https://www.goodreads.com/list/show/1.Best_Books_Ever?page=9)\n",
      "2020-05-09 20:14:43 [scrapy.core.engine] DEBUG: Crawled (200) <GET https://www.goodreads.com/book/show/3099787-night-world-no-1> (referer: https://www.goodreads.com/list/show/1.Best_Books_Ever?page=9)\n"
     ]
    },
    {
     "name": "stdout",
     "output_type": "stream",
     "text": [
      "Warning: Book missing series (https://www.goodreads.com/book/show/4031.Lunar_Park).\n"
     ]
    },
    {
     "name": "stderr",
     "output_type": "stream",
     "text": [
      "2020-05-09 20:14:44 [scrapy.core.engine] DEBUG: Crawled (200) <GET https://www.goodreads.com/book/show/9593911-pandemonium> (referer: https://www.goodreads.com/list/show/1.Best_Books_Ever?page=9)\n",
      "2020-05-09 20:14:44 [scrapy.core.engine] DEBUG: Crawled (200) <GET https://www.goodreads.com/book/show/3466.The_Wedding> (referer: https://www.goodreads.com/list/show/1.Best_Books_Ever?page=9)\n",
      "2020-05-09 20:14:44 [scrapy.core.engine] DEBUG: Crawled (200) <GET https://www.goodreads.com/book/show/386372.Mort> (referer: https://www.goodreads.com/list/show/1.Best_Books_Ever?page=9)\n",
      "2020-05-09 20:14:44 [scrapy.core.engine] DEBUG: Crawled (200) <GET https://www.goodreads.com/book/show/13362536-opal> (referer: https://www.goodreads.com/list/show/1.Best_Books_Ever?page=9)\n"
     ]
    },
    {
     "name": "stdout",
     "output_type": "stream",
     "text": [
      "Warning: Book missing language (https://www.goodreads.com/book/show/13362536-opal).\n"
     ]
    },
    {
     "name": "stderr",
     "output_type": "stream",
     "text": [
      "2020-05-09 20:14:45 [scrapy.core.engine] DEBUG: Crawled (200) <GET https://www.goodreads.com/book/show/40496.How_Green_Was_My_Valley> (referer: https://www.goodreads.com/list/show/1.Best_Books_Ever?page=9)\n"
     ]
    },
    {
     "name": "stdout",
     "output_type": "stream",
     "text": [
      "Warning: Book missing series (https://www.goodreads.com/book/show/40496.How_Green_Was_My_Valley).\n"
     ]
    },
    {
     "name": "stderr",
     "output_type": "stream",
     "text": [
      "2020-05-09 20:14:45 [scrapy.core.engine] DEBUG: Crawled (200) <GET https://www.goodreads.com/book/show/7445.The_Glass_Castle> (referer: https://www.goodreads.com/list/show/1.Best_Books_Ever?page=9)\n",
      "2020-05-09 20:14:45 [scrapy.core.engine] DEBUG: Crawled (200) <GET https://www.goodreads.com/book/show/19691.The_Hunt_for_Red_October> (referer: https://www.goodreads.com/list/show/1.Best_Books_Ever?page=9)\n"
     ]
    },
    {
     "name": "stdout",
     "output_type": "stream",
     "text": [
      "Warning: Book missing series (https://www.goodreads.com/book/show/7445.The_Glass_Castle).\n"
     ]
    },
    {
     "name": "stderr",
     "output_type": "stream",
     "text": [
      "2020-05-09 20:14:46 [scrapy.core.engine] DEBUG: Crawled (200) <GET https://www.goodreads.com/book/show/280111.Holy_Bible> (referer: https://www.goodreads.com/list/show/1.Best_Books_Ever?page=9)\n"
     ]
    },
    {
     "name": "stdout",
     "output_type": "stream",
     "text": [
      "Warning: Missing book original title (https://www.goodreads.com/book/show/280111.Holy_Bible).\n",
      "Warning: Book missing series (https://www.goodreads.com/book/show/280111.Holy_Bible).\n"
     ]
    },
    {
     "name": "stderr",
     "output_type": "stream",
     "text": [
      "2020-05-09 20:14:46 [scrapy.core.engine] DEBUG: Crawled (200) <GET https://www.goodreads.com/book/show/321552.The_Agony_and_the_Ecstasy> (referer: https://www.goodreads.com/list/show/1.Best_Books_Ever?page=9)\n",
      "2020-05-09 20:14:47 [scrapy.core.engine] DEBUG: Crawled (200) <GET https://www.goodreads.com/book/show/54479.Around_the_World_in_Eighty_Days> (referer: https://www.goodreads.com/list/show/1.Best_Books_Ever?page=9)\n"
     ]
    },
    {
     "name": "stdout",
     "output_type": "stream",
     "text": [
      "Warning: Book missing series (https://www.goodreads.com/book/show/321552.The_Agony_and_the_Ecstasy).\n"
     ]
    },
    {
     "name": "stderr",
     "output_type": "stream",
     "text": [
      "2020-05-09 20:14:47 [scrapy.core.engine] DEBUG: Crawled (200) <GET https://www.goodreads.com/book/show/5091.The_Dark_Tower> (referer: https://www.goodreads.com/list/show/1.Best_Books_Ever?page=9)\n"
     ]
    },
    {
     "name": "stdout",
     "output_type": "stream",
     "text": [
      "Warning: Book missing series (https://www.goodreads.com/book/show/54479.Around_the_World_in_Eighty_Days).\n"
     ]
    },
    {
     "name": "stderr",
     "output_type": "stream",
     "text": [
      "2020-05-09 20:14:47 [scrapy.core.engine] DEBUG: Crawled (200) <GET https://www.goodreads.com/book/show/368916.84_Charing_Cross_Road> (referer: https://www.goodreads.com/list/show/1.Best_Books_Ever?page=9)\n",
      "2020-05-09 20:14:47 [scrapy.core.engine] DEBUG: Crawled (200) <GET https://www.goodreads.com/book/show/3063499-the-lucky-one> (referer: https://www.goodreads.com/list/show/1.Best_Books_Ever?page=9)\n",
      "2020-05-09 20:14:47 [scrapy.core.engine] DEBUG: Crawled (200) <GET https://www.goodreads.com/book/show/21686.Shutter_Island> (referer: https://www.goodreads.com/list/show/1.Best_Books_Ever?page=9)\n"
     ]
    },
    {
     "name": "stdout",
     "output_type": "stream",
     "text": [
      "Warning: Book missing series (https://www.goodreads.com/book/show/368916.84_Charing_Cross_Road).\n",
      "Warning: Book missing series (https://www.goodreads.com/book/show/3063499-the-lucky-one).\n",
      "Warning: Book missing series (https://www.goodreads.com/book/show/21686.Shutter_Island).\n"
     ]
    },
    {
     "name": "stderr",
     "output_type": "stream",
     "text": [
      "2020-05-09 20:14:48 [scrapy.core.engine] DEBUG: Crawled (200) <GET https://www.goodreads.com/book/show/46945.Requiem_for_a_Dream> (referer: https://www.goodreads.com/list/show/1.Best_Books_Ever?page=9)\n"
     ]
    },
    {
     "name": "stdout",
     "output_type": "stream",
     "text": [
      "Warning: Book missing series (https://www.goodreads.com/book/show/46945.Requiem_for_a_Dream).\n"
     ]
    },
    {
     "name": "stderr",
     "output_type": "stream",
     "text": [
      "2020-05-09 20:14:49 [scrapy.core.engine] DEBUG: Crawled (200) <GET https://www.goodreads.com/book/show/7046495-lover-mine> (referer: https://www.goodreads.com/list/show/1.Best_Books_Ever?page=9)\n",
      "2020-05-09 20:14:49 [scrapy.core.engine] DEBUG: Crawled (200) <GET https://www.goodreads.com/book/show/497199.Factotum> (referer: https://www.goodreads.com/list/show/1.Best_Books_Ever?page=9)\n",
      "2020-05-09 20:14:49 [scrapy.core.engine] DEBUG: Crawled (200) <GET https://www.goodreads.com/book/show/83674.The_Bridges_of_Madison_County> (referer: https://www.goodreads.com/list/show/1.Best_Books_Ever?page=9)\n"
     ]
    },
    {
     "name": "stdout",
     "output_type": "stream",
     "text": [
      "Warning: Book missing series (https://www.goodreads.com/book/show/497199.Factotum).\n",
      "Warning: Book missing series (https://www.goodreads.com/book/show/83674.The_Bridges_of_Madison_County).\n"
     ]
    },
    {
     "name": "stderr",
     "output_type": "stream",
     "text": [
      "2020-05-09 20:14:50 [scrapy.core.engine] DEBUG: Crawled (200) <GET https://www.goodreads.com/book/show/270730.Crank> (referer: https://www.goodreads.com/list/show/1.Best_Books_Ever?page=9)\n",
      "2020-05-09 20:14:50 [scrapy.core.engine] DEBUG: Crawled (200) <GET https://www.goodreads.com/book/show/307791.The_City_of_Ember> (referer: https://www.goodreads.com/list/show/1.Best_Books_Ever?page=9)\n",
      "2020-05-09 20:14:50 [scrapy.core.engine] DEBUG: Crawled (200) <GET https://www.goodreads.com/book/show/30281.Guilty_Pleasures> (referer: https://www.goodreads.com/list/show/1.Best_Books_Ever?page=9)\n",
      "2020-05-09 20:14:51 [scrapy.core.engine] DEBUG: Crawled (200) <GET https://www.goodreads.com/book/show/21671.Mystic_River> (referer: https://www.goodreads.com/list/show/1.Best_Books_Ever?page=9)\n"
     ]
    },
    {
     "name": "stdout",
     "output_type": "stream",
     "text": [
      "Warning: Book missing series (https://www.goodreads.com/book/show/21671.Mystic_River).\n"
     ]
    },
    {
     "name": "stderr",
     "output_type": "stream",
     "text": [
      "2020-05-09 20:14:51 [scrapy.core.engine] DEBUG: Crawled (200) <GET https://www.goodreads.com/book/show/35879889-christy> (referer: https://www.goodreads.com/list/show/1.Best_Books_Ever?page=9)\n",
      "2020-05-09 20:14:51 [scrapy.core.engine] DEBUG: Crawled (200) <GET https://www.goodreads.com/book/show/28260587-empire-of-storms> (referer: https://www.goodreads.com/list/show/1.Best_Books_Ever?page=9)\n",
      "2020-05-09 20:14:51 [scrapy.core.engine] DEBUG: Crawled (200) <GET https://www.goodreads.com/book/show/24800.House_of_Leaves> (referer: https://www.goodreads.com/list/show/1.Best_Books_Ever?page=9)\n"
     ]
    },
    {
     "name": "stdout",
     "output_type": "stream",
     "text": [
      "Warning: Book missing series (https://www.goodreads.com/book/show/35879889-christy).\n",
      "Warning: Book missing series (https://www.goodreads.com/book/show/24800.House_of_Leaves).\n"
     ]
    },
    {
     "name": "stderr",
     "output_type": "stream",
     "text": [
      "2020-05-09 20:14:52 [scrapy.core.engine] DEBUG: Crawled (200) <GET https://www.goodreads.com/book/show/373755.Absalom_Absalom_> (referer: https://www.goodreads.com/list/show/1.Best_Books_Ever?page=9)\n",
      "2020-05-09 20:14:52 [scrapy.core.engine] DEBUG: Crawled (200) <GET https://www.goodreads.com/book/show/2168860.One_Foot_in_the_Grave> (referer: https://www.goodreads.com/list/show/1.Best_Books_Ever?page=9)\n"
     ]
    },
    {
     "name": "stdout",
     "output_type": "stream",
     "text": [
      "Warning: Book missing series (https://www.goodreads.com/book/show/373755.Absalom_Absalom_).\n"
     ]
    },
    {
     "name": "stderr",
     "output_type": "stream",
     "text": [
      "2020-05-09 20:14:52 [scrapy.core.engine] DEBUG: Crawled (200) <GET https://www.goodreads.com/book/show/15749186-to-all-the-boys-i-ve-loved-before> (referer: https://www.goodreads.com/list/show/1.Best_Books_Ever?page=9)\n",
      "2020-05-09 20:14:53 [scrapy.core.engine] DEBUG: Crawled (200) <GET https://www.goodreads.com/book/show/6917952-burned> (referer: https://www.goodreads.com/list/show/1.Best_Books_Ever?page=9)\n",
      "2020-05-09 20:14:53 [scrapy.core.engine] DEBUG: Crawled (200) <GET https://www.goodreads.com/book/show/1241.A_Million_Little_Pieces> (referer: https://www.goodreads.com/list/show/1.Best_Books_Ever?page=9)\n",
      "2020-05-09 20:14:53 [scrapy.core.engine] DEBUG: Crawled (200) <GET https://www.goodreads.com/book/show/36072.The_7_Habits_of_Highly_Effective_People> (referer: https://www.goodreads.com/list/show/1.Best_Books_Ever?page=9)\n"
     ]
    },
    {
     "name": "stdout",
     "output_type": "stream",
     "text": [
      "Warning: Book missing series (https://www.goodreads.com/book/show/1241.A_Million_Little_Pieces).\n",
      "Warning: Book missing series (https://www.goodreads.com/book/show/36072.The_7_Habits_of_Highly_Effective_People).\n"
     ]
    },
    {
     "name": "stderr",
     "output_type": "stream",
     "text": [
      "2020-05-09 20:14:54 [scrapy.core.engine] DEBUG: Crawled (200) <GET https://www.goodreads.com/book/show/140079.Definitely_Dead> (referer: https://www.goodreads.com/list/show/1.Best_Books_Ever?page=9)\n",
      "2020-05-09 20:14:54 [scrapy.core.engine] DEBUG: Crawled (200) <GET https://www.goodreads.com/book/show/334176.The_Sparrow> (referer: https://www.goodreads.com/list/show/1.Best_Books_Ever?page=9)\n",
      "2020-05-09 20:14:54 [scrapy.core.engine] DEBUG: Crawled (200) <GET https://www.goodreads.com/book/show/78983.Kane_and_Abel> (referer: https://www.goodreads.com/list/show/1.Best_Books_Ever?page=9)\n",
      "2020-05-09 20:14:55 [scrapy.core.engine] DEBUG: Crawled (200) <GET https://www.goodreads.com/book/show/42697.Exodus> (referer: https://www.goodreads.com/list/show/1.Best_Books_Ever?page=9)\n",
      "2020-05-09 20:14:55 [scrapy.core.engine] DEBUG: Crawled (200) <GET https://www.goodreads.com/book/show/10569.On_Writing> (referer: https://www.goodreads.com/list/show/1.Best_Books_Ever?page=9)\n"
     ]
    },
    {
     "name": "stdout",
     "output_type": "stream",
     "text": [
      "Warning: Book missing series (https://www.goodreads.com/book/show/42697.Exodus).\n"
     ]
    },
    {
     "name": "stderr",
     "output_type": "stream",
     "text": [
      "2020-05-09 20:14:55 [scrapy.core.engine] DEBUG: Crawled (200) <GET https://www.goodreads.com/book/show/29946.Illusions> (referer: https://www.goodreads.com/list/show/1.Best_Books_Ever?page=9)\n"
     ]
    },
    {
     "name": "stdout",
     "output_type": "stream",
     "text": [
      "Warning: Book missing series (https://www.goodreads.com/book/show/10569.On_Writing).\n"
     ]
    },
    {
     "name": "stderr",
     "output_type": "stream",
     "text": [
      "2020-05-09 20:14:56 [scrapy.core.engine] DEBUG: Crawled (200) <GET https://www.goodreads.com/book/show/11768.The_Hotel_New_Hampshire> (referer: https://www.goodreads.com/list/show/1.Best_Books_Ever?page=9)\n"
     ]
    },
    {
     "name": "stdout",
     "output_type": "stream",
     "text": [
      "Warning: Book missing series (https://www.goodreads.com/book/show/11768.The_Hotel_New_Hampshire).\n"
     ]
    },
    {
     "name": "stderr",
     "output_type": "stream",
     "text": [
      "2020-05-09 20:14:56 [scrapy.core.engine] DEBUG: Crawled (200) <GET https://www.goodreads.com/book/show/3407877-the-forgotten-garden> (referer: https://www.goodreads.com/list/show/1.Best_Books_Ever?page=9)\n"
     ]
    },
    {
     "name": "stdout",
     "output_type": "stream",
     "text": [
      "Warning: Book missing series (https://www.goodreads.com/book/show/3407877-the-forgotten-garden).\n"
     ]
    },
    {
     "name": "stderr",
     "output_type": "stream",
     "text": [
      "2020-05-09 20:14:57 [scrapy.core.engine] DEBUG: Crawled (200) <GET https://www.goodreads.com/book/show/16151178-the-sea-of-tranquility> (referer: https://www.goodreads.com/list/show/1.Best_Books_Ever?page=9)\n"
     ]
    },
    {
     "name": "stdout",
     "output_type": "stream",
     "text": [
      "Warning: Book missing series (https://www.goodreads.com/book/show/16151178-the-sea-of-tranquility).\n"
     ]
    },
    {
     "name": "stderr",
     "output_type": "stream",
     "text": [
      "2020-05-09 20:14:57 [scrapy.core.engine] DEBUG: Crawled (200) <GET https://www.goodreads.com/book/show/16081272-the-edge-of-never> (referer: https://www.goodreads.com/list/show/1.Best_Books_Ever?page=7)\n",
      "2020-05-09 20:14:57 [scrapy.core.engine] DEBUG: Crawled (200) <GET https://www.goodreads.com/book/show/8709523-the-golden-lily> (referer: https://www.goodreads.com/list/show/1.Best_Books_Ever?page=9)\n",
      "2020-05-09 20:14:58 [scrapy.core.engine] DEBUG: Crawled (200) <GET https://www.goodreads.com/book/show/2967752-the-elegance-of-the-hedgehog> (referer: https://www.goodreads.com/list/show/1.Best_Books_Ever?page=7)\n",
      "2020-05-09 20:14:58 [scrapy.core.engine] DEBUG: Crawled (200) <GET https://www.goodreads.com/book/show/85990.Princess_Academy> (referer: https://www.goodreads.com/list/show/1.Best_Books_Ever?page=7)\n",
      "2020-05-09 20:14:58 [scrapy.core.engine] DEBUG: Crawled (200) <GET https://www.goodreads.com/book/show/13414446-prodigy> (referer: https://www.goodreads.com/list/show/1.Best_Books_Ever?page=7)\n",
      "2020-05-09 20:14:58 [scrapy.core.engine] DEBUG: Crawled (200) <GET https://www.goodreads.com/book/show/27266.Glass_Houses> (referer: https://www.goodreads.com/list/show/1.Best_Books_Ever?page=7)\n"
     ]
    },
    {
     "name": "stdout",
     "output_type": "stream",
     "text": [
      "Warning: Book missing series (https://www.goodreads.com/book/show/2967752-the-elegance-of-the-hedgehog).\n"
     ]
    },
    {
     "name": "stderr",
     "output_type": "stream",
     "text": [
      "2020-05-09 20:14:59 [scrapy.core.engine] DEBUG: Crawled (200) <GET https://www.goodreads.com/book/show/20820994-i-ll-give-you-the-sun> (referer: https://www.goodreads.com/list/show/1.Best_Books_Ever?page=7)\n",
      "2020-05-09 20:14:59 [scrapy.core.engine] DEBUG: Crawled (200) <GET https://www.goodreads.com/book/show/55030.Cosmos> (referer: https://www.goodreads.com/list/show/1.Best_Books_Ever?page=7)\n",
      "2020-05-09 20:14:59 [scrapy.core.engine] DEBUG: Crawled (200) <GET https://www.goodreads.com/book/show/6295.Howl_and_Other_Poems> (referer: https://www.goodreads.com/list/show/1.Best_Books_Ever?page=7)\n"
     ]
    },
    {
     "name": "stdout",
     "output_type": "stream",
     "text": [
      "Warning: Book missing series (https://www.goodreads.com/book/show/20820994-i-ll-give-you-the-sun).\n",
      "Warning: Book missing series (https://www.goodreads.com/book/show/55030.Cosmos).\n"
     ]
    },
    {
     "name": "stderr",
     "output_type": "stream",
     "text": [
      "2020-05-09 20:14:59 [scrapy.extensions.logstats] INFO: Crawled 933 pages (at 188 pages/min), scraped 0 items (at 0 items/min)\n",
      "2020-05-09 20:14:59 [scrapy.core.engine] DEBUG: Crawled (200) <GET https://www.goodreads.com/book/show/3980.From_the_Mixed_Up_Files_of_Mrs_Basil_E_Frankweiler> (referer: https://www.goodreads.com/list/show/1.Best_Books_Ever?page=7)\n"
     ]
    },
    {
     "name": "stdout",
     "output_type": "stream",
     "text": [
      "Warning: Book missing series (https://www.goodreads.com/book/show/6295.Howl_and_Other_Poems).\n",
      "Warning: Book missing description (https://www.goodreads.com/book/show/6295.Howl_and_Other_Poems).\n",
      "Warning: Book missing series (https://www.goodreads.com/book/show/3980.From_the_Mixed_Up_Files_of_Mrs_Basil_E_Frankweiler).\n"
     ]
    },
    {
     "name": "stderr",
     "output_type": "stream",
     "text": [
      "2020-05-09 20:15:00 [scrapy.core.engine] DEBUG: Crawled (200) <GET https://www.goodreads.com/book/show/13206828-cress> (referer: https://www.goodreads.com/list/show/1.Best_Books_Ever?page=7)\n",
      "2020-05-09 20:15:00 [scrapy.core.engine] DEBUG: Crawled (200) <GET https://www.goodreads.com/book/show/76401.Bury_My_Heart_at_Wounded_Knee> (referer: https://www.goodreads.com/list/show/1.Best_Books_Ever?page=7)\n",
      "2020-05-09 20:15:00 [scrapy.core.engine] DEBUG: Crawled (200) <GET https://www.goodreads.com/book/show/3478.Message_in_a_Bottle> (referer: https://www.goodreads.com/list/show/1.Best_Books_Ever?page=7)\n"
     ]
    },
    {
     "name": "stdout",
     "output_type": "stream",
     "text": [
      "Warning: Book missing series (https://www.goodreads.com/book/show/76401.Bury_My_Heart_at_Wounded_Knee).\n",
      "Warning: Book missing series (https://www.goodreads.com/book/show/3478.Message_in_a_Bottle).\n"
     ]
    },
    {
     "name": "stderr",
     "output_type": "stream",
     "text": [
      "2020-05-09 20:15:01 [scrapy.core.engine] DEBUG: Crawled (200) <GET https://www.goodreads.com/book/show/29588376-the-lies-of-locke-lamora> (referer: https://www.goodreads.com/list/show/1.Best_Books_Ever?page=7)\n",
      "2020-05-09 20:15:01 [scrapy.core.engine] DEBUG: Crawled (200) <GET https://www.goodreads.com/book/show/9416.Confessions_of_a_Shopaholic> (referer: https://www.goodreads.com/list/show/1.Best_Books_Ever?page=7)\n",
      "2020-05-09 20:15:02 [scrapy.core.engine] DEBUG: Crawled (200) <GET https://www.goodreads.com/book/show/7061.The_No_1_Ladies_Detective_Agency> (referer: https://www.goodreads.com/list/show/1.Best_Books_Ever?page=7)\n",
      "2020-05-09 20:15:02 [scrapy.core.engine] DEBUG: Crawled (200) <GET https://www.goodreads.com/book/show/19351490-grimm-s-fairy-tales> (referer: https://www.goodreads.com/list/show/1.Best_Books_Ever?page=7)\n",
      "2020-05-09 20:15:02 [scrapy.core.engine] DEBUG: Crawled (200) <GET https://www.goodreads.com/book/show/10967.The_Fiery_Cross> (referer: https://www.goodreads.com/list/show/1.Best_Books_Ever?page=7)\n",
      "2020-05-09 20:15:02 [scrapy.core.engine] DEBUG: Crawled (200) <GET https://www.goodreads.com/book/show/35519.The_Power_of_Myth> (referer: https://www.goodreads.com/list/show/1.Best_Books_Ever?page=7)\n"
     ]
    },
    {
     "name": "stdout",
     "output_type": "stream",
     "text": [
      "Warning: Book missing series (https://www.goodreads.com/book/show/19351490-grimm-s-fairy-tales).\n"
     ]
    },
    {
     "name": "stderr",
     "output_type": "stream",
     "text": [
      "2020-05-09 20:15:02 [scrapy.core.engine] DEBUG: Crawled (200) <GET https://www.goodreads.com/book/show/73968.Love_Story> (referer: https://www.goodreads.com/list/show/1.Best_Books_Ever?page=7)\n",
      "2020-05-09 20:15:03 [scrapy.core.engine] DEBUG: Crawled (200) <GET https://www.goodreads.com/book/show/4982.The_Sirens_of_Titan> (referer: https://www.goodreads.com/list/show/1.Best_Books_Ever?page=7)\n",
      "2020-05-09 20:15:03 [scrapy.core.engine] DEBUG: Crawled (200) <GET https://www.goodreads.com/book/show/88077.The_Magic_Mountain> (referer: https://www.goodreads.com/list/show/1.Best_Books_Ever?page=7)\n",
      "2020-05-09 20:15:04 [scrapy.core.engine] DEBUG: Crawled (200) <GET https://www.goodreads.com/book/show/323355.The_Book_of_Mormon> (referer: https://www.goodreads.com/list/show/1.Best_Books_Ever?page=7)\n"
     ]
    },
    {
     "name": "stdout",
     "output_type": "stream",
     "text": [
      "Warning: Book missing series (https://www.goodreads.com/book/show/4982.The_Sirens_of_Titan).\n",
      "Warning: Book missing series (https://www.goodreads.com/book/show/88077.The_Magic_Mountain).\n"
     ]
    },
    {
     "name": "stderr",
     "output_type": "stream",
     "text": [
      "2020-05-09 20:15:04 [scrapy.core.engine] DEBUG: Crawled (200) <GET https://www.goodreads.com/book/show/1431.Veronika_Decides_to_Die> (referer: https://www.goodreads.com/list/show/1.Best_Books_Ever?page=7)\n"
     ]
    },
    {
     "name": "stdout",
     "output_type": "stream",
     "text": [
      "Warning: Book missing series (https://www.goodreads.com/book/show/323355.The_Book_of_Mormon).\n",
      "Warning: Book missing description (https://www.goodreads.com/book/show/323355.The_Book_of_Mormon).\n"
     ]
    },
    {
     "name": "stderr",
     "output_type": "stream",
     "text": [
      "2020-05-09 20:15:04 [scrapy.core.engine] DEBUG: Crawled (200) <GET https://www.goodreads.com/book/show/6882.Papillon> (referer: https://www.goodreads.com/list/show/1.Best_Books_Ever?page=7)\n",
      "2020-05-09 20:15:04 [scrapy.core.engine] DEBUG: Crawled (200) <GET https://www.goodreads.com/book/show/8682.Jitterbug_Perfume> (referer: https://www.goodreads.com/list/show/1.Best_Books_Ever?page=7)\n"
     ]
    },
    {
     "name": "stdout",
     "output_type": "stream",
     "text": [
      "Warning: Book missing series (https://www.goodreads.com/book/show/8682.Jitterbug_Perfume).\n"
     ]
    },
    {
     "name": "stderr",
     "output_type": "stream",
     "text": [
      "2020-05-09 20:15:05 [scrapy.core.engine] DEBUG: Crawled (200) <GET https://www.goodreads.com/book/show/3388.Corelli_s_Mandolin> (referer: https://www.goodreads.com/list/show/1.Best_Books_Ever?page=7)\n",
      "2020-05-09 20:15:05 [scrapy.core.engine] DEBUG: Crawled (200) <GET https://www.goodreads.com/book/show/14249.Prodigal_Summer> (referer: https://www.goodreads.com/list/show/1.Best_Books_Ever?page=7)\n"
     ]
    },
    {
     "name": "stdout",
     "output_type": "stream",
     "text": [
      "Warning: Book missing series (https://www.goodreads.com/book/show/3388.Corelli_s_Mandolin).\n",
      "Warning: Book missing series (https://www.goodreads.com/book/show/14249.Prodigal_Summer).\n"
     ]
    },
    {
     "name": "stderr",
     "output_type": "stream",
     "text": [
      "2020-05-09 20:15:06 [scrapy.core.engine] DEBUG: Crawled (200) <GET https://www.goodreads.com/book/show/852470.I_d_Tell_You_I_Love_You_But_Then_I_d_Have_to_Kill_You> (referer: https://www.goodreads.com/list/show/1.Best_Books_Ever?page=7)\n",
      "2020-05-09 20:15:06 [scrapy.core.engine] DEBUG: Crawled (200) <GET https://www.goodreads.com/book/show/17212231-inferno> (referer: https://www.goodreads.com/list/show/1.Best_Books_Ever?page=7)\n",
      "2020-05-09 20:15:06 [scrapy.core.engine] DEBUG: Crawled (200) <GET https://www.goodreads.com/book/show/47989.Night_Watch> (referer: https://www.goodreads.com/list/show/1.Best_Books_Ever?page=7)\n",
      "2020-05-09 20:15:06 [scrapy.core.engine] DEBUG: Crawled (200) <GET https://www.goodreads.com/book/show/10965.A_Breath_of_Snow_and_Ashes> (referer: https://www.goodreads.com/list/show/1.Best_Books_Ever?page=7)\n",
      "2020-05-09 20:15:07 [scrapy.core.engine] DEBUG: Crawled (200) <GET https://www.goodreads.com/book/show/17332218-words-of-radiance> (referer: https://www.goodreads.com/list/show/1.Best_Books_Ever?page=7)\n",
      "2020-05-09 20:15:07 [scrapy.core.engine] DEBUG: Crawled (200) <GET https://www.goodreads.com/book/show/46756.Oryx_and_Crake> (referer: https://www.goodreads.com/list/show/1.Best_Books_Ever?page=7)\n",
      "2020-05-09 20:15:07 [scrapy.core.engine] DEBUG: Crawled (200) <GET https://www.goodreads.com/book/show/16286.The_Magus> (referer: https://www.goodreads.com/list/show/1.Best_Books_Ever?page=7)\n",
      "2020-05-09 20:15:08 [scrapy.core.engine] DEBUG: Crawled (200) <GET https://www.goodreads.com/book/show/10357575-1q84> (referer: https://www.goodreads.com/list/show/1.Best_Books_Ever?page=7)\n"
     ]
    },
    {
     "name": "stdout",
     "output_type": "stream",
     "text": [
      "Warning: Book missing series (https://www.goodreads.com/book/show/16286.The_Magus).\n"
     ]
    },
    {
     "name": "stderr",
     "output_type": "stream",
     "text": [
      "2020-05-09 20:15:08 [scrapy.core.engine] DEBUG: Crawled (200) <GET https://www.goodreads.com/book/show/196970.The_Night_Before_Christmas> (referer: https://www.goodreads.com/list/show/1.Best_Books_Ever?page=7)\n"
     ]
    },
    {
     "name": "stdout",
     "output_type": "stream",
     "text": [
      "Warning: Book missing series (https://www.goodreads.com/book/show/196970.The_Night_Before_Christmas).\n"
     ]
    },
    {
     "name": "stderr",
     "output_type": "stream",
     "text": [
      "2020-05-09 20:15:08 [scrapy.core.engine] DEBUG: Crawled (200) <GET https://www.goodreads.com/book/show/415.Gravity_s_Rainbow> (referer: https://www.goodreads.com/list/show/1.Best_Books_Ever?page=7)\n",
      "2020-05-09 20:15:09 [scrapy.core.engine] DEBUG: Crawled (200) <GET https://www.goodreads.com/book/show/77197.Assassin_s_Apprentice> (referer: https://www.goodreads.com/list/show/1.Best_Books_Ever?page=7)\n"
     ]
    },
    {
     "name": "stdout",
     "output_type": "stream",
     "text": [
      "Warning: Book missing series (https://www.goodreads.com/book/show/415.Gravity_s_Rainbow).\n"
     ]
    },
    {
     "name": "stderr",
     "output_type": "stream",
     "text": [
      "2020-05-09 20:15:09 [scrapy.core.engine] DEBUG: Crawled (200) <GET https://www.goodreads.com/book/show/4953.A_Heartbreaking_Work_of_Staggering_Genius> (referer: https://www.goodreads.com/list/show/1.Best_Books_Ever?page=7)\n",
      "2020-05-09 20:15:09 [scrapy.core.engine] DEBUG: Crawled (200) <GET https://www.goodreads.com/book/show/1617.Night> (referer: https://www.goodreads.com/list/show/1.Best_Books_Ever?page=7)\n",
      "2020-05-09 20:15:09 [scrapy.core.engine] DEBUG: Crawled (200) <GET https://www.goodreads.com/book/show/18423.The_Left_Hand_of_Darkness> (referer: https://www.goodreads.com/list/show/1.Best_Books_Ever?page=7)\n"
     ]
    },
    {
     "name": "stdout",
     "output_type": "stream",
     "text": [
      "Warning: Book missing series (https://www.goodreads.com/book/show/4953.A_Heartbreaking_Work_of_Staggering_Genius).\n"
     ]
    },
    {
     "name": "stderr",
     "output_type": "stream",
     "text": [
      "2020-05-09 20:15:10 [scrapy.core.engine] DEBUG: Crawled (200) <GET https://www.goodreads.com/book/show/6262365-tempted> (referer: https://www.goodreads.com/list/show/1.Best_Books_Ever?page=7)\n",
      "2020-05-09 20:15:10 [scrapy.core.engine] DEBUG: Crawled (200) <GET https://www.goodreads.com/book/show/13206760-scarlet> (referer: https://www.goodreads.com/list/show/1.Best_Books_Ever?page=7)\n",
      "2020-05-09 20:15:10 [scrapy.core.engine] DEBUG: Crawled (200) <GET https://www.goodreads.com/book/show/99300.The_Yellow_Wallpaper_and_Other_Stories> (referer: https://www.goodreads.com/list/show/1.Best_Books_Ever?page=7)\n"
     ]
    },
    {
     "name": "stdout",
     "output_type": "stream",
     "text": [
      "Warning: Book missing series (https://www.goodreads.com/book/show/99300.The_Yellow_Wallpaper_and_Other_Stories).\n"
     ]
    },
    {
     "name": "stderr",
     "output_type": "stream",
     "text": [
      "2020-05-09 20:15:11 [scrapy.core.engine] DEBUG: Crawled (200) <GET https://www.goodreads.com/book/show/304027.Lover_Unbound> (referer: https://www.goodreads.com/list/show/1.Best_Books_Ever?page=7)\n",
      "2020-05-09 20:15:11 [scrapy.core.engine] DEBUG: Crawled (200) <GET https://www.goodreads.com/book/show/3869.A_Brief_History_of_Time> (referer: https://www.goodreads.com/list/show/1.Best_Books_Ever?page=7)\n"
     ]
    },
    {
     "name": "stdout",
     "output_type": "stream",
     "text": [
      "Warning: Book missing series (https://www.goodreads.com/book/show/3869.A_Brief_History_of_Time).\n"
     ]
    },
    {
     "name": "stderr",
     "output_type": "stream",
     "text": [
      "2020-05-09 20:15:11 [scrapy.core.engine] DEBUG: Crawled (200) <GET https://www.goodreads.com/book/show/89717.The_Haunting_of_Hill_House> (referer: https://www.goodreads.com/list/show/1.Best_Books_Ever?page=7)\n",
      "2020-05-09 20:15:12 [scrapy.core.engine] DEBUG: Crawled (200) <GET https://www.goodreads.com/book/show/14290364-champion> (referer: https://www.goodreads.com/list/show/1.Best_Books_Ever?page=7)\n"
     ]
    },
    {
     "name": "stdout",
     "output_type": "stream",
     "text": [
      "Warning: Book missing series (https://www.goodreads.com/book/show/89717.The_Haunting_of_Hill_House).\n"
     ]
    },
    {
     "name": "stderr",
     "output_type": "stream",
     "text": [
      "2020-05-09 20:15:12 [scrapy.core.engine] DEBUG: Crawled (200) <GET https://www.goodreads.com/book/show/30346601-brainwalker> (referer: https://www.goodreads.com/list/show/1.Best_Books_Ever?page=7)\n",
      "2020-05-09 20:15:12 [scrapy.core.engine] DEBUG: Crawled (200) <GET https://www.goodreads.com/book/show/2203.John_Adams> (referer: https://www.goodreads.com/list/show/1.Best_Books_Ever?page=7)\n"
     ]
    },
    {
     "name": "stdout",
     "output_type": "stream",
     "text": [
      "Warning: Missing book original title (https://www.goodreads.com/book/show/30346601-brainwalker).\n",
      "Warning: Book missing series (https://www.goodreads.com/book/show/30346601-brainwalker).\n"
     ]
    },
    {
     "name": "stderr",
     "output_type": "stream",
     "text": [
      "2020-05-09 20:15:13 [scrapy.core.engine] DEBUG: Crawled (200) <GET https://www.goodreads.com/book/show/13831.Alanna> (referer: https://www.goodreads.com/list/show/1.Best_Books_Ever?page=7)\n",
      "2020-05-09 20:15:13 [scrapy.core.engine] DEBUG: Crawled (200) <GET https://www.goodreads.com/book/show/7944648-house-of-sand-and-fog> (referer: https://www.goodreads.com/list/show/1.Best_Books_Ever?page=7)\n"
     ]
    },
    {
     "name": "stdout",
     "output_type": "stream",
     "text": [
      "Warning: Book missing series (https://www.goodreads.com/book/show/2203.John_Adams).\n",
      "Warning: Book missing series (https://www.goodreads.com/book/show/7944648-house-of-sand-and-fog).\n"
     ]
    },
    {
     "name": "stderr",
     "output_type": "stream",
     "text": [
      "2020-05-09 20:15:13 [scrapy.core.engine] DEBUG: Crawled (200) <GET https://www.goodreads.com/book/show/6853.One_for_the_Money> (referer: https://www.goodreads.com/list/show/1.Best_Books_Ever?page=7)\n",
      "2020-05-09 20:15:13 [scrapy.core.engine] DEBUG: Crawled (200) <GET https://www.goodreads.com/book/show/13642.A_Wizard_of_Earthsea> (referer: https://www.goodreads.com/list/show/1.Best_Books_Ever?page=7)\n",
      "2020-05-09 20:15:14 [scrapy.core.engine] DEBUG: Crawled (200) <GET https://www.goodreads.com/book/show/44790978-matching-configurations> (referer: https://www.goodreads.com/list/show/1.Best_Books_Ever?page=7)\n"
     ]
    },
    {
     "name": "stdout",
     "output_type": "stream",
     "text": [
      "Warning: Missing book original title (https://www.goodreads.com/book/show/44790978-matching-configurations).\n",
      "Warning: Book missing series (https://www.goodreads.com/book/show/44790978-matching-configurations).\n"
     ]
    },
    {
     "name": "stderr",
     "output_type": "stream",
     "text": [
      "2020-05-09 20:15:14 [scrapy.core.engine] DEBUG: Crawled (200) <GET https://www.goodreads.com/book/show/18545.Rosencrantz_and_Guildenstern_Are_Dead> (referer: https://www.goodreads.com/list/show/1.Best_Books_Ever?page=7)\n",
      "2020-05-09 20:15:14 [scrapy.core.engine] DEBUG: Crawled (200) <GET https://www.goodreads.com/book/show/14935.Sense_and_Sensibility> (referer: https://www.goodreads.com/list/show/1.Best_Books_Ever?page=7)\n"
     ]
    },
    {
     "name": "stdout",
     "output_type": "stream",
     "text": [
      "Warning: Book missing series (https://www.goodreads.com/book/show/18545.Rosencrantz_and_Guildenstern_Are_Dead).\n"
     ]
    },
    {
     "name": "stderr",
     "output_type": "stream",
     "text": [
      "2020-05-09 20:15:15 [scrapy.core.engine] DEBUG: Crawled (200) <GET https://www.goodreads.com/book/show/41219.Possession> (referer: https://www.goodreads.com/list/show/1.Best_Books_Ever?page=7)\n"
     ]
    },
    {
     "name": "stdout",
     "output_type": "stream",
     "text": [
      "Warning: Book missing series (https://www.goodreads.com/book/show/14935.Sense_and_Sensibility).\n"
     ]
    },
    {
     "name": "stderr",
     "output_type": "stream",
     "text": [
      "2020-05-09 20:15:15 [scrapy.core.engine] DEBUG: Crawled (200) <GET https://www.goodreads.com/book/show/1554.Oedipus_Rex> (referer: https://www.goodreads.com/list/show/1.Best_Books_Ever?page=7)\n"
     ]
    },
    {
     "name": "stdout",
     "output_type": "stream",
     "text": [
      "Warning: Book missing series (https://www.goodreads.com/book/show/41219.Possession).\n"
     ]
    },
    {
     "name": "stderr",
     "output_type": "stream",
     "text": [
      "2020-05-09 20:15:15 [scrapy.core.engine] DEBUG: Crawled (200) <GET https://www.goodreads.com/book/show/2767.A_People_s_History_of_the_United_States> (referer: https://www.goodreads.com/list/show/1.Best_Books_Ever?page=7)\n",
      "2020-05-09 20:15:16 [scrapy.core.engine] DEBUG: Crawled (200) <GET https://www.goodreads.com/book/show/24768.Pretties> (referer: https://www.goodreads.com/list/show/1.Best_Books_Ever?page=7)\n"
     ]
    },
    {
     "name": "stdout",
     "output_type": "stream",
     "text": [
      "Warning: Book missing series (https://www.goodreads.com/book/show/2767.A_People_s_History_of_the_United_States).\n"
     ]
    },
    {
     "name": "stderr",
     "output_type": "stream",
     "text": [
      "2020-05-09 20:15:16 [scrapy.core.engine] DEBUG: Crawled (200) <GET https://www.goodreads.com/book/show/7869.The_Bourne_Identity> (referer: https://www.goodreads.com/list/show/1.Best_Books_Ever?page=7)\n",
      "2020-05-09 20:15:16 [scrapy.core.engine] DEBUG: Crawled (200) <GET https://www.goodreads.com/book/show/682804.The_Killer_Angels> (referer: https://www.goodreads.com/list/show/1.Best_Books_Ever?page=7)\n",
      "2020-05-09 20:15:16 [scrapy.core.engine] DEBUG: Crawled (200) <GET https://www.goodreads.com/book/show/32423.Watchers> (referer: https://www.goodreads.com/list/show/1.Best_Books_Ever?page=7)\n"
     ]
    },
    {
     "name": "stdout",
     "output_type": "stream",
     "text": [
      "Warning: Book missing series (https://www.goodreads.com/book/show/32423.Watchers).\n"
     ]
    },
    {
     "name": "stderr",
     "output_type": "stream",
     "text": [
      "2020-05-09 20:15:17 [scrapy.core.engine] DEBUG: Crawled (200) <GET https://www.goodreads.com/book/show/7631105-the-scorch-trials> (referer: https://www.goodreads.com/list/show/1.Best_Books_Ever?page=7)\n",
      "2020-05-09 20:15:17 [scrapy.core.engine] DEBUG: Crawled (200) <GET https://www.goodreads.com/book/show/547094.I_Am_Legend_and_Other_Stories> (referer: https://www.goodreads.com/list/show/1.Best_Books_Ever?page=7)\n"
     ]
    },
    {
     "name": "stdout",
     "output_type": "stream",
     "text": [
      "Warning: Book missing series (https://www.goodreads.com/book/show/547094.I_Am_Legend_and_Other_Stories).\n"
     ]
    },
    {
     "name": "stderr",
     "output_type": "stream",
     "text": [
      "2020-05-09 20:15:18 [scrapy.core.engine] DEBUG: Crawled (200) <GET https://www.goodreads.com/book/show/112750.Darkfever> (referer: https://www.goodreads.com/list/show/1.Best_Books_Ever?page=7)\n",
      "2020-05-09 20:15:18 [scrapy.core.engine] DEBUG: Crawled (200) <GET https://www.goodreads.com/book/show/374233.If_on_a_Winter_s_Night_a_Traveler> (referer: https://www.goodreads.com/list/show/1.Best_Books_Ever?page=7)\n"
     ]
    },
    {
     "name": "stdout",
     "output_type": "stream",
     "text": [
      "Warning: Book missing series (https://www.goodreads.com/book/show/374233.If_on_a_Winter_s_Night_a_Traveler).\n"
     ]
    },
    {
     "name": "stderr",
     "output_type": "stream",
     "text": [
      "2020-05-09 20:15:19 [scrapy.core.engine] DEBUG: Crawled (200) <GET https://www.goodreads.com/book/show/15622.Native_Son> (referer: https://www.goodreads.com/list/show/1.Best_Books_Ever?page=7)\n",
      "2020-05-09 20:15:19 [scrapy.core.engine] DEBUG: Crawled (200) <GET https://www.goodreads.com/book/show/78433.The_Blind_Assassin> (referer: https://www.goodreads.com/list/show/1.Best_Books_Ever?page=7)\n",
      "2020-05-09 20:15:19 [scrapy.core.engine] DEBUG: Crawled (200) <GET https://www.goodreads.com/book/show/3867.The_History_of_Love> (referer: https://www.goodreads.com/list/show/1.Best_Books_Ever?page=7)\n"
     ]
    },
    {
     "name": "stdout",
     "output_type": "stream",
     "text": [
      "Warning: Book missing series (https://www.goodreads.com/book/show/15622.Native_Son).\n"
     ]
    },
    {
     "name": "stderr",
     "output_type": "stream",
     "text": [
      "2020-05-09 20:15:20 [scrapy.core.engine] DEBUG: Crawled (200) <GET https://www.goodreads.com/book/show/20758104-the-knife-of-never-letting-go> (referer: https://www.goodreads.com/list/show/1.Best_Books_Ever?page=7)\n"
     ]
    },
    {
     "name": "stdout",
     "output_type": "stream",
     "text": [
      "Warning: Book missing series (https://www.goodreads.com/book/show/78433.The_Blind_Assassin).\n",
      "Warning: Book missing series (https://www.goodreads.com/book/show/3867.The_History_of_Love).\n"
     ]
    },
    {
     "name": "stderr",
     "output_type": "stream",
     "text": [
      "2020-05-09 20:15:20 [scrapy.core.engine] DEBUG: Crawled (200) <GET https://www.goodreads.com/book/show/2536134.Gone> (referer: https://www.goodreads.com/list/show/1.Best_Books_Ever?page=7)\n",
      "2020-05-09 20:15:20 [scrapy.core.engine] DEBUG: Crawled (200) <GET https://www.goodreads.com/book/show/110737.Seabiscuit> (referer: https://www.goodreads.com/list/show/1.Best_Books_Ever?page=7)\n"
     ]
    },
    {
     "name": "stdout",
     "output_type": "stream",
     "text": [
      "Warning: Book missing series (https://www.goodreads.com/book/show/110737.Seabiscuit).\n"
     ]
    },
    {
     "name": "stderr",
     "output_type": "stream",
     "text": [
      "2020-05-09 20:15:21 [scrapy.core.engine] DEBUG: Crawled (200) <GET https://www.goodreads.com/book/show/7304203-shadowfever> (referer: https://www.goodreads.com/list/show/1.Best_Books_Ever?page=7)\n",
      "2020-05-09 20:15:21 [scrapy.core.engine] DEBUG: Crawled (200) <GET https://www.goodreads.com/book/show/17841.Foucault_s_Pendulum> (referer: https://www.goodreads.com/list/show/1.Best_Books_Ever?page=7)\n",
      "2020-05-09 20:15:21 [scrapy.core.engine] DEBUG: Crawled (200) <GET https://www.goodreads.com/book/show/59219.The_Talisman> (referer: https://www.goodreads.com/list/show/1.Best_Books_Ever?page=7)\n"
     ]
    },
    {
     "name": "stdout",
     "output_type": "stream",
     "text": [
      "Warning: Book missing series (https://www.goodreads.com/book/show/17841.Foucault_s_Pendulum).\n"
     ]
    },
    {
     "name": "stderr",
     "output_type": "stream",
     "text": [
      "2020-05-09 20:15:22 [scrapy.core.engine] DEBUG: Crawled (200) <GET https://www.goodreads.com/book/show/8492825-where-she-went> (referer: https://www.goodreads.com/list/show/1.Best_Books_Ever?page=7)\n",
      "2020-05-09 20:15:22 [scrapy.core.engine] DEBUG: Crawled (200) <GET https://www.goodreads.com/book/show/121749.Prince_Caspian> (referer: https://www.goodreads.com/list/show/1.Best_Books_Ever?page=7)\n",
      "2020-05-09 20:15:22 [scrapy.core.engine] DEBUG: Crawled (200) <GET https://www.goodreads.com/book/show/6482837-before-i-fall> (referer: https://www.goodreads.com/list/show/1.Best_Books_Ever?page=7)\n"
     ]
    },
    {
     "name": "stdout",
     "output_type": "stream",
     "text": [
      "Warning: Book missing series (https://www.goodreads.com/book/show/6482837-before-i-fall).\n"
     ]
    },
    {
     "name": "stderr",
     "output_type": "stream",
     "text": [
      "2020-05-09 20:15:23 [scrapy.core.engine] DEBUG: Crawled (200) <GET https://www.goodreads.com/book/show/43758.The_Queen_of_the_Damned> (referer: https://www.goodreads.com/list/show/1.Best_Books_Ever?page=7)\n",
      "2020-05-09 20:15:23 [scrapy.core.engine] DEBUG: Crawled (200) <GET https://www.goodreads.com/book/show/10441.The_Memory_Keeper_s_Daughter> (referer: https://www.goodreads.com/list/show/1.Best_Books_Ever?page=7)\n",
      "2020-05-09 20:15:23 [scrapy.core.engine] DEBUG: Crawled (200) <GET https://www.goodreads.com/book/show/15241.The_Two_Towers> (referer: https://www.goodreads.com/list/show/1.Best_Books_Ever?page=7)\n"
     ]
    },
    {
     "name": "stdout",
     "output_type": "stream",
     "text": [
      "Warning: Book missing series (https://www.goodreads.com/book/show/10441.The_Memory_Keeper_s_Daughter).\n"
     ]
    },
    {
     "name": "stderr",
     "output_type": "stream",
     "text": [
      "2020-05-09 20:15:23 [scrapy.core.engine] DEBUG: Crawled (200) <GET https://www.goodreads.com/book/show/25480342-a-monster-calls> (referer: https://www.goodreads.com/list/show/1.Best_Books_Ever?page=7)\n",
      "2020-05-09 20:15:23 [scrapy.core.engine] DEBUG: Crawled (200) <GET https://www.goodreads.com/book/show/27523.Left_Behind> (referer: https://www.goodreads.com/list/show/1.Best_Books_Ever?page=7)\n",
      "2020-05-09 20:15:24 [scrapy.core.engine] DEBUG: Crawled (200) <GET https://www.goodreads.com/book/show/17333223-the-goldfinch> (referer: https://www.goodreads.com/list/show/1.Best_Books_Ever?page=7)\n"
     ]
    },
    {
     "name": "stdout",
     "output_type": "stream",
     "text": [
      "Warning: Book missing series (https://www.goodreads.com/book/show/25480342-a-monster-calls).\n"
     ]
    },
    {
     "name": "stderr",
     "output_type": "stream",
     "text": [
      "2020-05-09 20:15:24 [scrapy.core.engine] DEBUG: Crawled (200) <GET https://www.goodreads.com/book/show/567678.The_Wasp_Factory> (referer: https://www.goodreads.com/list/show/1.Best_Books_Ever?page=7)\n"
     ]
    },
    {
     "name": "stdout",
     "output_type": "stream",
     "text": [
      "Warning: Book missing series (https://www.goodreads.com/book/show/17333223-the-goldfinch).\n",
      "Warning: Book missing series (https://www.goodreads.com/book/show/567678.The_Wasp_Factory).\n"
     ]
    },
    {
     "name": "stderr",
     "output_type": "stream",
     "text": [
      "2020-05-09 20:15:25 [scrapy.core.engine] DEBUG: Crawled (200) <GET https://www.goodreads.com/book/show/27003.The_Eyre_Affair> (referer: https://www.goodreads.com/list/show/1.Best_Books_Ever?page=7)\n",
      "2020-05-09 20:15:25 [scrapy.core.engine] DEBUG: Crawled (200) <GET https://www.goodreads.com/book/show/7664041-inheritance> (referer: https://www.goodreads.com/list/show/1.Best_Books_Ever?page=7)\n",
      "2020-05-09 20:15:25 [scrapy.core.engine] DEBUG: Crawled (200) <GET https://www.goodreads.com/book/show/52529.The_Secret> (referer: https://www.goodreads.com/list/show/1.Best_Books_Ever?page=7)\n",
      "2020-05-09 20:15:25 [scrapy.core.engine] DEBUG: Crawled (200) <GET https://www.goodreads.com/book/show/80660.We_Need_to_Talk_About_Kevin> (referer: https://www.goodreads.com/list/show/1.Best_Books_Ever?page=7)\n"
     ]
    },
    {
     "name": "stdout",
     "output_type": "stream",
     "text": [
      "Warning: Book missing series (https://www.goodreads.com/book/show/80660.We_Need_to_Talk_About_Kevin).\n"
     ]
    },
    {
     "name": "stderr",
     "output_type": "stream",
     "text": [
      "2020-05-09 20:15:26 [scrapy.core.engine] DEBUG: Crawled (200) <GET https://www.goodreads.com/book/show/77390.Anne_of_Avonlea> (referer: https://www.goodreads.com/list/show/1.Best_Books_Ever?page=7)\n",
      "2020-05-09 20:15:26 [scrapy.core.engine] DEBUG: Crawled (200) <GET https://www.goodreads.com/book/show/10534.The_Art_of_War> (referer: https://www.goodreads.com/list/show/1.Best_Books_Ever?page=7)\n",
      "2020-05-09 20:15:26 [scrapy.core.engine] DEBUG: Crawled (200) <GET https://www.goodreads.com/book/show/17125.One_Day_in_the_Life_of_Ivan_Denisovich> (referer: https://www.goodreads.com/list/show/1.Best_Books_Ever?page=7)\n"
     ]
    },
    {
     "name": "stdout",
     "output_type": "stream",
     "text": [
      "Warning: Book missing series (https://www.goodreads.com/book/show/10534.The_Art_of_War).\n",
      "Warning: Book missing series (https://www.goodreads.com/book/show/17125.One_Day_in_the_Life_of_Ivan_Denisovich).\n"
     ]
    },
    {
     "name": "stderr",
     "output_type": "stream",
     "text": [
      "2020-05-09 20:15:27 [scrapy.core.engine] DEBUG: Crawled (200) <GET https://www.goodreads.com/book/show/23522.Mythology> (referer: https://www.goodreads.com/list/show/1.Best_Books_Ever?page=7)\n"
     ]
    },
    {
     "name": "stdout",
     "output_type": "stream",
     "text": [
      "Warning: Book missing series (https://www.goodreads.com/book/show/23522.Mythology).\n"
     ]
    },
    {
     "name": "stderr",
     "output_type": "stream",
     "text": [
      "2020-05-09 20:15:28 [scrapy.core.engine] DEBUG: Crawled (200) <GET https://www.goodreads.com/book/show/7723542-a-dog-s-purpose> (referer: https://www.goodreads.com/list/show/1.Best_Books_Ever?page=7)\n",
      "2020-05-09 20:15:28 [scrapy.core.engine] DEBUG: Crawled (200) <GET https://www.goodreads.com/book/show/16143347-we-were-liars> (referer: https://www.goodreads.com/list/show/1.Best_Books_Ever?page=7)\n",
      "2020-05-09 20:15:28 [scrapy.core.engine] DEBUG: Crawled (200) <GET https://www.goodreads.com/book/show/65641.The_Silver_Chair> (referer: https://www.goodreads.com/list/show/1.Best_Books_Ever?page=7)\n",
      "2020-05-09 20:15:28 [scrapy.core.engine] DEBUG: Crawled (200) <GET https://www.goodreads.com/book/show/60510.Poison_Study> (referer: https://www.goodreads.com/list/show/1.Best_Books_Ever?page=7)\n"
     ]
    },
    {
     "name": "stdout",
     "output_type": "stream",
     "text": [
      "Warning: Book missing series (https://www.goodreads.com/book/show/16143347-we-were-liars).\n"
     ]
    },
    {
     "name": "stderr",
     "output_type": "stream",
     "text": [
      "2020-05-09 20:15:28 [scrapy.core.engine] DEBUG: Crawled (200) <GET https://www.goodreads.com/book/show/9673436-the-invention-of-hugo-cabret> (referer: https://www.goodreads.com/list/show/1.Best_Books_Ever?page=8)\n"
     ]
    },
    {
     "name": "stdout",
     "output_type": "stream",
     "text": [
      "Warning: Book missing series (https://www.goodreads.com/book/show/9673436-the-invention-of-hugo-cabret).\n"
     ]
    },
    {
     "name": "stderr",
     "output_type": "stream",
     "text": [
      "2020-05-09 20:15:29 [scrapy.core.engine] DEBUG: Crawled (200) <GET https://www.goodreads.com/book/show/15745950-walking-disaster> (referer: https://www.goodreads.com/list/show/1.Best_Books_Ever?page=8)\n",
      "2020-05-09 20:15:29 [scrapy.core.engine] DEBUG: Crawled (200) <GET https://www.goodreads.com/book/show/1848.Wild_Swans> (referer: https://www.goodreads.com/list/show/1.Best_Books_Ever?page=8)\n"
     ]
    },
    {
     "name": "stdout",
     "output_type": "stream",
     "text": [
      "Warning: Book missing series (https://www.goodreads.com/book/show/1848.Wild_Swans).\n"
     ]
    },
    {
     "name": "stderr",
     "output_type": "stream",
     "text": [
      "2020-05-09 20:15:29 [scrapy.core.engine] DEBUG: Crawled (200) <GET https://www.goodreads.com/book/show/24765.Specials> (referer: https://www.goodreads.com/list/show/1.Best_Books_Ever?page=8)\n",
      "2020-05-09 20:15:30 [scrapy.core.engine] DEBUG: Crawled (200) <GET https://www.goodreads.com/book/show/13928.Daughter_of_the_Forest> (referer: https://www.goodreads.com/list/show/1.Best_Books_Ever?page=8)\n",
      "2020-05-09 20:15:30 [scrapy.core.engine] DEBUG: Crawled (200) <GET https://www.goodreads.com/book/show/13596809-reflected-in-you> (referer: https://www.goodreads.com/list/show/1.Best_Books_Ever?page=8)\n",
      "2020-05-09 20:15:30 [scrapy.core.engine] DEBUG: Crawled (200) <GET https://www.goodreads.com/book/show/41423092-the-awakening> (referer: https://www.goodreads.com/list/show/1.Best_Books_Ever?page=8)\n",
      "2020-05-09 20:15:31 [scrapy.core.engine] DEBUG: Crawled (200) <GET https://www.goodreads.com/book/show/22299763-crooked-kingdom> (referer: https://www.goodreads.com/list/show/1.Best_Books_Ever?page=8)\n"
     ]
    },
    {
     "name": "stdout",
     "output_type": "stream",
     "text": [
      "Warning: Missing book original title (https://www.goodreads.com/book/show/41423092-the-awakening).\n",
      "Warning: Book missing series (https://www.goodreads.com/book/show/41423092-the-awakening).\n",
      "Warning: Book missing language (https://www.goodreads.com/book/show/41423092-the-awakening).\n"
     ]
    },
    {
     "name": "stderr",
     "output_type": "stream",
     "text": [
      "2020-05-09 20:15:31 [scrapy.core.engine] DEBUG: Crawled (200) <GET https://www.goodreads.com/book/show/18334354-quantum-roots> (referer: https://www.goodreads.com/list/show/1.Best_Books_Ever?page=8)\n"
     ]
    },
    {
     "name": "stdout",
     "output_type": "stream",
     "text": [
      "Warning: Missing book original title (https://www.goodreads.com/book/show/18334354-quantum-roots).\n",
      "Warning: Book missing series (https://www.goodreads.com/book/show/18334354-quantum-roots).\n"
     ]
    },
    {
     "name": "stderr",
     "output_type": "stream",
     "text": [
      "2020-05-09 20:15:31 [scrapy.core.engine] DEBUG: Crawled (200) <GET https://www.goodreads.com/book/show/2767793-the-hero-of-ages> (referer: https://www.goodreads.com/list/show/1.Best_Books_Ever?page=8)\n",
      "2020-05-09 20:15:31 [scrapy.core.engine] DEBUG: Crawled (200) <GET https://www.goodreads.com/book/show/186190.Forrest_Gump> (referer: https://www.goodreads.com/list/show/1.Best_Books_Ever?page=8)\n",
      "2020-05-09 20:15:32 [scrapy.core.engine] DEBUG: Crawled (200) <GET https://www.goodreads.com/book/show/19057.I_Am_the_Messenger> (referer: https://www.goodreads.com/list/show/1.Best_Books_Ever?page=8)\n"
     ]
    },
    {
     "name": "stdout",
     "output_type": "stream",
     "text": [
      "Warning: Book missing series (https://www.goodreads.com/book/show/19057.I_Am_the_Messenger).\n"
     ]
    },
    {
     "name": "stderr",
     "output_type": "stream",
     "text": [
      "2020-05-09 20:15:32 [scrapy.core.engine] DEBUG: Crawled (200) <GET https://www.goodreads.com/book/show/10140661-gabriel-s-inferno> (referer: https://www.goodreads.com/list/show/1.Best_Books_Ever?page=8)\n",
      "2020-05-09 20:15:33 [scrapy.core.engine] DEBUG: Crawled (200) <GET https://www.goodreads.com/book/show/6050298-dreamfever> (referer: https://www.goodreads.com/list/show/1.Best_Books_Ever?page=8)\n",
      "2020-05-09 20:15:33 [scrapy.core.engine] DEBUG: Crawled (200) <GET https://www.goodreads.com/book/show/298275.Nausea> (referer: https://www.goodreads.com/list/show/1.Best_Books_Ever?page=8)\n",
      "2020-05-09 20:15:33 [scrapy.core.engine] DEBUG: Crawled (200) <GET https://www.goodreads.com/book/show/48328.Revolutionary_Road> (referer: https://www.goodreads.com/list/show/1.Best_Books_Ever?page=8)\n",
      "2020-05-09 20:15:33 [scrapy.core.engine] DEBUG: Crawled (200) <GET https://www.goodreads.com/book/show/95819.The_Poetry_of_Robert_Frost> (referer: https://www.goodreads.com/list/show/1.Best_Books_Ever?page=8)\n"
     ]
    },
    {
     "name": "stdout",
     "output_type": "stream",
     "text": [
      "Warning: Book missing series (https://www.goodreads.com/book/show/298275.Nausea).\n",
      "Warning: Book missing series (https://www.goodreads.com/book/show/48328.Revolutionary_Road).\n",
      "Warning: Missing book original title (https://www.goodreads.com/book/show/95819.The_Poetry_of_Robert_Frost).\n",
      "Warning: Book missing series (https://www.goodreads.com/book/show/95819.The_Poetry_of_Robert_Frost).\n"
     ]
    },
    {
     "name": "stderr",
     "output_type": "stream",
     "text": [
      "2020-05-09 20:15:34 [scrapy.core.engine] DEBUG: Crawled (200) <GET https://www.goodreads.com/book/show/5246.Ethan_Frome> (referer: https://www.goodreads.com/list/show/1.Best_Books_Ever?page=8)\n",
      "2020-05-09 20:15:34 [scrapy.core.engine] DEBUG: Crawled (200) <GET https://www.goodreads.com/book/show/50033.Dandelion_Wine> (referer: https://www.goodreads.com/list/show/1.Best_Books_Ever?page=8)\n"
     ]
    },
    {
     "name": "stdout",
     "output_type": "stream",
     "text": [
      "Warning: Book missing series (https://www.goodreads.com/book/show/5246.Ethan_Frome).\n"
     ]
    },
    {
     "name": "stderr",
     "output_type": "stream",
     "text": [
      "2020-05-09 20:15:34 [scrapy.core.engine] DEBUG: Crawled (200) <GET https://www.goodreads.com/book/show/17214.Starship_Troopers> (referer: https://www.goodreads.com/list/show/1.Best_Books_Ever?page=8)\n",
      "2020-05-09 20:15:34 [scrapy.core.engine] DEBUG: Crawled (200) <GET https://www.goodreads.com/book/show/15783514-the-ocean-at-the-end-of-the-lane> (referer: https://www.goodreads.com/list/show/1.Best_Books_Ever?page=8)\n"
     ]
    },
    {
     "name": "stdout",
     "output_type": "stream",
     "text": [
      "Warning: Book missing series (https://www.goodreads.com/book/show/17214.Starship_Troopers).\n",
      "Warning: Book missing series (https://www.goodreads.com/book/show/15783514-the-ocean-at-the-end-of-the-lane).\n"
     ]
    },
    {
     "name": "stderr",
     "output_type": "stream",
     "text": [
      "2020-05-09 20:15:35 [scrapy.core.engine] DEBUG: Crawled (200) <GET https://www.goodreads.com/book/show/8695.The_Restaurant_at_the_End_of_the_Universe> (referer: https://www.goodreads.com/list/show/1.Best_Books_Ever?page=8)\n",
      "2020-05-09 20:15:35 [scrapy.core.engine] DEBUG: Crawled (200) <GET https://www.goodreads.com/book/show/57891.Battle_Royale> (referer: https://www.goodreads.com/list/show/1.Best_Books_Ever?page=8)\n",
      "2020-05-09 20:15:36 [scrapy.core.engine] DEBUG: Crawled (200) <GET https://www.goodreads.com/book/show/34484.Small_Gods> (referer: https://www.goodreads.com/list/show/1.Best_Books_Ever?page=8)\n"
     ]
    },
    {
     "name": "stdout",
     "output_type": "stream",
     "text": [
      "Warning: Book missing series (https://www.goodreads.com/book/show/57891.Battle_Royale).\n"
     ]
    },
    {
     "name": "stderr",
     "output_type": "stream",
     "text": [
      "2020-05-09 20:15:36 [scrapy.core.engine] DEBUG: Crawled (200) <GET https://www.goodreads.com/book/show/49750.An_Abundance_of_Katherines> (referer: https://www.goodreads.com/list/show/1.Best_Books_Ever?page=8)\n",
      "2020-05-09 20:15:36 [scrapy.core.engine] DEBUG: Crawled (200) <GET https://www.goodreads.com/book/show/2595138-the-gargoyle> (referer: https://www.goodreads.com/list/show/1.Best_Books_Ever?page=8)\n"
     ]
    },
    {
     "name": "stdout",
     "output_type": "stream",
     "text": [
      "Warning: Book missing series (https://www.goodreads.com/book/show/49750.An_Abundance_of_Katherines).\n"
     ]
    },
    {
     "name": "stderr",
     "output_type": "stream",
     "text": [
      "2020-05-09 20:15:36 [scrapy.core.engine] DEBUG: Crawled (200) <GET https://www.goodreads.com/book/show/46164.Tender_Is_the_Night> (referer: https://www.goodreads.com/list/show/1.Best_Books_Ever?page=8)\n"
     ]
    },
    {
     "name": "stdout",
     "output_type": "stream",
     "text": [
      "Warning: Book missing series (https://www.goodreads.com/book/show/2595138-the-gargoyle).\n"
     ]
    },
    {
     "name": "stderr",
     "output_type": "stream",
     "text": [
      "2020-05-09 20:15:37 [scrapy.core.engine] DEBUG: Crawled (200) <GET https://www.goodreads.com/book/show/40389231-cold-sassy-tree> (referer: https://www.goodreads.com/list/show/1.Best_Books_Ever?page=8)\n"
     ]
    },
    {
     "name": "stdout",
     "output_type": "stream",
     "text": [
      "Warning: Book missing series (https://www.goodreads.com/book/show/46164.Tender_Is_the_Night).\n",
      "Warning: Book missing series (https://www.goodreads.com/book/show/40389231-cold-sassy-tree).\n"
     ]
    },
    {
     "name": "stderr",
     "output_type": "stream",
     "text": [
      "2020-05-09 20:15:37 [scrapy.core.engine] DEBUG: Crawled (200) <GET https://www.goodreads.com/book/show/1923820.Holy_Bible> (referer: https://www.goodreads.com/list/show/1.Best_Books_Ever?page=8)\n"
     ]
    },
    {
     "name": "stdout",
     "output_type": "stream",
     "text": [
      "Warning: Missing book original title (https://www.goodreads.com/book/show/1923820.Holy_Bible).\n",
      "Warning: Book missing series (https://www.goodreads.com/book/show/1923820.Holy_Bible).\n",
      "Warning: Book missing description (https://www.goodreads.com/book/show/1923820.Holy_Bible).\n"
     ]
    },
    {
     "name": "stderr",
     "output_type": "stream",
     "text": [
      "2020-05-09 20:15:37 [scrapy.core.engine] DEBUG: Crawled (200) <GET https://www.goodreads.com/book/show/40941582> (referer: https://www.goodreads.com/list/show/1.Best_Books_Ever?page=8)\n"
     ]
    },
    {
     "name": "stdout",
     "output_type": "stream",
     "text": [
      "Warning: Book missing series (https://www.goodreads.com/book/show/40941582).\n"
     ]
    },
    {
     "name": "stderr",
     "output_type": "stream",
     "text": [
      "2020-05-09 20:15:38 [scrapy.core.engine] DEBUG: Crawled (200) <GET https://www.goodreads.com/book/show/16640.The_Sorrows_of_Young_Werther> (referer: https://www.goodreads.com/list/show/1.Best_Books_Ever?page=8)\n",
      "2020-05-09 20:15:38 [scrapy.core.engine] DEBUG: Crawled (200) <GET https://www.goodreads.com/book/show/6468666-the-reckoning> (referer: https://www.goodreads.com/list/show/1.Best_Books_Ever?page=8)\n"
     ]
    },
    {
     "name": "stdout",
     "output_type": "stream",
     "text": [
      "Warning: Book missing series (https://www.goodreads.com/book/show/16640.The_Sorrows_of_Young_Werther).\n"
     ]
    },
    {
     "name": "stderr",
     "output_type": "stream",
     "text": [
      "2020-05-09 20:15:39 [scrapy.core.engine] DEBUG: Crawled (200) <GET https://www.goodreads.com/book/show/16690.The_Moon_is_a_Harsh_Mistress> (referer: https://www.goodreads.com/list/show/1.Best_Books_Ever?page=8)\n"
     ]
    },
    {
     "name": "stdout",
     "output_type": "stream",
     "text": [
      "Warning: Book missing series (https://www.goodreads.com/book/show/16690.The_Moon_is_a_Harsh_Mistress).\n"
     ]
    },
    {
     "name": "stderr",
     "output_type": "stream",
     "text": [
      "2020-05-09 20:15:39 [scrapy.core.engine] DEBUG: Crawled (200) <GET https://www.goodreads.com/book/show/34497.The_Color_of_Magic> (referer: https://www.goodreads.com/list/show/1.Best_Books_Ever?page=8)\n",
      "2020-05-09 20:15:39 [scrapy.core.engine] DEBUG: Crawled (200) <GET https://www.goodreads.com/book/show/6690798-the-passage> (referer: https://www.goodreads.com/list/show/1.Best_Books_Ever?page=8)\n",
      "2020-05-09 20:15:39 [scrapy.core.engine] DEBUG: Crawled (200) <GET https://www.goodreads.com/book/show/12751687-finale> (referer: https://www.goodreads.com/list/show/1.Best_Books_Ever?page=8)\n",
      "2020-05-09 20:15:39 [scrapy.core.engine] DEBUG: Crawled (200) <GET https://www.goodreads.com/book/show/131359.Death_on_the_Nile> (referer: https://www.goodreads.com/list/show/1.Best_Books_Ever?page=8)\n",
      "2020-05-09 20:15:40 [scrapy.core.engine] DEBUG: Crawled (200) <GET https://www.goodreads.com/book/show/248704.It_s_Kind_of_a_Funny_Story> (referer: https://www.goodreads.com/list/show/1.Best_Books_Ever?page=8)\n",
      "2020-05-09 20:15:40 [scrapy.core.engine] DEBUG: Crawled (200) <GET https://www.goodreads.com/book/show/36236123-survivor> (referer: https://www.goodreads.com/list/show/1.Best_Books_Ever?page=8)\n"
     ]
    },
    {
     "name": "stdout",
     "output_type": "stream",
     "text": [
      "Warning: Book missing series (https://www.goodreads.com/book/show/248704.It_s_Kind_of_a_Funny_Story).\n"
     ]
    },
    {
     "name": "stderr",
     "output_type": "stream",
     "text": [
      "2020-05-09 20:15:40 [scrapy.core.engine] DEBUG: Crawled (200) <GET https://www.goodreads.com/book/show/21853621-the-nightingale> (referer: https://www.goodreads.com/list/show/1.Best_Books_Ever?page=8)\n"
     ]
    },
    {
     "name": "stdout",
     "output_type": "stream",
     "text": [
      "Warning: Book missing series (https://www.goodreads.com/book/show/36236123-survivor).\n",
      "Warning: Book missing language (https://www.goodreads.com/book/show/36236123-survivor).\n"
     ]
    },
    {
     "name": "stderr",
     "output_type": "stream",
     "text": [
      "2020-05-09 20:15:40 [scrapy.core.engine] DEBUG: Crawled (200) <GET https://www.goodreads.com/book/show/15839976-red-rising> (referer: https://www.goodreads.com/list/show/1.Best_Books_Ever?page=8)\n"
     ]
    },
    {
     "name": "stdout",
     "output_type": "stream",
     "text": [
      "Warning: Book missing series (https://www.goodreads.com/book/show/21853621-the-nightingale).\n"
     ]
    },
    {
     "name": "stderr",
     "output_type": "stream",
     "text": [
      "2020-05-09 20:15:41 [scrapy.core.engine] DEBUG: Crawled (200) <GET https://www.goodreads.com/book/show/38374795-howards-end> (referer: https://www.goodreads.com/list/show/1.Best_Books_Ever?page=8)\n"
     ]
    },
    {
     "name": "stdout",
     "output_type": "stream",
     "text": [
      "Warning: Book missing series (https://www.goodreads.com/book/show/38374795-howards-end).\n"
     ]
    },
    {
     "name": "stderr",
     "output_type": "stream",
     "text": [
      "2020-05-09 20:15:41 [scrapy.core.engine] DEBUG: Crawled (200) <GET https://www.goodreads.com/book/show/7864437-the-death-cure> (referer: https://www.goodreads.com/list/show/1.Best_Books_Ever?page=8)\n",
      "2020-05-09 20:15:42 [scrapy.core.engine] DEBUG: Crawled (200) <GET https://www.goodreads.com/book/show/152380.Mary_Poppins> (referer: https://www.goodreads.com/list/show/1.Best_Books_Ever?page=8)\n",
      "2020-05-09 20:15:42 [scrapy.core.engine] DEBUG: Crawled (200) <GET https://www.goodreads.com/book/show/6137154-fire> (referer: https://www.goodreads.com/list/show/1.Best_Books_Ever?page=8)\n",
      "2020-05-09 20:15:43 [scrapy.core.engine] DEBUG: Crawled (200) <GET https://www.goodreads.com/book/show/7728.Antigone> (referer: https://www.goodreads.com/list/show/1.Best_Books_Ever?page=8)\n",
      "2020-05-09 20:15:43 [scrapy.core.engine] DEBUG: Crawled (200) <GET https://www.goodreads.com/book/show/5391115-the-awakening> (referer: https://www.goodreads.com/list/show/1.Best_Books_Ever?page=8)\n",
      "2020-05-09 20:15:43 [scrapy.core.engine] DEBUG: Crawled (200) <GET https://www.goodreads.com/book/show/2153405.Still_Alice> (referer: https://www.goodreads.com/list/show/1.Best_Books_Ever?page=8)\n",
      "2020-05-09 20:15:43 [scrapy.core.engine] DEBUG: Crawled (200) <GET https://www.goodreads.com/book/show/426504.Ficciones> (referer: https://www.goodreads.com/list/show/1.Best_Books_Ever?page=8)\n",
      "2020-05-09 20:15:43 [scrapy.core.engine] DEBUG: Crawled (200) <GET https://www.goodreads.com/book/show/77295.Gift_from_the_Sea> (referer: https://www.goodreads.com/list/show/1.Best_Books_Ever?page=8)\n"
     ]
    },
    {
     "name": "stdout",
     "output_type": "stream",
     "text": [
      "Warning: Book missing series (https://www.goodreads.com/book/show/2153405.Still_Alice).\n"
     ]
    },
    {
     "name": "stderr",
     "output_type": "stream",
     "text": [
      "2020-05-09 20:15:44 [scrapy.core.engine] DEBUG: Crawled (200) <GET https://www.goodreads.com/book/show/29059.Choke> (referer: https://www.goodreads.com/list/show/1.Best_Books_Ever?page=8)\n"
     ]
    },
    {
     "name": "stdout",
     "output_type": "stream",
     "text": [
      "Warning: Book missing series (https://www.goodreads.com/book/show/426504.Ficciones).\n",
      "Warning: Book missing series (https://www.goodreads.com/book/show/77295.Gift_from_the_Sea).\n",
      "Warning: Book missing series (https://www.goodreads.com/book/show/29059.Choke).\n"
     ]
    },
    {
     "name": "stderr",
     "output_type": "stream",
     "text": [
      "2020-05-09 20:15:44 [scrapy.core.engine] DEBUG: Crawled (200) <GET https://www.goodreads.com/book/show/4865.How_to_Win_Friends_and_Influence_People> (referer: https://www.goodreads.com/list/show/1.Best_Books_Ever?page=8)\n",
      "2020-05-09 20:15:44 [scrapy.core.engine] DEBUG: Crawled (200) <GET https://www.goodreads.com/book/show/7770.One_Fish_Two_Fish_Red_Fish_Blue_Fish> (referer: https://www.goodreads.com/list/show/1.Best_Books_Ever?page=8)\n"
     ]
    },
    {
     "name": "stdout",
     "output_type": "stream",
     "text": [
      "Warning: Book missing series (https://www.goodreads.com/book/show/4865.How_to_Win_Friends_and_Influence_People).\n",
      "Warning: Book missing series (https://www.goodreads.com/book/show/7770.One_Fish_Two_Fish_Red_Fish_Blue_Fish).\n",
      "Warning: Book missing language (https://www.goodreads.com/book/show/7770.One_Fish_Two_Fish_Red_Fish_Blue_Fish).\n"
     ]
    },
    {
     "name": "stderr",
     "output_type": "stream",
     "text": [
      "2020-05-09 20:15:45 [scrapy.core.engine] DEBUG: Crawled (200) <GET https://www.goodreads.com/book/show/8852.Macbeth> (referer: https://www.goodreads.com/list/show/1.Best_Books_Ever?page=8)\n",
      "2020-05-09 20:15:45 [scrapy.core.engine] DEBUG: Crawled (200) <GET https://www.goodreads.com/book/show/32768522-carry-on> (referer: https://www.goodreads.com/list/show/1.Best_Books_Ever?page=8)\n"
     ]
    },
    {
     "name": "stdout",
     "output_type": "stream",
     "text": [
      "Warning: Book missing series (https://www.goodreads.com/book/show/8852.Macbeth).\n"
     ]
    },
    {
     "name": "stderr",
     "output_type": "stream",
     "text": [
      "2020-05-09 20:15:46 [scrapy.core.engine] DEBUG: Crawled (200) <GET https://www.goodreads.com/book/show/248596.Something_Wicked_This_Way_Comes> (referer: https://www.goodreads.com/list/show/1.Best_Books_Ever?page=8)\n",
      "2020-05-09 20:15:46 [scrapy.core.engine] DEBUG: Crawled (200) <GET https://www.goodreads.com/book/show/50798.Jude_the_Obscure> (referer: https://www.goodreads.com/list/show/1.Best_Books_Ever?page=8)\n",
      "2020-05-09 20:15:47 [scrapy.core.engine] DEBUG: Crawled (200) <GET https://www.goodreads.com/book/show/33917.The_Namesake> (referer: https://www.goodreads.com/list/show/1.Best_Books_Ever?page=8)\n"
     ]
    },
    {
     "name": "stdout",
     "output_type": "stream",
     "text": [
      "Warning: Book missing series (https://www.goodreads.com/book/show/50798.Jude_the_Obscure).\n"
     ]
    },
    {
     "name": "stderr",
     "output_type": "stream",
     "text": [
      "2020-05-09 20:15:47 [scrapy.core.engine] DEBUG: Crawled (200) <GET https://www.goodreads.com/book/show/264.The_Portrait_of_a_Lady> (referer: https://www.goodreads.com/list/show/1.Best_Books_Ever?page=8)\n"
     ]
    },
    {
     "name": "stdout",
     "output_type": "stream",
     "text": [
      "Warning: Book missing series (https://www.goodreads.com/book/show/33917.The_Namesake).\n"
     ]
    },
    {
     "name": "stderr",
     "output_type": "stream",
     "text": [
      "2020-05-09 20:15:47 [scrapy.core.engine] DEBUG: Crawled (200) <GET https://www.goodreads.com/book/show/11334.Song_of_Solomon> (referer: https://www.goodreads.com/list/show/1.Best_Books_Ever?page=8)\n"
     ]
    },
    {
     "name": "stdout",
     "output_type": "stream",
     "text": [
      "Warning: Book missing series (https://www.goodreads.com/book/show/264.The_Portrait_of_a_Lady).\n",
      "Warning: Book missing series (https://www.goodreads.com/book/show/11334.Song_of_Solomon).\n"
     ]
    },
    {
     "name": "stderr",
     "output_type": "stream",
     "text": [
      "2020-05-09 20:15:48 [scrapy.core.engine] DEBUG: Crawled (200) <GET https://www.goodreads.com/book/show/10374.Hard_Boiled_Wonderland_and_the_End_of_the_World> (referer: https://www.goodreads.com/list/show/1.Best_Books_Ever?page=8)\n",
      "2020-05-09 20:15:48 [scrapy.core.engine] DEBUG: Crawled (200) <GET https://www.goodreads.com/book/show/22557272-the-girl-on-the-train> (referer: https://www.goodreads.com/list/show/1.Best_Books_Ever?page=8)\n"
     ]
    },
    {
     "name": "stdout",
     "output_type": "stream",
     "text": [
      "Warning: Book missing series (https://www.goodreads.com/book/show/10374.Hard_Boiled_Wonderland_and_the_End_of_the_World).\n",
      "Warning: Book missing series (https://www.goodreads.com/book/show/22557272-the-girl-on-the-train).\n"
     ]
    },
    {
     "name": "stderr",
     "output_type": "stream",
     "text": [
      "2020-05-09 20:15:48 [scrapy.core.engine] DEBUG: Crawled (200) <GET https://www.goodreads.com/book/show/164154.A_Canticle_for_Leibowitz> (referer: https://www.goodreads.com/list/show/1.Best_Books_Ever?page=8)\n",
      "2020-05-09 20:15:48 [scrapy.core.engine] DEBUG: Crawled (200) <GET https://www.goodreads.com/book/show/17961.Collected_Fictions> (referer: https://www.goodreads.com/list/show/1.Best_Books_Ever?page=8)\n"
     ]
    },
    {
     "name": "stdout",
     "output_type": "stream",
     "text": [
      "Warning: Book missing series (https://www.goodreads.com/book/show/17961.Collected_Fictions).\n"
     ]
    },
    {
     "name": "stderr",
     "output_type": "stream",
     "text": [
      "2020-05-09 20:15:49 [scrapy.core.engine] DEBUG: Crawled (200) <GET https://www.goodreads.com/book/show/11507.My_Name_Is_Asher_Lev> (referer: https://www.goodreads.com/list/show/1.Best_Books_Ever?page=8)\n",
      "2020-05-09 20:15:49 [scrapy.core.engine] DEBUG: Crawled (200) <GET https://www.goodreads.com/book/show/33507.Twenty_Thousand_Leagues_Under_the_Sea> (referer: https://www.goodreads.com/list/show/1.Best_Books_Ever?page=8)\n",
      "2020-05-09 20:15:49 [scrapy.core.engine] DEBUG: Crawled (200) <GET https://www.goodreads.com/book/show/821611.The_Story_of_My_Life> (referer: https://www.goodreads.com/list/show/1.Best_Books_Ever?page=8)\n",
      "2020-05-09 20:15:49 [scrapy.core.engine] DEBUG: Crawled (200) <GET https://www.goodreads.com/book/show/357664.Because_of_Winn_Dixie> (referer: https://www.goodreads.com/list/show/1.Best_Books_Ever?page=8)\n"
     ]
    },
    {
     "name": "stdout",
     "output_type": "stream",
     "text": [
      "Warning: Book missing series (https://www.goodreads.com/book/show/821611.The_Story_of_My_Life).\n"
     ]
    },
    {
     "name": "stderr",
     "output_type": "stream",
     "text": [
      "2020-05-09 20:15:50 [scrapy.core.engine] DEBUG: Crawled (200) <GET https://www.goodreads.com/book/show/110494.Living_Dead_in_Dallas> (referer: https://www.goodreads.com/list/show/1.Best_Books_Ever?page=8)\n"
     ]
    },
    {
     "name": "stdout",
     "output_type": "stream",
     "text": [
      "Warning: Book missing series (https://www.goodreads.com/book/show/357664.Because_of_Winn_Dixie).\n"
     ]
    },
    {
     "name": "stderr",
     "output_type": "stream",
     "text": [
      "2020-05-09 20:15:50 [scrapy.core.engine] DEBUG: Crawled (200) <GET https://www.goodreads.com/book/show/667.Anthem> (referer: https://www.goodreads.com/list/show/1.Best_Books_Ever?page=8)\n",
      "2020-05-09 20:15:50 [scrapy.core.engine] DEBUG: Crawled (200) <GET https://www.goodreads.com/book/show/11125.Digital_Fortress> (referer: https://www.goodreads.com/list/show/1.Best_Books_Ever?page=8)\n"
     ]
    },
    {
     "name": "stdout",
     "output_type": "stream",
     "text": [
      "Warning: Book missing series (https://www.goodreads.com/book/show/667.Anthem).\n",
      "Warning: Book missing series (https://www.goodreads.com/book/show/11125.Digital_Fortress).\n"
     ]
    },
    {
     "name": "stderr",
     "output_type": "stream",
     "text": [
      "2020-05-09 20:15:51 [scrapy.core.engine] DEBUG: Crawled (200) <GET https://www.goodreads.com/book/show/11250317-the-song-of-achilles> (referer: https://www.goodreads.com/list/show/1.Best_Books_Ever?page=8)\n",
      "2020-05-09 20:15:51 [scrapy.core.engine] DEBUG: Crawled (200) <GET https://www.goodreads.com/book/show/41684.The_Jungle_Books> (referer: https://www.goodreads.com/list/show/1.Best_Books_Ever?page=8)\n"
     ]
    },
    {
     "name": "stdout",
     "output_type": "stream",
     "text": [
      "Warning: Book missing series (https://www.goodreads.com/book/show/11250317-the-song-of-achilles).\n"
     ]
    },
    {
     "name": "stderr",
     "output_type": "stream",
     "text": [
      "2020-05-09 20:15:52 [scrapy.core.engine] DEBUG: Crawled (200) <GET https://www.goodreads.com/book/show/13104080-unravel-me> (referer: https://www.goodreads.com/list/show/1.Best_Books_Ever?page=8)\n",
      "2020-05-09 20:15:52 [scrapy.core.engine] DEBUG: Crawled (200) <GET https://www.goodreads.com/book/show/6325285-rubinrot> (referer: https://www.goodreads.com/list/show/1.Best_Books_Ever?page=8)\n",
      "2020-05-09 20:15:53 [scrapy.core.engine] DEBUG: Crawled (200) <GET https://www.goodreads.com/book/show/40024.The_Alienist> (referer: https://www.goodreads.com/list/show/1.Best_Books_Ever?page=8)\n",
      "2020-05-09 20:15:53 [scrapy.core.engine] DEBUG: Crawled (200) <GET https://www.goodreads.com/book/show/6280118-one-day> (referer: https://www.goodreads.com/list/show/1.Best_Books_Ever?page=8)\n"
     ]
    },
    {
     "name": "stdout",
     "output_type": "stream",
     "text": [
      "Warning: Book missing series (https://www.goodreads.com/book/show/6280118-one-day).\n"
     ]
    },
    {
     "name": "stderr",
     "output_type": "stream",
     "text": [
      "2020-05-09 20:15:53 [scrapy.core.engine] DEBUG: Crawled (200) <GET https://www.goodreads.com/book/show/6969.Emma> (referer: https://www.goodreads.com/list/show/1.Best_Books_Ever?page=8)\n",
      "2020-05-09 20:15:54 [scrapy.core.engine] DEBUG: Crawled (200) <GET https://www.goodreads.com/book/show/6440.Ivanhoe> (referer: https://www.goodreads.com/list/show/1.Best_Books_Ever?page=8)\n"
     ]
    },
    {
     "name": "stdout",
     "output_type": "stream",
     "text": [
      "Warning: Book missing series (https://www.goodreads.com/book/show/6969.Emma).\n"
     ]
    },
    {
     "name": "stderr",
     "output_type": "stream",
     "text": [
      "2020-05-09 20:15:54 [scrapy.core.engine] DEBUG: Crawled (200) <GET https://www.goodreads.com/book/show/816.Cryptonomicon> (referer: https://www.goodreads.com/list/show/1.Best_Books_Ever?page=8)\n"
     ]
    },
    {
     "name": "stdout",
     "output_type": "stream",
     "text": [
      "Warning: Book missing series (https://www.goodreads.com/book/show/816.Cryptonomicon).\n"
     ]
    },
    {
     "name": "stderr",
     "output_type": "stream",
     "text": [
      "2020-05-09 20:15:54 [scrapy.core.engine] DEBUG: Crawled (200) <GET https://www.goodreads.com/book/show/3805.The_Corrections> (referer: https://www.goodreads.com/list/show/1.Best_Books_Ever?page=8)\n",
      "2020-05-09 20:15:55 [scrapy.core.engine] DEBUG: Crawled (200) <GET https://www.goodreads.com/book/show/13872.Geek_Love> (referer: https://www.goodreads.com/list/show/1.Best_Books_Ever?page=8)\n"
     ]
    },
    {
     "name": "stdout",
     "output_type": "stream",
     "text": [
      "Warning: Book missing series (https://www.goodreads.com/book/show/3805.The_Corrections).\n"
     ]
    },
    {
     "name": "stderr",
     "output_type": "stream",
     "text": [
      "2020-05-09 20:15:55 [scrapy.core.engine] DEBUG: Crawled (200) <GET https://www.goodreads.com/book/show/6654313-linger> (referer: https://www.goodreads.com/list/show/1.Best_Books_Ever?page=8)\n"
     ]
    },
    {
     "name": "stdout",
     "output_type": "stream",
     "text": [
      "Warning: Book missing series (https://www.goodreads.com/book/show/13872.Geek_Love).\n"
     ]
    },
    {
     "name": "stderr",
     "output_type": "stream",
     "text": [
      "2020-05-09 20:15:55 [scrapy.core.engine] DEBUG: Crawled (200) <GET https://www.goodreads.com/book/show/5098079-lover-avenged> (referer: https://www.goodreads.com/list/show/1.Best_Books_Ever?page=8)\n"
     ]
    },
    {
     "name": "stdout",
     "output_type": "stream",
     "text": [
      "Warning: Missing book original title (https://www.goodreads.com/book/show/5098079-lover-avenged).\n"
     ]
    },
    {
     "name": "stderr",
     "output_type": "stream",
     "text": [
      "2020-05-09 20:15:56 [scrapy.core.engine] DEBUG: Crawled (200) <GET https://www.goodreads.com/book/show/3109.The_Omnivore_s_Dilemma> (referer: https://www.goodreads.com/list/show/1.Best_Books_Ever?page=8)\n",
      "2020-05-09 20:15:56 [scrapy.core.engine] DEBUG: Crawled (200) <GET https://www.goodreads.com/book/show/9532.Ender_s_Shadow> (referer: https://www.goodreads.com/list/show/1.Best_Books_Ever?page=8)\n"
     ]
    },
    {
     "name": "stdout",
     "output_type": "stream",
     "text": [
      "Warning: Book missing series (https://www.goodreads.com/book/show/3109.The_Omnivore_s_Dilemma).\n"
     ]
    },
    {
     "name": "stderr",
     "output_type": "stream",
     "text": [
      "2020-05-09 20:15:56 [scrapy.core.engine] DEBUG: Crawled (200) <GET https://www.goodreads.com/book/show/6320534-under-the-dome> (referer: https://www.goodreads.com/list/show/1.Best_Books_Ever?page=8)\n"
     ]
    },
    {
     "name": "stdout",
     "output_type": "stream",
     "text": [
      "Warning: Book missing series (https://www.goodreads.com/book/show/6320534-under-the-dome).\n"
     ]
    },
    {
     "name": "stderr",
     "output_type": "stream",
     "text": [
      "2020-05-09 20:15:57 [scrapy.core.engine] DEBUG: Crawled (200) <GET https://www.goodreads.com/book/show/53496.Walk_Two_Moons> (referer: https://www.goodreads.com/list/show/1.Best_Books_Ever?page=8)\n"
     ]
    },
    {
     "name": "stdout",
     "output_type": "stream",
     "text": [
      "Warning: Book missing series (https://www.goodreads.com/book/show/53496.Walk_Two_Moons).\n"
     ]
    },
    {
     "name": "stderr",
     "output_type": "stream",
     "text": [
      "2020-05-09 20:15:57 [scrapy.core.engine] DEBUG: Crawled (200) <GET https://www.goodreads.com/book/show/11337.The_Bluest_Eye> (referer: https://www.goodreads.com/list/show/1.Best_Books_Ever?page=8)\n"
     ]
    },
    {
     "name": "stdout",
     "output_type": "stream",
     "text": [
      "Warning: Book missing series (https://www.goodreads.com/book/show/11337.The_Bluest_Eye).\n"
     ]
    },
    {
     "name": "stderr",
     "output_type": "stream",
     "text": [
      "2020-05-09 20:15:58 [scrapy.core.engine] DEBUG: Crawled (200) <GET https://www.goodreads.com/book/show/1582996.City_of_Ashes> (referer: https://www.goodreads.com/list/show/1.Best_Books_Ever?page=8)\n",
      "2020-05-09 20:15:58 [scrapy.core.engine] DEBUG: Crawled (200) <GET https://www.goodreads.com/book/show/37095.The_Shell_Seekers> (referer: https://www.goodreads.com/list/show/1.Best_Books_Ever?page=8)\n"
     ]
    },
    {
     "name": "stdout",
     "output_type": "stream",
     "text": [
      "Warning: Book missing series (https://www.goodreads.com/book/show/37095.The_Shell_Seekers).\n"
     ]
    },
    {
     "name": "stderr",
     "output_type": "stream",
     "text": [
      "2020-05-09 20:15:58 [scrapy.core.engine] DEBUG: Crawled (200) <GET https://www.goodreads.com/book/show/292408.Angle_of_Repose> (referer: https://www.goodreads.com/list/show/1.Best_Books_Ever?page=8)\n",
      "2020-05-09 20:15:58 [scrapy.core.engine] DEBUG: Crawled (200) <GET https://www.goodreads.com/book/show/703292.The_Witch_of_Blackbird_Pond> (referer: https://www.goodreads.com/list/show/1.Best_Books_Ever?page=8)\n",
      "2020-05-09 20:15:58 [scrapy.core.engine] DEBUG: Crawled (200) <GET https://www.goodreads.com/book/show/452306.The_Sisterhood_of_the_Traveling_Pants> (referer: https://www.goodreads.com/list/show/1.Best_Books_Ever?page=8)\n",
      "2020-05-09 20:15:58 [scrapy.core.engine] DEBUG: Crawled (200) <GET https://www.goodreads.com/book/show/140082.Club_Dead> (referer: https://www.goodreads.com/list/show/1.Best_Books_Ever?page=8)\n"
     ]
    },
    {
     "name": "stdout",
     "output_type": "stream",
     "text": [
      "Warning: Book missing series (https://www.goodreads.com/book/show/292408.Angle_of_Repose).\n",
      "Warning: Book missing series (https://www.goodreads.com/book/show/703292.The_Witch_of_Blackbird_Pond).\n"
     ]
    },
    {
     "name": "stderr",
     "output_type": "stream",
     "text": [
      "2020-05-09 20:15:58 [scrapy.core.engine] DEBUG: Crawled (200) <GET https://www.goodreads.com/book/show/1202.Freakonomics> (referer: https://www.goodreads.com/list/show/1.Best_Books_Ever?page=8)\n",
      "2020-05-09 20:15:59 [scrapy.extensions.logstats] INFO: Crawled 1120 pages (at 187 pages/min), scraped 0 items (at 0 items/min)\n",
      "2020-05-09 20:15:59 [scrapy.core.engine] DEBUG: Crawled (200) <GET https://www.goodreads.com/book/show/12914.The_Aeneid> (referer: https://www.goodreads.com/list/show/1.Best_Books_Ever?page=8)\n"
     ]
    },
    {
     "name": "stdout",
     "output_type": "stream",
     "text": [
      "Warning: Book missing series (https://www.goodreads.com/book/show/12914.The_Aeneid).\n",
      "Warning: Book missing description (https://www.goodreads.com/book/show/12914.The_Aeneid).\n"
     ]
    },
    {
     "name": "stderr",
     "output_type": "stream",
     "text": [
      "2020-05-09 20:16:00 [scrapy.core.engine] DEBUG: Crawled (200) <GET https://www.goodreads.com/book/show/42898.Lover_Revealed> (referer: https://www.goodreads.com/list/show/1.Best_Books_Ever?page=8)\n",
      "2020-05-09 20:16:00 [scrapy.core.engine] DEBUG: Crawled (200) <GET https://www.goodreads.com/book/show/227571.Peace_Like_a_River> (referer: https://www.goodreads.com/list/show/1.Best_Books_Ever?page=6)\n"
     ]
    },
    {
     "name": "stdout",
     "output_type": "stream",
     "text": [
      "Warning: Book missing series (https://www.goodreads.com/book/show/227571.Peace_Like_a_River).\n"
     ]
    },
    {
     "name": "stderr",
     "output_type": "stream",
     "text": [
      "2020-05-09 20:16:00 [scrapy.core.engine] DEBUG: Crawled (200) <GET https://www.goodreads.com/book/show/5326.A_Christmas_Carol> (referer: https://www.goodreads.com/list/show/1.Best_Books_Ever?page=6)\n",
      "2020-05-09 20:16:01 [scrapy.core.engine] DEBUG: Crawled (200) <GET https://www.goodreads.com/book/show/18006496-queen-of-shadows> (referer: https://www.goodreads.com/list/show/1.Best_Books_Ever?page=6)\n",
      "2020-05-09 20:16:01 [scrapy.core.engine] DEBUG: Crawled (200) <GET https://www.goodreads.com/book/show/2052.The_Big_Sleep> (referer: https://www.goodreads.com/list/show/1.Best_Books_Ever?page=8)\n",
      "2020-05-09 20:16:01 [scrapy.core.engine] DEBUG: Crawled (200) <GET https://www.goodreads.com/book/show/35729.Lover_Eternal> (referer: https://www.goodreads.com/list/show/1.Best_Books_Ever?page=6)\n",
      "2020-05-09 20:16:01 [scrapy.core.engine] DEBUG: Crawled (200) <GET https://www.goodreads.com/book/show/17675462-the-raven-boys> (referer: https://www.goodreads.com/list/show/1.Best_Books_Ever?page=6)\n",
      "2020-05-09 20:16:02 [scrapy.core.engine] DEBUG: Crawled (200) <GET https://www.goodreads.com/book/show/902.The_Westing_Game> (referer: https://www.goodreads.com/list/show/1.Best_Books_Ever?page=6)\n",
      "2020-05-09 20:16:02 [scrapy.core.engine] DEBUG: Crawled (200) <GET https://www.goodreads.com/book/show/7090447-the-red-pyramid> (referer: https://www.goodreads.com/list/show/1.Best_Books_Ever?page=6)\n"
     ]
    },
    {
     "name": "stdout",
     "output_type": "stream",
     "text": [
      "Warning: Book missing series (https://www.goodreads.com/book/show/902.The_Westing_Game).\n"
     ]
    },
    {
     "name": "stderr",
     "output_type": "stream",
     "text": [
      "2020-05-09 20:16:02 [scrapy.core.engine] DEBUG: Crawled (200) <GET https://www.goodreads.com/book/show/13006.Julius_Caesar> (referer: https://www.goodreads.com/list/show/1.Best_Books_Ever?page=6)\n",
      "2020-05-09 20:16:02 [scrapy.core.engine] DEBUG: Crawled (200) <GET https://www.goodreads.com/book/show/5527.All_the_King_s_Men> (referer: https://www.goodreads.com/list/show/1.Best_Books_Ever?page=6)\n"
     ]
    },
    {
     "name": "stdout",
     "output_type": "stream",
     "text": [
      "Warning: Book missing series (https://www.goodreads.com/book/show/5527.All_the_King_s_Men).\n"
     ]
    },
    {
     "name": "stderr",
     "output_type": "stream",
     "text": [
      "2020-05-09 20:16:03 [scrapy.core.engine] DEBUG: Crawled (200) <GET https://www.goodreads.com/book/show/77566.Hyperion> (referer: https://www.goodreads.com/list/show/1.Best_Books_Ever?page=6)\n",
      "2020-05-09 20:16:03 [scrapy.core.engine] DEBUG: Crawled (200) <GET https://www.goodreads.com/book/show/78411.The_Bad_Beginning> (referer: https://www.goodreads.com/list/show/1.Best_Books_Ever?page=6)\n",
      "2020-05-09 20:16:03 [scrapy.core.engine] DEBUG: Crawled (200) <GET https://www.goodreads.com/book/show/15638.Cyrano_de_Bergerac> (referer: https://www.goodreads.com/list/show/1.Best_Books_Ever?page=6)\n",
      "2020-05-09 20:16:04 [scrapy.core.engine] DEBUG: Crawled (200) <GET https://www.goodreads.com/book/show/7967.Speaker_for_the_Dead> (referer: https://www.goodreads.com/list/show/1.Best_Books_Ever?page=6)\n"
     ]
    },
    {
     "name": "stdout",
     "output_type": "stream",
     "text": [
      "Warning: Book missing series (https://www.goodreads.com/book/show/15638.Cyrano_de_Bergerac).\n"
     ]
    },
    {
     "name": "stderr",
     "output_type": "stream",
     "text": [
      "2020-05-09 20:16:04 [scrapy.core.engine] DEBUG: Crawled (200) <GET https://www.goodreads.com/book/show/8337.Little_House_in_the_Big_Woods> (referer: https://www.goodreads.com/list/show/1.Best_Books_Ever?page=6)\n",
      "2020-05-09 20:16:04 [scrapy.core.engine] DEBUG: Crawled (200) <GET https://www.goodreads.com/book/show/5439.Interpreter_of_Maladies> (referer: https://www.goodreads.com/list/show/1.Best_Books_Ever?page=6)\n"
     ]
    },
    {
     "name": "stdout",
     "output_type": "stream",
     "text": [
      "Warning: Book missing series (https://www.goodreads.com/book/show/5439.Interpreter_of_Maladies).\n"
     ]
    },
    {
     "name": "stderr",
     "output_type": "stream",
     "text": [
      "2020-05-09 20:16:05 [scrapy.core.engine] DEBUG: Crawled (200) <GET https://www.goodreads.com/book/show/40909452-drums-of-autumn> (referer: https://www.goodreads.com/list/show/1.Best_Books_Ever?page=6)\n",
      "2020-05-09 20:16:05 [scrapy.core.engine] DEBUG: Crawled (200) <GET https://www.goodreads.com/book/show/2156.Persuasion> (referer: https://www.goodreads.com/list/show/1.Best_Books_Ever?page=6)\n",
      "2020-05-09 20:16:05 [scrapy.core.engine] DEBUG: Crawled (200) <GET https://www.goodreads.com/book/show/30333938-slammed> (referer: https://www.goodreads.com/list/show/1.Best_Books_Ever?page=6)\n"
     ]
    },
    {
     "name": "stdout",
     "output_type": "stream",
     "text": [
      "Warning: Book missing series (https://www.goodreads.com/book/show/2156.Persuasion).\n"
     ]
    },
    {
     "name": "stderr",
     "output_type": "stream",
     "text": [
      "2020-05-09 20:16:06 [scrapy.core.engine] DEBUG: Crawled (200) <GET https://www.goodreads.com/book/show/12497.No_Country_for_Old_Men> (referer: https://www.goodreads.com/list/show/1.Best_Books_Ever?page=6)\n",
      "2020-05-09 20:16:06 [scrapy.core.engine] DEBUG: Crawled (200) <GET https://www.goodreads.com/book/show/24128.The_Merchant_of_Venice> (referer: https://www.goodreads.com/list/show/1.Best_Books_Ever?page=6)\n"
     ]
    },
    {
     "name": "stdout",
     "output_type": "stream",
     "text": [
      "Warning: Book missing series (https://www.goodreads.com/book/show/12497.No_Country_for_Old_Men).\n",
      "Warning: Book missing series (https://www.goodreads.com/book/show/24128.The_Merchant_of_Venice).\n"
     ]
    },
    {
     "name": "stderr",
     "output_type": "stream",
     "text": [
      "2020-05-09 20:16:06 [scrapy.core.engine] DEBUG: Crawled (200) <GET https://www.goodreads.com/book/show/30868.The_Bean_Trees> (referer: https://www.goodreads.com/list/show/1.Best_Books_Ever?page=6)\n",
      "2020-05-09 20:16:06 [scrapy.core.engine] DEBUG: Crawled (200) <GET https://www.goodreads.com/book/show/13188676-ignite-me> (referer: https://www.goodreads.com/list/show/1.Best_Books_Ever?page=6)\n",
      "2020-05-09 20:16:07 [scrapy.core.engine] DEBUG: Crawled (200) <GET https://www.goodreads.com/book/show/29127.The_Last_Unicorn> (referer: https://www.goodreads.com/list/show/1.Best_Books_Ever?page=6)\n",
      "2020-05-09 20:16:07 [scrapy.core.engine] DEBUG: Crawled (200) <GET https://www.goodreads.com/book/show/40593473-finding-hope-in-the-darkness-of-grief> (referer: https://www.goodreads.com/list/show/1.Best_Books_Ever?page=6)\n",
      "2020-05-09 20:16:07 [scrapy.core.engine] DEBUG: Crawled (200) <GET https://www.goodreads.com/book/show/10576365-the-darkest-minds> (referer: https://www.goodreads.com/list/show/1.Best_Books_Ever?page=6)\n"
     ]
    },
    {
     "name": "stdout",
     "output_type": "stream",
     "text": [
      "Warning: Book missing series (https://www.goodreads.com/book/show/40593473-finding-hope-in-the-darkness-of-grief).\n"
     ]
    },
    {
     "name": "stderr",
     "output_type": "stream",
     "text": [
      "2020-05-09 20:16:08 [scrapy.core.engine] DEBUG: Crawled (200) <GET https://www.goodreads.com/book/show/18460392-all-the-bright-places> (referer: https://www.goodreads.com/list/show/1.Best_Books_Ever?page=6)\n",
      "2020-05-09 20:16:08 [scrapy.core.engine] DEBUG: Crawled (200) <GET https://www.goodreads.com/book/show/4134071-hunted> (referer: https://www.goodreads.com/list/show/1.Best_Books_Ever?page=6)\n"
     ]
    },
    {
     "name": "stdout",
     "output_type": "stream",
     "text": [
      "Warning: Book missing series (https://www.goodreads.com/book/show/18460392-all-the-bright-places).\n"
     ]
    },
    {
     "name": "stderr",
     "output_type": "stream",
     "text": [
      "2020-05-09 20:16:09 [scrapy.core.engine] DEBUG: Crawled (200) <GET https://www.goodreads.com/book/show/31463.Far_From_the_Madding_Crowd> (referer: https://www.goodreads.com/list/show/1.Best_Books_Ever?page=6)\n",
      "2020-05-09 20:16:09 [scrapy.core.engine] DEBUG: Crawled (200) <GET https://www.goodreads.com/book/show/366522.P_S_I_Love_You> (referer: https://www.goodreads.com/list/show/1.Best_Books_Ever?page=6)\n"
     ]
    },
    {
     "name": "stdout",
     "output_type": "stream",
     "text": [
      "Warning: Book missing series (https://www.goodreads.com/book/show/31463.Far_From_the_Madding_Crowd).\n"
     ]
    },
    {
     "name": "stderr",
     "output_type": "stream",
     "text": [
      "2020-05-09 20:16:09 [scrapy.core.engine] DEBUG: Crawled (200) <GET https://www.goodreads.com/book/show/5064.World_Without_End> (referer: https://www.goodreads.com/list/show/1.Best_Books_Ever?page=6)\n",
      "2020-05-09 20:16:09 [scrapy.core.engine] DEBUG: Crawled (200) <GET https://www.goodreads.com/book/show/18512.The_Return_of_the_King> (referer: https://www.goodreads.com/list/show/1.Best_Books_Ever?page=6)\n",
      "2020-05-09 20:16:09 [scrapy.core.engine] DEBUG: Crawled (200) <GET https://www.goodreads.com/book/show/305234.Wicked_Lovely> (referer: https://www.goodreads.com/list/show/1.Best_Books_Ever?page=6)\n",
      "2020-05-09 20:16:10 [scrapy.core.engine] DEBUG: Crawled (200) <GET https://www.goodreads.com/book/show/11899.The_Hours> (referer: https://www.goodreads.com/list/show/1.Best_Books_Ever?page=6)\n",
      "2020-05-09 20:16:10 [scrapy.core.engine] DEBUG: Crawled (200) <GET https://www.goodreads.com/book/show/22328546-red-queen> (referer: https://www.goodreads.com/list/show/1.Best_Books_Ever?page=6)\n",
      "2020-05-09 20:16:10 [scrapy.core.engine] DEBUG: Crawled (200) <GET https://www.goodreads.com/book/show/31122.I_Capture_the_Castle> (referer: https://www.goodreads.com/list/show/1.Best_Books_Ever?page=6)\n"
     ]
    },
    {
     "name": "stdout",
     "output_type": "stream",
     "text": [
      "Warning: Book missing series (https://www.goodreads.com/book/show/11899.The_Hours).\n"
     ]
    },
    {
     "name": "stderr",
     "output_type": "stream",
     "text": [
      "2020-05-09 20:16:11 [scrapy.core.engine] DEBUG: Crawled (200) <GET https://www.goodreads.com/book/show/77767.Little_House_on_the_Prairie> (referer: https://www.goodreads.com/list/show/1.Best_Books_Ever?page=6)\n"
     ]
    },
    {
     "name": "stdout",
     "output_type": "stream",
     "text": [
      "Warning: Book missing series (https://www.goodreads.com/book/show/31122.I_Capture_the_Castle).\n"
     ]
    },
    {
     "name": "stderr",
     "output_type": "stream",
     "text": [
      "2020-05-09 20:16:12 [scrapy.core.engine] DEBUG: Crawled (200) <GET https://www.goodreads.com/book/show/16248068-the-elite> (referer: https://www.goodreads.com/list/show/1.Best_Books_Ever?page=6)\n",
      "2020-05-09 20:16:12 [scrapy.core.engine] DEBUG: Crawled (200) <GET https://www.goodreads.com/book/show/40611510-the-last-lecture> (referer: https://www.goodreads.com/list/show/1.Best_Books_Ever?page=6)\n",
      "2020-05-09 20:16:12 [scrapy.core.engine] DEBUG: Crawled (200) <GET https://www.goodreads.com/book/show/518848.Sabriel> (referer: https://www.goodreads.com/list/show/1.Best_Books_Ever?page=6)\n"
     ]
    },
    {
     "name": "stdout",
     "output_type": "stream",
     "text": [
      "Warning: Book missing series (https://www.goodreads.com/book/show/40611510-the-last-lecture).\n"
     ]
    },
    {
     "name": "stderr",
     "output_type": "stream",
     "text": [
      "2020-05-09 20:16:12 [scrapy.core.engine] DEBUG: Crawled (200) <GET https://www.goodreads.com/book/show/1625.Twelfth_Night> (referer: https://www.goodreads.com/list/show/1.Best_Books_Ever?page=6)\n",
      "2020-05-09 20:16:12 [scrapy.core.engine] DEBUG: Crawled (200) <GET https://www.goodreads.com/book/show/84119.The_Horse_and_His_Boy> (referer: https://www.goodreads.com/list/show/1.Best_Books_Ever?page=6)\n"
     ]
    },
    {
     "name": "stdout",
     "output_type": "stream",
     "text": [
      "Warning: Book missing series (https://www.goodreads.com/book/show/1625.Twelfth_Night).\n"
     ]
    },
    {
     "name": "stderr",
     "output_type": "stream",
     "text": [
      "2020-05-09 20:16:12 [scrapy.core.engine] DEBUG: Crawled (200) <GET https://www.goodreads.com/book/show/36236125-invisible-monsters> (referer: https://www.goodreads.com/list/show/1.Best_Books_Ever?page=6)\n",
      "2020-05-09 20:16:13 [scrapy.core.engine] DEBUG: Crawled (200) <GET https://www.goodreads.com/book/show/92517.The_Glass_Menagerie> (referer: https://www.goodreads.com/list/show/1.Best_Books_Ever?page=6)\n"
     ]
    },
    {
     "name": "stdout",
     "output_type": "stream",
     "text": [
      "Warning: Book missing series (https://www.goodreads.com/book/show/36236125-invisible-monsters).\n",
      "Warning: Book missing language (https://www.goodreads.com/book/show/36236125-invisible-monsters).\n",
      "Warning: Book missing series (https://www.goodreads.com/book/show/92517.The_Glass_Menagerie).\n"
     ]
    },
    {
     "name": "stderr",
     "output_type": "stream",
     "text": [
      "2020-05-09 20:16:13 [scrapy.core.engine] DEBUG: Crawled (200) <GET https://www.goodreads.com/book/show/41014505-the-bronze-horseman> (referer: https://www.goodreads.com/list/show/1.Best_Books_Ever?page=6)\n",
      "2020-05-09 20:16:13 [scrapy.core.engine] DEBUG: Crawled (200) <GET https://www.goodreads.com/book/show/179064.The_Goose_Girl> (referer: https://www.goodreads.com/list/show/1.Best_Books_Ever?page=6)\n",
      "2020-05-09 20:16:14 [scrapy.core.engine] DEBUG: Crawled (200) <GET https://www.goodreads.com/book/show/3591262-cutting-for-stone> (referer: https://www.goodreads.com/list/show/1.Best_Books_Ever?page=6)\n"
     ]
    },
    {
     "name": "stdout",
     "output_type": "stream",
     "text": [
      "Warning: Book missing series (https://www.goodreads.com/book/show/3591262-cutting-for-stone).\n"
     ]
    },
    {
     "name": "stderr",
     "output_type": "stream",
     "text": [
      "2020-05-09 20:16:14 [scrapy.core.engine] DEBUG: Crawled (200) <GET https://www.goodreads.com/book/show/7747374-i-am-number-four> (referer: https://www.goodreads.com/list/show/1.Best_Books_Ever?page=6)\n",
      "2020-05-09 20:16:14 [scrapy.core.engine] DEBUG: Crawled (200) <GET https://www.goodreads.com/book/show/92307.Being_and_Time> (referer: https://www.goodreads.com/list/show/1.Best_Books_Ever?page=6)\n"
     ]
    },
    {
     "name": "stdout",
     "output_type": "stream",
     "text": [
      "Warning: Book missing series (https://www.goodreads.com/book/show/92307.Being_and_Time).\n"
     ]
    },
    {
     "name": "stderr",
     "output_type": "stream",
     "text": [
      "2020-05-09 20:16:15 [scrapy.core.engine] DEBUG: Crawled (200) <GET https://www.goodreads.com/book/show/4009.Nine_Stories> (referer: https://www.goodreads.com/list/show/1.Best_Books_Ever?page=6)\n",
      "2020-05-09 20:16:15 [scrapy.core.engine] DEBUG: Crawled (200) <GET https://www.goodreads.com/book/show/140077.Dead_to_the_World> (referer: https://www.goodreads.com/list/show/1.Best_Books_Ever?page=6)\n"
     ]
    },
    {
     "name": "stdout",
     "output_type": "stream",
     "text": [
      "Warning: Book missing series (https://www.goodreads.com/book/show/4009.Nine_Stories).\n"
     ]
    },
    {
     "name": "stderr",
     "output_type": "stream",
     "text": [
      "2020-05-09 20:16:15 [scrapy.core.engine] DEBUG: Crawled (200) <GET https://www.goodreads.com/book/show/56728.You_Are_Special> (referer: https://www.goodreads.com/list/show/1.Best_Books_Ever?page=6)\n",
      "2020-05-09 20:16:16 [scrapy.core.engine] DEBUG: Crawled (200) <GET https://www.goodreads.com/book/show/15863832-angelfall> (referer: https://www.goodreads.com/list/show/1.Best_Books_Ever?page=6)\n",
      "2020-05-09 20:16:16 [scrapy.core.engine] DEBUG: Crawled (200) <GET https://www.goodreads.com/book/show/1898.Into_Thin_Air> (referer: https://www.goodreads.com/list/show/1.Best_Books_Ever?page=6)\n"
     ]
    },
    {
     "name": "stdout",
     "output_type": "stream",
     "text": [
      "Warning: Book missing series (https://www.goodreads.com/book/show/1898.Into_Thin_Air).\n"
     ]
    },
    {
     "name": "stderr",
     "output_type": "stream",
     "text": [
      "2020-05-09 20:16:16 [scrapy.core.engine] DEBUG: Crawled (200) <GET https://www.goodreads.com/book/show/11408650-the-unbecoming-of-mara-dyer> (referer: https://www.goodreads.com/list/show/1.Best_Books_Ever?page=6)\n",
      "2020-05-09 20:16:16 [scrapy.core.engine] DEBUG: Crawled (200) <GET https://www.goodreads.com/book/show/12749.Swann_s_Way> (referer: https://www.goodreads.com/list/show/1.Best_Books_Ever?page=6)\n",
      "2020-05-09 20:16:16 [scrapy.core.engine] DEBUG: Crawled (200) <GET https://www.goodreads.com/book/show/10637766-silence> (referer: https://www.goodreads.com/list/show/1.Best_Books_Ever?page=6)\n",
      "2020-05-09 20:16:17 [scrapy.core.engine] DEBUG: Crawled (200) <GET https://www.goodreads.com/book/show/3777732-city-of-glass> (referer: https://www.goodreads.com/list/show/1.Best_Books_Ever?page=6)\n",
      "2020-05-09 20:16:17 [scrapy.core.engine] DEBUG: Crawled (200) <GET https://www.goodreads.com/book/show/12957.Much_Ado_About_Nothing> (referer: https://www.goodreads.com/list/show/1.Best_Books_Ever?page=6)\n",
      "2020-05-09 20:16:17 [scrapy.core.engine] DEBUG: Crawled (200) <GET https://www.goodreads.com/book/show/2299110.Acheron> (referer: https://www.goodreads.com/list/show/1.Best_Books_Ever?page=6)\n"
     ]
    },
    {
     "name": "stdout",
     "output_type": "stream",
     "text": [
      "Warning: Book missing series (https://www.goodreads.com/book/show/12957.Much_Ado_About_Nothing).\n"
     ]
    },
    {
     "name": "stderr",
     "output_type": "stream",
     "text": [
      "2020-05-09 20:16:18 [scrapy.core.engine] DEBUG: Crawled (200) <GET https://www.goodreads.com/book/show/29908754-the-zombie-room> (referer: https://www.goodreads.com/list/show/1.Best_Books_Ever?page=6)\n",
      "2020-05-09 20:16:18 [scrapy.core.engine] DEBUG: Crawled (200) <GET https://www.goodreads.com/book/show/40611328-ishmael> (referer: https://www.goodreads.com/list/show/1.Best_Books_Ever?page=6)\n"
     ]
    },
    {
     "name": "stdout",
     "output_type": "stream",
     "text": [
      "Warning: Missing book original title (https://www.goodreads.com/book/show/29908754-the-zombie-room).\n",
      "Warning: Book missing series (https://www.goodreads.com/book/show/29908754-the-zombie-room).\n"
     ]
    },
    {
     "name": "stderr",
     "output_type": "stream",
     "text": [
      "2020-05-09 20:16:18 [scrapy.core.engine] DEBUG: Crawled (200) <GET https://www.goodreads.com/book/show/70535.2001> (referer: https://www.goodreads.com/list/show/1.Best_Books_Ever?page=6)\n",
      "2020-05-09 20:16:19 [scrapy.core.engine] DEBUG: Crawled (200) <GET https://www.goodreads.com/book/show/420282.The_Polar_Express> (referer: https://www.goodreads.com/list/show/1.Best_Books_Ever?page=6)\n"
     ]
    },
    {
     "name": "stdout",
     "output_type": "stream",
     "text": [
      "Warning: Book missing series (https://www.goodreads.com/book/show/420282.The_Polar_Express).\n"
     ]
    },
    {
     "name": "stderr",
     "output_type": "stream",
     "text": [
      "2020-05-09 20:16:19 [scrapy.core.engine] DEBUG: Crawled (200) <GET https://www.goodreads.com/book/show/32049.Lady_Chatterley_s_Lover> (referer: https://www.goodreads.com/list/show/1.Best_Books_Ever?page=6)\n"
     ]
    },
    {
     "name": "stdout",
     "output_type": "stream",
     "text": [
      "Warning: Book missing series (https://www.goodreads.com/book/show/32049.Lady_Chatterley_s_Lover).\n"
     ]
    },
    {
     "name": "stderr",
     "output_type": "stream",
     "text": [
      "2020-05-09 20:16:20 [scrapy.core.engine] DEBUG: Crawled (200) <GET https://www.goodreads.com/book/show/556602.Sarah_s_Key> (referer: https://www.goodreads.com/list/show/1.Best_Books_Ever?page=6)\n",
      "2020-05-09 20:16:20 [scrapy.core.engine] DEBUG: Crawled (200) <GET https://www.goodreads.com/book/show/135836.Trainspotting> (referer: https://www.goodreads.com/list/show/1.Best_Books_Ever?page=6)\n"
     ]
    },
    {
     "name": "stdout",
     "output_type": "stream",
     "text": [
      "Warning: Book missing series (https://www.goodreads.com/book/show/556602.Sarah_s_Key).\n"
     ]
    },
    {
     "name": "stderr",
     "output_type": "stream",
     "text": [
      "2020-05-09 20:16:20 [scrapy.core.engine] DEBUG: Crawled (200) <GET https://www.goodreads.com/book/show/8667848-a-discovery-of-witches> (referer: https://www.goodreads.com/list/show/1.Best_Books_Ever?page=6)\n",
      "2020-05-09 20:16:21 [scrapy.core.engine] DEBUG: Crawled (200) <GET https://www.goodreads.com/book/show/12000020-aristotle-and-dante-discover-the-secrets-of-the-universe> (referer: https://www.goodreads.com/list/show/1.Best_Books_Ever?page=6)\n",
      "2020-05-09 20:16:21 [scrapy.core.engine] DEBUG: Crawled (200) <GET https://www.goodreads.com/book/show/51737.The_Truth_About_Forever> (referer: https://www.goodreads.com/list/show/1.Best_Books_Ever?page=6)\n",
      "2020-05-09 20:16:21 [scrapy.core.engine] DEBUG: Crawled (200) <GET https://www.goodreads.com/book/show/197084.Are_You_My_Mother_> (referer: https://www.goodreads.com/list/show/1.Best_Books_Ever?page=6)\n"
     ]
    },
    {
     "name": "stdout",
     "output_type": "stream",
     "text": [
      "Warning: Book missing series (https://www.goodreads.com/book/show/51737.The_Truth_About_Forever).\n"
     ]
    },
    {
     "name": "stderr",
     "output_type": "stream",
     "text": [
      "2020-05-09 20:16:22 [scrapy.core.engine] DEBUG: Crawled (200) <GET https://www.goodreads.com/book/show/4799.Cannery_Row> (referer: https://www.goodreads.com/list/show/1.Best_Books_Ever?page=6)\n"
     ]
    },
    {
     "name": "stdout",
     "output_type": "stream",
     "text": [
      "Warning: Book missing series (https://www.goodreads.com/book/show/197084.Are_You_My_Mother_).\n"
     ]
    },
    {
     "name": "stderr",
     "output_type": "stream",
     "text": [
      "2020-05-09 20:16:22 [scrapy.core.engine] DEBUG: Crawled (200) <GET https://www.goodreads.com/book/show/5890.The_Woman_in_White> (referer: https://www.goodreads.com/list/show/1.Best_Books_Ever?page=6)\n",
      "2020-05-09 20:16:22 [scrapy.core.engine] DEBUG: Crawled (200) <GET https://www.goodreads.com/book/show/4268157-perfect-chemistry> (referer: https://www.goodreads.com/list/show/1.Best_Books_Ever?page=6)\n",
      "2020-05-09 20:16:22 [scrapy.core.engine] DEBUG: Crawled (200) <GET https://www.goodreads.com/book/show/960.Angels_Demons> (referer: https://www.goodreads.com/list/show/1.Best_Books_Ever?page=6)\n"
     ]
    },
    {
     "name": "stdout",
     "output_type": "stream",
     "text": [
      "Warning: Book missing series (https://www.goodreads.com/book/show/5890.The_Woman_in_White).\n"
     ]
    },
    {
     "name": "stderr",
     "output_type": "stream",
     "text": [
      "2020-05-09 20:16:22 [scrapy.core.engine] DEBUG: Crawled (200) <GET https://www.goodreads.com/book/show/764347.Unwind> (referer: https://www.goodreads.com/list/show/1.Best_Books_Ever?page=6)\n",
      "2020-05-09 20:16:23 [scrapy.core.engine] DEBUG: Crawled (200) <GET https://www.goodreads.com/book/show/51738.Just_Listen> (referer: https://www.goodreads.com/list/show/1.Best_Books_Ever?page=6)\n"
     ]
    },
    {
     "name": "stdout",
     "output_type": "stream",
     "text": [
      "Warning: Book missing series (https://www.goodreads.com/book/show/51738.Just_Listen).\n"
     ]
    },
    {
     "name": "stderr",
     "output_type": "stream",
     "text": [
      "2020-05-09 20:16:23 [scrapy.core.engine] DEBUG: Crawled (200) <GET https://www.goodreads.com/book/show/47401.Chocolat> (referer: https://www.goodreads.com/list/show/1.Best_Books_Ever?page=6)\n",
      "2020-05-09 20:16:23 [scrapy.core.engine] DEBUG: Crawled (200) <GET https://www.goodreads.com/book/show/49436.Three_Cups_of_Tea> (referer: https://www.goodreads.com/list/show/1.Best_Books_Ever?page=6)\n",
      "2020-05-09 20:16:24 [scrapy.core.engine] DEBUG: Crawled (200) <GET https://www.goodreads.com/book/show/6150.Cry_the_Beloved_Country> (referer: https://www.goodreads.com/list/show/1.Best_Books_Ever?page=6)\n"
     ]
    },
    {
     "name": "stdout",
     "output_type": "stream",
     "text": [
      "Warning: Book missing series (https://www.goodreads.com/book/show/49436.Three_Cups_of_Tea).\n"
     ]
    },
    {
     "name": "stderr",
     "output_type": "stream",
     "text": [
      "2020-05-09 20:16:24 [scrapy.core.engine] DEBUG: Crawled (200) <GET https://www.goodreads.com/book/show/6485421-the-mortal-instruments-boxed-set> (referer: https://www.goodreads.com/list/show/1.Best_Books_Ever?page=6)\n"
     ]
    },
    {
     "name": "stdout",
     "output_type": "stream",
     "text": [
      "Warning: Book missing series (https://www.goodreads.com/book/show/6150.Cry_the_Beloved_Country).\n"
     ]
    },
    {
     "name": "stderr",
     "output_type": "stream",
     "text": [
      "2020-05-09 20:16:24 [scrapy.core.engine] DEBUG: Crawled (200) <GET https://www.goodreads.com/book/show/34521870-mistress-suffragette> (referer: https://www.goodreads.com/list/show/1.Best_Books_Ever?page=6)\n"
     ]
    },
    {
     "name": "stdout",
     "output_type": "stream",
     "text": [
      "Warning: Book missing series (https://www.goodreads.com/book/show/34521870-mistress-suffragette).\n",
      "Warning: Book missing language (https://www.goodreads.com/book/show/34521870-mistress-suffragette).\n"
     ]
    },
    {
     "name": "stderr",
     "output_type": "stream",
     "text": [
      "2020-05-09 20:16:25 [scrapy.core.engine] DEBUG: Crawled (200) <GET https://www.goodreads.com/book/show/1421990.Halfway_to_the_Grave> (referer: https://www.goodreads.com/list/show/1.Best_Books_Ever?page=6)\n",
      "2020-05-09 20:16:25 [scrapy.core.engine] DEBUG: Crawled (200) <GET https://www.goodreads.com/book/show/51606.Johnny_Got_His_Gun> (referer: https://www.goodreads.com/list/show/1.Best_Books_Ever?page=6)\n",
      "2020-05-09 20:16:25 [scrapy.core.engine] DEBUG: Crawled (200) <GET https://www.goodreads.com/book/show/33124137-pet-sematary> (referer: https://www.goodreads.com/list/show/1.Best_Books_Ever?page=6)\n"
     ]
    },
    {
     "name": "stdout",
     "output_type": "stream",
     "text": [
      "Warning: Book missing series (https://www.goodreads.com/book/show/51606.Johnny_Got_His_Gun).\n"
     ]
    },
    {
     "name": "stderr",
     "output_type": "stream",
     "text": [
      "2020-05-09 20:16:26 [scrapy.core.engine] DEBUG: Crawled (200) <GET https://www.goodreads.com/book/show/8909.The_War_of_the_Worlds> (referer: https://www.goodreads.com/list/show/1.Best_Books_Ever?page=6)\n"
     ]
    },
    {
     "name": "stdout",
     "output_type": "stream",
     "text": [
      "Warning: Book missing series (https://www.goodreads.com/book/show/33124137-pet-sematary).\n"
     ]
    },
    {
     "name": "stderr",
     "output_type": "stream",
     "text": [
      "2020-05-09 20:16:26 [scrapy.core.engine] DEBUG: Crawled (200) <GET https://www.goodreads.com/book/show/8908.World_War_Z> (referer: https://www.goodreads.com/list/show/1.Best_Books_Ever?page=6)\n"
     ]
    },
    {
     "name": "stdout",
     "output_type": "stream",
     "text": [
      "Warning: Book missing series (https://www.goodreads.com/book/show/8909.The_War_of_the_Worlds).\n"
     ]
    },
    {
     "name": "stderr",
     "output_type": "stream",
     "text": [
      "2020-05-09 20:16:26 [scrapy.core.engine] DEBUG: Crawled (200) <GET https://www.goodreads.com/book/show/20448515-bared-to-you> (referer: https://www.goodreads.com/list/show/1.Best_Books_Ever?page=6)\n"
     ]
    },
    {
     "name": "stdout",
     "output_type": "stream",
     "text": [
      "Warning: Book missing series (https://www.goodreads.com/book/show/8908.World_War_Z).\n"
     ]
    },
    {
     "name": "stderr",
     "output_type": "stream",
     "text": [
      "2020-05-09 20:16:27 [scrapy.core.engine] DEBUG: Crawled (200) <GET https://www.goodreads.com/book/show/2800905-the-summoning> (referer: https://www.goodreads.com/list/show/1.Best_Books_Ever?page=6)\n",
      "2020-05-09 20:16:27 [scrapy.core.engine] DEBUG: Crawled (200) <GET https://www.goodreads.com/book/show/11901.The_Witching_Hour> (referer: https://www.goodreads.com/list/show/1.Best_Books_Ever?page=6)\n",
      "2020-05-09 20:16:27 [scrapy.core.engine] DEBUG: Crawled (200) <GET https://www.goodreads.com/book/show/17061.Coraline> (referer: https://www.goodreads.com/list/show/1.Best_Books_Ever?page=6)\n",
      "2020-05-09 20:16:27 [scrapy.core.engine] DEBUG: Crawled (200) <GET https://www.goodreads.com/book/show/34384161-quantum-roots-ii> (referer: https://www.goodreads.com/list/show/1.Best_Books_Ever?page=6)\n"
     ]
    },
    {
     "name": "stdout",
     "output_type": "stream",
     "text": [
      "Warning: Book missing series (https://www.goodreads.com/book/show/17061.Coraline).\n",
      "Warning: Missing book original title (https://www.goodreads.com/book/show/34384161-quantum-roots-ii).\n",
      "Warning: Book missing series (https://www.goodreads.com/book/show/34384161-quantum-roots-ii).\n"
     ]
    },
    {
     "name": "stderr",
     "output_type": "stream",
     "text": [
      "2020-05-09 20:16:28 [scrapy.core.engine] DEBUG: Crawled (200) <GET https://www.goodreads.com/book/show/31548.Of_Human_Bondage> (referer: https://www.goodreads.com/list/show/1.Best_Books_Ever?page=6)\n",
      "2020-05-09 20:16:28 [scrapy.core.engine] DEBUG: Crawled (200) <GET https://www.goodreads.com/book/show/3682.A_Great_and_Terrible_Beauty> (referer: https://www.goodreads.com/list/show/1.Best_Books_Ever?page=6)\n",
      "2020-05-09 20:16:28 [scrapy.core.engine] DEBUG: Crawled (200) <GET https://www.goodreads.com/book/show/40651883-snow-crash> (referer: https://www.goodreads.com/list/show/1.Best_Books_Ever?page=6)\n"
     ]
    },
    {
     "name": "stdout",
     "output_type": "stream",
     "text": [
      "Warning: Book missing series (https://www.goodreads.com/book/show/31548.Of_Human_Bondage).\n",
      "Warning: Book missing series (https://www.goodreads.com/book/show/40651883-snow-crash).\n"
     ]
    },
    {
     "name": "stderr",
     "output_type": "stream",
     "text": [
      "2020-05-09 20:16:29 [scrapy.core.engine] DEBUG: Crawled (200) <GET https://www.goodreads.com/book/show/93101.The_Arabian_Nights> (referer: https://www.goodreads.com/list/show/1.Best_Books_Ever?page=6)\n",
      "2020-05-09 20:16:29 [scrapy.core.engine] DEBUG: Crawled (200) <GET https://www.goodreads.com/book/show/112204.The_Complete_Poems_of_Emily_Dickinson> (referer: https://www.goodreads.com/list/show/1.Best_Books_Ever?page=6)\n"
     ]
    },
    {
     "name": "stdout",
     "output_type": "stream",
     "text": [
      "Warning: Missing book original title (https://www.goodreads.com/book/show/93101.The_Arabian_Nights).\n",
      "Warning: Book missing series (https://www.goodreads.com/book/show/93101.The_Arabian_Nights).\n",
      "Warning: Book missing series (https://www.goodreads.com/book/show/112204.The_Complete_Poems_of_Emily_Dickinson).\n"
     ]
    },
    {
     "name": "stderr",
     "output_type": "stream",
     "text": [
      "2020-05-09 20:16:29 [scrapy.core.engine] DEBUG: Crawled (200) <GET https://www.goodreads.com/book/show/14743.The_God_Delusion> (referer: https://www.goodreads.com/list/show/1.Best_Books_Ever?page=6)\n",
      "2020-05-09 20:16:29 [scrapy.core.engine] DEBUG: Crawled (200) <GET https://www.goodreads.com/book/show/5797.Vanity_Fair> (referer: https://www.goodreads.com/list/show/1.Best_Books_Ever?page=6)\n"
     ]
    },
    {
     "name": "stdout",
     "output_type": "stream",
     "text": [
      "Warning: Book missing series (https://www.goodreads.com/book/show/14743.The_God_Delusion).\n",
      "Warning: Book missing series (https://www.goodreads.com/book/show/5797.Vanity_Fair).\n"
     ]
    },
    {
     "name": "stderr",
     "output_type": "stream",
     "text": [
      "2020-05-09 20:16:30 [scrapy.core.engine] DEBUG: Crawled (200) <GET https://www.goodreads.com/book/show/30933.Brideshead_Revisited> (referer: https://www.goodreads.com/list/show/1.Best_Books_Ever?page=6)\n"
     ]
    },
    {
     "name": "stdout",
     "output_type": "stream",
     "text": [
      "Warning: Book missing series (https://www.goodreads.com/book/show/30933.Brideshead_Revisited).\n"
     ]
    },
    {
     "name": "stderr",
     "output_type": "stream",
     "text": [
      "2020-05-09 20:16:30 [scrapy.core.engine] DEBUG: Crawled (200) <GET https://www.goodreads.com/book/show/251688.Breakfast_at_Tiffany_s> (referer: https://www.goodreads.com/list/show/1.Best_Books_Ever?page=4)\n"
     ]
    },
    {
     "name": "stdout",
     "output_type": "stream",
     "text": [
      "Warning: Book missing series (https://www.goodreads.com/book/show/251688.Breakfast_at_Tiffany_s).\n"
     ]
    },
    {
     "name": "stderr",
     "output_type": "stream",
     "text": [
      "2020-05-09 20:16:31 [scrapy.core.engine] DEBUG: Crawled (200) <GET https://www.goodreads.com/book/show/18122.The_Amber_Spyglass> (referer: https://www.goodreads.com/list/show/1.Best_Books_Ever?page=4)\n",
      "2020-05-09 20:16:31 [scrapy.core.engine] DEBUG: Crawled (200) <GET https://www.goodreads.com/book/show/6952.Like_Water_for_Chocolate> (referer: https://www.goodreads.com/list/show/1.Best_Books_Ever?page=4)\n",
      "2020-05-09 20:16:31 [scrapy.core.engine] DEBUG: Crawled (200) <GET https://www.goodreads.com/book/show/15645.Inferno> (referer: https://www.goodreads.com/list/show/1.Best_Books_Ever?page=4)\n"
     ]
    },
    {
     "name": "stdout",
     "output_type": "stream",
     "text": [
      "Warning: Book missing description (https://www.goodreads.com/book/show/15645.Inferno).\n"
     ]
    },
    {
     "name": "stderr",
     "output_type": "stream",
     "text": [
      "2020-05-09 20:16:31 [scrapy.core.engine] DEBUG: Crawled (200) <GET https://www.goodreads.com/book/show/10429045-shatter-me> (referer: https://www.goodreads.com/list/show/1.Best_Books_Ever?page=4)\n",
      "2020-05-09 20:16:32 [scrapy.core.engine] DEBUG: Crawled (200) <GET https://www.goodreads.com/book/show/130440.Doctor_Zhivago> (referer: https://www.goodreads.com/list/show/1.Best_Books_Ever?page=4)\n",
      "2020-05-09 20:16:32 [scrapy.core.engine] DEBUG: Crawled (200) <GET https://www.goodreads.com/book/show/2932.Robinson_Crusoe> (referer: https://www.goodreads.com/list/show/1.Best_Books_Ever?page=4)\n"
     ]
    },
    {
     "name": "stdout",
     "output_type": "stream",
     "text": [
      "Warning: Book missing series (https://www.goodreads.com/book/show/130440.Doctor_Zhivago).\n"
     ]
    },
    {
     "name": "stderr",
     "output_type": "stream",
     "text": [
      "2020-05-09 20:16:32 [scrapy.core.engine] DEBUG: Crawled (200) <GET https://www.goodreads.com/book/show/49628.Cloud_Atlas> (referer: https://www.goodreads.com/list/show/1.Best_Books_Ever?page=4)\n",
      "2020-05-09 20:16:33 [scrapy.core.engine] DEBUG: Crawled (200) <GET https://www.goodreads.com/book/show/629.Zen_and_the_Art_of_Motorcycle_Maintenance> (referer: https://www.goodreads.com/list/show/1.Best_Books_Ever?page=4)\n"
     ]
    },
    {
     "name": "stdout",
     "output_type": "stream",
     "text": [
      "Warning: Book missing series (https://www.goodreads.com/book/show/49628.Cloud_Atlas).\n"
     ]
    },
    {
     "name": "stderr",
     "output_type": "stream",
     "text": [
      "2020-05-09 20:16:33 [scrapy.core.engine] DEBUG: Crawled (200) <GET https://www.goodreads.com/book/show/17150.My_ntonia> (referer: https://www.goodreads.com/list/show/1.Best_Books_Ever?page=4)\n",
      "2020-05-09 20:16:34 [scrapy.core.engine] DEBUG: Crawled (200) <GET https://www.goodreads.com/book/show/8709527-bloodlines> (referer: https://www.goodreads.com/list/show/1.Best_Books_Ever?page=5)\n",
      "2020-05-09 20:16:34 [scrapy.core.engine] DEBUG: Crawled (200) <GET https://www.goodreads.com/book/show/7740152-torment> (referer: https://www.goodreads.com/list/show/1.Best_Books_Ever?page=5)\n",
      "2020-05-09 20:16:34 [scrapy.core.engine] DEBUG: Crawled (200) <GET https://www.goodreads.com/book/show/156538.North_and_South> (referer: https://www.goodreads.com/list/show/1.Best_Books_Ever?page=5)\n",
      "2020-05-09 20:16:34 [scrapy.core.engine] DEBUG: Crawled (200) <GET https://www.goodreads.com/book/show/6644117-the-iron-king> (referer: https://www.goodreads.com/list/show/1.Best_Books_Ever?page=5)\n"
     ]
    },
    {
     "name": "stdout",
     "output_type": "stream",
     "text": [
      "Warning: Book missing series (https://www.goodreads.com/book/show/156538.North_and_South).\n"
     ]
    },
    {
     "name": "stderr",
     "output_type": "stream",
     "text": [
      "2020-05-09 20:16:35 [scrapy.core.engine] DEBUG: Crawled (200) <GET https://www.goodreads.com/book/show/16101128-the-5th-wave> (referer: https://www.goodreads.com/list/show/1.Best_Books_Ever?page=5)\n",
      "2020-05-09 20:16:35 [scrapy.core.engine] DEBUG: Crawled (200) <GET https://www.goodreads.com/book/show/24861.Demian> (referer: https://www.goodreads.com/list/show/1.Best_Books_Ever?page=5)\n",
      "2020-05-09 20:16:35 [scrapy.core.engine] DEBUG: Crawled (200) <GET https://www.goodreads.com/book/show/20613470-heir-of-fire> (referer: https://www.goodreads.com/list/show/1.Best_Books_Ever?page=5)\n"
     ]
    },
    {
     "name": "stdout",
     "output_type": "stream",
     "text": [
      "Warning: Book missing series (https://www.goodreads.com/book/show/24861.Demian).\n"
     ]
    },
    {
     "name": "stderr",
     "output_type": "stream",
     "text": [
      "2020-05-09 20:16:36 [scrapy.core.engine] DEBUG: Crawled (200) <GET https://www.goodreads.com/book/show/31242.Bleak_House> (referer: https://www.goodreads.com/list/show/1.Best_Books_Ever?page=5)\n",
      "2020-05-09 20:16:36 [scrapy.core.engine] DEBUG: Crawled (200) <GET https://www.goodreads.com/book/show/9293020-the-elephant-tree> (referer: https://www.goodreads.com/list/show/1.Best_Books_Ever?page=5)\n",
      "2020-05-09 20:16:36 [scrapy.core.engine] DEBUG: Crawled (200) <GET https://www.goodreads.com/book/show/179780.The_Exorcist> (referer: https://www.goodreads.com/list/show/1.Best_Books_Ever?page=5)\n"
     ]
    },
    {
     "name": "stdout",
     "output_type": "stream",
     "text": [
      "Warning: Book missing series (https://www.goodreads.com/book/show/31242.Bleak_House).\n",
      "Warning: Missing book original title (https://www.goodreads.com/book/show/9293020-the-elephant-tree).\n",
      "Warning: Book missing series (https://www.goodreads.com/book/show/9293020-the-elephant-tree).\n"
     ]
    },
    {
     "name": "stderr",
     "output_type": "stream",
     "text": [
      "2020-05-09 20:16:36 [scrapy.core.engine] DEBUG: Crawled (200) <GET https://www.goodreads.com/book/show/16096824-a-court-of-thorns-and-roses> (referer: https://www.goodreads.com/list/show/1.Best_Books_Ever?page=5)\n",
      "2020-05-09 20:16:36 [scrapy.core.engine] DEBUG: Crawled (200) <GET https://www.goodreads.com/book/show/10987.Voyager> (referer: https://www.goodreads.com/list/show/1.Best_Books_Ever?page=5)\n",
      "2020-05-09 20:16:37 [scrapy.core.engine] DEBUG: Crawled (200) <GET https://www.goodreads.com/book/show/30289.The_Republic> (referer: https://www.goodreads.com/list/show/1.Best_Books_Ever?page=5)\n",
      "2020-05-09 20:16:37 [scrapy.core.engine] DEBUG: Crawled (200) <GET https://www.goodreads.com/book/show/84369.The_Last_Battle> (referer: https://www.goodreads.com/list/show/1.Best_Books_Ever?page=5)\n"
     ]
    },
    {
     "name": "stdout",
     "output_type": "stream",
     "text": [
      "Warning: Book missing series (https://www.goodreads.com/book/show/30289.The_Republic).\n"
     ]
    },
    {
     "name": "stderr",
     "output_type": "stream",
     "text": [
      "2020-05-09 20:16:37 [scrapy.core.engine] DEBUG: Crawled (200) <GET https://www.goodreads.com/book/show/1326258.Chosen> (referer: https://www.goodreads.com/list/show/1.Best_Books_Ever?page=5)\n",
      "2020-05-09 20:16:38 [scrapy.core.engine] DEBUG: Crawled (200) <GET https://www.goodreads.com/book/show/3087.A_Room_with_a_View> (referer: https://www.goodreads.com/list/show/1.Best_Books_Ever?page=5)\n"
     ]
    },
    {
     "name": "stdout",
     "output_type": "stream",
     "text": [
      "Warning: Book missing series (https://www.goodreads.com/book/show/3087.A_Room_with_a_View).\n"
     ]
    },
    {
     "name": "stderr",
     "output_type": "stream",
     "text": [
      "2020-05-09 20:16:39 [scrapy.core.engine] DEBUG: Crawled (200) <GET https://www.goodreads.com/book/show/18635016-the-one> (referer: https://www.goodreads.com/list/show/1.Best_Books_Ever?page=5)\n",
      "2020-05-09 20:16:39 [scrapy.core.engine] DEBUG: Crawled (200) <GET https://www.goodreads.com/book/show/656.War_and_Peace> (referer: https://www.goodreads.com/list/show/1.Best_Books_Ever?page=5)\n",
      "2020-05-09 20:16:39 [scrapy.core.engine] DEBUG: Crawled (200) <GET https://www.goodreads.com/book/show/18765.I_Claudius> (referer: https://www.goodreads.com/list/show/1.Best_Books_Ever?page=5)\n",
      "2020-05-09 20:16:39 [scrapy.core.engine] DEBUG: Crawled (200) <GET https://www.goodreads.com/book/show/11590._Salem_s_Lot> (referer: https://www.goodreads.com/list/show/1.Best_Books_Ever?page=4)\n",
      "2020-05-09 20:16:39 [scrapy.core.engine] DEBUG: Crawled (200) <GET https://www.goodreads.com/book/show/76778.The_Martian_Chronicles> (referer: https://www.goodreads.com/list/show/1.Best_Books_Ever?page=4)\n",
      "2020-05-09 20:16:39 [scrapy.core.engine] DEBUG: Crawled (200) <GET https://www.goodreads.com/book/show/30528544> (referer: https://www.goodreads.com/list/show/1.Best_Books_Ever?page=5)\n"
     ]
    },
    {
     "name": "stdout",
     "output_type": "stream",
     "text": [
      "Warning: Book missing series (https://www.goodreads.com/book/show/11590._Salem_s_Lot).\n",
      "Warning: Book missing series (https://www.goodreads.com/book/show/76778.The_Martian_Chronicles).\n",
      "Warning: Book missing series (https://www.goodreads.com/book/show/30528544).\n"
     ]
    },
    {
     "name": "stderr",
     "output_type": "stream",
     "text": [
      "2020-05-09 20:16:40 [scrapy.core.engine] DEBUG: Crawled (200) <GET https://www.goodreads.com/book/show/12578077-obsidian> (referer: https://www.goodreads.com/list/show/1.Best_Books_Ever?page=4)\n",
      "2020-05-09 20:16:40 [scrapy.core.engine] DEBUG: Crawled (200) <GET https://www.goodreads.com/book/show/7791997-crescendo> (referer: https://www.goodreads.com/list/show/1.Best_Books_Ever?page=4)\n",
      "2020-05-09 20:16:41 [scrapy.core.engine] DEBUG: Crawled (200) <GET https://www.goodreads.com/book/show/11713.The_English_Patient> (referer: https://www.goodreads.com/list/show/1.Best_Books_Ever?page=4)\n",
      "2020-05-09 20:16:41 [scrapy.core.engine] DEBUG: Crawled (200) <GET https://www.goodreads.com/book/show/5358.The_Firm> (referer: https://www.goodreads.com/list/show/1.Best_Books_Ever?page=4)\n",
      "2020-05-09 20:16:41 [scrapy.core.engine] DEBUG: Crawled (200) <GET https://www.goodreads.com/book/show/22232.Stargirl> (referer: https://www.goodreads.com/list/show/1.Best_Books_Ever?page=4)\n"
     ]
    },
    {
     "name": "stdout",
     "output_type": "stream",
     "text": [
      "Warning: Book missing series (https://www.goodreads.com/book/show/11713.The_English_Patient).\n",
      "Warning: Book missing series (https://www.goodreads.com/book/show/5358.The_Firm).\n"
     ]
    },
    {
     "name": "stderr",
     "output_type": "stream",
     "text": [
      "2020-05-09 20:16:42 [scrapy.core.engine] DEBUG: Crawled (200) <GET https://www.goodreads.com/book/show/5526.Dear_John> (referer: https://www.goodreads.com/list/show/1.Best_Books_Ever?page=4)\n",
      "2020-05-09 20:16:42 [scrapy.core.engine] DEBUG: Crawled (200) <GET https://www.goodreads.com/book/show/14836.Midnight_s_Children> (referer: https://www.goodreads.com/list/show/1.Best_Books_Ever?page=4)\n"
     ]
    },
    {
     "name": "stdout",
     "output_type": "stream",
     "text": [
      "Warning: Book missing series (https://www.goodreads.com/book/show/5526.Dear_John).\n"
     ]
    },
    {
     "name": "stderr",
     "output_type": "stream",
     "text": [
      "2020-05-09 20:16:42 [scrapy.core.engine] DEBUG: Crawled (200) <GET https://www.goodreads.com/book/show/67896.Tao_Te_Ching> (referer: https://www.goodreads.com/list/show/1.Best_Books_Ever?page=4)\n"
     ]
    },
    {
     "name": "stdout",
     "output_type": "stream",
     "text": [
      "Warning: Book missing series (https://www.goodreads.com/book/show/14836.Midnight_s_Children).\n"
     ]
    },
    {
     "name": "stderr",
     "output_type": "stream",
     "text": [
      "2020-05-09 20:16:42 [scrapy.core.engine] DEBUG: Crawled (200) <GET https://www.goodreads.com/book/show/6400090-the-last-song> (referer: https://www.goodreads.com/list/show/1.Best_Books_Ever?page=4)\n",
      "2020-05-09 20:16:42 [scrapy.core.engine] DEBUG: Crawled (200) <GET https://www.goodreads.com/book/show/2248573.Brisingr> (referer: https://www.goodreads.com/list/show/1.Best_Books_Ever?page=4)\n",
      "2020-05-09 20:16:43 [scrapy.core.engine] DEBUG: Crawled (200) <GET https://www.goodreads.com/book/show/68428.The_Final_Empire> (referer: https://www.goodreads.com/list/show/1.Best_Books_Ever?page=4)\n"
     ]
    },
    {
     "name": "stdout",
     "output_type": "stream",
     "text": [
      "Warning: Book missing series (https://www.goodreads.com/book/show/6400090-the-last-song).\n"
     ]
    },
    {
     "name": "stderr",
     "output_type": "stream",
     "text": [
      "2020-05-09 20:16:43 [scrapy.core.engine] DEBUG: Crawled (200) <GET https://www.goodreads.com/book/show/60748.A_Child_Called_It_> (referer: https://www.goodreads.com/list/show/1.Best_Books_Ever?page=4)\n",
      "2020-05-09 20:16:43 [scrapy.core.engine] DEBUG: Crawled (200) <GET https://www.goodreads.com/book/show/11387515-wonder> (referer: https://www.goodreads.com/list/show/1.Best_Books_Ever?page=4)\n",
      "2020-05-09 20:16:44 [scrapy.core.engine] DEBUG: Crawled (200) <GET https://www.goodreads.com/book/show/45032.Mansfield_Park> (referer: https://www.goodreads.com/list/show/1.Best_Books_Ever?page=4)\n",
      "2020-05-09 20:16:44 [scrapy.core.engine] DEBUG: Crawled (200) <GET https://www.goodreads.com/book/show/3985.The_Amazing_Adventures_of_Kavalier_Clay> (referer: https://www.goodreads.com/list/show/1.Best_Books_Ever?page=4)\n",
      "2020-05-09 20:16:44 [scrapy.core.engine] DEBUG: Crawled (200) <GET https://www.goodreads.com/book/show/15195.The_Complete_Maus> (referer: https://www.goodreads.com/list/show/1.Best_Books_Ever?page=4)\n"
     ]
    },
    {
     "name": "stdout",
     "output_type": "stream",
     "text": [
      "Warning: Book missing series (https://www.goodreads.com/book/show/3985.The_Amazing_Adventures_of_Kavalier_Clay).\n",
      "Warning: Book missing series (https://www.goodreads.com/book/show/45032.Mansfield_Park).\n"
     ]
    },
    {
     "name": "stderr",
     "output_type": "stream",
     "text": [
      "2020-05-09 20:16:45 [scrapy.core.engine] DEBUG: Crawled (200) <GET https://www.goodreads.com/book/show/77013.As_I_Lay_Dying> (referer: https://www.goodreads.com/list/show/1.Best_Books_Ever?page=4)\n"
     ]
    },
    {
     "name": "stdout",
     "output_type": "stream",
     "text": [
      "Warning: Book missing series (https://www.goodreads.com/book/show/77013.As_I_Lay_Dying).\n"
     ]
    },
    {
     "name": "stderr",
     "output_type": "stream",
     "text": [
      "2020-05-09 20:16:45 [scrapy.core.engine] DEBUG: Crawled (200) <GET https://www.goodreads.com/book/show/42899.Dark_Lover> (referer: https://www.goodreads.com/list/show/1.Best_Books_Ever?page=4)\n",
      "2020-05-09 20:16:46 [scrapy.core.engine] DEBUG: Crawled (200) <GET https://www.goodreads.com/book/show/5148.A_Separate_Peace> (referer: https://www.goodreads.com/list/show/1.Best_Books_Ever?page=4)\n",
      "2020-05-09 20:16:46 [scrapy.core.engine] DEBUG: Crawled (200) <GET https://www.goodreads.com/book/show/391729.The_Tell_Tale_Heart_and_Other_Writings> (referer: https://www.goodreads.com/list/show/1.Best_Books_Ever?page=4)\n"
     ]
    },
    {
     "name": "stdout",
     "output_type": "stream",
     "text": [
      "Warning: Book missing series (https://www.goodreads.com/book/show/5148.A_Separate_Peace).\n",
      "Warning: Book missing series (https://www.goodreads.com/book/show/391729.The_Tell_Tale_Heart_and_Other_Writings).\n"
     ]
    },
    {
     "name": "stderr",
     "output_type": "stream",
     "text": [
      "2020-05-09 20:16:46 [scrapy.core.engine] DEBUG: Crawled (200) <GET https://www.goodreads.com/book/show/84981.Tuck_Everlasting> (referer: https://www.goodreads.com/list/show/1.Best_Books_Ever?page=4)\n",
      "2020-05-09 20:16:46 [scrapy.core.engine] DEBUG: Crawled (200) <GET https://www.goodreads.com/book/show/46799.Go_Ask_Alice> (referer: https://www.goodreads.com/list/show/1.Best_Books_Ever?page=4)\n"
     ]
    },
    {
     "name": "stdout",
     "output_type": "stream",
     "text": [
      "Warning: Book missing series (https://www.goodreads.com/book/show/84981.Tuck_Everlasting).\n",
      "Warning: Book missing series (https://www.goodreads.com/book/show/46799.Go_Ask_Alice).\n"
     ]
    },
    {
     "name": "stderr",
     "output_type": "stream",
     "text": [
      "2020-05-09 20:16:47 [scrapy.core.engine] DEBUG: Crawled (200) <GET https://www.goodreads.com/book/show/45978.Eldest> (referer: https://www.goodreads.com/list/show/1.Best_Books_Ever?page=4)\n",
      "2020-05-09 20:16:47 [scrapy.core.engine] DEBUG: Crawled (200) <GET https://www.goodreads.com/book/show/16631.Steppenwolf> (referer: https://www.goodreads.com/list/show/1.Best_Books_Ever?page=4)\n",
      "2020-05-09 20:16:47 [scrapy.core.engine] DEBUG: Crawled (200) <GET https://www.goodreads.com/book/show/52357.Beowulf> (referer: https://www.goodreads.com/list/show/1.Best_Books_Ever?page=4)\n",
      "2020-05-09 20:16:48 [scrapy.core.engine] DEBUG: Crawled (200) <GET https://www.goodreads.com/book/show/7235533-the-way-of-kings> (referer: https://www.goodreads.com/list/show/1.Best_Books_Ever?page=4)\n"
     ]
    },
    {
     "name": "stdout",
     "output_type": "stream",
     "text": [
      "Warning: Book missing series (https://www.goodreads.com/book/show/16631.Steppenwolf).\n",
      "Warning: Book missing series (https://www.goodreads.com/book/show/52357.Beowulf).\n"
     ]
    },
    {
     "name": "stderr",
     "output_type": "stream",
     "text": [
      "2020-05-09 20:16:48 [scrapy.core.engine] DEBUG: Crawled (200) <GET https://www.goodreads.com/book/show/33.The_Lord_of_the_Rings> (referer: https://www.goodreads.com/list/show/1.Best_Books_Ever?page=4)\n",
      "2020-05-09 20:16:48 [scrapy.core.engine] DEBUG: Crawled (200) <GET https://www.goodreads.com/book/show/6304335-beautiful-creatures> (referer: https://www.goodreads.com/list/show/1.Best_Books_Ever?page=4)\n",
      "2020-05-09 20:16:48 [scrapy.core.engine] DEBUG: Crawled (200) <GET https://www.goodreads.com/book/show/43035.White_Fang> (referer: https://www.goodreads.com/list/show/1.Best_Books_Ever?page=4)\n"
     ]
    },
    {
     "name": "stdout",
     "output_type": "stream",
     "text": [
      "Warning: Book missing series (https://www.goodreads.com/book/show/43035.White_Fang).\n"
     ]
    },
    {
     "name": "stderr",
     "output_type": "stream",
     "text": [
      "2020-05-09 20:16:49 [scrapy.core.engine] DEBUG: Crawled (200) <GET https://www.goodreads.com/book/show/2213661.The_Graveyard_Book> (referer: https://www.goodreads.com/list/show/1.Best_Books_Ever?page=4)\n",
      "2020-05-09 20:16:49 [scrapy.core.engine] DEBUG: Crawled (200) <GET https://www.goodreads.com/book/show/228665.The_Eye_of_the_World> (referer: https://www.goodreads.com/list/show/1.Best_Books_Ever?page=4)\n"
     ]
    },
    {
     "name": "stdout",
     "output_type": "stream",
     "text": [
      "Warning: Book missing series (https://www.goodreads.com/book/show/2213661.The_Graveyard_Book).\n"
     ]
    },
    {
     "name": "stderr",
     "output_type": "stream",
     "text": [
      "2020-05-09 20:16:49 [scrapy.core.engine] DEBUG: Crawled (200) <GET https://www.goodreads.com/book/show/13536860-fifty-shades-freed> (referer: https://www.goodreads.com/list/show/1.Best_Books_Ever?page=4)\n",
      "2020-05-09 20:16:50 [scrapy.core.engine] DEBUG: Crawled (200) <GET https://www.goodreads.com/book/show/6327.The_Witches> (referer: https://www.goodreads.com/list/show/1.Best_Books_Ever?page=4)\n"
     ]
    },
    {
     "name": "stdout",
     "output_type": "stream",
     "text": [
      "Warning: Book missing series (https://www.goodreads.com/book/show/6327.The_Witches).\n"
     ]
    },
    {
     "name": "stderr",
     "output_type": "stream",
     "text": [
      "2020-05-09 20:16:50 [scrapy.core.engine] DEBUG: Crawled (200) <GET https://www.goodreads.com/book/show/17927395-a-court-of-mist-and-fury> (referer: https://www.goodreads.com/list/show/1.Best_Books_Ever?page=4)\n",
      "2020-05-09 20:16:50 [scrapy.core.engine] DEBUG: Crawled (200) <GET https://www.goodreads.com/book/show/10920.Cold_Mountain> (referer: https://www.goodreads.com/list/show/1.Best_Books_Ever?page=4)\n",
      "2020-05-09 20:16:50 [scrapy.core.engine] DEBUG: Crawled (200) <GET https://www.goodreads.com/book/show/646462.Qur_an_> (referer: https://www.goodreads.com/list/show/1.Best_Books_Ever?page=4)\n",
      "2020-05-09 20:16:51 [scrapy.core.engine] DEBUG: Crawled (200) <GET https://www.goodreads.com/book/show/5805.V_for_Vendetta> (referer: https://www.goodreads.com/list/show/1.Best_Books_Ever?page=4)\n"
     ]
    },
    {
     "name": "stdout",
     "output_type": "stream",
     "text": [
      "Warning: Book missing series (https://www.goodreads.com/book/show/10920.Cold_Mountain).\n",
      "Warning: Book missing series (https://www.goodreads.com/book/show/646462.Qur_an_).\n"
     ]
    },
    {
     "name": "stderr",
     "output_type": "stream",
     "text": [
      "2020-05-09 20:16:51 [scrapy.core.engine] DEBUG: Crawled (200) <GET https://www.goodreads.com/book/show/14905.The_Complete_Novels> (referer: https://www.goodreads.com/list/show/1.Best_Books_Ever?page=4)\n"
     ]
    },
    {
     "name": "stdout",
     "output_type": "stream",
     "text": [
      "Warning: Missing book original title (https://www.goodreads.com/book/show/14905.The_Complete_Novels).\n",
      "Warning: Book missing series (https://www.goodreads.com/book/show/14905.The_Complete_Novels).\n"
     ]
    },
    {
     "name": "stderr",
     "output_type": "stream",
     "text": [
      "2020-05-09 20:16:52 [scrapy.core.engine] DEBUG: Crawled (200) <GET https://www.goodreads.com/book/show/17347634-me-before-you> (referer: https://www.goodreads.com/list/show/1.Best_Books_Ever?page=4)\n",
      "2020-05-09 20:16:52 [scrapy.core.engine] DEBUG: Crawled (200) <GET https://www.goodreads.com/book/show/310259.Love_You_Forever> (referer: https://www.goodreads.com/list/show/1.Best_Books_Ever?page=4)\n",
      "2020-05-09 20:16:52 [scrapy.core.engine] DEBUG: Crawled (200) <GET https://www.goodreads.com/book/show/8921.The_Hound_of_the_Baskervilles> (referer: https://www.goodreads.com/list/show/1.Best_Books_Ever?page=4)\n"
     ]
    },
    {
     "name": "stdout",
     "output_type": "stream",
     "text": [
      "Warning: Book missing series (https://www.goodreads.com/book/show/310259.Love_You_Forever).\n"
     ]
    },
    {
     "name": "stderr",
     "output_type": "stream",
     "text": [
      "2020-05-09 20:16:52 [scrapy.core.engine] DEBUG: Crawled (200) <GET https://www.goodreads.com/book/show/9275658-legend> (referer: https://www.goodreads.com/list/show/1.Best_Books_Ever?page=4)\n",
      "2020-05-09 20:16:53 [scrapy.core.engine] DEBUG: Crawled (200) <GET https://www.goodreads.com/book/show/12127750-the-mark-of-athena> (referer: https://www.goodreads.com/list/show/1.Best_Books_Ever?page=4)\n",
      "2020-05-09 20:16:53 [scrapy.core.engine] DEBUG: Crawled (200) <GET https://www.goodreads.com/book/show/17167166-crown-of-midnight> (referer: https://www.goodreads.com/list/show/1.Best_Books_Ever?page=5)\n",
      "2020-05-09 20:16:54 [scrapy.core.engine] DEBUG: Crawled (200) <GET https://www.goodreads.com/book/show/13214.I_Know_Why_the_Caged_Bird_Sings> (referer: https://www.goodreads.com/list/show/1.Best_Books_Ever?page=5)\n",
      "2020-05-09 20:16:54 [scrapy.core.engine] DEBUG: Crawled (200) <GET https://www.goodreads.com/book/show/41804.I_Robot> (referer: https://www.goodreads.com/list/show/1.Best_Books_Ever?page=5)\n",
      "2020-05-09 20:16:54 [scrapy.core.engine] DEBUG: Crawled (200) <GET https://www.goodreads.com/book/show/10592.Carrie> (referer: https://www.goodreads.com/list/show/1.Best_Books_Ever?page=5)\n",
      "2020-05-09 20:16:54 [scrapy.core.engine] DEBUG: Crawled (200) <GET https://www.goodreads.com/book/show/18114322-the-grapes-of-wrath> (referer: https://www.goodreads.com/list/show/1.Best_Books_Ever?page=5)\n"
     ]
    },
    {
     "name": "stdout",
     "output_type": "stream",
     "text": [
      "Warning: Book missing series (https://www.goodreads.com/book/show/10592.Carrie).\n",
      "Warning: Book missing series (https://www.goodreads.com/book/show/18114322-the-grapes-of-wrath).\n"
     ]
    },
    {
     "name": "stderr",
     "output_type": "stream",
     "text": [
      "2020-05-09 20:16:55 [scrapy.core.engine] DEBUG: Crawled (200) <GET https://www.goodreads.com/book/show/41681.The_Jungle> (referer: https://www.goodreads.com/list/show/1.Best_Books_Ever?page=5)\n",
      "2020-05-09 20:16:55 [scrapy.core.engine] DEBUG: Crawled (200) <GET https://www.goodreads.com/book/show/77142.Snow_Falling_on_Cedars> (referer: https://www.goodreads.com/list/show/1.Best_Books_Ever?page=5)\n"
     ]
    },
    {
     "name": "stdout",
     "output_type": "stream",
     "text": [
      "Warning: Book missing series (https://www.goodreads.com/book/show/41681.The_Jungle).\n"
     ]
    },
    {
     "name": "stderr",
     "output_type": "stream",
     "text": [
      "2020-05-09 20:16:55 [scrapy.core.engine] DEBUG: Crawled (200) <GET https://www.goodreads.com/book/show/4137.Me_Talk_Pretty_One_Day> (referer: https://www.goodreads.com/list/show/1.Best_Books_Ever?page=5)\n"
     ]
    },
    {
     "name": "stdout",
     "output_type": "stream",
     "text": [
      "Warning: Book missing series (https://www.goodreads.com/book/show/77142.Snow_Falling_on_Cedars).\n",
      "Warning: Book missing series (https://www.goodreads.com/book/show/4137.Me_Talk_Pretty_One_Day).\n"
     ]
    },
    {
     "name": "stderr",
     "output_type": "stream",
     "text": [
      "2020-05-09 20:16:56 [scrapy.core.engine] DEBUG: Crawled (200) <GET https://www.goodreads.com/book/show/59716.To_the_Lighthouse> (referer: https://www.goodreads.com/list/show/1.Best_Books_Ever?page=5)\n",
      "2020-05-09 20:16:57 [scrapy.core.engine] DEBUG: Crawled (200) <GET https://www.goodreads.com/book/show/30528535> (referer: https://www.goodreads.com/list/show/1.Best_Books_Ever?page=5)\n"
     ]
    },
    {
     "name": "stdout",
     "output_type": "stream",
     "text": [
      "Warning: Book missing series (https://www.goodreads.com/book/show/59716.To_the_Lighthouse).\n"
     ]
    },
    {
     "name": "stderr",
     "output_type": "stream",
     "text": [
      "2020-05-09 20:16:57 [scrapy.core.engine] DEBUG: Crawled (200) <GET https://www.goodreads.com/book/show/5308.The_Pearl> (referer: https://www.goodreads.com/list/show/1.Best_Books_Ever?page=5)\n",
      "2020-05-09 20:16:57 [scrapy.core.engine] DEBUG: Crawled (200) <GET https://www.goodreads.com/book/show/256566.Everything_Is_Illuminated> (referer: https://www.goodreads.com/list/show/1.Best_Books_Ever?page=5)\n"
     ]
    },
    {
     "name": "stdout",
     "output_type": "stream",
     "text": [
      "Warning: Book missing series (https://www.goodreads.com/book/show/30528535).\n",
      "Warning: Book missing series (https://www.goodreads.com/book/show/5308.The_Pearl).\n",
      "Warning: Book missing series (https://www.goodreads.com/book/show/256566.Everything_Is_Illuminated).\n"
     ]
    },
    {
     "name": "stderr",
     "output_type": "stream",
     "text": [
      "2020-05-09 20:16:57 [scrapy.core.engine] DEBUG: Crawled (200) <GET https://www.goodreads.com/book/show/2866718-untamed> (referer: https://www.goodreads.com/list/show/1.Best_Books_Ever?page=5)\n",
      "2020-05-09 20:16:58 [scrapy.core.engine] DEBUG: Crawled (200) <GET https://www.goodreads.com/book/show/10664113-a-dance-with-dragons> (referer: https://www.goodreads.com/list/show/1.Best_Books_Ever?page=5)\n",
      "2020-05-09 20:16:58 [scrapy.core.engine] DEBUG: Crawled (200) <GET https://www.goodreads.com/book/show/12127810-the-house-of-hades> (referer: https://www.goodreads.com/list/show/1.Best_Books_Ever?page=5)\n",
      "2020-05-09 20:16:58 [scrapy.core.engine] DEBUG: Crawled (200) <GET https://www.goodreads.com/book/show/34080.The_Waste_Land> (referer: https://www.goodreads.com/list/show/1.Best_Books_Ever?page=5)\n"
     ]
    },
    {
     "name": "stdout",
     "output_type": "stream",
     "text": [
      "Warning: Book missing series (https://www.goodreads.com/book/show/34080.The_Waste_Land).\n"
     ]
    },
    {
     "name": "stderr",
     "output_type": "stream",
     "text": [
      "2020-05-09 20:16:58 [scrapy.core.engine] DEBUG: Crawled (200) <GET https://www.goodreads.com/book/show/137791.Divine_Secrets_of_the_Ya_Ya_Sisterhood> (referer: https://www.goodreads.com/list/show/1.Best_Books_Ever?page=5)\n",
      "2020-05-09 20:16:58 [scrapy.core.engine] DEBUG: Crawled (200) <GET https://www.goodreads.com/book/show/690926.The_Twilight_Collection> (referer: https://www.goodreads.com/list/show/1.Best_Books_Ever?page=5)\n",
      "2020-05-09 20:16:59 [scrapy.core.engine] DEBUG: Crawled (200) <GET https://www.goodreads.com/book/show/1656001.The_Host> (referer: https://www.goodreads.com/list/show/1.Best_Books_Ever?page=5)\n",
      "2020-05-09 20:16:59 [scrapy.core.engine] DEBUG: Crawled (200) <GET https://www.goodreads.com/book/show/42900.Lover_Awakened> (referer: https://www.goodreads.com/list/show/1.Best_Books_Ever?page=5)\n",
      "2020-05-09 20:16:59 [scrapy.extensions.logstats] INFO: Crawled 1317 pages (at 197 pages/min), scraped 0 items (at 0 items/min)\n",
      "2020-05-09 20:16:59 [scrapy.core.engine] DEBUG: Crawled (200) <GET https://www.goodreads.com/book/show/50398.Northanger_Abbey> (referer: https://www.goodreads.com/list/show/1.Best_Books_Ever?page=5)\n",
      "2020-05-09 20:17:00 [scrapy.core.engine] DEBUG: Crawled (200) <GET https://www.goodreads.com/book/show/140225.The_Voyage_of_the_Dawn_Treader> (referer: https://www.goodreads.com/list/show/1.Best_Books_Ever?page=5)\n"
     ]
    },
    {
     "name": "stdout",
     "output_type": "stream",
     "text": [
      "Warning: Book missing series (https://www.goodreads.com/book/show/50398.Northanger_Abbey).\n"
     ]
    },
    {
     "name": "stderr",
     "output_type": "stream",
     "text": [
      "2020-05-09 20:17:00 [scrapy.core.engine] DEBUG: Crawled (200) <GET https://www.goodreads.com/book/show/11012.Dubliners> (referer: https://www.goodreads.com/list/show/1.Best_Books_Ever?page=5)\n",
      "2020-05-09 20:17:00 [scrapy.core.engine] DEBUG: Crawled (200) <GET https://www.goodreads.com/book/show/676924.Betrayed> (referer: https://www.goodreads.com/list/show/1.Best_Books_Ever?page=5)\n"
     ]
    },
    {
     "name": "stdout",
     "output_type": "stream",
     "text": [
      "Warning: Book missing series (https://www.goodreads.com/book/show/11012.Dubliners).\n"
     ]
    },
    {
     "name": "stderr",
     "output_type": "stream",
     "text": [
      "2020-05-09 20:17:01 [scrapy.core.engine] DEBUG: Crawled (200) <GET https://www.goodreads.com/book/show/6411961-the-lost-symbol> (referer: https://www.goodreads.com/list/show/1.Best_Books_Ever?page=5)\n",
      "2020-05-09 20:17:01 [scrapy.core.engine] DEBUG: Crawled (200) <GET https://www.goodreads.com/book/show/11422.Redeeming_Love> (referer: https://www.goodreads.com/list/show/1.Best_Books_Ever?page=5)\n"
     ]
    },
    {
     "name": "stdout",
     "output_type": "stream",
     "text": [
      "Warning: Book missing series (https://www.goodreads.com/book/show/11422.Redeeming_Love).\n"
     ]
    },
    {
     "name": "stderr",
     "output_type": "stream",
     "text": [
      "2020-05-09 20:17:01 [scrapy.core.engine] DEBUG: Crawled (200) <GET https://www.goodreads.com/book/show/18143977-all-the-light-we-cannot-see> (referer: https://www.goodreads.com/list/show/1.Best_Books_Ever?page=5)\n",
      "2020-05-09 20:17:02 [scrapy.core.engine] DEBUG: Crawled (200) <GET https://www.goodreads.com/book/show/17716.Waiting_for_Godot> (referer: https://www.goodreads.com/list/show/1.Best_Books_Ever?page=5)\n"
     ]
    },
    {
     "name": "stdout",
     "output_type": "stream",
     "text": [
      "Warning: Book missing series (https://www.goodreads.com/book/show/18143977-all-the-light-we-cannot-see).\n"
     ]
    },
    {
     "name": "stderr",
     "output_type": "stream",
     "text": [
      "2020-05-09 20:17:02 [scrapy.core.engine] DEBUG: Crawled (200) <GET https://www.goodreads.com/book/show/6088007-neuromancer> (referer: https://www.goodreads.com/list/show/1.Best_Books_Ever?page=5)\n"
     ]
    },
    {
     "name": "stdout",
     "output_type": "stream",
     "text": [
      "Warning: Book missing series (https://www.goodreads.com/book/show/17716.Waiting_for_Godot).\n"
     ]
    },
    {
     "name": "stderr",
     "output_type": "stream",
     "text": [
      "2020-05-09 20:17:02 [scrapy.core.engine] DEBUG: Crawled (200) <GET https://www.goodreads.com/book/show/53835.The_Age_of_Innocence> (referer: https://www.goodreads.com/list/show/1.Best_Books_Ever?page=5)\n"
     ]
    },
    {
     "name": "stdout",
     "output_type": "stream",
     "text": [
      "Warning: Book missing series (https://www.goodreads.com/book/show/53835.The_Age_of_Innocence).\n"
     ]
    },
    {
     "name": "stderr",
     "output_type": "stream",
     "text": [
      "2020-05-09 20:17:03 [scrapy.core.engine] DEBUG: Crawled (200) <GET https://www.goodreads.com/book/show/397483.The_Devil_in_the_White_City> (referer: https://www.goodreads.com/list/show/1.Best_Books_Ever?page=5)\n",
      "2020-05-09 20:17:03 [scrapy.core.engine] DEBUG: Crawled (200) <GET https://www.goodreads.com/book/show/33600.Shantaram> (referer: https://www.goodreads.com/list/show/1.Best_Books_Ever?page=5)\n"
     ]
    },
    {
     "name": "stdout",
     "output_type": "stream",
     "text": [
      "Warning: Book missing series (https://www.goodreads.com/book/show/397483.The_Devil_in_the_White_City).\n"
     ]
    },
    {
     "name": "stderr",
     "output_type": "stream",
     "text": [
      "2020-05-09 20:17:03 [scrapy.core.engine] DEBUG: Crawled (200) <GET https://www.goodreads.com/book/show/19302.Pippi_Longstocking> (referer: https://www.goodreads.com/list/show/1.Best_Books_Ever?page=5)\n",
      "2020-05-09 20:17:04 [scrapy.core.engine] DEBUG: Crawled (200) <GET https://www.goodreads.com/book/show/23437156-six-of-crows> (referer: https://www.goodreads.com/list/show/1.Best_Books_Ever?page=5)\n",
      "2020-05-09 20:17:04 [scrapy.core.engine] DEBUG: Crawled (200) <GET https://www.goodreads.com/book/show/14866.Nineteen_Minutes> (referer: https://www.goodreads.com/list/show/1.Best_Books_Ever?page=5)\n"
     ]
    },
    {
     "name": "stdout",
     "output_type": "stream",
     "text": [
      "Warning: Book missing series (https://www.goodreads.com/book/show/14866.Nineteen_Minutes).\n"
     ]
    },
    {
     "name": "stderr",
     "output_type": "stream",
     "text": [
      "2020-05-09 20:17:05 [scrapy.core.engine] DEBUG: Crawled (200) <GET https://www.goodreads.com/book/show/101299.The_Reader> (referer: https://www.goodreads.com/list/show/1.Best_Books_Ever?page=5)\n"
     ]
    },
    {
     "name": "stdout",
     "output_type": "stream",
     "text": [
      "Warning: Book missing series (https://www.goodreads.com/book/show/101299.The_Reader).\n"
     ]
    },
    {
     "name": "stderr",
     "output_type": "stream",
     "text": [
      "2020-05-09 20:17:05 [scrapy.core.engine] DEBUG: Crawled (200) <GET https://www.goodreads.com/book/show/10956.The_Virgin_Suicides> (referer: https://www.goodreads.com/list/show/1.Best_Books_Ever?page=5)\n",
      "2020-05-09 20:17:05 [scrapy.core.engine] DEBUG: Crawled (200) <GET https://www.goodreads.com/book/show/25036229-una-historia-de-ayer> (referer: https://www.goodreads.com/list/show/1.Best_Books_Ever?page=5)\n",
      "2020-05-09 20:17:05 [scrapy.core.engine] DEBUG: Crawled (200) <GET https://www.goodreads.com/book/show/394535.Blood_Meridian_or_the_Evening_Redness_in_the_West> (referer: https://www.goodreads.com/list/show/1.Best_Books_Ever?page=5)\n"
     ]
    },
    {
     "name": "stdout",
     "output_type": "stream",
     "text": [
      "Warning: Book missing series (https://www.goodreads.com/book/show/10956.The_Virgin_Suicides).\n",
      "Warning: Missing book original title (https://www.goodreads.com/book/show/25036229-una-historia-de-ayer).\n",
      "Warning: Book missing series (https://www.goodreads.com/book/show/25036229-una-historia-de-ayer).\n",
      "Warning: Book missing series (https://www.goodreads.com/book/show/394535.Blood_Meridian_or_the_Evening_Redness_in_the_West).\n"
     ]
    },
    {
     "name": "stderr",
     "output_type": "stream",
     "text": [
      "2020-05-09 20:17:06 [scrapy.core.engine] DEBUG: Crawled (200) <GET https://www.goodreads.com/book/show/249747.Artemis_Fowl> (referer: https://www.goodreads.com/list/show/1.Best_Books_Ever?page=5)\n",
      "2020-05-09 20:17:06 [scrapy.core.engine] DEBUG: Crawled (200) <GET https://www.goodreads.com/book/show/15717943-hopeless> (referer: https://www.goodreads.com/list/show/1.Best_Books_Ever?page=5)\n",
      "2020-05-09 20:17:07 [scrapy.core.engine] DEBUG: Crawled (200) <GET https://www.goodreads.com/book/show/14201.Jonathan_Strange_Mr_Norrell> (referer: https://www.goodreads.com/list/show/1.Best_Books_Ever?page=5)\n",
      "2020-05-09 20:17:07 [scrapy.core.engine] DEBUG: Crawled (200) <GET https://www.goodreads.com/book/show/285092.High_Fidelity> (referer: https://www.goodreads.com/list/show/1.Best_Books_Ever?page=5)\n"
     ]
    },
    {
     "name": "stdout",
     "output_type": "stream",
     "text": [
      "Warning: Book missing series (https://www.goodreads.com/book/show/14201.Jonathan_Strange_Mr_Norrell).\n"
     ]
    },
    {
     "name": "stderr",
     "output_type": "stream",
     "text": [
      "2020-05-09 20:17:07 [scrapy.core.engine] DEBUG: Crawled (200) <GET https://www.goodreads.com/book/show/3950967-the-tales-of-beedle-the-bard> (referer: https://www.goodreads.com/list/show/1.Best_Books_Ever?page=5)\n"
     ]
    },
    {
     "name": "stdout",
     "output_type": "stream",
     "text": [
      "Warning: Book missing series (https://www.goodreads.com/book/show/285092.High_Fidelity).\n"
     ]
    },
    {
     "name": "stderr",
     "output_type": "stream",
     "text": [
      "2020-05-09 20:17:08 [scrapy.core.engine] DEBUG: Crawled (200) <GET https://www.goodreads.com/book/show/8664353-unbroken> (referer: https://www.goodreads.com/list/show/1.Best_Books_Ever?page=5)\n",
      "2020-05-09 20:17:08 [scrapy.core.engine] DEBUG: Crawled (200) <GET https://www.goodreads.com/book/show/1420.Hamlet> (referer: https://www.goodreads.com/list/show/1.Best_Books_Ever?page=5)\n"
     ]
    },
    {
     "name": "stdout",
     "output_type": "stream",
     "text": [
      "Warning: Book missing series (https://www.goodreads.com/book/show/8664353-unbroken).\n"
     ]
    },
    {
     "name": "stderr",
     "output_type": "stream",
     "text": [
      "2020-05-09 20:17:08 [scrapy.core.engine] DEBUG: Crawled (200) <GET https://www.goodreads.com/book/show/9460487-miss-peregrine-s-home-for-peculiar-children> (referer: https://www.goodreads.com/list/show/1.Best_Books_Ever?page=5)\n",
      "2020-05-09 20:17:08 [scrapy.core.engine] DEBUG: Crawled (200) <GET https://www.goodreads.com/book/show/43448.Flowers_in_the_Attic> (referer: https://www.goodreads.com/list/show/1.Best_Books_Ever?page=5)\n",
      "2020-05-09 20:17:08 [scrapy.core.engine] DEBUG: Crawled (200) <GET https://www.goodreads.com/book/show/11324204-houdini-heart> (referer: https://www.goodreads.com/list/show/1.Best_Books_Ever?page=5)\n"
     ]
    },
    {
     "name": "stdout",
     "output_type": "stream",
     "text": [
      "Warning: Book missing series (https://www.goodreads.com/book/show/1420.Hamlet).\n",
      "Warning: Missing book original title (https://www.goodreads.com/book/show/11324204-houdini-heart).\n",
      "Warning: Book missing series (https://www.goodreads.com/book/show/11324204-houdini-heart).\n"
     ]
    },
    {
     "name": "stderr",
     "output_type": "stream",
     "text": [
      "2020-05-09 20:17:09 [scrapy.core.engine] DEBUG: Crawled (200) <GET https://www.goodreads.com/book/show/136116.The_Scarlet_Pimpernel> (referer: https://www.goodreads.com/list/show/1.Best_Books_Ever?page=5)\n",
      "2020-05-09 20:17:09 [scrapy.core.engine] DEBUG: Crawled (200) <GET https://www.goodreads.com/book/show/7354.The_Shipping_News> (referer: https://www.goodreads.com/list/show/1.Best_Books_Ever?page=5)\n"
     ]
    },
    {
     "name": "stdout",
     "output_type": "stream",
     "text": [
      "Warning: Book missing series (https://www.goodreads.com/book/show/7354.The_Shipping_News).\n"
     ]
    },
    {
     "name": "stderr",
     "output_type": "stream",
     "text": [
      "2020-05-09 20:17:10 [scrapy.core.engine] DEBUG: Crawled (200) <GET https://www.goodreads.com/book/show/7735333-matched> (referer: https://www.goodreads.com/list/show/1.Best_Books_Ever?page=5)\n",
      "2020-05-09 20:17:10 [scrapy.core.engine] DEBUG: Crawled (200) <GET https://www.goodreads.com/book/show/51496.The_Strange_Case_of_Dr_Jekyll_and_Mr_Hyde> (referer: https://www.goodreads.com/list/show/1.Best_Books_Ever?page=5)\n"
     ]
    },
    {
     "name": "stdout",
     "output_type": "stream",
     "text": [
      "Warning: Book missing series (https://www.goodreads.com/book/show/51496.The_Strange_Case_of_Dr_Jekyll_and_Mr_Hyde).\n"
     ]
    },
    {
     "name": "stderr",
     "output_type": "stream",
     "text": [
      "2020-05-09 20:17:11 [scrapy.core.engine] DEBUG: Crawled (200) <GET https://www.goodreads.com/book/show/28921.The_Remains_of_the_Day> (referer: https://www.goodreads.com/list/show/1.Best_Books_Ever?page=5)\n",
      "2020-05-09 20:17:11 [scrapy.core.engine] DEBUG: Crawled (200) <GET https://www.goodreads.com/book/show/10644930-11-22-63> (referer: https://www.goodreads.com/list/show/1.Best_Books_Ever?page=5)\n"
     ]
    },
    {
     "name": "stdout",
     "output_type": "stream",
     "text": [
      "Warning: Book missing series (https://www.goodreads.com/book/show/28921.The_Remains_of_the_Day).\n"
     ]
    },
    {
     "name": "stderr",
     "output_type": "stream",
     "text": [
      "2020-05-09 20:17:11 [scrapy.core.engine] DEBUG: Crawled (200) <GET https://www.goodreads.com/book/show/187181.The_Chosen> (referer: https://www.goodreads.com/list/show/1.Best_Books_Ever?page=5)\n"
     ]
    },
    {
     "name": "stdout",
     "output_type": "stream",
     "text": [
      "Warning: Book missing series (https://www.goodreads.com/book/show/10644930-11-22-63).\n"
     ]
    },
    {
     "name": "stderr",
     "output_type": "stream",
     "text": [
      "2020-05-09 20:17:11 [scrapy.core.engine] DEBUG: Crawled (200) <GET https://www.goodreads.com/book/show/13497.A_Feast_for_Crows> (referer: https://www.goodreads.com/list/show/1.Best_Books_Ever?page=5)\n",
      "2020-05-09 20:17:12 [scrapy.core.engine] DEBUG: Crawled (200) <GET https://www.goodreads.com/book/show/13152.The_Angel_Experiment> (referer: https://www.goodreads.com/list/show/1.Best_Books_Ever?page=5)\n",
      "2020-05-09 20:17:12 [scrapy.core.engine] DEBUG: Crawled (200) <GET https://www.goodreads.com/book/show/386187.Midnight_in_the_Garden_of_Good_and_Evil> (referer: https://www.goodreads.com/list/show/1.Best_Books_Ever?page=5)\n",
      "2020-05-09 20:17:12 [scrapy.core.engine] DEBUG: Crawled (200) <GET https://www.goodreads.com/book/show/6936382-anna-and-the-french-kiss> (referer: https://www.goodreads.com/list/show/1.Best_Books_Ever?page=5)\n"
     ]
    },
    {
     "name": "stdout",
     "output_type": "stream",
     "text": [
      "Warning: Book missing series (https://www.goodreads.com/book/show/386187.Midnight_in_the_Garden_of_Good_and_Evil).\n"
     ]
    },
    {
     "name": "stderr",
     "output_type": "stream",
     "text": [
      "2020-05-09 20:17:12 [scrapy.core.engine] DEBUG: Crawled (200) <GET https://www.goodreads.com/book/show/40873273-snow-flower-and-the-secret-fan> (referer: https://www.goodreads.com/list/show/1.Best_Books_Ever?page=5)\n",
      "2020-05-09 20:17:13 [scrapy.core.engine] DEBUG: Crawled (200) <GET https://www.goodreads.com/book/show/6759.Infinite_Jest> (referer: https://www.goodreads.com/list/show/1.Best_Books_Ever?page=5)\n"
     ]
    },
    {
     "name": "stdout",
     "output_type": "stream",
     "text": [
      "Warning: Book missing series (https://www.goodreads.com/book/show/40873273-snow-flower-and-the-secret-fan).\n"
     ]
    },
    {
     "name": "stderr",
     "output_type": "stream",
     "text": [
      "2020-05-09 20:17:13 [scrapy.core.engine] DEBUG: Crawled (200) <GET https://www.goodreads.com/book/show/14706.Faust_First_Part> (referer: https://www.goodreads.com/list/show/1.Best_Books_Ever?page=5)\n"
     ]
    },
    {
     "name": "stdout",
     "output_type": "stream",
     "text": [
      "Warning: Book missing series (https://www.goodreads.com/book/show/6759.Infinite_Jest).\n"
     ]
    },
    {
     "name": "stderr",
     "output_type": "stream",
     "text": [
      "2020-05-09 20:17:13 [scrapy.core.engine] DEBUG: Crawled (200) <GET https://www.goodreads.com/book/show/28862.The_Prince> (referer: https://www.goodreads.com/list/show/1.Best_Books_Ever?page=5)\n",
      "2020-05-09 20:17:13 [scrapy.core.engine] DEBUG: Crawled (200) <GET https://www.goodreads.com/book/show/12220.A_Streetcar_Named_Desire> (referer: https://www.goodreads.com/list/show/1.Best_Books_Ever?page=5)\n"
     ]
    },
    {
     "name": "stdout",
     "output_type": "stream",
     "text": [
      "Warning: Book missing series (https://www.goodreads.com/book/show/28862.The_Prince).\n",
      "Warning: Book missing series (https://www.goodreads.com/book/show/12220.A_Streetcar_Named_Desire).\n"
     ]
    },
    {
     "name": "stderr",
     "output_type": "stream",
     "text": [
      "2020-05-09 20:17:14 [scrapy.core.engine] DEBUG: Crawled (200) <GET https://www.goodreads.com/book/show/11989.The_Plague> (referer: https://www.goodreads.com/list/show/1.Best_Books_Ever?page=5)\n",
      "2020-05-09 20:17:14 [scrapy.core.engine] DEBUG: Crawled (200) <GET https://www.goodreads.com/book/show/8755785-city-of-heavenly-fire> (referer: https://www.goodreads.com/list/show/1.Best_Books_Ever?page=5)\n"
     ]
    },
    {
     "name": "stdout",
     "output_type": "stream",
     "text": [
      "Warning: Book missing series (https://www.goodreads.com/book/show/11989.The_Plague).\n"
     ]
    },
    {
     "name": "stderr",
     "output_type": "stream",
     "text": [
      "2020-05-09 20:17:14 [scrapy.core.engine] DEBUG: Crawled (200) <GET https://www.goodreads.com/book/show/12898.Death_of_a_Salesman> (referer: https://www.goodreads.com/list/show/1.Best_Books_Ever?page=5)\n"
     ]
    },
    {
     "name": "stdout",
     "output_type": "stream",
     "text": [
      "Warning: Book missing series (https://www.goodreads.com/book/show/12898.Death_of_a_Salesman).\n"
     ]
    },
    {
     "name": "stderr",
     "output_type": "stream",
     "text": [
      "2020-05-09 20:17:14 [scrapy.core.engine] DEBUG: Crawled (200) <GET https://www.goodreads.com/book/show/41637836-the-subtle-knife> (referer: https://www.goodreads.com/list/show/1.Best_Books_Ever?page=5)\n",
      "2020-05-09 20:17:15 [scrapy.core.engine] DEBUG: Crawled (200) <GET https://www.goodreads.com/book/show/8490112-daughter-of-smoke-bone> (referer: https://www.goodreads.com/list/show/1.Best_Books_Ever?page=5)\n",
      "2020-05-09 20:17:16 [scrapy.core.engine] DEBUG: Crawled (200) <GET https://www.goodreads.com/book/show/862041.Harry_Potter_Series_Box_Set> (referer: https://www.goodreads.com/list/show/1.Best_Books_Ever?page=5)\n"
     ]
    },
    {
     "name": "stdout",
     "output_type": "stream",
     "text": [
      "Warning: Missing book original title (https://www.goodreads.com/book/show/862041.Harry_Potter_Series_Box_Set).\n"
     ]
    },
    {
     "name": "stderr",
     "output_type": "stream",
     "text": [
      "2020-05-09 20:17:16 [scrapy.core.engine] DEBUG: Crawled (200) <GET https://www.goodreads.com/book/show/22463.The_Origin_of_Species> (referer: https://www.goodreads.com/list/show/1.Best_Books_Ever?page=5)\n",
      "2020-05-09 20:17:16 [scrapy.core.engine] DEBUG: Crawled (200) <GET https://www.goodreads.com/book/show/6319.The_BFG> (referer: https://www.goodreads.com/list/show/1.Best_Books_Ever?page=5)\n",
      "2020-05-09 20:17:17 [scrapy.core.engine] DEBUG: Crawled (200) <GET https://www.goodreads.com/book/show/5364.Dragonfly_in_Amber> (referer: https://www.goodreads.com/list/show/1.Best_Books_Ever?page=5)\n"
     ]
    },
    {
     "name": "stdout",
     "output_type": "stream",
     "text": [
      "Warning: Book missing series (https://www.goodreads.com/book/show/22463.The_Origin_of_Species).\n",
      "Warning: Book missing series (https://www.goodreads.com/book/show/6319.The_BFG).\n"
     ]
    },
    {
     "name": "stderr",
     "output_type": "stream",
     "text": [
      "2020-05-09 20:17:17 [scrapy.core.engine] DEBUG: Crawled (200) <GET https://www.goodreads.com/book/show/5211.A_Fine_Balance> (referer: https://www.goodreads.com/list/show/1.Best_Books_Ever?page=5)\n",
      "2020-05-09 20:17:17 [scrapy.core.engine] DEBUG: Crawled (200) <GET https://www.goodreads.com/book/show/31685789-room> (referer: https://www.goodreads.com/list/show/1.Best_Books_Ever?page=5)\n",
      "2020-05-09 20:17:17 [scrapy.core.engine] DEBUG: Crawled (200) <GET https://www.goodreads.com/book/show/4980.Breakfast_of_Champions> (referer: https://www.goodreads.com/list/show/1.Best_Books_Ever?page=5)\n"
     ]
    },
    {
     "name": "stdout",
     "output_type": "stream",
     "text": [
      "Warning: Book missing series (https://www.goodreads.com/book/show/5211.A_Fine_Balance).\n",
      "Warning: Book missing series (https://www.goodreads.com/book/show/31685789-room).\n",
      "Warning: Book missing series (https://www.goodreads.com/book/show/4980.Breakfast_of_Champions).\n"
     ]
    },
    {
     "name": "stderr",
     "output_type": "stream",
     "text": [
      "2020-05-09 20:17:18 [scrapy.core.engine] DEBUG: Crawled (200) <GET https://www.goodreads.com/book/show/4406.East_of_Eden> (referer: https://www.goodreads.com/list/show/1.Best_Books_Ever?page=5)\n",
      "2020-05-09 20:17:18 [scrapy.core.engine] DEBUG: Crawled (200) <GET https://www.goodreads.com/book/show/4374400-if-i-stay> (referer: https://www.goodreads.com/list/show/1.Best_Books_Ever?page=4)\n"
     ]
    },
    {
     "name": "stdout",
     "output_type": "stream",
     "text": [
      "Warning: Book missing series (https://www.goodreads.com/book/show/4406.East_of_Eden).\n"
     ]
    },
    {
     "name": "stderr",
     "output_type": "stream",
     "text": [
      "2020-05-09 20:17:18 [scrapy.core.engine] DEBUG: Crawled (200) <GET https://www.goodreads.com/book/show/28676.American_Psycho> (referer: https://www.goodreads.com/list/show/1.Best_Books_Ever?page=4)\n",
      "2020-05-09 20:17:19 [scrapy.core.engine] DEBUG: Crawled (200) <GET https://www.goodreads.com/book/show/3975774-evermore> (referer: https://www.goodreads.com/list/show/1.Best_Books_Ever?page=5)\n"
     ]
    },
    {
     "name": "stdout",
     "output_type": "stream",
     "text": [
      "Warning: Book missing series (https://www.goodreads.com/book/show/28676.American_Psycho).\n"
     ]
    },
    {
     "name": "stderr",
     "output_type": "stream",
     "text": [
      "2020-05-09 20:17:19 [scrapy.core.engine] DEBUG: Crawled (200) <GET https://www.goodreads.com/book/show/3153910-the-art-of-racing-in-the-rain> (referer: https://www.goodreads.com/list/show/1.Best_Books_Ever?page=4)\n",
      "2020-05-09 20:17:19 [scrapy.core.engine] DEBUG: Crawled (200) <GET https://www.goodreads.com/book/show/7733.Gulliver_s_Travels> (referer: https://www.goodreads.com/list/show/1.Best_Books_Ever?page=4)\n"
     ]
    },
    {
     "name": "stdout",
     "output_type": "stream",
     "text": [
      "Warning: Book missing series (https://www.goodreads.com/book/show/3153910-the-art-of-racing-in-the-rain).\n",
      "Warning: Book missing series (https://www.goodreads.com/book/show/7733.Gulliver_s_Travels).\n"
     ]
    },
    {
     "name": "stderr",
     "output_type": "stream",
     "text": [
      "2020-05-09 20:17:20 [scrapy.core.engine] DEBUG: Crawled (200) <GET https://www.goodreads.com/book/show/5826.Bel_Canto> (referer: https://www.goodreads.com/list/show/1.Best_Books_Ever?page=4)\n",
      "2020-05-09 20:17:20 [scrapy.core.engine] DEBUG: Crawled (200) <GET https://www.goodreads.com/book/show/18710190-allegiant> (referer: https://www.goodreads.com/list/show/1.Best_Books_Ever?page=4)\n"
     ]
    },
    {
     "name": "stdout",
     "output_type": "stream",
     "text": [
      "Warning: Book missing series (https://www.goodreads.com/book/show/5826.Bel_Canto).\n"
     ]
    },
    {
     "name": "stderr",
     "output_type": "stream",
     "text": [
      "2020-05-09 20:17:20 [scrapy.core.engine] DEBUG: Crawled (200) <GET https://www.goodreads.com/book/show/36402034-do-androids-dream-of-electric-sheep> (referer: https://www.goodreads.com/list/show/1.Best_Books_Ever?page=4)\n",
      "2020-05-09 20:17:20 [scrapy.core.engine] DEBUG: Crawled (200) <GET https://www.goodreads.com/book/show/7260188-mockingjay> (referer: https://www.goodreads.com/list/show/1.Best_Books_Ever?page=4)\n",
      "2020-05-09 20:17:20 [scrapy.core.engine] DEBUG: Crawled (200) <GET https://www.goodreads.com/book/show/15745753-eleanor-park> (referer: https://www.goodreads.com/list/show/1.Best_Books_Ever?page=4)\n",
      "2020-05-09 20:17:20 [scrapy.core.engine] DEBUG: Crawled (200) <GET https://www.goodreads.com/book/show/7588.A_Portrait_of_the_Artist_as_a_Young_Man> (referer: https://www.goodreads.com/list/show/1.Best_Books_Ever?page=4)\n",
      "2020-05-09 20:17:21 [scrapy.core.engine] DEBUG: Crawled (200) <GET https://www.goodreads.com/book/show/3685.Black_Beauty> (referer: https://www.goodreads.com/list/show/1.Best_Books_Ever?page=4)\n"
     ]
    },
    {
     "name": "stdout",
     "output_type": "stream",
     "text": [
      "Warning: Book missing series (https://www.goodreads.com/book/show/15745753-eleanor-park).\n",
      "Warning: Book missing series (https://www.goodreads.com/book/show/7588.A_Portrait_of_the_Artist_as_a_Young_Man).\n"
     ]
    },
    {
     "name": "stderr",
     "output_type": "stream",
     "text": [
      "2020-05-09 20:17:21 [scrapy.core.engine] DEBUG: Crawled (200) <GET https://www.goodreads.com/book/show/47281.Number_the_Stars> (referer: https://www.goodreads.com/list/show/1.Best_Books_Ever?page=4)\n",
      "2020-05-09 20:17:21 [scrapy.core.engine] DEBUG: Crawled (200) <GET https://www.goodreads.com/book/show/21.A_Short_History_of_Nearly_Everything> (referer: https://www.goodreads.com/list/show/1.Best_Books_Ever?page=4)\n"
     ]
    },
    {
     "name": "stdout",
     "output_type": "stream",
     "text": [
      "Warning: Book missing series (https://www.goodreads.com/book/show/3685.Black_Beauty).\n",
      "Warning: Book missing series (https://www.goodreads.com/book/show/47281.Number_the_Stars).\n",
      "Warning: Book missing series (https://www.goodreads.com/book/show/21.A_Short_History_of_Nearly_Everything).\n"
     ]
    },
    {
     "name": "stderr",
     "output_type": "stream",
     "text": [
      "2020-05-09 20:17:21 [scrapy.core.engine] DEBUG: Crawled (200) <GET https://www.goodreads.com/book/show/43615.The_Gunslinger> (referer: https://www.goodreads.com/list/show/1.Best_Books_Ever?page=4)\n",
      "2020-05-09 20:17:22 [scrapy.core.engine] DEBUG: Crawled (200) <GET https://www.goodreads.com/book/show/32542.A_Time_to_Kill> (referer: https://www.goodreads.com/list/show/1.Best_Books_Ever?page=4)\n",
      "2020-05-09 20:17:22 [scrapy.core.engine] DEBUG: Crawled (200) <GET https://www.goodreads.com/book/show/9969571-ready-player-one> (referer: https://www.goodreads.com/list/show/1.Best_Books_Ever?page=4)\n",
      "2020-05-09 20:17:23 [scrapy.core.engine] DEBUG: Crawled (200) <GET https://www.goodreads.com/book/show/65605.The_Magician_s_Nephew> (referer: https://www.goodreads.com/list/show/1.Best_Books_Ever?page=4)\n",
      "2020-05-09 20:17:23 [scrapy.core.engine] DEBUG: Crawled (200) <GET https://www.goodreads.com/book/show/14942.Mrs_Dalloway> (referer: https://www.goodreads.com/list/show/1.Best_Books_Ever?page=4)\n",
      "2020-05-09 20:17:23 [scrapy.core.engine] DEBUG: Crawled (200) <GET https://www.goodreads.com/book/show/122.The_Power_of_One> (referer: https://www.goodreads.com/list/show/1.Best_Books_Ever?page=4)\n"
     ]
    },
    {
     "name": "stdout",
     "output_type": "stream",
     "text": [
      "Warning: Book missing series (https://www.goodreads.com/book/show/14942.Mrs_Dalloway).\n"
     ]
    },
    {
     "name": "stderr",
     "output_type": "stream",
     "text": [
      "2020-05-09 20:17:23 [scrapy.core.engine] DEBUG: Crawled (200) <GET https://www.goodreads.com/book/show/16793.Stardust> (referer: https://www.goodreads.com/list/show/1.Best_Books_Ever?page=4)\n",
      "2020-05-09 20:17:24 [scrapy.core.engine] DEBUG: Crawled (200) <GET https://www.goodreads.com/book/show/5113.Franny_and_Zooey> (referer: https://www.goodreads.com/list/show/1.Best_Books_Ever?page=4)\n"
     ]
    },
    {
     "name": "stdout",
     "output_type": "stream",
     "text": [
      "Warning: Book missing series (https://www.goodreads.com/book/show/16793.Stardust).\n",
      "Warning: Book missing series (https://www.goodreads.com/book/show/5113.Franny_and_Zooey).\n"
     ]
    },
    {
     "name": "stderr",
     "output_type": "stream",
     "text": [
      "2020-05-09 20:17:24 [scrapy.core.engine] DEBUG: Crawled (200) <GET https://www.goodreads.com/book/show/227443.Bridget_Jones_s_Diary> (referer: https://www.goodreads.com/list/show/1.Best_Books_Ever?page=4)\n",
      "2020-05-09 20:17:24 [scrapy.core.engine] DEBUG: Crawled (200) <GET https://www.goodreads.com/book/show/19089.Middlemarch> (referer: https://www.goodreads.com/list/show/1.Best_Books_Ever?page=4)\n",
      "2020-05-09 20:17:25 [scrapy.core.engine] DEBUG: Crawled (200) <GET https://www.goodreads.com/book/show/37781.Things_Fall_Apart> (referer: https://www.goodreads.com/list/show/1.Best_Books_Ever?page=4)\n"
     ]
    },
    {
     "name": "stdout",
     "output_type": "stream",
     "text": [
      "Warning: Book missing series (https://www.goodreads.com/book/show/19089.Middlemarch).\n"
     ]
    },
    {
     "name": "stderr",
     "output_type": "stream",
     "text": [
      "2020-05-09 20:17:25 [scrapy.core.engine] DEBUG: Crawled (200) <GET https://www.goodreads.com/book/show/18007564-the-martian> (referer: https://www.goodreads.com/list/show/1.Best_Books_Ever?page=5)\n",
      "2020-05-09 20:17:26 [scrapy.core.engine] DEBUG: Crawled (200) <GET https://www.goodreads.com/book/show/11857408-fifty-shades-darker> (referer: https://www.goodreads.com/list/show/1.Best_Books_Ever?page=4)\n",
      "2020-05-09 20:17:26 [scrapy.core.engine] DEBUG: Crawled (200) <GET https://www.goodreads.com/book/show/9520360-the-son-of-neptune> (referer: https://www.goodreads.com/list/show/1.Best_Books_Ever?page=4)\n",
      "2020-05-09 20:17:26 [scrapy.core.engine] DEBUG: Crawled (200) <GET https://www.goodreads.com/book/show/6334.Never_Let_Me_Go> (referer: https://www.goodreads.com/list/show/1.Best_Books_Ever?page=4)\n",
      "2020-05-09 20:17:26 [scrapy.core.engine] DEBUG: Crawled (200) <GET https://www.goodreads.com/book/show/9375.Fried_Green_Tomatoes_at_the_Whistle_Stop_Cafe> (referer: https://www.goodreads.com/list/show/1.Best_Books_Ever?page=4)\n"
     ]
    },
    {
     "name": "stdout",
     "output_type": "stream",
     "text": [
      "Warning: Book missing series (https://www.goodreads.com/book/show/6334.Never_Let_Me_Go).\n",
      "Warning: Book missing series (https://www.goodreads.com/book/show/9375.Fried_Green_Tomatoes_at_the_Whistle_Stop_Cafe).\n"
     ]
    },
    {
     "name": "stderr",
     "output_type": "stream",
     "text": [
      "2020-05-09 20:17:27 [scrapy.core.engine] DEBUG: Crawled (200) <GET https://www.goodreads.com/book/show/301082.Dead_Until_Dark> (referer: https://www.goodreads.com/list/show/1.Best_Books_Ever?page=4)\n",
      "2020-05-09 20:17:27 [scrapy.core.engine] DEBUG: Crawled (200) <GET https://www.goodreads.com/book/show/16735.The_Prince_of_Tides> (referer: https://www.goodreads.com/list/show/1.Best_Books_Ever?page=4)\n"
     ]
    },
    {
     "name": "stdout",
     "output_type": "stream",
     "text": [
      "Warning: Book missing series (https://www.goodreads.com/book/show/16735.The_Prince_of_Tides).\n"
     ]
    },
    {
     "name": "stderr",
     "output_type": "stream",
     "text": [
      "2020-05-09 20:17:28 [scrapy.core.engine] DEBUG: Crawled (200) <GET https://www.goodreads.com/book/show/44186.The_Monster_at_the_End_of_this_Book> (referer: https://www.goodreads.com/list/show/1.Best_Books_Ever?page=4)\n",
      "2020-05-09 20:17:28 [scrapy.core.engine] DEBUG: Crawled (200) <GET https://www.goodreads.com/book/show/16068905-fangirl> (referer: https://www.goodreads.com/list/show/1.Best_Books_Ever?page=4)\n"
     ]
    },
    {
     "name": "stdout",
     "output_type": "stream",
     "text": [
      "Warning: Book missing series (https://www.goodreads.com/book/show/16068905-fangirl).\n"
     ]
    },
    {
     "name": "stderr",
     "output_type": "stream",
     "text": [
      "2020-05-09 20:17:28 [scrapy.core.engine] DEBUG: Crawled (200) <GET https://www.goodreads.com/book/show/228560.Sophie_s_Choice> (referer: https://www.goodreads.com/list/show/1.Best_Books_Ever?page=4)\n",
      "2020-05-09 20:17:28 [scrapy.core.engine] DEBUG: Crawled (200) <GET https://www.goodreads.com/book/show/2184798.Blood_River> (referer: https://www.goodreads.com/list/show/1.Best_Books_Ever?page=4)\n"
     ]
    },
    {
     "name": "stdout",
     "output_type": "stream",
     "text": [
      "Warning: Book missing series (https://www.goodreads.com/book/show/228560.Sophie_s_Choice).\n",
      "Warning: Book missing series (https://www.goodreads.com/book/show/2184798.Blood_River).\n"
     ]
    },
    {
     "name": "stderr",
     "output_type": "stream",
     "text": [
      "2020-05-09 20:17:29 [scrapy.core.engine] DEBUG: Crawled (200) <GET https://www.goodreads.com/book/show/40937505> (referer: https://www.goodreads.com/list/show/1.Best_Books_Ever?page=4)\n",
      "2020-05-09 20:17:29 [scrapy.core.engine] DEBUG: Crawled (200) <GET https://www.goodreads.com/book/show/58345.The_Awakening> (referer: https://www.goodreads.com/list/show/1.Best_Books_Ever?page=4)\n"
     ]
    },
    {
     "name": "stdout",
     "output_type": "stream",
     "text": [
      "Warning: Book missing series (https://www.goodreads.com/book/show/40937505).\n",
      "Warning: Book missing series (https://www.goodreads.com/book/show/58345.The_Awakening).\n"
     ]
    },
    {
     "name": "stderr",
     "output_type": "stream",
     "text": [
      "2020-05-09 20:17:29 [scrapy.core.engine] DEBUG: Crawled (200) <GET https://www.goodreads.com/book/show/1215032.The_Wise_Man_s_Fear> (referer: https://www.goodreads.com/list/show/1.Best_Books_Ever?page=4)\n",
      "2020-05-09 20:17:29 [scrapy.core.engine] DEBUG: Crawled (200) <GET https://www.goodreads.com/book/show/8755776-city-of-lost-souls> (referer: https://www.goodreads.com/list/show/1.Best_Books_Ever?page=4)\n",
      "2020-05-09 20:17:30 [scrapy.core.engine] DEBUG: Crawled (200) <GET https://www.goodreads.com/book/show/10959.Sophie_s_World> (referer: https://www.goodreads.com/list/show/1.Best_Books_Ever?page=4)\n"
     ]
    },
    {
     "name": "stdout",
     "output_type": "stream",
     "text": [
      "Warning: Book missing series (https://www.goodreads.com/book/show/10959.Sophie_s_World).\n"
     ]
    },
    {
     "name": "stderr",
     "output_type": "stream",
     "text": [
      "2020-05-09 20:17:30 [scrapy.core.engine] DEBUG: Crawled (200) <GET https://www.goodreads.com/book/show/4929.Kafka_on_the_Shore> (referer: https://www.goodreads.com/list/show/1.Best_Books_Ever?page=4)\n",
      "2020-05-09 20:17:31 [scrapy.core.engine] DEBUG: Crawled (200) <GET https://www.goodreads.com/book/show/16902.Walden> (referer: https://www.goodreads.com/list/show/1.Best_Books_Ever?page=4)\n",
      "2020-05-09 20:17:31 [scrapy.core.engine] DEBUG: Crawled (200) <GET https://www.goodreads.com/book/show/37732.Are_You_There_God_It_s_Me_Margaret> (referer: https://www.goodreads.com/list/show/1.Best_Books_Ever?page=4)\n"
     ]
    },
    {
     "name": "stdout",
     "output_type": "stream",
     "text": [
      "Warning: Book missing series (https://www.goodreads.com/book/show/4929.Kafka_on_the_Shore).\n",
      "Warning: Book missing series (https://www.goodreads.com/book/show/16902.Walden).\n",
      "Warning: Book missing series (https://www.goodreads.com/book/show/37732.Are_You_There_God_It_s_Me_Margaret).\n"
     ]
    },
    {
     "name": "stderr",
     "output_type": "stream",
     "text": [
      "2020-05-09 20:17:31 [scrapy.core.engine] DEBUG: Crawled (200) <GET https://www.goodreads.com/book/show/93.Heidi> (referer: https://www.goodreads.com/list/show/1.Best_Books_Ever?page=4)\n",
      "2020-05-09 20:17:32 [scrapy.core.engine] DEBUG: Crawled (200) <GET https://www.goodreads.com/book/show/2493.The_Time_Machine> (referer: https://www.goodreads.com/list/show/1.Best_Books_Ever?page=4)\n",
      "2020-05-09 20:17:32 [scrapy.core.engine] DEBUG: Crawled (200) <GET https://www.goodreads.com/book/show/4687.The_Cider_House_Rules> (referer: https://www.goodreads.com/list/show/1.Best_Books_Ever?page=3)\n"
     ]
    },
    {
     "name": "stdout",
     "output_type": "stream",
     "text": [
      "Warning: Book missing series (https://www.goodreads.com/book/show/2493.The_Time_Machine).\n",
      "Warning: Book missing series (https://www.goodreads.com/book/show/4687.The_Cider_House_Rules).\n"
     ]
    },
    {
     "name": "stderr",
     "output_type": "stream",
     "text": [
      "2020-05-09 20:17:32 [scrapy.core.engine] DEBUG: Crawled (200) <GET https://www.goodreads.com/book/show/39662.Different_Seasons> (referer: https://www.goodreads.com/list/show/1.Best_Books_Ever?page=3)\n",
      "2020-05-09 20:17:33 [scrapy.core.engine] DEBUG: Crawled (200) <GET https://www.goodreads.com/book/show/11297.Norwegian_Wood> (referer: https://www.goodreads.com/list/show/1.Best_Books_Ever?page=3)\n"
     ]
    },
    {
     "name": "stdout",
     "output_type": "stream",
     "text": [
      "Warning: Book missing series (https://www.goodreads.com/book/show/39662.Different_Seasons).\n",
      "Warning: Book missing series (https://www.goodreads.com/book/show/11297.Norwegian_Wood).\n"
     ]
    },
    {
     "name": "stderr",
     "output_type": "stream",
     "text": [
      "2020-05-09 20:17:33 [scrapy.core.engine] DEBUG: Crawled (200) <GET https://www.goodreads.com/book/show/19288043-gone-girl> (referer: https://www.goodreads.com/list/show/1.Best_Books_Ever?page=3)\n",
      "2020-05-09 20:17:33 [scrapy.core.engine] DEBUG: Crawled (200) <GET https://www.goodreads.com/book/show/133518.The_Things_They_Carried> (referer: https://www.goodreads.com/list/show/1.Best_Books_Ever?page=3)\n"
     ]
    },
    {
     "name": "stdout",
     "output_type": "stream",
     "text": [
      "Warning: Book missing series (https://www.goodreads.com/book/show/19288043-gone-girl).\n",
      "Warning: Book missing series (https://www.goodreads.com/book/show/133518.The_Things_They_Carried).\n"
     ]
    },
    {
     "name": "stderr",
     "output_type": "stream",
     "text": [
      "2020-05-09 20:17:34 [scrapy.core.engine] DEBUG: Crawled (200) <GET https://www.goodreads.com/book/show/40440.The_Thirteenth_Tale> (referer: https://www.goodreads.com/list/show/1.Best_Books_Ever?page=3)\n",
      "2020-05-09 20:17:34 [scrapy.core.engine] DEBUG: Crawled (200) <GET https://www.goodreads.com/book/show/15997.Paradise_Lost> (referer: https://www.goodreads.com/list/show/1.Best_Books_Ever?page=3)\n",
      "2020-05-09 20:17:34 [scrapy.core.engine] DEBUG: Crawled (200) <GET https://www.goodreads.com/book/show/27494.Leaves_of_Grass> (referer: https://www.goodreads.com/list/show/1.Best_Books_Ever?page=3)\n"
     ]
    },
    {
     "name": "stdout",
     "output_type": "stream",
     "text": [
      "Warning: Book missing series (https://www.goodreads.com/book/show/40440.The_Thirteenth_Tale).\n",
      "Warning: Book missing series (https://www.goodreads.com/book/show/15997.Paradise_Lost).\n",
      "Warning: Book missing series (https://www.goodreads.com/book/show/27494.Leaves_of_Grass).\n",
      "Warning: Book missing description (https://www.goodreads.com/book/show/27494.Leaves_of_Grass).\n"
     ]
    },
    {
     "name": "stderr",
     "output_type": "stream",
     "text": [
      "2020-05-09 20:17:35 [scrapy.core.engine] DEBUG: Crawled (200) <GET https://www.goodreads.com/book/show/32085.All_Creatures_Great_and_Small> (referer: https://www.goodreads.com/list/show/1.Best_Books_Ever?page=3)\n",
      "2020-05-09 20:17:35 [scrapy.core.engine] DEBUG: Crawled (200) <GET https://www.goodreads.com/book/show/3236307-graceling> (referer: https://www.goodreads.com/list/show/1.Best_Books_Ever?page=3)\n",
      "2020-05-09 20:17:35 [scrapy.core.engine] DEBUG: Crawled (200) <GET https://www.goodreads.com/book/show/19380.Candide> (referer: https://www.goodreads.com/list/show/1.Best_Books_Ever?page=3)\n"
     ]
    },
    {
     "name": "stdout",
     "output_type": "stream",
     "text": [
      "Warning: Book missing series (https://www.goodreads.com/book/show/19380.Candide).\n"
     ]
    },
    {
     "name": "stderr",
     "output_type": "stream",
     "text": [
      "2020-05-09 20:17:36 [scrapy.core.engine] DEBUG: Crawled (200) <GET https://www.goodreads.com/book/show/188572.The_Complete_Sherlock_Holmes> (referer: https://www.goodreads.com/list/show/1.Best_Books_Ever?page=3)\n",
      "2020-05-09 20:17:36 [scrapy.core.engine] DEBUG: Crawled (200) <GET https://www.goodreads.com/book/show/16981.Invisible_Man> (referer: https://www.goodreads.com/list/show/1.Best_Books_Ever?page=3)\n",
      "2020-05-09 20:17:36 [scrapy.core.engine] DEBUG: Crawled (200) <GET https://www.goodreads.com/book/show/6689.James_and_the_Giant_Peach> (referer: https://www.goodreads.com/list/show/1.Best_Books_Ever?page=3)\n"
     ]
    },
    {
     "name": "stdout",
     "output_type": "stream",
     "text": [
      "Warning: Book missing series (https://www.goodreads.com/book/show/16981.Invisible_Man).\n",
      "Warning: Book missing series (https://www.goodreads.com/book/show/6689.James_and_the_Giant_Peach).\n"
     ]
    },
    {
     "name": "stderr",
     "output_type": "stream",
     "text": [
      "2020-05-09 20:17:37 [scrapy.core.engine] DEBUG: Crawled (200) <GET https://www.goodreads.com/book/show/48855.The_Diary_of_a_Young_Girl> (referer: https://www.goodreads.com/list/show/1.Best_Books_Ever?page=3)\n",
      "2020-05-09 20:17:37 [scrapy.core.engine] DEBUG: Crawled (200) <GET https://www.goodreads.com/book/show/30236962-the-historian> (referer: https://www.goodreads.com/list/show/1.Best_Books_Ever?page=3)\n"
     ]
    },
    {
     "name": "stdout",
     "output_type": "stream",
     "text": [
      "Warning: Book missing series (https://www.goodreads.com/book/show/48855.The_Diary_of_a_Young_Girl).\n",
      "Warning: Book missing series (https://www.goodreads.com/book/show/30236962-the-historian).\n"
     ]
    },
    {
     "name": "stderr",
     "output_type": "stream",
     "text": [
      "2020-05-09 20:17:37 [scrapy.core.engine] DEBUG: Crawled (200) <GET https://www.goodreads.com/book/show/28194.Inkheart> (referer: https://www.goodreads.com/list/show/1.Best_Books_Ever?page=3)\n",
      "2020-05-09 20:17:38 [scrapy.core.engine] DEBUG: Crawled (200) <GET https://www.goodreads.com/book/show/46787.Uncle_Tom_s_Cabin> (referer: https://www.goodreads.com/list/show/1.Best_Books_Ever?page=3)\n",
      "2020-05-09 20:17:38 [scrapy.core.engine] DEBUG: Crawled (200) <GET https://www.goodreads.com/book/show/1845.Into_the_Wild> (referer: https://www.goodreads.com/list/show/1.Best_Books_Ever?page=3)\n"
     ]
    },
    {
     "name": "stdout",
     "output_type": "stream",
     "text": [
      "Warning: Book missing series (https://www.goodreads.com/book/show/46787.Uncle_Tom_s_Cabin).\n"
     ]
    },
    {
     "name": "stderr",
     "output_type": "stream",
     "text": [
      "2020-05-09 20:17:38 [scrapy.core.engine] DEBUG: Crawled (200) <GET https://www.goodreads.com/book/show/29044.The_Secret_History> (referer: https://www.goodreads.com/list/show/1.Best_Books_Ever?page=3)\n",
      "2020-05-09 20:17:38 [scrapy.core.engine] DEBUG: Crawled (200) <GET https://www.goodreads.com/book/show/14497.Neverwhere> (referer: https://www.goodreads.com/list/show/1.Best_Books_Ever?page=3)\n"
     ]
    },
    {
     "name": "stdout",
     "output_type": "stream",
     "text": [
      "Warning: Book missing series (https://www.goodreads.com/book/show/1845.Into_the_Wild).\n",
      "Warning: Book missing series (https://www.goodreads.com/book/show/29044.The_Secret_History).\n"
     ]
    },
    {
     "name": "stderr",
     "output_type": "stream",
     "text": [
      "2020-05-09 20:17:39 [scrapy.core.engine] DEBUG: Crawled (200) <GET https://www.goodreads.com/book/show/28881.Lamb> (referer: https://www.goodreads.com/list/show/1.Best_Books_Ever?page=3)\n",
      "2020-05-09 20:17:39 [scrapy.core.engine] DEBUG: Crawled (200) <GET https://www.goodreads.com/book/show/12938.King_Lear> (referer: https://www.goodreads.com/list/show/1.Best_Books_Ever?page=3)\n"
     ]
    },
    {
     "name": "stdout",
     "output_type": "stream",
     "text": [
      "Warning: Book missing series (https://www.goodreads.com/book/show/28881.Lamb).\n"
     ]
    },
    {
     "name": "stderr",
     "output_type": "stream",
     "text": [
      "2020-05-09 20:17:39 [scrapy.core.engine] DEBUG: Crawled (200) <GET https://www.goodreads.com/book/show/43545.The_Once_and_Future_King> (referer: https://www.goodreads.com/list/show/1.Best_Books_Ever?page=3)\n",
      "2020-05-09 20:17:39 [scrapy.core.engine] DEBUG: Crawled (200) <GET https://www.goodreads.com/book/show/227711.I_Know_This_Much_Is_True> (referer: https://www.goodreads.com/list/show/1.Best_Books_Ever?page=3)\n"
     ]
    },
    {
     "name": "stdout",
     "output_type": "stream",
     "text": [
      "Warning: Missing book original title (https://www.goodreads.com/book/show/12938.King_Lear).\n",
      "Warning: Book missing series (https://www.goodreads.com/book/show/12938.King_Lear).\n",
      "Warning: Book missing series (https://www.goodreads.com/book/show/227711.I_Know_This_Much_Is_True).\n"
     ]
    },
    {
     "name": "stderr",
     "output_type": "stream",
     "text": [
      "2020-05-09 20:17:40 [scrapy.core.engine] DEBUG: Crawled (200) <GET https://www.goodreads.com/book/show/6442769-paper-towns> (referer: https://www.goodreads.com/list/show/1.Best_Books_Ever?page=3)\n",
      "2020-05-09 20:17:40 [scrapy.core.engine] DEBUG: Crawled (200) <GET https://www.goodreads.com/book/show/43814.The_Vampire_Lestat> (referer: https://www.goodreads.com/list/show/1.Best_Books_Ever?page=3)\n",
      "2020-05-09 20:17:41 [scrapy.core.engine] DEBUG: Crawled (200) <GET https://www.goodreads.com/book/show/12505.The_Idiot> (referer: https://www.goodreads.com/list/show/1.Best_Books_Ever?page=3)\n"
     ]
    },
    {
     "name": "stdout",
     "output_type": "stream",
     "text": [
      "Warning: Book missing series (https://www.goodreads.com/book/show/6442769-paper-towns).\n"
     ]
    },
    {
     "name": "stderr",
     "output_type": "stream",
     "text": [
      "2020-05-09 20:17:41 [scrapy.core.engine] DEBUG: Crawled (200) <GET https://www.goodreads.com/book/show/12996.Othello> (referer: https://www.goodreads.com/list/show/1.Best_Books_Ever?page=3)\n"
     ]
    },
    {
     "name": "stdout",
     "output_type": "stream",
     "text": [
      "Warning: Book missing series (https://www.goodreads.com/book/show/12505.The_Idiot).\n",
      "Warning: Book missing series (https://www.goodreads.com/book/show/12996.Othello).\n"
     ]
    },
    {
     "name": "stderr",
     "output_type": "stream",
     "text": [
      "2020-05-09 20:17:42 [scrapy.core.engine] DEBUG: Crawled (200) <GET https://www.goodreads.com/book/show/11505797-beautiful-disaster> (referer: https://www.goodreads.com/list/show/1.Best_Books_Ever?page=3)\n",
      "2020-05-09 20:17:42 [scrapy.core.engine] DEBUG: Crawled (200) <GET https://www.goodreads.com/book/show/11614718-delirium> (referer: https://www.goodreads.com/list/show/1.Best_Books_Ever?page=3)\n",
      "2020-05-09 20:17:42 [scrapy.core.engine] DEBUG: Crawled (200) <GET https://www.goodreads.com/book/show/39280444-speak> (referer: https://www.goodreads.com/list/show/1.Best_Books_Ever?page=3)\n"
     ]
    },
    {
     "name": "stdout",
     "output_type": "stream",
     "text": [
      "Warning: Book missing series (https://www.goodreads.com/book/show/39280444-speak).\n",
      "Warning: Book missing language (https://www.goodreads.com/book/show/39280444-speak).\n"
     ]
    },
    {
     "name": "stderr",
     "output_type": "stream",
     "text": [
      "2020-05-09 20:17:42 [scrapy.core.engine] DEBUG: Crawled (200) <GET https://www.goodreads.com/book/show/32234.White_Oleander> (referer: https://www.goodreads.com/list/show/1.Best_Books_Ever?page=3)\n"
     ]
    },
    {
     "name": "stdout",
     "output_type": "stream",
     "text": [
      "Warning: Book missing series (https://www.goodreads.com/book/show/32234.White_Oleander).\n"
     ]
    },
    {
     "name": "stderr",
     "output_type": "stream",
     "text": [
      "2020-05-09 20:17:43 [scrapy.core.engine] DEBUG: Crawled (200) <GET https://www.goodreads.com/book/show/6892870-the-girl-who-kicked-the-hornet-s-nest> (referer: https://www.goodreads.com/list/show/1.Best_Books_Ever?page=3)\n",
      "2020-05-09 20:17:43 [scrapy.core.engine] DEBUG: Crawled (200) <GET https://www.goodreads.com/book/show/6294.Howl_s_Moving_Castle> (referer: https://www.goodreads.com/list/show/1.Best_Books_Ever?page=3)\n",
      "2020-05-09 20:17:43 [scrapy.core.engine] DEBUG: Crawled (200) <GET https://www.goodreads.com/book/show/10614.Misery> (referer: https://www.goodreads.com/list/show/1.Best_Books_Ever?page=3)\n"
     ]
    },
    {
     "name": "stdout",
     "output_type": "stream",
     "text": [
      "Warning: Book missing series (https://www.goodreads.com/book/show/10614.Misery).\n"
     ]
    },
    {
     "name": "stderr",
     "output_type": "stream",
     "text": [
      "2020-05-09 20:17:44 [scrapy.core.engine] DEBUG: Crawled (200) <GET https://www.goodreads.com/book/show/4502877-midnight-sun-partial-draft> (referer: https://www.goodreads.com/list/show/1.Best_Books_Ever?page=3)\n",
      "2020-05-09 20:17:44 [scrapy.core.engine] DEBUG: Crawled (200) <GET https://www.goodreads.com/book/show/350.Stranger_in_a_Strange_Land> (referer: https://www.goodreads.com/list/show/1.Best_Books_Ever?page=3)\n",
      "2020-05-09 20:17:44 [scrapy.core.engine] DEBUG: Crawled (200) <GET https://www.goodreads.com/book/show/6801755-flow-down-like-silver> (referer: https://www.goodreads.com/list/show/1.Best_Books_Ever?page=3)\n",
      "2020-05-09 20:17:44 [scrapy.core.engine] DEBUG: Crawled (200) <GET https://www.goodreads.com/book/show/41044096-island-of-the-blue-dolphins> (referer: https://www.goodreads.com/list/show/1.Best_Books_Ever?page=3)\n"
     ]
    },
    {
     "name": "stdout",
     "output_type": "stream",
     "text": [
      "Warning: Book missing series (https://www.goodreads.com/book/show/350.Stranger_in_a_Strange_Land).\n",
      "Warning: Missing book original title (https://www.goodreads.com/book/show/6801755-flow-down-like-silver).\n",
      "Warning: Book missing series (https://www.goodreads.com/book/show/6801755-flow-down-like-silver).\n"
     ]
    },
    {
     "name": "stderr",
     "output_type": "stream",
     "text": [
      "2020-05-09 20:17:45 [scrapy.core.engine] DEBUG: Crawled (200) <GET https://www.goodreads.com/book/show/9328.The_House_of_the_Spirits> (referer: https://www.goodreads.com/list/show/1.Best_Books_Ever?page=3)\n",
      "2020-05-09 20:17:45 [scrapy.core.engine] DEBUG: Crawled (200) <GET https://www.goodreads.com/book/show/546018.Roots> (referer: https://www.goodreads.com/list/show/1.Best_Books_Ever?page=3)\n"
     ]
    },
    {
     "name": "stdout",
     "output_type": "stream",
     "text": [
      "Warning: Book missing series (https://www.goodreads.com/book/show/9328.The_House_of_the_Spirits).\n"
     ]
    },
    {
     "name": "stderr",
     "output_type": "stream",
     "text": [
      "2020-05-09 20:17:45 [scrapy.core.engine] DEBUG: Crawled (200) <GET https://www.goodreads.com/book/show/36381037-cinder> (referer: https://www.goodreads.com/list/show/1.Best_Books_Ever?page=3)\n"
     ]
    },
    {
     "name": "stdout",
     "output_type": "stream",
     "text": [
      "Warning: Book missing series (https://www.goodreads.com/book/show/546018.Roots).\n"
     ]
    },
    {
     "name": "stderr",
     "output_type": "stream",
     "text": [
      "2020-05-09 20:17:46 [scrapy.core.engine] DEBUG: Crawled (200) <GET https://www.goodreads.com/book/show/24812.The_Complete_Calvin_and_Hobbes> (referer: https://www.goodreads.com/list/show/1.Best_Books_Ever?page=3)\n",
      "2020-05-09 20:17:46 [scrapy.core.engine] DEBUG: Crawled (200) <GET https://www.goodreads.com/book/show/39832183-the-guernsey-literary-and-potato-peel-pie-society> (referer: https://www.goodreads.com/list/show/1.Best_Books_Ever?page=3)\n",
      "2020-05-09 20:17:46 [scrapy.core.engine] DEBUG: Crawled (200) <GET https://www.goodreads.com/book/show/46170.For_Whom_the_Bell_Tolls> (referer: https://www.goodreads.com/list/show/1.Best_Books_Ever?page=3)\n"
     ]
    },
    {
     "name": "stdout",
     "output_type": "stream",
     "text": [
      "Warning: Book missing series (https://www.goodreads.com/book/show/39832183-the-guernsey-literary-and-potato-peel-pie-society).\n",
      "Warning: Book missing series (https://www.goodreads.com/book/show/46170.For_Whom_the_Bell_Tolls).\n"
     ]
    },
    {
     "name": "stderr",
     "output_type": "stream",
     "text": [
      "2020-05-09 20:17:47 [scrapy.core.engine] DEBUG: Crawled (200) <GET https://www.goodreads.com/book/show/11566.The_Green_Mile> (referer: https://www.goodreads.com/list/show/1.Best_Books_Ever?page=3)\n",
      "2020-05-09 20:17:47 [scrapy.core.engine] DEBUG: Crawled (200) <GET https://www.goodreads.com/book/show/7745.Fear_and_Loathing_in_Las_Vegas> (referer: https://www.goodreads.com/list/show/1.Best_Books_Ever?page=3)\n"
     ]
    },
    {
     "name": "stdout",
     "output_type": "stream",
     "text": [
      "Warning: Book missing series (https://www.goodreads.com/book/show/7745.Fear_and_Loathing_in_Las_Vegas).\n"
     ]
    },
    {
     "name": "stderr",
     "output_type": "stream",
     "text": [
      "2020-05-09 20:17:47 [scrapy.core.engine] DEBUG: Crawled (200) <GET https://www.goodreads.com/book/show/30183.Marked> (referer: https://www.goodreads.com/list/show/1.Best_Books_Ever?page=3)\n",
      "2020-05-09 20:17:48 [scrapy.core.engine] DEBUG: Crawled (200) <GET https://www.goodreads.com/book/show/40495148-blindness> (referer: https://www.goodreads.com/list/show/1.Best_Books_Ever?page=3)\n",
      "2020-05-09 20:17:48 [scrapy.core.engine] DEBUG: Crawled (200) <GET https://www.goodreads.com/book/show/40874325-the-shack> (referer: https://www.goodreads.com/list/show/1.Best_Books_Ever?page=3)\n"
     ]
    },
    {
     "name": "stdout",
     "output_type": "stream",
     "text": [
      "Warning: Book missing series (https://www.goodreads.com/book/show/40874325-the-shack).\n"
     ]
    },
    {
     "name": "stderr",
     "output_type": "stream",
     "text": [
      "2020-05-09 20:17:48 [scrapy.core.engine] DEBUG: Crawled (200) <GET https://www.goodreads.com/book/show/10572.A_Clash_of_Kings> (referer: https://www.goodreads.com/list/show/1.Best_Books_Ever?page=3)\n",
      "2020-05-09 20:17:49 [scrapy.core.engine] DEBUG: Crawled (200) <GET https://www.goodreads.com/book/show/10975.The_Sound_and_the_Fury> (referer: https://www.goodreads.com/list/show/1.Best_Books_Ever?page=3)\n"
     ]
    },
    {
     "name": "stdout",
     "output_type": "stream",
     "text": [
      "Warning: Book missing series (https://www.goodreads.com/book/show/10975.The_Sound_and_the_Fury).\n"
     ]
    },
    {
     "name": "stderr",
     "output_type": "stream",
     "text": [
      "2020-05-09 20:17:49 [scrapy.core.engine] DEBUG: Crawled (200) <GET https://www.goodreads.com/book/show/24337.Ella_Enchanted> (referer: https://www.goodreads.com/list/show/1.Best_Books_Ever?page=3)\n",
      "2020-05-09 20:17:49 [scrapy.core.engine] DEBUG: Crawled (200) <GET https://www.goodreads.com/book/show/12691.Marley_and_Me> (referer: https://www.goodreads.com/list/show/1.Best_Books_Ever?page=3)\n",
      "2020-05-09 20:17:49 [scrapy.core.engine] DEBUG: Crawled (200) <GET https://www.goodreads.com/book/show/480204.The_Phantom_of_the_Opera> (referer: https://www.goodreads.com/list/show/1.Best_Books_Ever?page=3)\n",
      "2020-05-09 20:17:49 [scrapy.core.engine] DEBUG: Crawled (200) <GET https://www.goodreads.com/book/show/11275.The_Wind_Up_Bird_Chronicle> (referer: https://www.goodreads.com/list/show/1.Best_Books_Ever?page=3)\n",
      "2020-05-09 20:17:50 [scrapy.core.engine] DEBUG: Crawled (200) <GET https://www.goodreads.com/book/show/4069.Man_s_Search_for_Meaning> (referer: https://www.goodreads.com/list/show/1.Best_Books_Ever?page=3)\n"
     ]
    },
    {
     "name": "stdout",
     "output_type": "stream",
     "text": [
      "Warning: Book missing series (https://www.goodreads.com/book/show/12691.Marley_and_Me).\n",
      "Warning: Book missing series (https://www.goodreads.com/book/show/480204.The_Phantom_of_the_Opera).\n",
      "Warning: Book missing series (https://www.goodreads.com/book/show/4069.Man_s_Search_for_Meaning).\n"
     ]
    },
    {
     "name": "stderr",
     "output_type": "stream",
     "text": [
      "2020-05-09 20:17:50 [scrapy.core.engine] DEBUG: Crawled (200) <GET https://www.goodreads.com/book/show/6752378-city-of-fallen-angels> (referer: https://www.goodreads.com/list/show/1.Best_Books_Ever?page=3)\n",
      "2020-05-09 20:17:50 [scrapy.core.engine] DEBUG: Crawled (200) <GET https://www.goodreads.com/book/show/24770.Uglies> (referer: https://www.goodreads.com/list/show/1.Best_Books_Ever?page=3)\n",
      "2020-05-09 20:17:51 [scrapy.core.engine] DEBUG: Crawled (200) <GET https://www.goodreads.com/book/show/5203.She_s_Come_Undone> (referer: https://www.goodreads.com/list/show/1.Best_Books_Ever?page=3)\n"
     ]
    },
    {
     "name": "stdout",
     "output_type": "stream",
     "text": [
      "Warning: Book missing series (https://www.goodreads.com/book/show/5203.She_s_Come_Undone).\n"
     ]
    },
    {
     "name": "stderr",
     "output_type": "stream",
     "text": [
      "2020-05-09 20:17:51 [scrapy.core.engine] DEBUG: Crawled (200) <GET https://www.goodreads.com/book/show/23807.The_Silence_of_the_Lambs> (referer: https://www.goodreads.com/list/show/1.Best_Books_Ever?page=3)\n",
      "2020-05-09 20:17:52 [scrapy.core.engine] DEBUG: Crawled (200) <GET https://www.goodreads.com/book/show/30118.A_Light_in_the_Attic> (referer: https://www.goodreads.com/list/show/1.Best_Books_Ever?page=3)\n",
      "2020-05-09 20:17:52 [scrapy.core.engine] DEBUG: Crawled (200) <GET https://www.goodreads.com/book/show/6068551-shiver> (referer: https://www.goodreads.com/list/show/1.Best_Books_Ever?page=3)\n",
      "2020-05-09 20:17:52 [scrapy.core.engine] DEBUG: Crawled (200) <GET https://www.goodreads.com/book/show/561909.The_Hiding_Place> (referer: https://www.goodreads.com/list/show/1.Best_Books_Ever?page=3)\n"
     ]
    },
    {
     "name": "stdout",
     "output_type": "stream",
     "text": [
      "Warning: Book missing series (https://www.goodreads.com/book/show/30118.A_Light_in_the_Attic).\n",
      "Warning: Book missing series (https://www.goodreads.com/book/show/561909.The_Hiding_Place).\n"
     ]
    },
    {
     "name": "stderr",
     "output_type": "stream",
     "text": [
      "2020-05-09 20:17:53 [scrapy.core.engine] DEBUG: Crawled (200) <GET https://www.goodreads.com/book/show/5659.The_Wind_in_the_Willows> (referer: https://www.goodreads.com/list/show/1.Best_Books_Ever?page=3)\n",
      "2020-05-09 20:17:53 [scrapy.core.engine] DEBUG: Crawled (200) <GET https://www.goodreads.com/book/show/9777.The_God_of_Small_Things> (referer: https://www.goodreads.com/list/show/1.Best_Books_Ever?page=3)\n",
      "2020-05-09 20:17:53 [scrapy.core.engine] DEBUG: Crawled (200) <GET https://www.goodreads.com/book/show/6148028-catching-fire> (referer: https://www.goodreads.com/list/show/1.Best_Books_Ever?page=3)\n"
     ]
    },
    {
     "name": "stdout",
     "output_type": "stream",
     "text": [
      "Warning: Book missing series (https://www.goodreads.com/book/show/5659.The_Wind_in_the_Willows).\n",
      "Warning: Book missing series (https://www.goodreads.com/book/show/9777.The_God_of_Small_Things).\n"
     ]
    },
    {
     "name": "stderr",
     "output_type": "stream",
     "text": [
      "2020-05-09 20:17:54 [scrapy.core.engine] DEBUG: Crawled (200) <GET https://www.goodreads.com/book/show/2865.Girl_with_a_Pearl_Earring> (referer: https://www.goodreads.com/list/show/1.Best_Books_Ever?page=3)\n",
      "2020-05-09 20:17:54 [scrapy.core.engine] DEBUG: Crawled (200) <GET https://www.goodreads.com/book/show/8130077-the-screwtape-letters> (referer: https://www.goodreads.com/list/show/1.Best_Books_Ever?page=3)\n"
     ]
    },
    {
     "name": "stdout",
     "output_type": "stream",
     "text": [
      "Warning: Book missing series (https://www.goodreads.com/book/show/2865.Girl_with_a_Pearl_Earring).\n"
     ]
    },
    {
     "name": "stderr",
     "output_type": "stream",
     "text": [
      "2020-05-09 20:17:54 [scrapy.core.engine] DEBUG: Crawled (200) <GET https://www.goodreads.com/book/show/7896527-throne-of-glass> (referer: https://www.goodreads.com/list/show/1.Best_Books_Ever?page=3)\n"
     ]
    },
    {
     "name": "stdout",
     "output_type": "stream",
     "text": [
      "Warning: Book missing series (https://www.goodreads.com/book/show/8130077-the-screwtape-letters).\n"
     ]
    },
    {
     "name": "stderr",
     "output_type": "stream",
     "text": [
      "2020-05-09 20:17:54 [scrapy.core.engine] DEBUG: Crawled (200) <GET https://www.goodreads.com/book/show/1375.The_Iliad_The_Odyssey> (referer: https://www.goodreads.com/list/show/1.Best_Books_Ever?page=3)\n",
      "2020-05-09 20:17:54 [scrapy.core.engine] DEBUG: Crawled (200) <GET https://www.goodreads.com/book/show/10025305-clockwork-prince> (referer: https://www.goodreads.com/list/show/1.Best_Books_Ever?page=3)\n"
     ]
    },
    {
     "name": "stdout",
     "output_type": "stream",
     "text": [
      "Warning: Book missing series (https://www.goodreads.com/book/show/1375.The_Iliad_The_Odyssey).\n"
     ]
    },
    {
     "name": "stderr",
     "output_type": "stream",
     "text": [
      "2020-05-09 20:17:55 [scrapy.core.engine] DEBUG: Crawled (200) <GET https://www.goodreads.com/book/show/135479.Cat_s_Cradle> (referer: https://www.goodreads.com/list/show/1.Best_Books_Ever?page=3)\n",
      "2020-05-09 20:17:55 [scrapy.core.engine] DEBUG: Crawled (200) <GET https://www.goodreads.com/book/show/7736182-the-lost-hero> (referer: https://www.goodreads.com/list/show/1.Best_Books_Ever?page=3)\n"
     ]
    },
    {
     "name": "stdout",
     "output_type": "stream",
     "text": [
      "Warning: Book missing series (https://www.goodreads.com/book/show/135479.Cat_s_Cradle).\n"
     ]
    },
    {
     "name": "stderr",
     "output_type": "stream",
     "text": [
      "2020-05-09 20:17:56 [scrapy.core.engine] DEBUG: Crawled (200) <GET https://www.goodreads.com/book/show/10507293-the-selection> (referer: https://www.goodreads.com/list/show/1.Best_Books_Ever?page=3)\n",
      "2020-05-09 20:17:56 [scrapy.core.engine] DEBUG: Crawled (200) <GET https://www.goodreads.com/book/show/6479259-spirit-bound> (referer: https://www.goodreads.com/list/show/1.Best_Books_Ever?page=3)\n",
      "2020-05-09 20:17:57 [scrapy.core.engine] DEBUG: Crawled (200) <GET https://www.goodreads.com/book/show/3876.The_Sun_Also_Rises> (referer: https://www.goodreads.com/list/show/1.Best_Books_Ever?page=3)\n",
      "2020-05-09 20:17:57 [scrapy.core.engine] DEBUG: Crawled (200) <GET https://www.goodreads.com/book/show/17250.The_Crucible> (referer: https://www.goodreads.com/list/show/1.Best_Books_Ever?page=3)\n"
     ]
    },
    {
     "name": "stdout",
     "output_type": "stream",
     "text": [
      "Warning: Book missing series (https://www.goodreads.com/book/show/3876.The_Sun_Also_Rises).\n",
      "Warning: Book missing series (https://www.goodreads.com/book/show/17250.The_Crucible).\n"
     ]
    },
    {
     "name": "stderr",
     "output_type": "stream",
     "text": [
      "2020-05-09 20:17:57 [scrapy.core.engine] DEBUG: Crawled (200) <GET https://www.goodreads.com/book/show/6149.Beloved> (referer: https://www.goodreads.com/list/show/1.Best_Books_Ever?page=3)\n"
     ]
    },
    {
     "name": "stdout",
     "output_type": "stream",
     "text": [
      "Warning: Book missing series (https://www.goodreads.com/book/show/6149.Beloved).\n"
     ]
    },
    {
     "name": "stderr",
     "output_type": "stream",
     "text": [
      "2020-05-09 20:17:58 [scrapy.core.engine] DEBUG: Crawled (200) <GET https://www.goodreads.com/book/show/144974.The_Velveteen_Rabbit> (referer: https://www.goodreads.com/list/show/1.Best_Books_Ever?page=3)\n"
     ]
    },
    {
     "name": "stdout",
     "output_type": "stream",
     "text": [
      "Warning: Book missing series (https://www.goodreads.com/book/show/144974.The_Velveteen_Rabbit).\n"
     ]
    },
    {
     "name": "stderr",
     "output_type": "stream",
     "text": [
      "2020-05-09 20:17:59 [scrapy.core.engine] DEBUG: Crawled (200) <GET https://www.goodreads.com/book/show/17690.The_Trial> (referer: https://www.goodreads.com/list/show/1.Best_Books_Ever?page=3)\n",
      "2020-05-09 20:17:59 [scrapy.core.engine] DEBUG: Crawled (200) <GET https://www.goodreads.com/book/show/310612.A_Confederacy_of_Dunces> (referer: https://www.goodreads.com/list/show/1.Best_Books_Ever?page=3)\n"
     ]
    },
    {
     "name": "stdout",
     "output_type": "stream",
     "text": [
      "Warning: Book missing series (https://www.goodreads.com/book/show/17690.The_Trial).\n",
      "Warning: Book missing series (https://www.goodreads.com/book/show/310612.A_Confederacy_of_Dunces).\n"
     ]
    },
    {
     "name": "stderr",
     "output_type": "stream",
     "text": [
      "2020-05-09 20:17:59 [scrapy.extensions.logstats] INFO: Crawled 1504 pages (at 187 pages/min), scraped 0 items (at 0 items/min)\n",
      "2020-05-09 20:18:00 [scrapy.core.engine] DEBUG: Crawled (200) <GET https://www.goodreads.com/book/show/9361589-the-night-circus> (referer: https://www.goodreads.com/list/show/1.Best_Books_Ever?page=3)\n",
      "2020-05-09 20:18:00 [scrapy.core.engine] DEBUG: Crawled (200) <GET https://www.goodreads.com/book/show/514811.The_Secret_Magdalene> (referer: https://www.goodreads.com/list/show/1.Best_Books_Ever?page=3)\n",
      "2020-05-09 20:18:00 [scrapy.core.engine] DEBUG: Crawled (200) <GET https://www.goodreads.com/book/show/39999.The_Boy_in_the_Striped_Pajamas> (referer: https://www.goodreads.com/list/show/1.Best_Books_Ever?page=3)\n",
      "2020-05-09 20:18:00 [scrapy.core.engine] DEBUG: Crawled (200) <GET https://www.goodreads.com/book/show/40604658-jurassic-park> (referer: https://www.goodreads.com/list/show/1.Best_Books_Ever?page=3)\n"
     ]
    },
    {
     "name": "stdout",
     "output_type": "stream",
     "text": [
      "Warning: Book missing series (https://www.goodreads.com/book/show/9361589-the-night-circus).\n",
      "Warning: Book missing series (https://www.goodreads.com/book/show/514811.The_Secret_Magdalene).\n",
      "Warning: Book missing series (https://www.goodreads.com/book/show/39999.The_Boy_in_the_Striped_Pajamas).\n"
     ]
    },
    {
     "name": "stderr",
     "output_type": "stream",
     "text": [
      "2020-05-09 20:18:01 [scrapy.core.engine] DEBUG: Crawled (200) <GET https://www.goodreads.com/book/show/7332.The_Silmarillion> (referer: https://www.goodreads.com/list/show/1.Best_Books_Ever?page=3)\n",
      "2020-05-09 20:18:01 [scrapy.core.engine] DEBUG: Crawled (200) <GET https://www.goodreads.com/book/show/853510.Murder_on_the_Orient_Express> (referer: https://www.goodreads.com/list/show/1.Best_Books_Ever?page=3)\n",
      "2020-05-09 20:18:01 [scrapy.core.engine] DEBUG: Crawled (200) <GET https://www.goodreads.com/book/show/6487308-fallen> (referer: https://www.goodreads.com/list/show/1.Best_Books_Ever?page=3)\n",
      "2020-05-09 20:18:01 [scrapy.core.engine] DEBUG: Crawled (200) <GET https://www.goodreads.com/book/show/18116.His_Dark_Materials> (referer: https://www.goodreads.com/list/show/1.Best_Books_Ever?page=3)\n",
      "2020-05-09 20:18:02 [scrapy.core.engine] DEBUG: Crawled (200) <GET https://www.goodreads.com/book/show/6527740-last-sacrifice> (referer: https://www.goodreads.com/list/show/1.Best_Books_Ever?page=3)\n",
      "2020-05-09 20:18:02 [scrapy.core.engine] DEBUG: Crawled (200) <GET https://www.goodreads.com/book/show/37470.The_Other_Boleyn_Girl> (referer: https://www.goodreads.com/list/show/1.Best_Books_Ever?page=3)\n",
      "2020-05-09 20:18:02 [scrapy.core.engine] DEBUG: Crawled (200) <GET https://www.goodreads.com/book/show/3008.A_Little_Princess> (referer: https://www.goodreads.com/list/show/1.Best_Books_Ever?page=3)\n",
      "2020-05-09 20:18:02 [scrapy.core.engine] DEBUG: Crawled (200) <GET https://www.goodreads.com/book/show/375013.Schindler_s_List> (referer: https://www.goodreads.com/list/show/1.Best_Books_Ever?page=3)\n"
     ]
    },
    {
     "name": "stdout",
     "output_type": "stream",
     "text": [
      "Warning: Book missing series (https://www.goodreads.com/book/show/3008.A_Little_Princess).\n",
      "Warning: Book missing series (https://www.goodreads.com/book/show/375013.Schindler_s_List).\n"
     ]
    },
    {
     "name": "stderr",
     "output_type": "stream",
     "text": [
      "2020-05-09 20:18:03 [scrapy.core.engine] DEBUG: Crawled (200) <GET https://www.goodreads.com/book/show/402093.Sh_gun> (referer: https://www.goodreads.com/list/show/1.Best_Books_Ever?page=3)\n",
      "2020-05-09 20:18:03 [scrapy.core.engine] DEBUG: Crawled (200) <GET https://www.goodreads.com/book/show/4588.Extremely_Loud_Incredibly_Close> (referer: https://www.goodreads.com/list/show/1.Best_Books_Ever?page=3)\n",
      "2020-05-09 20:18:03 [scrapy.core.engine] DEBUG: Crawled (200) <GET https://www.goodreads.com/book/show/37442.Wicked> (referer: https://www.goodreads.com/list/show/1.Best_Books_Ever?page=3)\n"
     ]
    },
    {
     "name": "stdout",
     "output_type": "stream",
     "text": [
      "Warning: Book missing series (https://www.goodreads.com/book/show/4588.Extremely_Loud_Incredibly_Close).\n"
     ]
    },
    {
     "name": "stderr",
     "output_type": "stream",
     "text": [
      "2020-05-09 20:18:04 [scrapy.core.engine] DEBUG: Crawled (200) <GET https://www.goodreads.com/book/show/58696.David_Copperfield> (referer: https://www.goodreads.com/list/show/1.Best_Books_Ever?page=2)\n",
      "2020-05-09 20:18:04 [scrapy.core.engine] DEBUG: Crawled (200) <GET https://www.goodreads.com/book/show/62291.A_Storm_of_Swords> (referer: https://www.goodreads.com/list/show/1.Best_Books_Ever?page=2)\n"
     ]
    },
    {
     "name": "stdout",
     "output_type": "stream",
     "text": [
      "Warning: Book missing series (https://www.goodreads.com/book/show/58696.David_Copperfield).\n"
     ]
    },
    {
     "name": "stderr",
     "output_type": "stream",
     "text": [
      "2020-05-09 20:18:04 [scrapy.core.engine] DEBUG: Crawled (200) <GET https://www.goodreads.com/book/show/10799.A_Farewell_to_Arms> (referer: https://www.goodreads.com/list/show/1.Best_Books_Ever?page=2)\n",
      "2020-05-09 20:18:04 [scrapy.core.engine] DEBUG: Crawled (200) <GET https://www.goodreads.com/book/show/7069.The_World_According_to_Garp> (referer: https://www.goodreads.com/list/show/1.Best_Books_Ever?page=2)\n"
     ]
    },
    {
     "name": "stdout",
     "output_type": "stream",
     "text": [
      "Warning: Book missing series (https://www.goodreads.com/book/show/10799.A_Farewell_to_Arms).\n",
      "Warning: Book missing series (https://www.goodreads.com/book/show/7069.The_World_According_to_Garp).\n"
     ]
    },
    {
     "name": "stderr",
     "output_type": "stream",
     "text": [
      "2020-05-09 20:18:05 [scrapy.core.engine] DEBUG: Crawled (200) <GET https://www.goodreads.com/book/show/2696.The_Canterbury_Tales> (referer: https://www.goodreads.com/list/show/1.Best_Books_Ever?page=2)\n",
      "2020-05-09 20:18:05 [scrapy.core.engine] DEBUG: Crawled (200) <GET https://www.goodreads.com/book/show/40611463-the-clan-of-the-cave-bear> (referer: https://www.goodreads.com/list/show/1.Best_Books_Ever?page=2)\n"
     ]
    },
    {
     "name": "stdout",
     "output_type": "stream",
     "text": [
      "Warning: Book missing series (https://www.goodreads.com/book/show/2696.The_Canterbury_Tales).\n"
     ]
    },
    {
     "name": "stderr",
     "output_type": "stream",
     "text": [
      "2020-05-09 20:18:05 [scrapy.core.engine] DEBUG: Crawled (200) <GET https://www.goodreads.com/book/show/10818853-fifty-shades-of-grey> (referer: https://www.goodreads.com/list/show/1.Best_Books_Ever?page=2)\n",
      "2020-05-09 20:18:06 [scrapy.core.engine] DEBUG: Crawled (200) <GET https://www.goodreads.com/book/show/295.Treasure_Island> (referer: https://www.goodreads.com/list/show/1.Best_Books_Ever?page=2)\n",
      "2020-05-09 20:18:06 [scrapy.core.engine] DEBUG: Crawled (200) <GET https://www.goodreads.com/book/show/27712.The_Neverending_Story> (referer: https://www.goodreads.com/list/show/1.Best_Books_Ever?page=2)\n",
      "2020-05-09 20:18:06 [scrapy.core.engine] DEBUG: Crawled (200) <GET https://www.goodreads.com/book/show/338798.Ulysses> (referer: https://www.goodreads.com/list/show/1.Best_Books_Ever?page=2)\n"
     ]
    },
    {
     "name": "stdout",
     "output_type": "stream",
     "text": [
      "Warning: Book missing series (https://www.goodreads.com/book/show/295.Treasure_Island).\n",
      "Warning: Book missing series (https://www.goodreads.com/book/show/27712.The_Neverending_Story).\n",
      "Warning: Book missing series (https://www.goodreads.com/book/show/338798.Ulysses).\n"
     ]
    },
    {
     "name": "stderr",
     "output_type": "stream",
     "text": [
      "2020-05-09 20:18:06 [scrapy.core.engine] DEBUG: Crawled (200) <GET https://www.goodreads.com/book/show/6186357-the-maze-runner> (referer: https://www.goodreads.com/list/show/1.Best_Books_Ever?page=2)\n",
      "2020-05-09 20:18:07 [scrapy.core.engine] DEBUG: Crawled (200) <GET https://www.goodreads.com/book/show/18254.Oliver_Twist> (referer: https://www.goodreads.com/list/show/1.Best_Books_Ever?page=2)\n",
      "2020-05-09 20:18:07 [scrapy.core.engine] DEBUG: Crawled (200) <GET https://www.goodreads.com/book/show/7938275-the-hunger-games-trilogy-boxset> (referer: https://www.goodreads.com/list/show/1.Best_Books_Ever?page=2)\n"
     ]
    },
    {
     "name": "stdout",
     "output_type": "stream",
     "text": [
      "Warning: Book missing series (https://www.goodreads.com/book/show/18254.Oliver_Twist).\n"
     ]
    },
    {
     "name": "stderr",
     "output_type": "stream",
     "text": [
      "2020-05-09 20:18:07 [scrapy.core.engine] DEBUG: Crawled (200) <GET https://www.goodreads.com/book/show/5060378-the-girl-who-played-with-fire> (referer: https://www.goodreads.com/list/show/1.Best_Books_Ever?page=2)\n",
      "2020-05-09 20:18:07 [scrapy.core.engine] DEBUG: Crawled (200) <GET https://www.goodreads.com/book/show/191139.Oh_the_Places_You_ll_Go_> (referer: https://www.goodreads.com/list/show/1.Best_Books_Ever?page=2)\n"
     ]
    },
    {
     "name": "stdout",
     "output_type": "stream",
     "text": [
      "Warning: Book missing series (https://www.goodreads.com/book/show/191139.Oh_the_Places_You_ll_Go_).\n"
     ]
    },
    {
     "name": "stderr",
     "output_type": "stream",
     "text": [
      "2020-05-09 20:18:08 [scrapy.core.engine] DEBUG: Crawled (200) <GET https://www.goodreads.com/book/show/40940121-bridge-to-terabithia> (referer: https://www.goodreads.com/list/show/1.Best_Books_Ever?page=2)\n",
      "2020-05-09 20:18:08 [scrapy.core.engine] DEBUG: Crawled (200) <GET https://www.goodreads.com/book/show/378.The_Phantom_Tollbooth> (referer: https://www.goodreads.com/list/show/1.Best_Books_Ever?page=2)\n"
     ]
    },
    {
     "name": "stdout",
     "output_type": "stream",
     "text": [
      "Warning: Book missing series (https://www.goodreads.com/book/show/40940121-bridge-to-terabithia).\n"
     ]
    },
    {
     "name": "stderr",
     "output_type": "stream",
     "text": [
      "2020-05-09 20:18:09 [scrapy.core.engine] DEBUG: Crawled (200) <GET https://www.goodreads.com/book/show/2175.Madame_Bovary> (referer: https://www.goodreads.com/list/show/1.Best_Books_Ever?page=2)\n"
     ]
    },
    {
     "name": "stdout",
     "output_type": "stream",
     "text": [
      "Warning: Book missing series (https://www.goodreads.com/book/show/378.The_Phantom_Tollbooth).\n"
     ]
    },
    {
     "name": "stderr",
     "output_type": "stream",
     "text": [
      "2020-05-09 20:18:09 [scrapy.core.engine] DEBUG: Crawled (200) <GET https://www.goodreads.com/book/show/1852.The_Call_of_the_Wild> (referer: https://www.goodreads.com/list/show/1.Best_Books_Ever?page=2)\n"
     ]
    },
    {
     "name": "stdout",
     "output_type": "stream",
     "text": [
      "Warning: Book missing series (https://www.goodreads.com/book/show/2175.Madame_Bovary).\n",
      "Warning: Book missing series (https://www.goodreads.com/book/show/1852.The_Call_of_the_Wild).\n"
     ]
    },
    {
     "name": "stderr",
     "output_type": "stream",
     "text": [
      "2020-05-09 20:18:09 [scrapy.core.engine] DEBUG: Crawled (200) <GET https://www.goodreads.com/book/show/561456.The_Titan_s_Curse> (referer: https://www.goodreads.com/list/show/1.Best_Books_Ever?page=2)\n",
      "2020-05-09 20:18:09 [scrapy.core.engine] DEBUG: Crawled (200) <GET https://www.goodreads.com/book/show/71728.Jonathan_Livingston_Seagull> (referer: https://www.goodreads.com/list/show/1.Best_Books_Ever?page=2)\n",
      "2020-05-09 20:18:10 [scrapy.core.engine] DEBUG: Crawled (200) <GET https://www.goodreads.com/book/show/28186.The_Sea_of_Monsters> (referer: https://www.goodreads.com/list/show/1.Best_Books_Ever?page=2)\n"
     ]
    },
    {
     "name": "stdout",
     "output_type": "stream",
     "text": [
      "Warning: Book missing series (https://www.goodreads.com/book/show/71728.Jonathan_Livingston_Seagull).\n"
     ]
    },
    {
     "name": "stderr",
     "output_type": "stream",
     "text": [
      "2020-05-09 20:18:10 [scrapy.core.engine] DEBUG: Crawled (200) <GET https://www.goodreads.com/book/show/13023.Alice_in_Wonderland> (referer: https://www.goodreads.com/list/show/1.Best_Books_Ever?page=2)\n"
     ]
    },
    {
     "name": "stdout",
     "output_type": "stream",
     "text": [
      "Warning: Missing book original title (https://www.goodreads.com/book/show/13023.Alice_in_Wonderland).\n",
      "Warning: Book missing series (https://www.goodreads.com/book/show/13023.Alice_in_Wonderland).\n"
     ]
    },
    {
     "name": "stderr",
     "output_type": "stream",
     "text": [
      "2020-05-09 20:18:10 [scrapy.core.engine] DEBUG: Crawled (200) <GET https://www.goodreads.com/book/show/7763.The_Joy_Luck_Club> (referer: https://www.goodreads.com/list/show/1.Best_Books_Ever?page=2)\n"
     ]
    },
    {
     "name": "stdout",
     "output_type": "stream",
     "text": [
      "Warning: Book missing series (https://www.goodreads.com/book/show/7763.The_Joy_Luck_Club).\n"
     ]
    },
    {
     "name": "stderr",
     "output_type": "stream",
     "text": [
      "2020-05-09 20:18:11 [scrapy.core.engine] DEBUG: Crawled (200) <GET https://www.goodreads.com/book/show/18335634-clockwork-princess> (referer: https://www.goodreads.com/list/show/1.Best_Books_Ever?page=2)\n",
      "2020-05-09 20:18:11 [scrapy.core.engine] DEBUG: Crawled (200) <GET https://www.goodreads.com/book/show/2120932.The_Battle_of_the_Labyrinth> (referer: https://www.goodreads.com/list/show/1.Best_Books_Ever?page=2)\n",
      "2020-05-09 20:18:12 [scrapy.core.engine] DEBUG: Crawled (200) <GET https://www.goodreads.com/book/show/40605251-the-mists-of-avalon> (referer: https://www.goodreads.com/list/show/1.Best_Books_Ever?page=2)\n",
      "2020-05-09 20:18:12 [scrapy.core.engine] DEBUG: Crawled (200) <GET https://www.goodreads.com/book/show/1622.A_Midsummer_Night_s_Dream> (referer: https://www.goodreads.com/list/show/1.Best_Books_Ever?page=2)\n",
      "2020-05-09 20:18:12 [scrapy.core.engine] DEBUG: Crawled (200) <GET https://www.goodreads.com/book/show/2547.The_Prophet> (referer: https://www.goodreads.com/list/show/1.Best_Books_Ever?page=2)\n"
     ]
    },
    {
     "name": "stdout",
     "output_type": "stream",
     "text": [
      "Warning: Book missing series (https://www.goodreads.com/book/show/1622.A_Midsummer_Night_s_Dream).\n"
     ]
    },
    {
     "name": "stderr",
     "output_type": "stream",
     "text": [
      "2020-05-09 20:18:13 [scrapy.core.engine] DEBUG: Crawled (200) <GET https://www.goodreads.com/book/show/4900.Heart_of_Darkness> (referer: https://www.goodreads.com/list/show/1.Best_Books_Ever?page=2)\n"
     ]
    },
    {
     "name": "stdout",
     "output_type": "stream",
     "text": [
      "Warning: Book missing series (https://www.goodreads.com/book/show/2547.The_Prophet).\n"
     ]
    },
    {
     "name": "stderr",
     "output_type": "stream",
     "text": [
      "2020-05-09 20:18:13 [scrapy.core.engine] DEBUG: Crawled (200) <GET https://www.goodreads.com/book/show/32261.Tess_of_the_D_Urbervilles> (referer: https://www.goodreads.com/list/show/1.Best_Books_Ever?page=2)\n"
     ]
    },
    {
     "name": "stdout",
     "output_type": "stream",
     "text": [
      "Warning: Book missing series (https://www.goodreads.com/book/show/4900.Heart_of_Darkness).\n",
      "Warning: Book missing series (https://www.goodreads.com/book/show/32261.Tess_of_the_D_Urbervilles).\n"
     ]
    },
    {
     "name": "stderr",
     "output_type": "stream",
     "text": [
      "2020-05-09 20:18:13 [scrapy.core.engine] DEBUG: Crawled (200) <GET https://www.goodreads.com/book/show/1078.The_Good_Earth> (referer: https://www.goodreads.com/list/show/1.Best_Books_Ever?page=2)\n",
      "2020-05-09 20:18:13 [scrapy.core.engine] DEBUG: Crawled (200) <GET https://www.goodreads.com/book/show/12067.Good_Omens> (referer: https://www.goodreads.com/list/show/1.Best_Books_Ever?page=2)\n",
      "2020-05-09 20:18:14 [scrapy.core.engine] DEBUG: Crawled (200) <GET https://www.goodreads.com/book/show/5996153-blood-promise> (referer: https://www.goodreads.com/list/show/1.Best_Books_Ever?page=2)\n"
     ]
    },
    {
     "name": "stdout",
     "output_type": "stream",
     "text": [
      "Warning: Book missing series (https://www.goodreads.com/book/show/12067.Good_Omens).\n"
     ]
    },
    {
     "name": "stderr",
     "output_type": "stream",
     "text": [
      "2020-05-09 20:18:14 [scrapy.core.engine] DEBUG: Crawled (200) <GET https://www.goodreads.com/book/show/7784.The_Lorax> (referer: https://www.goodreads.com/list/show/1.Best_Books_Ever?page=2)\n",
      "2020-05-09 20:18:14 [scrapy.core.engine] DEBUG: Crawled (200) <GET https://www.goodreads.com/book/show/32929.Goodnight_Moon> (referer: https://www.goodreads.com/list/show/1.Best_Books_Ever?page=2)\n"
     ]
    },
    {
     "name": "stdout",
     "output_type": "stream",
     "text": [
      "Warning: Book missing series (https://www.goodreads.com/book/show/7784.The_Lorax).\n"
     ]
    },
    {
     "name": "stderr",
     "output_type": "stream",
     "text": [
      "2020-05-09 20:18:14 [scrapy.core.engine] DEBUG: Crawled (200) <GET https://www.goodreads.com/book/show/236093.The_Wonderful_Wizard_of_Oz> (referer: https://www.goodreads.com/list/show/1.Best_Books_Ever?page=2)\n",
      "2020-05-09 20:18:14 [scrapy.core.engine] DEBUG: Crawled (200) <GET https://www.goodreads.com/book/show/7190.The_Three_Musketeers> (referer: https://www.goodreads.com/list/show/1.Best_Books_Ever?page=2)\n",
      "2020-05-09 20:18:15 [scrapy.core.engine] DEBUG: Crawled (200) <GET https://www.goodreads.com/book/show/2282133.Frostbite> (referer: https://www.goodreads.com/list/show/1.Best_Books_Ever?page=2)\n",
      "2020-05-09 20:18:15 [scrapy.core.engine] DEBUG: Crawled (200) <GET https://www.goodreads.com/book/show/37415.Their_Eyes_Were_Watching_God> (referer: https://www.goodreads.com/list/show/1.Best_Books_Ever?page=2)\n"
     ]
    },
    {
     "name": "stdout",
     "output_type": "stream",
     "text": [
      "Warning: Book missing series (https://www.goodreads.com/book/show/37415.Their_Eyes_Were_Watching_God).\n"
     ]
    },
    {
     "name": "stderr",
     "output_type": "stream",
     "text": [
      "2020-05-09 20:18:15 [scrapy.core.engine] DEBUG: Crawled (200) <GET https://www.goodreads.com/book/show/92303.The_Importance_of_Being_Earnest> (referer: https://www.goodreads.com/list/show/1.Best_Books_Ever?page=2)\n",
      "2020-05-09 20:18:16 [scrapy.core.engine] DEBUG: Crawled (200) <GET https://www.goodreads.com/book/show/6867.Atonement> (referer: https://www.goodreads.com/list/show/1.Best_Books_Ever?page=2)\n"
     ]
    },
    {
     "name": "stdout",
     "output_type": "stream",
     "text": [
      "Warning: Book missing series (https://www.goodreads.com/book/show/92303.The_Importance_of_Being_Earnest).\n",
      "Warning: Book missing series (https://www.goodreads.com/book/show/6867.Atonement).\n"
     ]
    },
    {
     "name": "stderr",
     "output_type": "stream",
     "text": [
      "2020-05-09 20:18:16 [scrapy.core.engine] DEBUG: Crawled (200) <GET https://www.goodreads.com/book/show/19501.Eat_Pray_Love> (referer: https://www.goodreads.com/list/show/1.Best_Books_Ever?page=2)\n",
      "2020-05-09 20:18:17 [scrapy.core.engine] DEBUG: Crawled (200) <GET https://www.goodreads.com/book/show/13.The_Ultimate_Hitchhiker_s_Guide_to_the_Galaxy> (referer: https://www.goodreads.com/list/show/1.Best_Books_Ever?page=2)\n",
      "2020-05-09 20:18:17 [scrapy.core.engine] DEBUG: Crawled (200) <GET https://www.goodreads.com/book/show/113946.How_the_Grinch_Stole_Christmas_> (referer: https://www.goodreads.com/list/show/1.Best_Books_Ever?page=2)\n"
     ]
    },
    {
     "name": "stdout",
     "output_type": "stream",
     "text": [
      "Warning: Book missing series (https://www.goodreads.com/book/show/19501.Eat_Pray_Love).\n",
      "Warning: Book missing series (https://www.goodreads.com/book/show/113946.How_the_Grinch_Stole_Christmas_).\n"
     ]
    },
    {
     "name": "stderr",
     "output_type": "stream",
     "text": [
      "2020-05-09 20:18:17 [scrapy.core.engine] DEBUG: Crawled (200) <GET https://www.goodreads.com/book/show/5907.The_Hobbit_or_There_and_Back_Again> (referer: https://www.goodreads.com/list/show/1.Best_Books_Ever?page=2)\n",
      "2020-05-09 20:18:17 [scrapy.core.engine] DEBUG: Crawled (200) <GET https://www.goodreads.com/book/show/11735983-insurgent> (referer: https://www.goodreads.com/list/show/1.Best_Books_Ever?page=2)\n",
      "2020-05-09 20:18:18 [scrapy.core.engine] DEBUG: Crawled (200) <GET https://www.goodreads.com/book/show/3412.The_Thorn_Birds> (referer: https://www.goodreads.com/list/show/1.Best_Books_Ever?page=2)\n",
      "2020-05-09 20:18:18 [scrapy.core.engine] DEBUG: Crawled (200) <GET https://www.goodreads.com/book/show/35545737-a-walk-to-remember> (referer: https://www.goodreads.com/list/show/1.Best_Books_Ever?page=2)\n"
     ]
    },
    {
     "name": "stdout",
     "output_type": "stream",
     "text": [
      "Warning: Book missing series (https://www.goodreads.com/book/show/3412.The_Thorn_Birds).\n",
      "Warning: Book missing series (https://www.goodreads.com/book/show/35545737-a-walk-to-remember).\n"
     ]
    },
    {
     "name": "stderr",
     "output_type": "stream",
     "text": [
      "2020-05-09 20:18:18 [scrapy.core.engine] DEBUG: Crawled (200) <GET https://www.goodreads.com/book/show/2802316-shadow-kiss> (referer: https://www.goodreads.com/list/show/1.Best_Books_Ever?page=2)\n",
      "2020-05-09 20:18:19 [scrapy.core.engine] DEBUG: Crawled (200) <GET https://www.goodreads.com/book/show/9712.Love_in_the_Time_of_Cholera> (referer: https://www.goodreads.com/list/show/1.Best_Books_Ever?page=2)\n"
     ]
    },
    {
     "name": "stdout",
     "output_type": "stream",
     "text": [
      "Warning: Book missing series (https://www.goodreads.com/book/show/9712.Love_in_the_Time_of_Cholera).\n"
     ]
    },
    {
     "name": "stderr",
     "output_type": "stream",
     "text": [
      "2020-05-09 20:18:19 [scrapy.core.engine] DEBUG: Crawled (200) <GET https://www.goodreads.com/book/show/355697.All_Quiet_on_the_Western_Front> (referer: https://www.goodreads.com/list/show/1.Best_Books_Ever?page=2)\n",
      "2020-05-09 20:18:20 [scrapy.core.engine] DEBUG: Crawled (200) <GET https://www.goodreads.com/book/show/4556058-the-last-olympian> (referer: https://www.goodreads.com/list/show/1.Best_Books_Ever?page=2)\n",
      "2020-05-09 20:18:20 [scrapy.core.engine] DEBUG: Crawled (200) <GET https://www.goodreads.com/book/show/34268.Peter_Pan> (referer: https://www.goodreads.com/list/show/1.Best_Books_Ever?page=2)\n",
      "2020-05-09 20:18:20 [scrapy.core.engine] DEBUG: Crawled (200) <GET https://www.goodreads.com/book/show/6656.The_Divine_Comedy> (referer: https://www.goodreads.com/list/show/1.Best_Books_Ever?page=2)\n",
      "2020-05-09 20:18:20 [scrapy.core.engine] DEBUG: Crawled (200) <GET https://www.goodreads.com/book/show/114345.The_Little_House_Collection> (referer: https://www.goodreads.com/list/show/1.Best_Books_Ever?page=2)\n"
     ]
    },
    {
     "name": "stdout",
     "output_type": "stream",
     "text": [
      "Warning: Book missing series (https://www.goodreads.com/book/show/34268.Peter_Pan).\n"
     ]
    },
    {
     "name": "stderr",
     "output_type": "stream",
     "text": [
      "2020-05-09 20:18:21 [scrapy.core.engine] DEBUG: Crawled (200) <GET https://www.goodreads.com/book/show/1423.The_Compleat_Works_of_Wllm_Shkspr> (referer: https://www.goodreads.com/list/show/1.Best_Books_Ever?page=2)\n"
     ]
    },
    {
     "name": "stdout",
     "output_type": "stream",
     "text": [
      "Warning: Missing book original title (https://www.goodreads.com/book/show/1423.The_Compleat_Works_of_Wllm_Shkspr).\n",
      "Warning: Book missing series (https://www.goodreads.com/book/show/1423.The_Compleat_Works_of_Wllm_Shkspr).\n"
     ]
    },
    {
     "name": "stderr",
     "output_type": "stream",
     "text": [
      "2020-05-09 20:18:21 [scrapy.core.engine] DEBUG: Crawled (200) <GET https://www.goodreads.com/book/show/100915.The_Lion_the_Witch_and_the_Wardrobe> (referer: https://www.goodreads.com/list/show/1.Best_Books_Ever?page=2)\n",
      "2020-05-09 20:18:21 [scrapy.core.engine] DEBUG: Crawled (200) <GET https://www.goodreads.com/book/show/472331.Watchmen> (referer: https://www.goodreads.com/list/show/1.Best_Books_Ever?page=2)\n",
      "2020-05-09 20:18:22 [scrapy.core.engine] DEBUG: Crawled (200) <GET https://www.goodreads.com/book/show/830502.It> (referer: https://www.goodreads.com/list/show/1.Best_Books_Ever?page=2)\n",
      "2020-05-09 20:18:22 [scrapy.core.engine] DEBUG: Crawled (200) <GET https://www.goodreads.com/book/show/343.Perfume> (referer: https://www.goodreads.com/list/show/1.Best_Books_Ever?page=2)\n"
     ]
    },
    {
     "name": "stdout",
     "output_type": "stream",
     "text": [
      "Warning: Book missing series (https://www.goodreads.com/book/show/830502.It).\n",
      "Warning: Book missing series (https://www.goodreads.com/book/show/343.Perfume).\n"
     ]
    },
    {
     "name": "stderr",
     "output_type": "stream",
     "text": [
      "2020-05-09 20:18:22 [scrapy.core.engine] DEBUG: Crawled (200) <GET https://www.goodreads.com/book/show/7126.The_Count_of_Monte_Cristo> (referer: https://www.goodreads.com/list/show/1.Best_Books_Ever?page=2)\n",
      "2020-05-09 20:18:22 [scrapy.core.engine] DEBUG: Crawled (200) <GET https://www.goodreads.com/book/show/38709.Holes> (referer: https://www.goodreads.com/list/show/1.Best_Books_Ever?page=2)\n"
     ]
    },
    {
     "name": "stdout",
     "output_type": "stream",
     "text": [
      "Warning: Book missing series (https://www.goodreads.com/book/show/7126.The_Count_of_Monte_Cristo).\n"
     ]
    },
    {
     "name": "stderr",
     "output_type": "stream",
     "text": [
      "2020-05-09 20:18:23 [scrapy.core.engine] DEBUG: Crawled (200) <GET https://www.goodreads.com/book/show/30165203-american-gods> (referer: https://www.goodreads.com/list/show/1.Best_Books_Ever?page=2)\n",
      "2020-05-09 20:18:23 [scrapy.core.engine] DEBUG: Crawled (200) <GET https://www.goodreads.com/book/show/233093.The_Cat_in_the_Hat> (referer: https://www.goodreads.com/list/show/1.Best_Books_Ever?page=2)\n",
      "2020-05-09 20:18:24 [scrapy.core.engine] DEBUG: Crawled (200) <GET https://www.goodreads.com/book/show/256008.Lonesome_Dove> (referer: https://www.goodreads.com/list/show/1.Best_Books_Ever?page=2)\n",
      "2020-05-09 20:18:24 [scrapy.core.engine] DEBUG: Crawled (200) <GET https://www.goodreads.com/book/show/3431.The_Five_People_You_Meet_in_Heaven> (referer: https://www.goodreads.com/list/show/1.Best_Books_Ever?page=2)\n",
      "2020-05-09 20:18:24 [scrapy.core.engine] DEBUG: Crawled (200) <GET https://www.goodreads.com/book/show/15881.Harry_Potter_and_the_Chamber_of_Secrets> (referer: https://www.goodreads.com/list/show/1.Best_Books_Ever?page=2)\n",
      "2020-05-09 20:18:25 [scrapy.core.engine] DEBUG: Crawled (200) <GET https://www.goodreads.com/book/show/6339664-hush-hush> (referer: https://www.goodreads.com/list/show/1.Best_Books_Ever?page=2)\n",
      "2020-05-09 20:18:25 [scrapy.core.engine] DEBUG: Crawled (200) <GET https://www.goodreads.com/book/show/36236124-fight-club> (referer: https://www.goodreads.com/list/show/1.Best_Books_Ever?page=2)\n",
      "2020-05-09 20:18:25 [scrapy.core.engine] DEBUG: Crawled (200) <GET https://www.goodreads.com/book/show/168642.In_Cold_Blood> (referer: https://www.goodreads.com/list/show/1.Best_Books_Ever?page=2)\n"
     ]
    },
    {
     "name": "stdout",
     "output_type": "stream",
     "text": [
      "Warning: Book missing series (https://www.goodreads.com/book/show/36236124-fight-club).\n"
     ]
    },
    {
     "name": "stderr",
     "output_type": "stream",
     "text": [
      "2020-05-09 20:18:25 [scrapy.core.engine] DEBUG: Crawled (200) <GET https://www.goodreads.com/book/show/22034.The_Godfather> (referer: https://www.goodreads.com/list/show/1.Best_Books_Ever?page=2)\n"
     ]
    },
    {
     "name": "stdout",
     "output_type": "stream",
     "text": [
      "Warning: Book missing series (https://www.goodreads.com/book/show/168642.In_Cold_Blood).\n"
     ]
    },
    {
     "name": "stderr",
     "output_type": "stream",
     "text": [
      "2020-05-09 20:18:26 [scrapy.core.engine] DEBUG: Crawled (200) <GET https://www.goodreads.com/book/show/12296.The_Scarlet_Letter> (referer: https://www.goodreads.com/list/show/1.Best_Books_Ever?page=2)\n",
      "2020-05-09 20:18:26 [scrapy.core.engine] DEBUG: Crawled (200) <GET https://www.goodreads.com/book/show/10365.Where_the_Red_Fern_Grows> (referer: https://www.goodreads.com/list/show/1.Best_Books_Ever?page=2)\n"
     ]
    },
    {
     "name": "stdout",
     "output_type": "stream",
     "text": [
      "Warning: Book missing series (https://www.goodreads.com/book/show/12296.The_Scarlet_Letter).\n",
      "Warning: Book missing series (https://www.goodreads.com/book/show/10365.Where_the_Red_Fern_Grows).\n"
     ]
    },
    {
     "name": "stderr",
     "output_type": "stream",
     "text": [
      "2020-05-09 20:18:27 [scrapy.core.engine] DEBUG: Crawled (200) <GET https://www.goodreads.com/book/show/119073.The_Name_of_the_Rose> (referer: https://www.goodreads.com/list/show/1.Best_Books_Ever?page=2)\n"
     ]
    },
    {
     "name": "stdout",
     "output_type": "stream",
     "text": [
      "Warning: Book missing series (https://www.goodreads.com/book/show/119073.The_Name_of_the_Rose).\n"
     ]
    },
    {
     "name": "stderr",
     "output_type": "stream",
     "text": [
      "2020-05-09 20:18:27 [scrapy.core.engine] DEBUG: Crawled (200) <GET https://www.goodreads.com/book/show/6900.Tuesdays_with_Morrie> (referer: https://www.goodreads.com/list/show/1.Best_Books_Ever?page=2)\n",
      "2020-05-09 20:18:27 [scrapy.core.engine] DEBUG: Crawled (200) <GET https://www.goodreads.com/book/show/4948.The_Very_Hungry_Caterpillar> (referer: https://www.goodreads.com/list/show/1.Best_Books_Ever?page=2)\n"
     ]
    },
    {
     "name": "stdout",
     "output_type": "stream",
     "text": [
      "Warning: Book missing series (https://www.goodreads.com/book/show/6900.Tuesdays_with_Morrie).\n",
      "Warning: Book missing series (https://www.goodreads.com/book/show/4948.The_Very_Hungry_Caterpillar).\n"
     ]
    },
    {
     "name": "stderr",
     "output_type": "stream",
     "text": [
      "2020-05-09 20:18:28 [scrapy.core.engine] DEBUG: Crawled (200) <GET https://www.goodreads.com/book/show/1618.The_Curious_Incident_of_the_Dog_in_the_Night_Time> (referer: https://www.goodreads.com/list/show/1.Best_Books_Ever?page=2)\n",
      "2020-05-09 20:18:28 [scrapy.core.engine] DEBUG: Crawled (200) <GET https://www.goodreads.com/book/show/99561.Looking_for_Alaska> (referer: https://www.goodreads.com/list/show/1.Best_Books_Ever?page=2)\n"
     ]
    },
    {
     "name": "stdout",
     "output_type": "stream",
     "text": [
      "Warning: Book missing series (https://www.goodreads.com/book/show/1618.The_Curious_Incident_of_the_Dog_in_the_Night_Time).\n"
     ]
    },
    {
     "name": "stderr",
     "output_type": "stream",
     "text": [
      "2020-05-09 20:18:29 [scrapy.core.engine] DEBUG: Crawled (200) <GET https://www.goodreads.com/book/show/485894.The_Metamorphosis> (referer: https://www.goodreads.com/list/show/1.Best_Books_Ever?page=2)\n"
     ]
    },
    {
     "name": "stdout",
     "output_type": "stream",
     "text": [
      "Warning: Book missing series (https://www.goodreads.com/book/show/99561.Looking_for_Alaska).\n"
     ]
    },
    {
     "name": "stderr",
     "output_type": "stream",
     "text": [
      "2020-05-09 20:18:29 [scrapy.core.engine] DEBUG: Crawled (200) <GET https://www.goodreads.com/book/show/1232.The_Shadow_of_the_Wind> (referer: https://www.goodreads.com/list/show/1.Best_Books_Ever?page=2)\n"
     ]
    },
    {
     "name": "stdout",
     "output_type": "stream",
     "text": [
      "Warning: Book missing series (https://www.goodreads.com/book/show/485894.The_Metamorphosis).\n"
     ]
    },
    {
     "name": "stderr",
     "output_type": "stream",
     "text": [
      "2020-05-09 20:18:29 [scrapy.core.engine] DEBUG: Crawled (200) <GET https://www.goodreads.com/book/show/70401.On_the_Road> (referer: https://www.goodreads.com/list/show/1.Best_Books_Ever?page=2)\n",
      "2020-05-09 20:18:30 [scrapy.core.engine] DEBUG: Crawled (200) <GET https://www.goodreads.com/book/show/9717.The_Unbearable_Lightness_of_Being> (referer: https://www.goodreads.com/list/show/1.Best_Books_Ever?page=2)\n",
      "2020-05-09 20:18:30 [scrapy.core.engine] DEBUG: Crawled (200) <GET https://www.goodreads.com/book/show/6310.Charlie_and_the_Chocolate_Factory> (referer: https://www.goodreads.com/list/show/1.Best_Books_Ever?page=2)\n",
      "2020-05-09 20:18:30 [scrapy.core.engine] DEBUG: Crawled (200) <GET https://www.goodreads.com/book/show/113436.Eragon> (referer: https://www.goodreads.com/list/show/1.Best_Books_Ever?page=2)\n"
     ]
    },
    {
     "name": "stdout",
     "output_type": "stream",
     "text": [
      "Warning: Book missing series (https://www.goodreads.com/book/show/9717.The_Unbearable_Lightness_of_Being).\n"
     ]
    },
    {
     "name": "stderr",
     "output_type": "stream",
     "text": [
      "2020-05-09 20:18:30 [scrapy.core.engine] DEBUG: Crawled (200) <GET https://www.goodreads.com/book/show/24583.The_Adventures_of_Tom_Sawyer> (referer: https://www.goodreads.com/list/show/1.Best_Books_Ever?page=2)\n"
     ]
    },
    {
     "name": "stdout",
     "output_type": "stream",
     "text": [
      "Warning: Book missing series (https://www.goodreads.com/book/show/24583.The_Adventures_of_Tom_Sawyer).\n"
     ]
    },
    {
     "name": "stderr",
     "output_type": "stream",
     "text": [
      "2020-05-09 20:18:31 [scrapy.core.engine] DEBUG: Crawled (200) <GET https://www.goodreads.com/book/show/11588.The_Shining> (referer: https://www.goodreads.com/list/show/1.Best_Books_Ever?page=2)\n",
      "2020-05-09 20:18:31 [scrapy.core.engine] DEBUG: Crawled (200) <GET https://www.goodreads.com/book/show/186074.The_Name_of_the_Wind> (referer: https://www.goodreads.com/list/show/1.Best_Books_Ever?page=2)\n",
      "2020-05-09 20:18:31 [scrapy.core.engine] DEBUG: Crawled (200) <GET https://www.goodreads.com/book/show/117833.The_Master_and_Margarita> (referer: https://www.goodreads.com/list/show/1.Best_Books_Ever?page=2)\n",
      "2020-05-09 20:18:32 [scrapy.core.engine] DEBUG: Crawled (200) <GET https://www.goodreads.com/book/show/1.Harry_Potter_and_the_Half_Blood_Prince> (referer: https://www.goodreads.com/list/show/1.Best_Books_Ever?page=2)\n"
     ]
    },
    {
     "name": "stdout",
     "output_type": "stream",
     "text": [
      "Warning: Book missing series (https://www.goodreads.com/book/show/117833.The_Master_and_Margarita).\n"
     ]
    },
    {
     "name": "stderr",
     "output_type": "stream",
     "text": [
      "2020-05-09 20:18:32 [scrapy.core.engine] DEBUG: Crawled (200) <GET https://www.goodreads.com/book/show/18881450-flowers-for-algernon> (referer: https://www.goodreads.com/list/show/1.Best_Books_Ever?page=2)\n",
      "2020-05-09 20:18:32 [scrapy.core.engine] DEBUG: Crawled (200) <GET https://www.goodreads.com/book/show/49552.The_Stranger> (referer: https://www.goodreads.com/list/show/1.Best_Books_Ever?page=2)\n"
     ]
    },
    {
     "name": "stdout",
     "output_type": "stream",
     "text": [
      "Warning: Book missing series (https://www.goodreads.com/book/show/18881450-flowers-for-algernon).\n"
     ]
    },
    {
     "name": "stderr",
     "output_type": "stream",
     "text": [
      "2020-05-09 20:18:32 [scrapy.core.engine] DEBUG: Crawled (200) <GET https://www.goodreads.com/book/show/16299.And_Then_There_Were_None> (referer: https://www.goodreads.com/list/show/1.Best_Books_Ever?page=2)\n"
     ]
    },
    {
     "name": "stdout",
     "output_type": "stream",
     "text": [
      "Warning: Book missing series (https://www.goodreads.com/book/show/49552.The_Stranger).\n"
     ]
    },
    {
     "name": "stderr",
     "output_type": "stream",
     "text": [
      "2020-05-09 20:18:33 [scrapy.core.engine] DEBUG: Crawled (200) <GET https://www.goodreads.com/book/show/2187.Middlesex> (referer: https://www.goodreads.com/list/show/1.Best_Books_Ever?page=2)\n"
     ]
    },
    {
     "name": "stdout",
     "output_type": "stream",
     "text": [
      "Warning: Book missing series (https://www.goodreads.com/book/show/16299.And_Then_There_Were_None).\n",
      "Warning: Book missing series (https://www.goodreads.com/book/show/2187.Middlesex).\n"
     ]
    },
    {
     "name": "stderr",
     "output_type": "stream",
     "text": [
      "2020-05-09 20:18:33 [scrapy.core.engine] DEBUG: Crawled (200) <GET https://www.goodreads.com/book/show/6.Harry_Potter_and_the_Goblet_of_Fire> (referer: https://www.goodreads.com/list/show/1.Best_Books_Ever?page=2)\n",
      "2020-05-09 20:18:33 [scrapy.core.engine] DEBUG: Crawled (200) <GET https://www.goodreads.com/book/show/7171637-clockwork-angel> (referer: https://www.goodreads.com/list/show/1.Best_Books_Ever?page=2)\n",
      "2020-05-09 20:18:34 [scrapy.core.engine] DEBUG: Crawled (200) <GET https://www.goodreads.com/book/show/37435.The_Secret_Life_of_Bees> (referer: https://www.goodreads.com/list/show/1.Best_Books_Ever?page=2)\n",
      "2020-05-09 20:18:34 [scrapy.core.engine] DEBUG: Crawled (200) <GET https://www.goodreads.com/book/show/4989.The_Red_Tent> (referer: https://www.goodreads.com/list/show/1.Best_Books_Ever?page=2)\n"
     ]
    },
    {
     "name": "stdout",
     "output_type": "stream",
     "text": [
      "Warning: Book missing series (https://www.goodreads.com/book/show/37435.The_Secret_Life_of_Bees).\n"
     ]
    },
    {
     "name": "stderr",
     "output_type": "stream",
     "text": [
      "2020-05-09 20:18:34 [scrapy.core.engine] DEBUG: Crawled (200) <GET https://www.goodreads.com/book/show/153747.Moby_Dick_or_the_Whale> (referer: https://www.goodreads.com/list/show/1.Best_Books_Ever?page=2)\n"
     ]
    },
    {
     "name": "stdout",
     "output_type": "stream",
     "text": [
      "Warning: Book missing series (https://www.goodreads.com/book/show/4989.The_Red_Tent).\n"
     ]
    },
    {
     "name": "stderr",
     "output_type": "stream",
     "text": [
      "2020-05-09 20:18:35 [scrapy.core.engine] DEBUG: Crawled (200) <GET https://www.goodreads.com/book/show/43763.Interview_with_the_Vampire> (referer: https://www.goodreads.com/list/show/1.Best_Books_Ever?page=1)\n"
     ]
    },
    {
     "name": "stdout",
     "output_type": "stream",
     "text": [
      "Warning: Book missing series (https://www.goodreads.com/book/show/153747.Moby_Dick_or_the_Whale).\n"
     ]
    },
    {
     "name": "stderr",
     "output_type": "stream",
     "text": [
      "2020-05-09 20:18:35 [scrapy.core.engine] DEBUG: Crawled (200) <GET https://www.goodreads.com/book/show/4473.A_Prayer_for_Owen_Meany> (referer: https://www.goodreads.com/list/show/1.Best_Books_Ever?page=1)\n"
     ]
    },
    {
     "name": "stdout",
     "output_type": "stream",
     "text": [
      "Warning: Book missing series (https://www.goodreads.com/book/show/4473.A_Prayer_for_Owen_Meany).\n"
     ]
    },
    {
     "name": "stderr",
     "output_type": "stream",
     "text": [
      "2020-05-09 20:18:35 [scrapy.core.engine] DEBUG: Crawled (200) <GET https://www.goodreads.com/book/show/23919.The_Complete_Stories_and_Poems> (referer: https://www.goodreads.com/list/show/1.Best_Books_Ever?page=1)\n",
      "2020-05-09 20:18:35 [scrapy.core.engine] DEBUG: Crawled (200) <GET https://www.goodreads.com/book/show/99107.Winnie_the_Pooh> (referer: https://www.goodreads.com/list/show/1.Best_Books_Ever?page=1)\n"
     ]
    },
    {
     "name": "stdout",
     "output_type": "stream",
     "text": [
      "Warning: Book missing series (https://www.goodreads.com/book/show/23919.The_Complete_Stories_and_Poems).\n",
      "Warning: Missing book original title (https://www.goodreads.com/book/show/99107.Winnie_the_Pooh).\n"
     ]
    },
    {
     "name": "stderr",
     "output_type": "stream",
     "text": [
      "2020-05-09 20:18:36 [scrapy.core.engine] DEBUG: Crawled (200) <GET https://www.goodreads.com/book/show/5.Harry_Potter_and_the_Prisoner_of_Azkaban> (referer: https://www.goodreads.com/list/show/1.Best_Books_Ever?page=1)\n",
      "2020-05-09 20:18:36 [scrapy.core.engine] DEBUG: Crawled (200) <GET https://www.goodreads.com/book/show/33648131-the-notebook> (referer: https://www.goodreads.com/list/show/1.Best_Books_Ever?page=1)\n",
      "2020-05-09 20:18:37 [scrapy.core.engine] DEBUG: Crawled (200) <GET https://www.goodreads.com/book/show/2165.The_Old_Man_and_the_Sea> (referer: https://www.goodreads.com/list/show/1.Best_Books_Ever?page=1)\n",
      "2020-05-09 20:18:37 [scrapy.core.engine] DEBUG: Crawled (200) <GET https://www.goodreads.com/book/show/662.Atlas_Shrugged> (referer: https://www.goodreads.com/list/show/1.Best_Books_Ever?page=1)\n"
     ]
    },
    {
     "name": "stdout",
     "output_type": "stream",
     "text": [
      "Warning: Book missing series (https://www.goodreads.com/book/show/2165.The_Old_Man_and_the_Sea).\n",
      "Warning: Book missing series (https://www.goodreads.com/book/show/662.Atlas_Shrugged).\n"
     ]
    },
    {
     "name": "stderr",
     "output_type": "stream",
     "text": [
      "2020-05-09 20:18:37 [scrapy.core.engine] DEBUG: Crawled (200) <GET https://www.goodreads.com/book/show/119322.The_Golden_Compass> (referer: https://www.goodreads.com/list/show/1.Best_Books_Ever?page=1)\n",
      "2020-05-09 20:18:38 [scrapy.core.engine] DEBUG: Crawled (200) <GET https://www.goodreads.com/book/show/3836.Don_Quixote> (referer: https://www.goodreads.com/list/show/1.Best_Books_Ever?page=1)\n",
      "2020-05-09 20:18:38 [scrapy.core.engine] DEBUG: Crawled (200) <GET https://www.goodreads.com/book/show/7244.The_Poisonwood_Bible> (referer: https://www.goodreads.com/list/show/1.Best_Books_Ever?page=1)\n",
      "2020-05-09 20:18:38 [scrapy.core.engine] DEBUG: Crawled (200) <GET https://www.goodreads.com/book/show/345627.Vampire_Academy> (referer: https://www.goodreads.com/list/show/1.Best_Books_Ever?page=1)\n"
     ]
    },
    {
     "name": "stdout",
     "output_type": "stream",
     "text": [
      "Warning: Book missing series (https://www.goodreads.com/book/show/7244.The_Poisonwood_Bible).\n"
     ]
    },
    {
     "name": "stderr",
     "output_type": "stream",
     "text": [
      "2020-05-09 20:18:38 [scrapy.core.engine] DEBUG: Crawled (200) <GET https://www.goodreads.com/book/show/5470.1984> (referer: https://www.goodreads.com/list/show/1.Best_Books_Ever?page=1)\n",
      "2020-05-09 20:18:39 [scrapy.core.engine] DEBUG: Crawled (200) <GET https://www.goodreads.com/book/show/252577.Angela_s_Ashes> (referer: https://www.goodreads.com/list/show/1.Best_Books_Ever?page=1)\n"
     ]
    },
    {
     "name": "stdout",
     "output_type": "stream",
     "text": [
      "Warning: Book missing series (https://www.goodreads.com/book/show/5470.1984).\n"
     ]
    },
    {
     "name": "stderr",
     "output_type": "stream",
     "text": [
      "2020-05-09 20:18:39 [scrapy.core.engine] DEBUG: Crawled (200) <GET https://www.goodreads.com/book/show/4934.The_Brothers_Karamazov> (referer: https://www.goodreads.com/list/show/1.Best_Books_Ever?page=1)\n",
      "2020-05-09 20:18:39 [scrapy.core.engine] DEBUG: Crawled (200) <GET https://www.goodreads.com/book/show/6288.The_Road> (referer: https://www.goodreads.com/list/show/1.Best_Books_Ever?page=1)\n",
      "2020-05-09 20:18:40 [scrapy.core.engine] DEBUG: Crawled (200) <GET https://www.goodreads.com/book/show/41817486-a-clockwork-orange> (referer: https://www.goodreads.com/list/show/1.Best_Books_Ever?page=1)\n"
     ]
    },
    {
     "name": "stdout",
     "output_type": "stream",
     "text": [
      "Warning: Book missing series (https://www.goodreads.com/book/show/6288.The_Road).\n"
     ]
    },
    {
     "name": "stderr",
     "output_type": "stream",
     "text": [
      "2020-05-09 20:18:40 [scrapy.core.engine] DEBUG: Crawled (200) <GET https://www.goodreads.com/book/show/14891.A_Tree_Grows_in_Brooklyn> (referer: https://www.goodreads.com/list/show/1.Best_Books_Ever?page=1)\n"
     ]
    },
    {
     "name": "stdout",
     "output_type": "stream",
     "text": [
      "Warning: Book missing series (https://www.goodreads.com/book/show/41817486-a-clockwork-orange).\n"
     ]
    },
    {
     "name": "stderr",
     "output_type": "stream",
     "text": [
      "2020-05-09 20:18:40 [scrapy.core.engine] DEBUG: Crawled (200) <GET https://www.goodreads.com/book/show/52892857-the-color-purple> (referer: https://www.goodreads.com/list/show/1.Best_Books_Ever?page=1)\n"
     ]
    },
    {
     "name": "stdout",
     "output_type": "stream",
     "text": [
      "Warning: Book missing series (https://www.goodreads.com/book/show/14891.A_Tree_Grows_in_Brooklyn).\n"
     ]
    },
    {
     "name": "stderr",
     "output_type": "stream",
     "text": [
      "2020-05-09 20:18:41 [scrapy.core.engine] DEBUG: Crawled (200) <GET https://www.goodreads.com/book/show/136251.Harry_Potter_and_the_Deathly_Hallows> (referer: https://www.goodreads.com/list/show/1.Best_Books_Ever?page=1)\n"
     ]
    },
    {
     "name": "stdout",
     "output_type": "stream",
     "text": [
      "Warning: Book missing series (https://www.goodreads.com/book/show/52892857-the-color-purple).\n"
     ]
    },
    {
     "name": "stderr",
     "output_type": "stream",
     "text": [
      "2020-05-09 20:18:41 [scrapy.core.engine] DEBUG: Crawled (200) <GET https://www.goodreads.com/book/show/17899948-rebecca> (referer: https://www.goodreads.com/list/show/1.Best_Books_Ever?page=1)\n",
      "2020-05-09 20:18:41 [scrapy.core.engine] DEBUG: Crawled (200) <GET https://www.goodreads.com/book/show/34.The_Fellowship_of_the_Ring> (referer: https://www.goodreads.com/list/show/1.Best_Books_Ever?page=1)\n",
      "2020-05-09 20:18:41 [scrapy.core.engine] DEBUG: Crawled (200) <GET https://www.goodreads.com/book/show/39988.Matilda> (referer: https://www.goodreads.com/list/show/1.Best_Books_Ever?page=1)\n"
     ]
    },
    {
     "name": "stdout",
     "output_type": "stream",
     "text": [
      "Warning: Book missing series (https://www.goodreads.com/book/show/17899948-rebecca).\n",
      "Warning: Book missing series (https://www.goodreads.com/book/show/39988.Matilda).\n"
     ]
    },
    {
     "name": "stderr",
     "output_type": "stream",
     "text": [
      "2020-05-09 20:18:42 [scrapy.core.engine] DEBUG: Crawled (200) <GET https://www.goodreads.com/book/show/2429135.The_Girl_with_the_Dragon_Tattoo> (referer: https://www.goodreads.com/list/show/1.Best_Books_Ever?page=1)\n",
      "2020-05-09 20:18:42 [scrapy.core.engine] DEBUG: Crawled (200) <GET https://www.goodreads.com/book/show/1934.Little_Women> (referer: https://www.goodreads.com/list/show/1.Best_Books_Ever?page=1)\n",
      "2020-05-09 20:18:43 [scrapy.core.engine] DEBUG: Crawled (200) <GET https://www.goodreads.com/book/show/10964.Outlander> (referer: https://www.goodreads.com/list/show/1.Best_Books_Ever?page=1)\n",
      "2020-05-09 20:18:43 [scrapy.core.engine] DEBUG: Crawled (200) <GET https://www.goodreads.com/book/show/10917.My_Sister_s_Keeper> (referer: https://www.goodreads.com/list/show/1.Best_Books_Ever?page=1)\n"
     ]
    },
    {
     "name": "stdout",
     "output_type": "stream",
     "text": [
      "Warning: Book missing series (https://www.goodreads.com/book/show/10917.My_Sister_s_Keeper).\n"
     ]
    },
    {
     "name": "stderr",
     "output_type": "stream",
     "text": [
      "2020-05-09 20:18:43 [scrapy.core.engine] DEBUG: Crawled (200) <GET https://www.goodreads.com/book/show/15823480-anna-karenina> (referer: https://www.goodreads.com/list/show/1.Best_Books_Ever?page=1)\n",
      "2020-05-09 20:18:43 [scrapy.core.engine] DEBUG: Crawled (200) <GET https://www.goodreads.com/book/show/6514.The_Bell_Jar> (referer: https://www.goodreads.com/list/show/1.Best_Books_Ever?page=1)\n"
     ]
    },
    {
     "name": "stdout",
     "output_type": "stream",
     "text": [
      "Warning: Book missing series (https://www.goodreads.com/book/show/15823480-anna-karenina).\n"
     ]
    },
    {
     "name": "stderr",
     "output_type": "stream",
     "text": [
      "2020-05-09 20:18:44 [scrapy.core.engine] DEBUG: Crawled (200) <GET https://www.goodreads.com/book/show/332613.One_Flew_Over_the_Cuckoo_s_Nest> (referer: https://www.goodreads.com/list/show/1.Best_Books_Ever?page=1)\n"
     ]
    },
    {
     "name": "stdout",
     "output_type": "stream",
     "text": [
      "Warning: Book missing series (https://www.goodreads.com/book/show/6514.The_Bell_Jar).\n",
      "Warning: Book missing series (https://www.goodreads.com/book/show/332613.One_Flew_Over_the_Cuckoo_s_Nest).\n"
     ]
    },
    {
     "name": "stderr",
     "output_type": "stream",
     "text": [
      "2020-05-09 20:18:44 [scrapy.core.engine] DEBUG: Crawled (200) <GET https://www.goodreads.com/book/show/2623.Great_Expectations> (referer: https://www.goodreads.com/list/show/1.Best_Books_Ever?page=1)\n"
     ]
    },
    {
     "name": "stdout",
     "output_type": "stream",
     "text": [
      "Warning: Book missing series (https://www.goodreads.com/book/show/2623.Great_Expectations).\n"
     ]
    },
    {
     "name": "stderr",
     "output_type": "stream",
     "text": [
      "2020-05-09 20:18:45 [scrapy.core.engine] DEBUG: Crawled (200) <GET https://www.goodreads.com/book/show/76620.Watership_Down> (referer: https://www.goodreads.com/list/show/1.Best_Books_Ever?page=1)\n",
      "2020-05-09 20:18:45 [scrapy.core.engine] DEBUG: Crawled (200) <GET https://www.goodreads.com/book/show/3590.The_Adventures_of_Sherlock_Holmes> (referer: https://www.goodreads.com/list/show/1.Best_Books_Ever?page=1)\n",
      "2020-05-09 20:18:45 [scrapy.core.engine] DEBUG: Crawled (200) <GET https://www.goodreads.com/book/show/149267.The_Stand> (referer: https://www.goodreads.com/list/show/1.Best_Books_Ever?page=1)\n",
      "2020-05-09 20:18:45 [scrapy.core.engine] DEBUG: Crawled (200) <GET https://www.goodreads.com/book/show/5043.The_Pillars_of_the_Earth> (referer: https://www.goodreads.com/list/show/1.Best_Books_Ever?page=1)\n"
     ]
    },
    {
     "name": "stdout",
     "output_type": "stream",
     "text": [
      "Warning: Book missing series (https://www.goodreads.com/book/show/149267.The_Stand).\n"
     ]
    },
    {
     "name": "stderr",
     "output_type": "stream",
     "text": [
      "2020-05-09 20:18:46 [scrapy.core.engine] DEBUG: Crawled (200) <GET https://www.goodreads.com/book/show/44767458-dune> (referer: https://www.goodreads.com/list/show/1.Best_Books_Ever?page=1)\n",
      "2020-05-09 20:18:46 [scrapy.core.engine] DEBUG: Crawled (200) <GET https://www.goodreads.com/book/show/3636.The_Giver> (referer: https://www.goodreads.com/list/show/1.Best_Books_Ever?page=1)\n",
      "2020-05-09 20:18:46 [scrapy.core.engine] DEBUG: Crawled (200) <GET https://www.goodreads.com/book/show/38447.The_Handmaid_s_Tale> (referer: https://www.goodreads.com/list/show/1.Best_Books_Ever?page=1)\n",
      "2020-05-09 20:18:47 [scrapy.core.engine] DEBUG: Crawled (200) <GET https://www.goodreads.com/book/show/168668.Catch_22> (referer: https://www.goodreads.com/list/show/1.Best_Books_Ever?page=1)\n",
      "2020-05-09 20:18:47 [scrapy.core.engine] DEBUG: Crawled (200) <GET https://www.goodreads.com/book/show/77203.The_Kite_Runner> (referer: https://www.goodreads.com/list/show/1.Best_Books_Ever?page=1)\n"
     ]
    },
    {
     "name": "stdout",
     "output_type": "stream",
     "text": [
      "Warning: Book missing series (https://www.goodreads.com/book/show/77203.The_Kite_Runner).\n"
     ]
    },
    {
     "name": "stderr",
     "output_type": "stream",
     "text": [
      "2020-05-09 20:18:48 [scrapy.core.engine] DEBUG: Crawled (200) <GET https://www.goodreads.com/book/show/35031085-frankenstein> (referer: https://www.goodreads.com/list/show/1.Best_Books_Ever?page=1)\n",
      "2020-05-09 20:18:48 [scrapy.core.engine] DEBUG: Crawled (200) <GET https://www.goodreads.com/book/show/4981.Slaughterhouse_Five> (referer: https://www.goodreads.com/list/show/1.Best_Books_Ever?page=1)\n"
     ]
    },
    {
     "name": "stdout",
     "output_type": "stream",
     "text": [
      "Warning: Book missing series (https://www.goodreads.com/book/show/35031085-frankenstein).\n",
      "Warning: Book missing series (https://www.goodreads.com/book/show/4981.Slaughterhouse_Five).\n"
     ]
    },
    {
     "name": "stderr",
     "output_type": "stream",
     "text": [
      "2020-05-09 20:18:48 [scrapy.core.engine] DEBUG: Crawled (200) <GET https://www.goodreads.com/book/show/7604.Lolita> (referer: https://www.goodreads.com/list/show/1.Best_Books_Ever?page=1)\n",
      "2020-05-09 20:18:49 [scrapy.core.engine] DEBUG: Crawled (200) <GET https://www.goodreads.com/book/show/43641.Water_for_Elephants> (referer: https://www.goodreads.com/list/show/1.Best_Books_Ever?page=1)\n"
     ]
    },
    {
     "name": "stdout",
     "output_type": "stream",
     "text": [
      "Warning: Book missing series (https://www.goodreads.com/book/show/7604.Lolita).\n"
     ]
    },
    {
     "name": "stderr",
     "output_type": "stream",
     "text": [
      "2020-05-09 20:18:49 [scrapy.core.engine] DEBUG: Crawled (200) <GET https://www.goodreads.com/book/show/1953.A_Tale_of_Two_Cities> (referer: https://www.goodreads.com/list/show/1.Best_Books_Ever?page=1)\n"
     ]
    },
    {
     "name": "stdout",
     "output_type": "stream",
     "text": [
      "Warning: Book missing series (https://www.goodreads.com/book/show/43641.Water_for_Elephants).\n"
     ]
    },
    {
     "name": "stderr",
     "output_type": "stream",
     "text": [
      "2020-05-09 20:18:49 [scrapy.core.engine] DEBUG: Crawled (200) <GET https://www.goodreads.com/book/show/4214.Life_of_Pi> (referer: https://www.goodreads.com/list/show/1.Best_Books_Ever?page=1)\n"
     ]
    },
    {
     "name": "stdout",
     "output_type": "stream",
     "text": [
      "Warning: Book missing series (https://www.goodreads.com/book/show/1953.A_Tale_of_Two_Cities).\n",
      "Warning: Book missing series (https://www.goodreads.com/book/show/4214.Life_of_Pi).\n"
     ]
    },
    {
     "name": "stderr",
     "output_type": "stream",
     "text": [
      "2020-05-09 20:18:50 [scrapy.core.engine] DEBUG: Crawled (200) <GET https://www.goodreads.com/book/show/1381.The_Odyssey> (referer: https://www.goodreads.com/list/show/1.Best_Books_Ever?page=1)\n",
      "2020-05-09 20:18:50 [scrapy.core.engine] DEBUG: Crawled (200) <GET https://www.goodreads.com/book/show/23772.Green_Eggs_and_Ham> (referer: https://www.goodreads.com/list/show/1.Best_Books_Ever?page=1)\n"
     ]
    },
    {
     "name": "stdout",
     "output_type": "stream",
     "text": [
      "Warning: Book missing series (https://www.goodreads.com/book/show/1381.The_Odyssey).\n",
      "Warning: Book missing series (https://www.goodreads.com/book/show/23772.Green_Eggs_and_Ham).\n"
     ]
    },
    {
     "name": "stderr",
     "output_type": "stream",
     "text": [
      "2020-05-09 20:18:50 [scrapy.core.engine] DEBUG: Crawled (200) <GET https://www.goodreads.com/book/show/231804.The_Outsiders> (referer: https://www.goodreads.com/list/show/1.Best_Books_Ever?page=1)\n"
     ]
    },
    {
     "name": "stdout",
     "output_type": "stream",
     "text": [
      "Warning: Book missing series (https://www.goodreads.com/book/show/231804.The_Outsiders).\n"
     ]
    },
    {
     "name": "stderr",
     "output_type": "stream",
     "text": [
      "2020-05-09 20:18:50 [scrapy.core.engine] DEBUG: Crawled (200) <GET https://www.goodreads.com/book/show/19543.Where_the_Wild_Things_Are> (referer: https://www.goodreads.com/list/show/1.Best_Books_Ever?page=1)\n"
     ]
    },
    {
     "name": "stdout",
     "output_type": "stream",
     "text": [
      "Warning: Book missing series (https://www.goodreads.com/book/show/19543.Where_the_Wild_Things_Are).\n"
     ]
    },
    {
     "name": "stderr",
     "output_type": "stream",
     "text": [
      "2020-05-09 20:18:51 [scrapy.core.engine] DEBUG: Crawled (200) <GET https://www.goodreads.com/book/show/12232938-the-lovely-bones> (referer: https://www.goodreads.com/list/show/1.Best_Books_Ever?page=1)\n"
     ]
    },
    {
     "name": "stdout",
     "output_type": "stream",
     "text": [
      "Warning: Book missing series (https://www.goodreads.com/book/show/12232938-the-lovely-bones).\n"
     ]
    },
    {
     "name": "stderr",
     "output_type": "stream",
     "text": [
      "2020-05-09 20:18:51 [scrapy.core.engine] DEBUG: Crawled (200) <GET https://www.goodreads.com/book/show/2956.The_Adventures_of_Huckleberry_Finn> (referer: https://www.goodreads.com/list/show/1.Best_Books_Ever?page=1)\n"
     ]
    },
    {
     "name": "stdout",
     "output_type": "stream",
     "text": [
      "Warning: Book missing series (https://www.goodreads.com/book/show/2956.The_Adventures_of_Huckleberry_Finn).\n"
     ]
    },
    {
     "name": "stderr",
     "output_type": "stream",
     "text": [
      "2020-05-09 20:18:52 [scrapy.core.engine] DEBUG: Crawled (200) <GET https://www.goodreads.com/book/show/13496.A_Game_of_Thrones> (referer: https://www.goodreads.com/list/show/1.Best_Books_Ever?page=1)\n",
      "2020-05-09 20:18:52 [scrapy.core.engine] DEBUG: Crawled (200) <GET https://www.goodreads.com/book/show/33574273-a-wrinkle-in-time> (referer: https://www.goodreads.com/list/show/1.Best_Books_Ever?page=1)\n",
      "2020-05-09 20:18:52 [scrapy.core.engine] DEBUG: Crawled (200) <GET https://www.goodreads.com/book/show/28187.The_Lightning_Thief> (referer: https://www.goodreads.com/list/show/1.Best_Books_Ever?page=1)\n",
      "2020-05-09 20:18:53 [scrapy.core.engine] DEBUG: Crawled (200) <GET https://www.goodreads.com/book/show/128029.A_Thousand_Splendid_Suns> (referer: https://www.goodreads.com/list/show/1.Best_Books_Ever?page=1)\n"
     ]
    },
    {
     "name": "stdout",
     "output_type": "stream",
     "text": [
      "Warning: Book missing series (https://www.goodreads.com/book/show/128029.A_Thousand_Splendid_Suns).\n"
     ]
    },
    {
     "name": "stderr",
     "output_type": "stream",
     "text": [
      "2020-05-09 20:18:53 [scrapy.core.engine] DEBUG: Crawled (200) <GET https://www.goodreads.com/book/show/2998.The_Secret_Garden> (referer: https://www.goodreads.com/list/show/1.Best_Books_Ever?page=1)\n",
      "2020-05-09 20:18:53 [scrapy.core.engine] DEBUG: Crawled (200) <GET https://www.goodreads.com/book/show/5107.The_Catcher_in_the_Rye> (referer: https://www.goodreads.com/list/show/1.Best_Books_Ever?page=1)\n"
     ]
    },
    {
     "name": "stdout",
     "output_type": "stream",
     "text": [
      "Warning: Book missing series (https://www.goodreads.com/book/show/2998.The_Secret_Garden).\n"
     ]
    },
    {
     "name": "stderr",
     "output_type": "stream",
     "text": [
      "2020-05-09 20:18:54 [scrapy.core.engine] DEBUG: Crawled (200) <GET https://www.goodreads.com/book/show/21787.The_Princess_Bride> (referer: https://www.goodreads.com/list/show/1.Best_Books_Ever?page=1)\n"
     ]
    },
    {
     "name": "stdout",
     "output_type": "stream",
     "text": [
      "Warning: Book missing series (https://www.goodreads.com/book/show/5107.The_Catcher_in_the_Rye).\n"
     ]
    },
    {
     "name": "stderr",
     "output_type": "stream",
     "text": [
      "2020-05-09 20:18:54 [scrapy.core.engine] DEBUG: Crawled (200) <GET https://www.goodreads.com/book/show/320.One_Hundred_Years_of_Solitude> (referer: https://www.goodreads.com/list/show/1.Best_Books_Ever?page=1)\n"
     ]
    },
    {
     "name": "stdout",
     "output_type": "stream",
     "text": [
      "Warning: Book missing series (https://www.goodreads.com/book/show/21787.The_Princess_Bride).\n"
     ]
    },
    {
     "name": "stderr",
     "output_type": "stream",
     "text": [
      "2020-05-09 20:18:54 [scrapy.core.engine] DEBUG: Crawled (200) <GET https://www.goodreads.com/book/show/5129.Brave_New_World> (referer: https://www.goodreads.com/list/show/1.Best_Books_Ever?page=1)\n"
     ]
    },
    {
     "name": "stdout",
     "output_type": "stream",
     "text": [
      "Warning: Book missing series (https://www.goodreads.com/book/show/320.One_Hundred_Years_of_Solitude).\n",
      "Warning: Book missing series (https://www.goodreads.com/book/show/5129.Brave_New_World).\n"
     ]
    },
    {
     "name": "stderr",
     "output_type": "stream",
     "text": [
      "2020-05-09 20:18:55 [scrapy.core.engine] DEBUG: Crawled (200) <GET https://www.goodreads.com/book/show/17245.Dracula> (referer: https://www.goodreads.com/list/show/1.Best_Books_Ever?page=1)\n",
      "2020-05-09 20:18:55 [scrapy.core.engine] DEBUG: Crawled (200) <GET https://www.goodreads.com/book/show/3.Harry_Potter_and_the_Sorcerer_s_Stone> (referer: https://www.goodreads.com/list/show/1.Best_Books_Ever?page=1)\n",
      "2020-05-09 20:18:55 [scrapy.core.engine] DEBUG: Crawled (200) <GET https://www.goodreads.com/book/show/157993.The_Little_Prince> (referer: https://www.goodreads.com/list/show/1.Best_Books_Ever?page=1)\n"
     ]
    },
    {
     "name": "stdout",
     "output_type": "stream",
     "text": [
      "Warning: Book missing series (https://www.goodreads.com/book/show/157993.The_Little_Prince).\n"
     ]
    },
    {
     "name": "stderr",
     "output_type": "stream",
     "text": [
      "2020-05-09 20:18:56 [scrapy.core.engine] DEBUG: Crawled (200) <GET https://www.goodreads.com/book/show/890.Of_Mice_and_Men> (referer: https://www.goodreads.com/list/show/1.Best_Books_Ever?page=1)\n",
      "2020-05-09 20:18:56 [scrapy.core.engine] DEBUG: Crawled (200) <GET https://www.goodreads.com/book/show/18619684-the-time-traveler-s-wife> (referer: https://www.goodreads.com/list/show/1.Best_Books_Ever?page=1)\n",
      "2020-05-09 20:18:56 [scrapy.core.engine] DEBUG: Crawled (200) <GET https://www.goodreads.com/book/show/24178.Charlotte_s_Web> (referer: https://www.goodreads.com/list/show/1.Best_Books_Ever?page=1)\n"
     ]
    },
    {
     "name": "stdout",
     "output_type": "stream",
     "text": [
      "Warning: Book missing series (https://www.goodreads.com/book/show/890.Of_Mice_and_Men).\n",
      "Warning: Book missing series (https://www.goodreads.com/book/show/18619684-the-time-traveler-s-wife).\n",
      "Warning: Book missing series (https://www.goodreads.com/book/show/24178.Charlotte_s_Web).\n"
     ]
    },
    {
     "name": "stderr",
     "output_type": "stream",
     "text": [
      "2020-05-09 20:18:56 [scrapy.core.engine] DEBUG: Crawled (200) <GET https://www.goodreads.com/book/show/8127.Anne_of_Green_Gables> (referer: https://www.goodreads.com/list/show/1.Best_Books_Ever?page=1)\n",
      "2020-05-09 20:18:57 [scrapy.core.engine] DEBUG: Crawled (200) <GET https://www.goodreads.com/book/show/4667024-the-help> (referer: https://www.goodreads.com/list/show/1.Best_Books_Ever?page=1)\n",
      "2020-05-09 20:18:57 [scrapy.core.engine] DEBUG: Crawled (200) <GET https://www.goodreads.com/book/show/256683.City_of_Bones> (referer: https://www.goodreads.com/list/show/1.Best_Books_Ever?page=1)\n"
     ]
    },
    {
     "name": "stdout",
     "output_type": "stream",
     "text": [
      "Warning: Book missing series (https://www.goodreads.com/book/show/4667024-the-help).\n"
     ]
    },
    {
     "name": "stderr",
     "output_type": "stream",
     "text": [
      "2020-05-09 20:18:57 [scrapy.core.engine] DEBUG: Crawled (200) <GET https://www.goodreads.com/book/show/375802.Ender_s_Game> (referer: https://www.goodreads.com/list/show/1.Best_Books_Ever?page=1)\n",
      "2020-05-09 20:18:58 [scrapy.core.engine] DEBUG: Crawled (200) <GET https://www.goodreads.com/book/show/4671.The_Great_Gatsby> (referer: https://www.goodreads.com/list/show/1.Best_Books_Ever?page=1)\n",
      "2020-05-09 20:18:58 [scrapy.core.engine] DEBUG: Crawled (200) <GET https://www.goodreads.com/book/show/22628.The_Perks_of_Being_a_Wallflower> (referer: https://www.goodreads.com/list/show/1.Best_Books_Ever?page=1)\n"
     ]
    },
    {
     "name": "stdout",
     "output_type": "stream",
     "text": [
      "Warning: Book missing series (https://www.goodreads.com/book/show/4671.The_Great_Gatsby).\n"
     ]
    },
    {
     "name": "stderr",
     "output_type": "stream",
     "text": [
      "2020-05-09 20:18:58 [scrapy.core.engine] DEBUG: Crawled (200) <GET https://www.goodreads.com/book/show/7144.Crime_and_Punishment> (referer: https://www.goodreads.com/list/show/1.Best_Books_Ever?page=1)\n"
     ]
    },
    {
     "name": "stdout",
     "output_type": "stream",
     "text": [
      "Warning: Book missing series (https://www.goodreads.com/book/show/22628.The_Perks_of_Being_a_Wallflower).\n",
      "Warning: Book missing series (https://www.goodreads.com/book/show/7144.Crime_and_Punishment).\n"
     ]
    },
    {
     "name": "stderr",
     "output_type": "stream",
     "text": [
      "2020-05-09 20:18:59 [scrapy.core.engine] DEBUG: Crawled (200) <GET https://www.goodreads.com/book/show/18144590-the-alchemist> (referer: https://www.goodreads.com/list/show/1.Best_Books_Ever?page=1)\n",
      "2020-05-09 20:18:59 [scrapy.core.engine] DEBUG: Crawled (200) <GET https://www.goodreads.com/book/show/7624.Lord_of_the_Flies> (referer: https://www.goodreads.com/list/show/1.Best_Books_Ever?page=1)\n"
     ]
    },
    {
     "name": "stdout",
     "output_type": "stream",
     "text": [
      "Warning: Book missing series (https://www.goodreads.com/book/show/18144590-the-alchemist).\n"
     ]
    },
    {
     "name": "stderr",
     "output_type": "stream",
     "text": [
      "2020-05-09 20:18:59 [scrapy.extensions.logstats] INFO: Crawled 1694 pages (at 190 pages/min), scraped 0 items (at 0 items/min)\n",
      "2020-05-09 20:18:59 [scrapy.core.engine] DEBUG: Crawled (200) <GET https://www.goodreads.com/book/show/18135.Romeo_and_Juliet> (referer: https://www.goodreads.com/list/show/1.Best_Books_Ever?page=1)\n"
     ]
    },
    {
     "name": "stdout",
     "output_type": "stream",
     "text": [
      "Warning: Book missing series (https://www.goodreads.com/book/show/7624.Lord_of_the_Flies).\n"
     ]
    },
    {
     "name": "stderr",
     "output_type": "stream",
     "text": [
      "2020-05-09 20:19:00 [scrapy.core.engine] DEBUG: Crawled (200) <GET https://www.goodreads.com/book/show/13079982-fahrenheit-451> (referer: https://www.goodreads.com/list/show/1.Best_Books_Ever?page=1)\n"
     ]
    },
    {
     "name": "stdout",
     "output_type": "stream",
     "text": [
      "Warning: Book missing series (https://www.goodreads.com/book/show/18135.Romeo_and_Juliet).\n",
      "Warning: Book missing series (https://www.goodreads.com/book/show/13079982-fahrenheit-451).\n"
     ]
    },
    {
     "name": "stderr",
     "output_type": "stream",
     "text": [
      "2020-05-09 20:19:00 [scrapy.core.engine] DEBUG: Crawled (200) <GET https://www.goodreads.com/book/show/13335037-divergent> (referer: https://www.goodreads.com/list/show/1.Best_Books_Ever?page=1)\n",
      "2020-05-09 20:19:00 [scrapy.core.engine] DEBUG: Crawled (200) <GET https://www.goodreads.com/book/show/24280.Les_Mis_rables> (referer: https://www.goodreads.com/list/show/1.Best_Books_Ever?page=1)\n",
      "2020-05-09 20:19:01 [scrapy.core.engine] DEBUG: Crawled (200) <GET https://www.goodreads.com/book/show/10210.Jane_Eyre> (referer: https://www.goodreads.com/list/show/1.Best_Books_Ever?page=1)\n"
     ]
    },
    {
     "name": "stdout",
     "output_type": "stream",
     "text": [
      "Warning: Book missing series (https://www.goodreads.com/book/show/24280.Les_Mis_rables).\n",
      "Warning: Book missing series (https://www.goodreads.com/book/show/10210.Jane_Eyre).\n"
     ]
    },
    {
     "name": "stderr",
     "output_type": "stream",
     "text": [
      "2020-05-09 20:19:01 [scrapy.core.engine] DEBUG: Crawled (200) <GET https://www.goodreads.com/book/show/5297.The_Picture_of_Dorian_Gray> (referer: https://www.goodreads.com/list/show/1.Best_Books_Ever?page=1)\n",
      "2020-05-09 20:19:02 [scrapy.core.engine] DEBUG: Crawled (200) <GET https://www.goodreads.com/book/show/929.Memoirs_of_a_Geisha> (referer: https://www.goodreads.com/list/show/1.Best_Books_Ever?page=1)\n"
     ]
    },
    {
     "name": "stdout",
     "output_type": "stream",
     "text": [
      "Warning: Book missing series (https://www.goodreads.com/book/show/5297.The_Picture_of_Dorian_Gray).\n"
     ]
    },
    {
     "name": "stderr",
     "output_type": "stream",
     "text": [
      "2020-05-09 20:19:02 [scrapy.core.engine] DEBUG: Crawled (200) <GET https://www.goodreads.com/book/show/968.The_Da_Vinci_Code> (referer: https://www.goodreads.com/list/show/1.Best_Books_Ever?page=1)\n"
     ]
    },
    {
     "name": "stdout",
     "output_type": "stream",
     "text": [
      "Warning: Book missing series (https://www.goodreads.com/book/show/929.Memoirs_of_a_Geisha).\n"
     ]
    },
    {
     "name": "stderr",
     "output_type": "stream",
     "text": [
      "2020-05-09 20:19:02 [scrapy.core.engine] DEBUG: Crawled (200) <GET https://www.goodreads.com/book/show/6185.Wuthering_Heights> (referer: https://www.goodreads.com/list/show/1.Best_Books_Ever?page=1)\n",
      "2020-05-09 20:19:02 [scrapy.core.engine] DEBUG: Crawled (200) <GET https://www.goodreads.com/book/show/370493.The_Giving_Tree> (referer: https://www.goodreads.com/list/show/1.Best_Books_Ever?page=1)\n"
     ]
    },
    {
     "name": "stdout",
     "output_type": "stream",
     "text": [
      "Warning: Book missing series (https://www.goodreads.com/book/show/6185.Wuthering_Heights).\n",
      "Warning: Book missing series (https://www.goodreads.com/book/show/370493.The_Giving_Tree).\n"
     ]
    },
    {
     "name": "stderr",
     "output_type": "stream",
     "text": [
      "2020-05-09 20:19:03 [scrapy.core.engine] DEBUG: Crawled (200) <GET https://www.goodreads.com/book/show/386162.The_Hitchhiker_s_Guide_to_the_Galaxy> (referer: https://www.goodreads.com/list/show/1.Best_Books_Ever?page=1)\n",
      "2020-05-09 20:19:03 [scrapy.core.engine] DEBUG: Crawled (200) <GET https://www.goodreads.com/book/show/11870085-the-fault-in-our-stars> (referer: https://www.goodreads.com/list/show/1.Best_Books_Ever?page=1)\n",
      "2020-05-09 20:19:03 [scrapy.core.engine] DEBUG: Crawled (200) <GET https://www.goodreads.com/book/show/18405.Gone_with_the_Wind> (referer: https://www.goodreads.com/list/show/1.Best_Books_Ever?page=1)\n"
     ]
    },
    {
     "name": "stdout",
     "output_type": "stream",
     "text": [
      "Warning: Book missing series (https://www.goodreads.com/book/show/11870085-the-fault-in-our-stars).\n"
     ]
    },
    {
     "name": "stderr",
     "output_type": "stream",
     "text": [
      "2020-05-09 20:19:04 [scrapy.core.engine] DEBUG: Crawled (200) <GET https://www.goodreads.com/book/show/24213.Alice_s_Adventures_in_Wonderland_Through_the_Looking_Glass> (referer: https://www.goodreads.com/list/show/1.Best_Books_Ever?page=1)\n",
      "2020-05-09 20:19:04 [scrapy.core.engine] DEBUG: Crawled (200) <GET https://www.goodreads.com/book/show/30.J_R_R_Tolkien_4_Book_Boxed_Set> (referer: https://www.goodreads.com/list/show/1.Best_Books_Ever?page=1)\n"
     ]
    },
    {
     "name": "stdout",
     "output_type": "stream",
     "text": [
      "Warning: Book missing series (https://www.goodreads.com/book/show/18405.Gone_with_the_Wind).\n",
      "Warning: Missing book original title (https://www.goodreads.com/book/show/30.J_R_R_Tolkien_4_Book_Boxed_Set).\n"
     ]
    },
    {
     "name": "stderr",
     "output_type": "stream",
     "text": [
      "2020-05-09 20:19:04 [scrapy.core.engine] DEBUG: Crawled (200) <GET https://www.goodreads.com/book/show/11127.The_Chronicles_of_Narnia> (referer: https://www.goodreads.com/list/show/1.Best_Books_Ever?page=1)\n",
      "2020-05-09 20:19:05 [scrapy.core.engine] DEBUG: Crawled (200) <GET https://www.goodreads.com/book/show/170448.Animal_Farm> (referer: https://www.goodreads.com/list/show/1.Best_Books_Ever?page=1)\n"
     ]
    },
    {
     "name": "stdout",
     "output_type": "stream",
     "text": [
      "Warning: Book missing series (https://www.goodreads.com/book/show/170448.Animal_Farm).\n"
     ]
    },
    {
     "name": "stderr",
     "output_type": "stream",
     "text": [
      "2020-05-09 20:19:05 [scrapy.core.engine] DEBUG: Crawled (200) <GET https://www.goodreads.com/book/show/19063.The_Book_Thief> (referer: https://www.goodreads.com/list/show/1.Best_Books_Ever?page=1)\n",
      "2020-05-09 20:19:05 [scrapy.core.engine] DEBUG: Crawled (200) <GET https://www.goodreads.com/book/show/41865.Twilight> (referer: https://www.goodreads.com/list/show/1.Best_Books_Ever?page=1)\n"
     ]
    },
    {
     "name": "stdout",
     "output_type": "stream",
     "text": [
      "Warning: Book missing series (https://www.goodreads.com/book/show/19063.The_Book_Thief).\n"
     ]
    },
    {
     "name": "stderr",
     "output_type": "stream",
     "text": [
      "2020-05-09 20:19:06 [scrapy.core.engine] DEBUG: Crawled (200) <GET https://www.goodreads.com/book/show/1885.Pride_and_Prejudice> (referer: https://www.goodreads.com/list/show/1.Best_Books_Ever?page=1)\n",
      "2020-05-09 20:19:06 [scrapy.core.engine] DEBUG: Crawled (200) <GET https://www.goodreads.com/book/show/2657.To_Kill_a_Mockingbird> (referer: https://www.goodreads.com/list/show/1.Best_Books_Ever?page=1)\n"
     ]
    },
    {
     "name": "stdout",
     "output_type": "stream",
     "text": [
      "Warning: Book missing series (https://www.goodreads.com/book/show/1885.Pride_and_Prejudice).\n"
     ]
    },
    {
     "name": "stderr",
     "output_type": "stream",
     "text": [
      "2020-05-09 20:19:06 [scrapy.core.engine] DEBUG: Crawled (200) <GET https://www.goodreads.com/book/show/2.Harry_Potter_and_the_Order_of_the_Phoenix> (referer: https://www.goodreads.com/list/show/1.Best_Books_Ever?page=1)\n",
      "2020-05-09 20:19:06 [scrapy.core.engine] DEBUG: Crawled (200) <GET https://www.goodreads.com/book/show/2767052-the-hunger-games> (referer: https://www.goodreads.com/list/show/1.Best_Books_Ever?page=1)\n",
      "2020-05-09 20:19:09 [scrapy.core.engine] DEBUG: Crawled (200) <GET https://www.goodreads.com/list/show/1.Best_Books_Ever?page=19> (referer: None)\n",
      "2020-05-09 20:19:09 [scrapy.core.engine] DEBUG: Crawled (200) <GET https://www.goodreads.com/list/show/1.Best_Books_Ever?page=18> (referer: None)\n",
      "2020-05-09 20:19:09 [scrapy.core.engine] DEBUG: Crawled (200) <GET https://www.goodreads.com/list/show/1.Best_Books_Ever?page=20> (referer: None)\n",
      "2020-05-09 20:19:09 [scrapy.core.engine] DEBUG: Crawled (200) <GET https://www.goodreads.com/list/show/1.Best_Books_Ever?page=21> (referer: None)\n",
      "2020-05-09 20:19:10 [scrapy.core.engine] DEBUG: Crawled (200) <GET https://www.goodreads.com/list/show/1.Best_Books_Ever?page=22> (referer: None)\n",
      "2020-05-09 20:19:10 [scrapy.core.engine] DEBUG: Crawled (200) <GET https://www.goodreads.com/list/show/1.Best_Books_Ever?page=23> (referer: None)\n",
      "2020-05-09 20:19:10 [scrapy.core.engine] DEBUG: Crawled (200) <GET https://www.goodreads.com/list/show/1.Best_Books_Ever?page=24> (referer: None)\n",
      "2020-05-09 20:19:11 [scrapy.core.engine] DEBUG: Crawled (200) <GET https://www.goodreads.com/list/show/1.Best_Books_Ever?page=25> (referer: None)\n",
      "2020-05-09 20:19:12 [scrapy.core.engine] DEBUG: Crawled (200) <GET https://www.goodreads.com/list/show/1.Best_Books_Ever?page=26> (referer: None)\n",
      "2020-05-09 20:19:12 [scrapy.core.engine] DEBUG: Crawled (200) <GET https://www.goodreads.com/list/show/1.Best_Books_Ever?page=27> (referer: None)\n",
      "2020-05-09 20:19:13 [scrapy.core.engine] DEBUG: Crawled (200) <GET https://www.goodreads.com/book/show/8788554-first-grave-on-the-right> (referer: https://www.goodreads.com/list/show/1.Best_Books_Ever?page=19)\n",
      "2020-05-09 20:19:13 [scrapy.core.engine] DEBUG: Crawled (200) <GET https://www.goodreads.com/list/show/1.Best_Books_Ever?page=29> (referer: None)\n",
      "2020-05-09 20:19:13 [scrapy.core.engine] DEBUG: Crawled (200) <GET https://www.goodreads.com/list/show/1.Best_Books_Ever?page=28> (referer: None)\n",
      "2020-05-09 20:19:13 [scrapy.core.engine] DEBUG: Crawled (200) <GET https://www.goodreads.com/list/show/1.Best_Books_Ever?page=30> (referer: None)\n",
      "2020-05-09 20:19:13 [scrapy.core.engine] DEBUG: Crawled (200) <GET https://www.goodreads.com/book/show/7670.The_Andromeda_Strain> (referer: https://www.goodreads.com/list/show/1.Best_Books_Ever?page=18)\n",
      "2020-05-09 20:19:13 [scrapy.core.engine] DEBUG: Crawled (200) <GET https://www.goodreads.com/list/show/1.Best_Books_Ever?page=31> (referer: None)\n",
      "2020-05-09 20:19:14 [scrapy.core.engine] DEBUG: Crawled (200) <GET https://www.goodreads.com/list/show/1.Best_Books_Ever?page=32> (referer: None)\n",
      "2020-05-09 20:19:14 [scrapy.core.engine] DEBUG: Crawled (200) <GET https://www.goodreads.com/book/show/34527.Feet_of_Clay> (referer: https://www.goodreads.com/list/show/1.Best_Books_Ever?page=20)\n",
      "2020-05-09 20:19:14 [scrapy.core.engine] DEBUG: Crawled (200) <GET https://www.goodreads.com/list/show/1.Best_Books_Ever?page=33> (referer: None)\n",
      "2020-05-09 20:19:14 [scrapy.core.engine] DEBUG: Crawled (200) <GET https://www.goodreads.com/book/show/5941233-thirst-no-1> (referer: https://www.goodreads.com/list/show/1.Best_Books_Ever?page=21)\n",
      "2020-05-09 20:19:15 [scrapy.core.engine] DEBUG: Crawled (200) <GET https://www.goodreads.com/book/show/68520.The_Winter_King> (referer: https://www.goodreads.com/list/show/1.Best_Books_Ever?page=21)\n",
      "2020-05-09 20:19:15 [scrapy.core.engine] DEBUG: Crawled (200) <GET https://www.goodreads.com/list/show/1.Best_Books_Ever?page=34> (referer: None)\n",
      "2020-05-09 20:19:15 [scrapy.core.engine] DEBUG: Crawled (200) <GET https://www.goodreads.com/book/show/147843.Green_Rider> (referer: https://www.goodreads.com/list/show/1.Best_Books_Ever?page=22)\n",
      "2020-05-09 20:19:15 [scrapy.core.engine] DEBUG: Crawled (200) <GET https://www.goodreads.com/book/show/1772910.White_Nights> (referer: https://www.goodreads.com/list/show/1.Best_Books_Ever?page=24)\n",
      "2020-05-09 20:19:16 [scrapy.core.engine] DEBUG: Crawled (200) <GET https://www.goodreads.com/book/show/821056.Hinds_Feet_on_High_Places> (referer: https://www.goodreads.com/list/show/1.Best_Books_Ever?page=25)\n"
     ]
    },
    {
     "name": "stdout",
     "output_type": "stream",
     "text": [
      "Warning: Book missing series (https://www.goodreads.com/book/show/1772910.White_Nights).\n"
     ]
    },
    {
     "name": "stderr",
     "output_type": "stream",
     "text": [
      "2020-05-09 20:19:16 [scrapy.core.engine] DEBUG: Crawled (200) <GET https://www.goodreads.com/book/show/51497.The_Strange_Case_of_Dr_Jekyll_and_Mr_Hyde_and_Other_Tales_of_Terror> (referer: https://www.goodreads.com/list/show/1.Best_Books_Ever?page=26)\n",
      "2020-05-09 20:19:16 [scrapy.core.engine] DEBUG: Crawled (200) <GET https://www.goodreads.com/book/show/15888.An_Instance_of_the_Fingerpost> (referer: https://www.goodreads.com/list/show/1.Best_Books_Ever?page=27)\n",
      "2020-05-09 20:19:17 [scrapy.core.engine] DEBUG: Crawled (200) <GET https://www.goodreads.com/book/show/52387868-diya-aur-baati-hum> (referer: https://www.goodreads.com/list/show/1.Best_Books_Ever?page=27)\n"
     ]
    },
    {
     "name": "stdout",
     "output_type": "stream",
     "text": [
      "Warning: Book missing series (https://www.goodreads.com/book/show/51497.The_Strange_Case_of_Dr_Jekyll_and_Mr_Hyde_and_Other_Tales_of_Terror).\n",
      "Warning: Book missing series (https://www.goodreads.com/book/show/15888.An_Instance_of_the_Fingerpost).\n",
      "Warning: Missing book original title (https://www.goodreads.com/book/show/52387868-diya-aur-baati-hum).\n",
      "Warning: Book missing series (https://www.goodreads.com/book/show/52387868-diya-aur-baati-hum).\n",
      "Warning: Book missing language (https://www.goodreads.com/book/show/52387868-diya-aur-baati-hum).\n",
      "Warning: Book missing genres (https://www.goodreads.com/book/show/52387868-diya-aur-baati-hum).\n"
     ]
    },
    {
     "name": "stderr",
     "output_type": "stream",
     "text": [
      "2020-05-09 20:19:17 [scrapy.core.engine] DEBUG: Crawled (200) <GET https://www.goodreads.com/book/show/190507.Phantom> (referer: https://www.goodreads.com/list/show/1.Best_Books_Ever?page=27)\n"
     ]
    },
    {
     "name": "stdout",
     "output_type": "stream",
     "text": [
      "Warning: Book missing series (https://www.goodreads.com/book/show/190507.Phantom).\n"
     ]
    },
    {
     "name": "stderr",
     "output_type": "stream",
     "text": [
      "2020-05-09 20:19:18 [scrapy.core.engine] DEBUG: Crawled (200) <GET https://www.goodreads.com/book/show/40597810-daisy-jones-the-six> (referer: https://www.goodreads.com/list/show/1.Best_Books_Ever?page=28)\n",
      "2020-05-09 20:19:18 [scrapy.core.engine] DEBUG: Crawled (200) <GET https://www.goodreads.com/book/show/67035.Relic> (referer: https://www.goodreads.com/list/show/1.Best_Books_Ever?page=28)\n"
     ]
    },
    {
     "name": "stdout",
     "output_type": "stream",
     "text": [
      "Warning: Book missing series (https://www.goodreads.com/book/show/40597810-daisy-jones-the-six).\n"
     ]
    },
    {
     "name": "stderr",
     "output_type": "stream",
     "text": [
      "2020-05-09 20:19:18 [scrapy.core.engine] DEBUG: Crawled (200) <GET https://www.goodreads.com/book/show/45220.I_Never_Promised_You_a_Rose_Garden> (referer: https://www.goodreads.com/list/show/1.Best_Books_Ever?page=31)\n",
      "2020-05-09 20:19:19 [scrapy.core.engine] DEBUG: Crawled (200) <GET https://www.goodreads.com/book/show/77554.The_Stone_Diaries> (referer: https://www.goodreads.com/list/show/1.Best_Books_Ever?page=31)\n"
     ]
    },
    {
     "name": "stdout",
     "output_type": "stream",
     "text": [
      "Warning: Book missing series (https://www.goodreads.com/book/show/45220.I_Never_Promised_You_a_Rose_Garden).\n",
      "Warning: Book missing series (https://www.goodreads.com/book/show/77554.The_Stone_Diaries).\n"
     ]
    },
    {
     "name": "stderr",
     "output_type": "stream",
     "text": [
      "2020-05-09 20:19:19 [scrapy.core.engine] DEBUG: Crawled (200) <GET https://www.goodreads.com/book/show/8948.Sons_of_Destiny> (referer: https://www.goodreads.com/list/show/1.Best_Books_Ever?page=33)\n",
      "2020-05-09 20:19:20 [scrapy.core.engine] DEBUG: Crawled (200) <GET https://www.goodreads.com/book/show/13812.Magician> (referer: https://www.goodreads.com/list/show/1.Best_Books_Ever?page=33)\n",
      "2020-05-09 20:19:20 [scrapy.core.engine] DEBUG: Crawled (200) <GET https://www.goodreads.com/book/show/52841333-a-woman-to-blame> (referer: https://www.goodreads.com/list/show/1.Best_Books_Ever?page=30)\n"
     ]
    },
    {
     "name": "stdout",
     "output_type": "stream",
     "text": [
      "Warning: Missing book original title (https://www.goodreads.com/book/show/52841333-a-woman-to-blame).\n",
      "Warning: Book missing series (https://www.goodreads.com/book/show/52841333-a-woman-to-blame).\n",
      "Warning: Book missing language (https://www.goodreads.com/book/show/52841333-a-woman-to-blame).\n"
     ]
    },
    {
     "name": "stderr",
     "output_type": "stream",
     "text": [
      "2020-05-09 20:19:21 [scrapy.core.engine] DEBUG: Crawled (200) <GET https://www.goodreads.com/book/show/41723459-thin-air> (referer: https://www.goodreads.com/list/show/1.Best_Books_Ever?page=34)\n"
     ]
    },
    {
     "name": "stdout",
     "output_type": "stream",
     "text": [
      "Warning: Missing book original title (https://www.goodreads.com/book/show/41723459-thin-air).\n"
     ]
    },
    {
     "name": "stderr",
     "output_type": "stream",
     "text": [
      "2020-05-09 20:19:21 [scrapy.core.engine] DEBUG: Crawled (200) <GET https://www.goodreads.com/book/show/86336.The_Paul_Street_Boys> (referer: https://www.goodreads.com/list/show/1.Best_Books_Ever?page=34)\n",
      "2020-05-09 20:19:21 [scrapy.core.engine] DEBUG: Crawled (200) <GET https://www.goodreads.com/book/show/202769.In_the_Night_Garden> (referer: https://www.goodreads.com/list/show/1.Best_Books_Ever?page=34)\n"
     ]
    },
    {
     "name": "stdout",
     "output_type": "stream",
     "text": [
      "Warning: Book missing series (https://www.goodreads.com/book/show/86336.The_Paul_Street_Boys).\n"
     ]
    },
    {
     "name": "stderr",
     "output_type": "stream",
     "text": [
      "2020-05-09 20:19:22 [scrapy.core.engine] DEBUG: Crawled (200) <GET https://www.goodreads.com/book/show/36697343-christmas-in-smithville> (referer: https://www.goodreads.com/list/show/1.Best_Books_Ever?page=34)\n",
      "2020-05-09 20:19:22 [scrapy.core.engine] DEBUG: Crawled (200) <GET https://www.goodreads.com/book/show/16150831-in-the-afterlight> (referer: https://www.goodreads.com/list/show/1.Best_Books_Ever?page=32)\n"
     ]
    },
    {
     "name": "stdout",
     "output_type": "stream",
     "text": [
      "Warning: Missing book original title (https://www.goodreads.com/book/show/36697343-christmas-in-smithville).\n"
     ]
    },
    {
     "name": "stderr",
     "output_type": "stream",
     "text": [
      "2020-05-09 20:19:22 [scrapy.core.engine] DEBUG: Crawled (200) <GET https://www.goodreads.com/book/show/9565045-second-grave-on-the-left> (referer: https://www.goodreads.com/list/show/1.Best_Books_Ever?page=34)\n",
      "2020-05-09 20:19:23 [scrapy.core.engine] DEBUG: Crawled (200) <GET https://www.goodreads.com/book/show/7823678-the-ugly-truth> (referer: https://www.goodreads.com/list/show/1.Best_Books_Ever?page=33)\n",
      "2020-05-09 20:19:23 [scrapy.core.engine] DEBUG: Crawled (200) <GET https://www.goodreads.com/book/show/348573.The_Borrowers> (referer: https://www.goodreads.com/list/show/1.Best_Books_Ever?page=34)\n",
      "2020-05-09 20:19:23 [scrapy.core.engine] DEBUG: Crawled (200) <GET https://www.goodreads.com/book/show/10429092-the-girl-of-fire-and-thorns> (referer: https://www.goodreads.com/list/show/1.Best_Books_Ever?page=34)\n",
      "2020-05-09 20:19:23 [scrapy.core.engine] DEBUG: Crawled (200) <GET https://www.goodreads.com/book/show/119382.The_Sands_of_Time> (referer: https://www.goodreads.com/list/show/1.Best_Books_Ever?page=34)\n",
      "2020-05-09 20:19:23 [scrapy.core.engine] DEBUG: Crawled (200) <GET https://www.goodreads.com/book/show/1902241.The_Adoration_of_Jenna_Fox> (referer: https://www.goodreads.com/list/show/1.Best_Books_Ever?page=34)\n",
      "2020-05-09 20:19:23 [scrapy.core.engine] DEBUG: Crawled (200) <GET https://www.goodreads.com/book/show/22510983-girl-online> (referer: https://www.goodreads.com/list/show/1.Best_Books_Ever?page=34)\n"
     ]
    },
    {
     "name": "stdout",
     "output_type": "stream",
     "text": [
      "Warning: Book missing series (https://www.goodreads.com/book/show/119382.The_Sands_of_Time).\n"
     ]
    },
    {
     "name": "stderr",
     "output_type": "stream",
     "text": [
      "2020-05-09 20:19:24 [scrapy.core.engine] DEBUG: Crawled (200) <GET https://www.goodreads.com/book/show/17399160-snow-like-ashes> (referer: https://www.goodreads.com/list/show/1.Best_Books_Ever?page=34)\n",
      "2020-05-09 20:19:24 [scrapy.core.engine] DEBUG: Crawled (200) <GET https://www.goodreads.com/book/show/138202.Sloppy_Firsts> (referer: https://www.goodreads.com/list/show/1.Best_Books_Ever?page=34)\n",
      "2020-05-09 20:19:25 [scrapy.core.engine] DEBUG: Crawled (200) <GET https://www.goodreads.com/book/show/12829446-fated> (referer: https://www.goodreads.com/list/show/1.Best_Books_Ever?page=34)\n",
      "2020-05-09 20:19:25 [scrapy.core.engine] DEBUG: Crawled (200) <GET https://www.goodreads.com/book/show/140974.The_Path_of_Daggers> (referer: https://www.goodreads.com/list/show/1.Best_Books_Ever?page=34)\n",
      "2020-05-09 20:19:26 [scrapy.core.engine] DEBUG: Crawled (200) <GET https://www.goodreads.com/book/show/1220507._> (referer: https://www.goodreads.com/list/show/1.Best_Books_Ever?page=34)\n",
      "2020-05-09 20:19:26 [scrapy.core.engine] DEBUG: Crawled (200) <GET https://www.goodreads.com/book/show/43049.The_Sea_Wolf> (referer: https://www.goodreads.com/list/show/1.Best_Books_Ever?page=34)\n"
     ]
    },
    {
     "name": "stdout",
     "output_type": "stream",
     "text": [
      "Warning: Book missing series (https://www.goodreads.com/book/show/1220507._).\n",
      "Warning: Book missing series (https://www.goodreads.com/book/show/43049.The_Sea_Wolf).\n"
     ]
    },
    {
     "name": "stderr",
     "output_type": "stream",
     "text": [
      "2020-05-09 20:19:26 [scrapy.core.engine] DEBUG: Crawled (200) <GET https://www.goodreads.com/book/show/12925063-inescapable> (referer: https://www.goodreads.com/list/show/1.Best_Books_Ever?page=34)\n",
      "2020-05-09 20:19:26 [scrapy.core.engine] DEBUG: Crawled (200) <GET https://www.goodreads.com/book/show/22917.The_Complete_Grimm_s_Fairy_Tales> (referer: https://www.goodreads.com/list/show/1.Best_Books_Ever?page=34)\n",
      "2020-05-09 20:19:27 [scrapy.core.engine] DEBUG: Crawled (200) <GET https://www.goodreads.com/book/show/99664.The_Painted_Veil> (referer: https://www.goodreads.com/list/show/1.Best_Books_Ever?page=34)\n",
      "2020-05-09 20:19:27 [scrapy.core.engine] DEBUG: Crawled (200) <GET https://www.goodreads.com/book/show/139569.Stone_Butch_Blues> (referer: https://www.goodreads.com/list/show/1.Best_Books_Ever?page=34)\n"
     ]
    },
    {
     "name": "stdout",
     "output_type": "stream",
     "text": [
      "Warning: Book missing series (https://www.goodreads.com/book/show/22917.The_Complete_Grimm_s_Fairy_Tales).\n",
      "Warning: Book missing series (https://www.goodreads.com/book/show/99664.The_Painted_Veil).\n",
      "Warning: Book missing series (https://www.goodreads.com/book/show/139569.Stone_Butch_Blues).\n"
     ]
    },
    {
     "name": "stderr",
     "output_type": "stream",
     "text": [
      "2020-05-09 20:19:27 [scrapy.core.engine] DEBUG: Crawled (200) <GET https://www.goodreads.com/book/show/9355.Until_I_Find_You> (referer: https://www.goodreads.com/list/show/1.Best_Books_Ever?page=34)\n",
      "2020-05-09 20:19:27 [scrapy.core.engine] DEBUG: Crawled (200) <GET https://www.goodreads.com/book/show/23125266-i-let-you-go> (referer: https://www.goodreads.com/list/show/1.Best_Books_Ever?page=34)\n"
     ]
    },
    {
     "name": "stdout",
     "output_type": "stream",
     "text": [
      "Warning: Book missing series (https://www.goodreads.com/book/show/9355.Until_I_Find_You).\n"
     ]
    },
    {
     "name": "stderr",
     "output_type": "stream",
     "text": [
      "2020-05-09 20:19:28 [scrapy.core.engine] DEBUG: Crawled (200) <GET https://www.goodreads.com/book/show/5231173-twenty-boy-summer> (referer: https://www.goodreads.com/list/show/1.Best_Books_Ever?page=34)\n"
     ]
    },
    {
     "name": "stdout",
     "output_type": "stream",
     "text": [
      "Warning: Book missing series (https://www.goodreads.com/book/show/23125266-i-let-you-go).\n"
     ]
    },
    {
     "name": "stderr",
     "output_type": "stream",
     "text": [
      "2020-05-09 20:19:28 [scrapy.core.engine] DEBUG: Crawled (200) <GET https://www.goodreads.com/book/show/8835897-defiance> (referer: https://www.goodreads.com/list/show/1.Best_Books_Ever?page=34)\n",
      "2020-05-09 20:19:28 [scrapy.core.engine] DEBUG: Crawled (200) <GET https://www.goodreads.com/book/show/78427.The_Total_Money_Makeover> (referer: https://www.goodreads.com/list/show/1.Best_Books_Ever?page=34)\n"
     ]
    },
    {
     "name": "stdout",
     "output_type": "stream",
     "text": [
      "Warning: Book missing series (https://www.goodreads.com/book/show/5231173-twenty-boy-summer).\n"
     ]
    },
    {
     "name": "stderr",
     "output_type": "stream",
     "text": [
      "2020-05-09 20:19:28 [scrapy.core.engine] DEBUG: Crawled (200) <GET https://www.goodreads.com/book/show/45685.The_Canterville_Ghost> (referer: https://www.goodreads.com/list/show/1.Best_Books_Ever?page=34)\n"
     ]
    },
    {
     "name": "stdout",
     "output_type": "stream",
     "text": [
      "Warning: Book missing series (https://www.goodreads.com/book/show/78427.The_Total_Money_Makeover).\n"
     ]
    },
    {
     "name": "stderr",
     "output_type": "stream",
     "text": [
      "2020-05-09 20:19:29 [scrapy.core.engine] DEBUG: Crawled (200) <GET https://www.goodreads.com/book/show/11283685-crossroads> (referer: https://www.goodreads.com/list/show/1.Best_Books_Ever?page=34)\n"
     ]
    },
    {
     "name": "stdout",
     "output_type": "stream",
     "text": [
      "Warning: Book missing series (https://www.goodreads.com/book/show/45685.The_Canterville_Ghost).\n"
     ]
    },
    {
     "name": "stderr",
     "output_type": "stream",
     "text": [
      "2020-05-09 20:19:29 [scrapy.core.engine] DEBUG: Crawled (200) <GET https://www.goodreads.com/book/show/40290.Seventh_Son> (referer: https://www.goodreads.com/list/show/1.Best_Books_Ever?page=34)\n",
      "2020-05-09 20:19:29 [scrapy.core.engine] DEBUG: Crawled (200) <GET https://www.goodreads.com/book/show/22864842-the-queen-of-the-tearling> (referer: https://www.goodreads.com/list/show/1.Best_Books_Ever?page=34)\n",
      "2020-05-09 20:19:30 [scrapy.core.engine] DEBUG: Crawled (200) <GET https://www.goodreads.com/book/show/9462.Plato> (referer: https://www.goodreads.com/list/show/1.Best_Books_Ever?page=34)\n"
     ]
    },
    {
     "name": "stdout",
     "output_type": "stream",
     "text": [
      "Warning: Missing book original title (https://www.goodreads.com/book/show/9462.Plato).\n"
     ]
    },
    {
     "name": "stderr",
     "output_type": "stream",
     "text": [
      "2020-05-09 20:19:30 [scrapy.core.engine] DEBUG: Crawled (200) <GET https://www.goodreads.com/book/show/782580.The_Complete_Poetry_and_Prose> (referer: https://www.goodreads.com/list/show/1.Best_Books_Ever?page=34)\n",
      "2020-05-09 20:19:30 [scrapy.core.engine] DEBUG: Crawled (200) <GET https://www.goodreads.com/book/show/293101.The_Amityville_Horror> (referer: https://www.goodreads.com/list/show/1.Best_Books_Ever?page=34)\n"
     ]
    },
    {
     "name": "stdout",
     "output_type": "stream",
     "text": [
      "Warning: Book missing series (https://www.goodreads.com/book/show/782580.The_Complete_Poetry_and_Prose).\n",
      "Warning: Book missing series (https://www.goodreads.com/book/show/293101.The_Amityville_Horror).\n"
     ]
    },
    {
     "name": "stderr",
     "output_type": "stream",
     "text": [
      "2020-05-09 20:19:31 [scrapy.core.engine] DEBUG: Crawled (200) <GET https://www.goodreads.com/book/show/15757434-crash> (referer: https://www.goodreads.com/list/show/1.Best_Books_Ever?page=34)\n",
      "2020-05-09 20:19:31 [scrapy.core.engine] DEBUG: Crawled (200) <GET https://www.goodreads.com/book/show/34879754-i-am-watching-you> (referer: https://www.goodreads.com/list/show/1.Best_Books_Ever?page=34)\n"
     ]
    },
    {
     "name": "stdout",
     "output_type": "stream",
     "text": [
      "Warning: Book missing series (https://www.goodreads.com/book/show/34879754-i-am-watching-you).\n"
     ]
    },
    {
     "name": "stderr",
     "output_type": "stream",
     "text": [
      "2020-05-09 20:19:32 [scrapy.core.engine] DEBUG: Crawled (200) <GET https://www.goodreads.com/book/show/50667.Little_Big_Man> (referer: https://www.goodreads.com/list/show/1.Best_Books_Ever?page=34)\n",
      "2020-05-09 20:19:32 [scrapy.core.engine] DEBUG: Crawled (200) <GET https://www.goodreads.com/book/show/11346.Sula> (referer: https://www.goodreads.com/list/show/1.Best_Books_Ever?page=34)\n",
      "2020-05-09 20:19:32 [scrapy.core.engine] DEBUG: Crawled (200) <GET https://www.goodreads.com/book/show/104837.Antony_and_Cleopatra> (referer: https://www.goodreads.com/list/show/1.Best_Books_Ever?page=34)\n"
     ]
    },
    {
     "name": "stdout",
     "output_type": "stream",
     "text": [
      "Warning: Book missing series (https://www.goodreads.com/book/show/11346.Sula).\n"
     ]
    },
    {
     "name": "stderr",
     "output_type": "stream",
     "text": [
      "2020-05-09 20:19:32 [scrapy.core.engine] DEBUG: Crawled (200) <GET https://www.goodreads.com/book/show/129621.Almost_Heaven> (referer: https://www.goodreads.com/list/show/1.Best_Books_Ever?page=34)\n"
     ]
    },
    {
     "name": "stdout",
     "output_type": "stream",
     "text": [
      "Warning: Book missing series (https://www.goodreads.com/book/show/104837.Antony_and_Cleopatra).\n",
      "Warning: Book missing description (https://www.goodreads.com/book/show/104837.Antony_and_Cleopatra).\n"
     ]
    },
    {
     "name": "stderr",
     "output_type": "stream",
     "text": [
      "2020-05-09 20:19:32 [scrapy.core.engine] DEBUG: Crawled (200) <GET https://www.goodreads.com/book/show/25051.Mrs_Piggle_Wiggle> (referer: https://www.goodreads.com/list/show/1.Best_Books_Ever?page=34)\n",
      "2020-05-09 20:19:33 [scrapy.core.engine] DEBUG: Crawled (200) <GET https://www.goodreads.com/book/show/15860.State_of_Fear> (referer: https://www.goodreads.com/list/show/1.Best_Books_Ever?page=34)\n",
      "2020-05-09 20:19:33 [scrapy.core.engine] DEBUG: Crawled (200) <GET https://www.goodreads.com/book/show/3378.Generation_X> (referer: https://www.goodreads.com/list/show/1.Best_Books_Ever?page=34)\n"
     ]
    },
    {
     "name": "stdout",
     "output_type": "stream",
     "text": [
      "Warning: Book missing series (https://www.goodreads.com/book/show/15860.State_of_Fear).\n",
      "Warning: Book missing series (https://www.goodreads.com/book/show/3378.Generation_X).\n"
     ]
    },
    {
     "name": "stderr",
     "output_type": "stream",
     "text": [
      "2020-05-09 20:19:33 [scrapy.core.engine] DEBUG: Crawled (200) <GET https://www.goodreads.com/book/show/11041.Delta_of_Venus> (referer: https://www.goodreads.com/list/show/1.Best_Books_Ever?page=34)\n",
      "2020-05-09 20:19:34 [scrapy.core.engine] DEBUG: Crawled (200) <GET https://www.goodreads.com/book/show/12908877-until-i-die> (referer: https://www.goodreads.com/list/show/1.Best_Books_Ever?page=34)\n"
     ]
    },
    {
     "name": "stdout",
     "output_type": "stream",
     "text": [
      "Warning: Book missing series (https://www.goodreads.com/book/show/11041.Delta_of_Venus).\n"
     ]
    },
    {
     "name": "stderr",
     "output_type": "stream",
     "text": [
      "2020-05-09 20:19:34 [scrapy.core.engine] DEBUG: Crawled (200) <GET https://www.goodreads.com/book/show/25014114-history-is-all-you-left-me> (referer: https://www.goodreads.com/list/show/1.Best_Books_Ever?page=34)\n"
     ]
    },
    {
     "name": "stdout",
     "output_type": "stream",
     "text": [
      "Warning: Book missing series (https://www.goodreads.com/book/show/25014114-history-is-all-you-left-me).\n"
     ]
    },
    {
     "name": "stderr",
     "output_type": "stream",
     "text": [
      "2020-05-09 20:19:34 [scrapy.core.engine] DEBUG: Crawled (200) <GET https://www.goodreads.com/book/show/3863861-just-the-sexiest-man-alive> (referer: https://www.goodreads.com/list/show/1.Best_Books_Ever?page=34)\n",
      "2020-05-09 20:19:34 [scrapy.core.engine] DEBUG: Crawled (200) <GET https://www.goodreads.com/book/show/203818.The_New_Oxford_Annotated_Bible> (referer: https://www.goodreads.com/list/show/1.Best_Books_Ever?page=34)\n",
      "2020-05-09 20:19:35 [scrapy.core.engine] DEBUG: Crawled (200) <GET https://www.goodreads.com/book/show/150739.Dealing_with_Dragons> (referer: https://www.goodreads.com/list/show/1.Best_Books_Ever?page=34)\n"
     ]
    },
    {
     "name": "stdout",
     "output_type": "stream",
     "text": [
      "Warning: Book missing series (https://www.goodreads.com/book/show/3863861-just-the-sexiest-man-alive).\n",
      "Warning: Book missing series (https://www.goodreads.com/book/show/203818.The_New_Oxford_Annotated_Bible).\n"
     ]
    },
    {
     "name": "stderr",
     "output_type": "stream",
     "text": [
      "2020-05-09 20:19:36 [scrapy.core.engine] DEBUG: Crawled (200) <GET https://www.goodreads.com/book/show/225038.Half_Magic> (referer: https://www.goodreads.com/list/show/1.Best_Books_Ever?page=34)\n",
      "2020-05-09 20:19:36 [scrapy.core.engine] DEBUG: Crawled (200) <GET https://www.goodreads.com/book/show/7821447-sh-t-my-dad-says> (referer: https://www.goodreads.com/list/show/1.Best_Books_Ever?page=34)\n",
      "2020-05-09 20:19:36 [scrapy.core.engine] DEBUG: Crawled (200) <GET https://www.goodreads.com/book/show/21965107-the-children-act> (referer: https://www.goodreads.com/list/show/1.Best_Books_Ever?page=34)\n"
     ]
    },
    {
     "name": "stdout",
     "output_type": "stream",
     "text": [
      "Warning: Book missing series (https://www.goodreads.com/book/show/21965107-the-children-act).\n"
     ]
    },
    {
     "name": "stderr",
     "output_type": "stream",
     "text": [
      "2020-05-09 20:19:37 [scrapy.core.engine] DEBUG: Crawled (200) <GET https://www.goodreads.com/book/show/6600807-jealousy> (referer: https://www.goodreads.com/list/show/1.Best_Books_Ever?page=34)\n",
      "2020-05-09 20:19:37 [scrapy.core.engine] DEBUG: Crawled (200) <GET https://www.goodreads.com/book/show/8540357-the-enemy> (referer: https://www.goodreads.com/list/show/1.Best_Books_Ever?page=34)\n",
      "2020-05-09 20:19:37 [scrapy.core.engine] DEBUG: Crawled (200) <GET https://www.goodreads.com/book/show/8712343-kiss-of-snow> (referer: https://www.goodreads.com/list/show/1.Best_Books_Ever?page=34)\n",
      "2020-05-09 20:19:37 [scrapy.core.engine] DEBUG: Crawled (200) <GET https://www.goodreads.com/book/show/71332.Push> (referer: https://www.goodreads.com/list/show/1.Best_Books_Ever?page=34)\n"
     ]
    },
    {
     "name": "stdout",
     "output_type": "stream",
     "text": [
      "Warning: Book missing series (https://www.goodreads.com/book/show/71332.Push).\n"
     ]
    },
    {
     "name": "stderr",
     "output_type": "stream",
     "text": [
      "2020-05-09 20:19:38 [scrapy.core.engine] DEBUG: Crawled (200) <GET https://www.goodreads.com/book/show/8258519-new-york> (referer: https://www.goodreads.com/list/show/1.Best_Books_Ever?page=34)\n",
      "2020-05-09 20:19:38 [scrapy.core.engine] DEBUG: Crawled (200) <GET https://www.goodreads.com/book/show/22471294-black-lies> (referer: https://www.goodreads.com/list/show/1.Best_Books_Ever?page=34)\n",
      "2020-05-09 20:19:38 [scrapy.core.engine] DEBUG: Crawled (200) <GET https://www.goodreads.com/book/show/158770.Three_Kingdoms> (referer: https://www.goodreads.com/list/show/1.Best_Books_Ever?page=34)\n"
     ]
    },
    {
     "name": "stdout",
     "output_type": "stream",
     "text": [
      "Warning: Book missing series (https://www.goodreads.com/book/show/8258519-new-york).\n",
      "Warning: Book missing series (https://www.goodreads.com/book/show/22471294-black-lies).\n",
      "Warning: Missing book original title (https://www.goodreads.com/book/show/158770.Three_Kingdoms).\n"
     ]
    },
    {
     "name": "stderr",
     "output_type": "stream",
     "text": [
      "2020-05-09 20:19:39 [scrapy.core.engine] DEBUG: Crawled (200) <GET https://www.goodreads.com/book/show/9850443-the-sisters-brothers> (referer: https://www.goodreads.com/list/show/1.Best_Books_Ever?page=34)\n",
      "2020-05-09 20:19:39 [scrapy.core.engine] DEBUG: Crawled (200) <GET https://www.goodreads.com/book/show/11734.The_Human_Stain> (referer: https://www.goodreads.com/list/show/1.Best_Books_Ever?page=34)\n"
     ]
    },
    {
     "name": "stdout",
     "output_type": "stream",
     "text": [
      "Warning: Book missing series (https://www.goodreads.com/book/show/9850443-the-sisters-brothers).\n"
     ]
    },
    {
     "name": "stderr",
     "output_type": "stream",
     "text": [
      "2020-05-09 20:19:39 [scrapy.core.engine] DEBUG: Crawled (200) <GET https://www.goodreads.com/book/show/23168277-the-sympathizer> (referer: https://www.goodreads.com/list/show/1.Best_Books_Ever?page=34)\n"
     ]
    },
    {
     "name": "stdout",
     "output_type": "stream",
     "text": [
      "Warning: Book missing series (https://www.goodreads.com/book/show/23168277-the-sympathizer).\n"
     ]
    },
    {
     "name": "stderr",
     "output_type": "stream",
     "text": [
      "2020-05-09 20:19:40 [scrapy.core.engine] DEBUG: Crawled (200) <GET https://www.goodreads.com/book/show/28815.Influence> (referer: https://www.goodreads.com/list/show/1.Best_Books_Ever?page=34)\n",
      "2020-05-09 20:19:40 [scrapy.core.engine] DEBUG: Crawled (200) <GET https://www.goodreads.com/book/show/6319978-friday-night-bites> (referer: https://www.goodreads.com/list/show/1.Best_Books_Ever?page=34)\n"
     ]
    },
    {
     "name": "stdout",
     "output_type": "stream",
     "text": [
      "Warning: Book missing series (https://www.goodreads.com/book/show/28815.Influence).\n"
     ]
    },
    {
     "name": "stderr",
     "output_type": "stream",
     "text": [
      "2020-05-09 20:19:40 [scrapy.core.engine] DEBUG: Crawled (200) <GET https://www.goodreads.com/book/show/9409469-the-gray-wolf-throne> (referer: https://www.goodreads.com/list/show/1.Best_Books_Ever?page=34)\n",
      "2020-05-09 20:19:41 [scrapy.core.engine] DEBUG: Crawled (200) <GET https://www.goodreads.com/book/show/141526.Pulp> (referer: https://www.goodreads.com/list/show/1.Best_Books_Ever?page=34)\n",
      "2020-05-09 20:19:41 [scrapy.core.engine] DEBUG: Crawled (200) <GET https://www.goodreads.com/book/show/111300.To_a_God_Unknown> (referer: https://www.goodreads.com/list/show/1.Best_Books_Ever?page=34)\n",
      "2020-05-09 20:19:41 [scrapy.core.engine] DEBUG: Crawled (200) <GET https://www.goodreads.com/book/show/7261549-dark-days> (referer: https://www.goodreads.com/list/show/1.Best_Books_Ever?page=34)\n"
     ]
    },
    {
     "name": "stdout",
     "output_type": "stream",
     "text": [
      "Warning: Book missing series (https://www.goodreads.com/book/show/141526.Pulp).\n",
      "Warning: Book missing series (https://www.goodreads.com/book/show/111300.To_a_God_Unknown).\n"
     ]
    },
    {
     "name": "stderr",
     "output_type": "stream",
     "text": [
      "2020-05-09 20:19:41 [scrapy.core.engine] DEBUG: Crawled (200) <GET https://www.goodreads.com/book/show/77156.Plainsong> (referer: https://www.goodreads.com/list/show/1.Best_Books_Ever?page=34)\n",
      "2020-05-09 20:19:42 [scrapy.core.engine] DEBUG: Crawled (200) <GET https://www.goodreads.com/book/show/3368983-death-note-box-set> (referer: https://www.goodreads.com/list/show/1.Best_Books_Ever?page=34)\n",
      "2020-05-09 20:19:42 [scrapy.core.engine] DEBUG: Crawled (200) <GET https://www.goodreads.com/book/show/7802254-succubus-revealed> (referer: https://www.goodreads.com/list/show/1.Best_Books_Ever?page=34)\n",
      "2020-05-09 20:19:42 [scrapy.core.engine] DEBUG: Crawled (200) <GET https://www.goodreads.com/book/show/82888.Dom_Casmurro> (referer: https://www.goodreads.com/list/show/1.Best_Books_Ever?page=34)\n",
      "2020-05-09 20:19:43 [scrapy.core.engine] DEBUG: Crawled (200) <GET https://www.goodreads.com/book/show/6464094-this-book-is-not-good-for-you> (referer: https://www.goodreads.com/list/show/1.Best_Books_Ever?page=34)\n"
     ]
    },
    {
     "name": "stdout",
     "output_type": "stream",
     "text": [
      "Warning: Book missing series (https://www.goodreads.com/book/show/82888.Dom_Casmurro).\n"
     ]
    },
    {
     "name": "stderr",
     "output_type": "stream",
     "text": [
      "2020-05-09 20:19:43 [scrapy.core.engine] DEBUG: Crawled (200) <GET https://www.goodreads.com/book/show/57586.Giants_in_the_Earth> (referer: https://www.goodreads.com/list/show/1.Best_Books_Ever?page=34)\n",
      "2020-05-09 20:19:44 [scrapy.core.engine] DEBUG: Crawled (200) <GET https://www.goodreads.com/book/show/117047.The_Blind_Watchmaker> (referer: https://www.goodreads.com/list/show/1.Best_Books_Ever?page=34)\n",
      "2020-05-09 20:19:44 [scrapy.core.engine] DEBUG: Crawled (200) <GET https://www.goodreads.com/book/show/1429.The_Fifth_Mountain> (referer: https://www.goodreads.com/list/show/1.Best_Books_Ever?page=34)\n"
     ]
    },
    {
     "name": "stdout",
     "output_type": "stream",
     "text": [
      "Warning: Book missing series (https://www.goodreads.com/book/show/117047.The_Blind_Watchmaker).\n",
      "Warning: Book missing series (https://www.goodreads.com/book/show/1429.The_Fifth_Mountain).\n"
     ]
    },
    {
     "name": "stderr",
     "output_type": "stream",
     "text": [
      "2020-05-09 20:19:45 [scrapy.core.engine] DEBUG: Crawled (200) <GET https://www.goodreads.com/book/show/7119070> (referer: https://www.goodreads.com/list/show/1.Best_Books_Ever?page=34)\n",
      "2020-05-09 20:19:45 [scrapy.core.engine] DEBUG: Crawled (200) <GET https://www.goodreads.com/book/show/2890090-the-republic-of-thieves> (referer: https://www.goodreads.com/list/show/1.Best_Books_Ever?page=34)\n",
      "2020-05-09 20:19:45 [scrapy.core.engine] DEBUG: Crawled (200) <GET https://www.goodreads.com/book/show/23604559-my-grandmother-asked-me-to-tell-you-she-s-sorry> (referer: https://www.goodreads.com/list/show/1.Best_Books_Ever?page=34)\n"
     ]
    },
    {
     "name": "stdout",
     "output_type": "stream",
     "text": [
      "Warning: Book missing series (https://www.goodreads.com/book/show/7119070).\n"
     ]
    },
    {
     "name": "stderr",
     "output_type": "stream",
     "text": [
      "2020-05-09 20:19:45 [scrapy.core.engine] DEBUG: Crawled (200) <GET https://www.goodreads.com/book/show/43841.When_Christ_and_His_Saints_Slept> (referer: https://www.goodreads.com/list/show/1.Best_Books_Ever?page=34)\n",
      "2020-05-09 20:19:45 [scrapy.core.engine] DEBUG: Crawled (200) <GET https://www.goodreads.com/book/show/40801157-the-miseducation-of-cameron-post> (referer: https://www.goodreads.com/list/show/1.Best_Books_Ever?page=34)\n",
      "2020-05-09 20:19:45 [scrapy.core.engine] DEBUG: Crawled (200) <GET https://www.goodreads.com/book/show/21704.The_Black_Dahlia> (referer: https://www.goodreads.com/list/show/1.Best_Books_Ever?page=34)\n"
     ]
    },
    {
     "name": "stdout",
     "output_type": "stream",
     "text": [
      "Warning: Book missing series (https://www.goodreads.com/book/show/23604559-my-grandmother-asked-me-to-tell-you-she-s-sorry).\n"
     ]
    },
    {
     "name": "stderr",
     "output_type": "stream",
     "text": [
      "2020-05-09 20:19:46 [scrapy.core.engine] DEBUG: Crawled (200) <GET https://www.goodreads.com/book/show/6609758-numbers> (referer: https://www.goodreads.com/list/show/1.Best_Books_Ever?page=34)\n",
      "2020-05-09 20:19:46 [scrapy.core.engine] DEBUG: Crawled (200) <GET https://www.goodreads.com/book/show/7619292-twilight> (referer: https://www.goodreads.com/list/show/1.Best_Books_Ever?page=34)\n"
     ]
    },
    {
     "name": "stdout",
     "output_type": "stream",
     "text": [
      "Warning: Book missing series (https://www.goodreads.com/book/show/40801157-the-miseducation-of-cameron-post).\n"
     ]
    },
    {
     "name": "stderr",
     "output_type": "stream",
     "text": [
      "2020-05-09 20:19:46 [scrapy.core.engine] DEBUG: Crawled (200) <GET https://www.goodreads.com/book/show/10327303-uncommon-criminals> (referer: https://www.goodreads.com/list/show/1.Best_Books_Ever?page=34)\n",
      "2020-05-09 20:19:46 [scrapy.core.engine] DEBUG: Crawled (200) <GET https://www.goodreads.com/book/show/1099262.La_resistencia> (referer: https://www.goodreads.com/list/show/1.Best_Books_Ever?page=34)\n",
      "2020-05-09 20:19:47 [scrapy.core.engine] DEBUG: Crawled (200) <GET https://www.goodreads.com/book/show/32145.Stiff> (referer: https://www.goodreads.com/list/show/1.Best_Books_Ever?page=34)\n"
     ]
    },
    {
     "name": "stdout",
     "output_type": "stream",
     "text": [
      "Warning: Missing book original title (https://www.goodreads.com/book/show/1099262.La_resistencia).\n"
     ]
    },
    {
     "name": "stderr",
     "output_type": "stream",
     "text": [
      "2020-05-09 20:19:47 [scrapy.core.engine] DEBUG: Crawled (200) <GET https://www.goodreads.com/book/show/277397.Ellen_Foster> (referer: https://www.goodreads.com/list/show/1.Best_Books_Ever?page=34)\n",
      "2020-05-09 20:19:47 [scrapy.core.engine] DEBUG: Crawled (200) <GET https://www.goodreads.com/book/show/27068734-but-what-if-we-re-wrong-thinking-about-the-present-as-if-it-were-the-pa> (referer: https://www.goodreads.com/list/show/1.Best_Books_Ever?page=34)\n"
     ]
    },
    {
     "name": "stdout",
     "output_type": "stream",
     "text": [
      "Warning: Book missing series (https://www.goodreads.com/book/show/32145.Stiff).\n",
      "Warning: Book missing series (https://www.goodreads.com/book/show/27068734-but-what-if-we-re-wrong-thinking-about-the-present-as-if-it-were-the-pa).\n"
     ]
    },
    {
     "name": "stderr",
     "output_type": "stream",
     "text": [
      "2020-05-09 20:19:47 [scrapy.core.engine] DEBUG: Crawled (200) <GET https://www.goodreads.com/book/show/7783920-because-of-mr-terupt> (referer: https://www.goodreads.com/list/show/1.Best_Books_Ever?page=34)\n",
      "2020-05-09 20:19:48 [scrapy.core.engine] DEBUG: Crawled (200) <GET https://www.goodreads.com/book/show/6348045-halt-s-peril> (referer: https://www.goodreads.com/list/show/1.Best_Books_Ever?page=34)\n",
      "2020-05-09 20:19:48 [scrapy.core.engine] DEBUG: Crawled (200) <GET https://www.goodreads.com/book/show/395182.Lucky_Jim> (referer: https://www.goodreads.com/list/show/1.Best_Books_Ever?page=34)\n"
     ]
    },
    {
     "name": "stdout",
     "output_type": "stream",
     "text": [
      "Warning: Book missing series (https://www.goodreads.com/book/show/395182.Lucky_Jim).\n"
     ]
    },
    {
     "name": "stderr",
     "output_type": "stream",
     "text": [
      "2020-05-09 20:19:49 [scrapy.core.engine] DEBUG: Crawled (200) <GET https://www.goodreads.com/book/show/11922.Stolen> (referer: https://www.goodreads.com/list/show/1.Best_Books_Ever?page=34)\n",
      "2020-05-09 20:19:49 [scrapy.core.engine] DEBUG: Crawled (200) <GET https://www.goodreads.com/book/show/21727.A_Simple_Plan> (referer: https://www.goodreads.com/list/show/1.Best_Books_Ever?page=34)\n",
      "2020-05-09 20:19:49 [scrapy.core.engine] DEBUG: Crawled (200) <GET https://www.goodreads.com/book/show/9013.The_Long_Walk> (referer: https://www.goodreads.com/list/show/1.Best_Books_Ever?page=34)\n"
     ]
    },
    {
     "name": "stdout",
     "output_type": "stream",
     "text": [
      "Warning: Book missing series (https://www.goodreads.com/book/show/21727.A_Simple_Plan).\n",
      "Warning: Book missing language (https://www.goodreads.com/book/show/21727.A_Simple_Plan).\n"
     ]
    },
    {
     "name": "stderr",
     "output_type": "stream",
     "text": [
      "2020-05-09 20:19:49 [scrapy.core.engine] DEBUG: Crawled (200) <GET https://www.goodreads.com/book/show/27071490-homegoing> (referer: https://www.goodreads.com/list/show/1.Best_Books_Ever?page=34)\n"
     ]
    },
    {
     "name": "stdout",
     "output_type": "stream",
     "text": [
      "Warning: Book missing series (https://www.goodreads.com/book/show/9013.The_Long_Walk).\n",
      "Warning: Book missing series (https://www.goodreads.com/book/show/27071490-homegoing).\n"
     ]
    },
    {
     "name": "stderr",
     "output_type": "stream",
     "text": [
      "2020-05-09 20:19:50 [scrapy.core.engine] DEBUG: Crawled (200) <GET https://www.goodreads.com/book/show/336245.A_Dangerous_Path> (referer: https://www.goodreads.com/list/show/1.Best_Books_Ever?page=34)\n",
      "2020-05-09 20:19:50 [scrapy.core.engine] DEBUG: Crawled (200) <GET https://www.goodreads.com/book/show/41811.The_Caves_of_Steel> (referer: https://www.goodreads.com/list/show/1.Best_Books_Ever?page=34)\n",
      "2020-05-09 20:19:50 [scrapy.core.engine] DEBUG: Crawled (200) <GET https://www.goodreads.com/book/show/17878917-i-the-sun> (referer: https://www.goodreads.com/list/show/1.Best_Books_Ever?page=34)\n"
     ]
    },
    {
     "name": "stdout",
     "output_type": "stream",
     "text": [
      "Warning: Book missing series (https://www.goodreads.com/book/show/17878917-i-the-sun).\n"
     ]
    },
    {
     "name": "stderr",
     "output_type": "stream",
     "text": [
      "2020-05-09 20:19:51 [scrapy.core.engine] DEBUG: Crawled (200) <GET https://www.goodreads.com/book/show/4373.First_They_Killed_My_Father> (referer: https://www.goodreads.com/list/show/1.Best_Books_Ever?page=34)\n",
      "2020-05-09 20:19:51 [scrapy.core.engine] DEBUG: Crawled (200) <GET https://www.goodreads.com/book/show/380017.The_Information> (referer: https://www.goodreads.com/list/show/1.Best_Books_Ever?page=34)\n"
     ]
    },
    {
     "name": "stdout",
     "output_type": "stream",
     "text": [
      "Warning: Book missing series (https://www.goodreads.com/book/show/380017.The_Information).\n"
     ]
    },
    {
     "name": "stderr",
     "output_type": "stream",
     "text": [
      "2020-05-09 20:19:52 [scrapy.core.engine] DEBUG: Crawled (200) <GET https://www.goodreads.com/book/show/186103.Peeps> (referer: https://www.goodreads.com/list/show/1.Best_Books_Ever?page=33)\n",
      "2020-05-09 20:19:52 [scrapy.core.engine] DEBUG: Crawled (200) <GET https://www.goodreads.com/book/show/162332.The_Sailor_Who_Fell_from_Grace_with_the_Sea> (referer: https://www.goodreads.com/list/show/1.Best_Books_Ever?page=33)\n"
     ]
    },
    {
     "name": "stdout",
     "output_type": "stream",
     "text": [
      "Warning: Book missing series (https://www.goodreads.com/book/show/162332.The_Sailor_Who_Fell_from_Grace_with_the_Sea).\n"
     ]
    },
    {
     "name": "stderr",
     "output_type": "stream",
     "text": [
      "2020-05-09 20:19:53 [scrapy.core.engine] DEBUG: Crawled (200) <GET https://www.goodreads.com/book/show/12813630-the-coldest-girl-in-coldtown> (referer: https://www.goodreads.com/list/show/1.Best_Books_Ever?page=33)\n",
      "2020-05-09 20:19:53 [scrapy.core.engine] DEBUG: Crawled (200) <GET https://www.goodreads.com/book/show/6597651-the-windup-girl> (referer: https://www.goodreads.com/list/show/1.Best_Books_Ever?page=33)\n"
     ]
    },
    {
     "name": "stdout",
     "output_type": "stream",
     "text": [
      "Warning: Book missing series (https://www.goodreads.com/book/show/12813630-the-coldest-girl-in-coldtown).\n"
     ]
    },
    {
     "name": "stderr",
     "output_type": "stream",
     "text": [
      "2020-05-09 20:19:53 [scrapy.core.engine] DEBUG: Crawled (200) <GET https://www.goodreads.com/book/show/1500209.Nobody_s_Boy> (referer: https://www.goodreads.com/list/show/1.Best_Books_Ever?page=33)\n",
      "2020-05-09 20:19:54 [scrapy.core.engine] DEBUG: Crawled (200) <GET https://www.goodreads.com/book/show/7849034-goddess> (referer: https://www.goodreads.com/list/show/1.Best_Books_Ever?page=33)\n"
     ]
    },
    {
     "name": "stdout",
     "output_type": "stream",
     "text": [
      "Warning: Book missing series (https://www.goodreads.com/book/show/1500209.Nobody_s_Boy).\n"
     ]
    },
    {
     "name": "stderr",
     "output_type": "stream",
     "text": [
      "2020-05-09 20:19:54 [scrapy.core.engine] DEBUG: Crawled (200) <GET https://www.goodreads.com/book/show/9553503-angel-fire> (referer: https://www.goodreads.com/list/show/1.Best_Books_Ever?page=33)\n",
      "2020-05-09 20:19:55 [scrapy.core.engine] DEBUG: Crawled (200) <GET https://www.goodreads.com/book/show/6538757-rock-chick> (referer: https://www.goodreads.com/list/show/1.Best_Books_Ever?page=33)\n",
      "2020-05-09 20:19:55 [scrapy.core.engine] DEBUG: Crawled (200) <GET https://www.goodreads.com/book/show/481749.Jesus_the_Christ> (referer: https://www.goodreads.com/list/show/1.Best_Books_Ever?page=33)\n",
      "2020-05-09 20:19:55 [scrapy.core.engine] DEBUG: Crawled (200) <GET https://www.goodreads.com/book/show/14060046-obsession> (referer: https://www.goodreads.com/list/show/1.Best_Books_Ever?page=34)\n"
     ]
    },
    {
     "name": "stdout",
     "output_type": "stream",
     "text": [
      "Warning: Book missing series (https://www.goodreads.com/book/show/481749.Jesus_the_Christ).\n",
      "Warning: Missing book original title (https://www.goodreads.com/book/show/14060046-obsession).\n"
     ]
    },
    {
     "name": "stderr",
     "output_type": "stream",
     "text": [
      "2020-05-09 20:19:56 [scrapy.core.engine] DEBUG: Crawled (200) <GET https://www.goodreads.com/book/show/6224935-this-is-where-i-leave-you> (referer: https://www.goodreads.com/list/show/1.Best_Books_Ever?page=33)\n",
      "2020-05-09 20:19:56 [scrapy.core.engine] DEBUG: Crawled (200) <GET https://www.goodreads.com/book/show/201345.Martin_the_Warrior> (referer: https://www.goodreads.com/list/show/1.Best_Books_Ever?page=33)\n"
     ]
    },
    {
     "name": "stdout",
     "output_type": "stream",
     "text": [
      "Warning: Book missing series (https://www.goodreads.com/book/show/6224935-this-is-where-i-leave-you).\n"
     ]
    },
    {
     "name": "stderr",
     "output_type": "stream",
     "text": [
      "2020-05-09 20:19:56 [scrapy.core.engine] DEBUG: Crawled (200) <GET https://www.goodreads.com/book/show/6916963-succubus-shadows> (referer: https://www.goodreads.com/list/show/1.Best_Books_Ever?page=33)\n",
      "2020-05-09 20:19:57 [scrapy.core.engine] DEBUG: Crawled (200) <GET https://www.goodreads.com/book/show/27904311-the-hammer-of-thor> (referer: https://www.goodreads.com/list/show/1.Best_Books_Ever?page=33)\n",
      "2020-05-09 20:19:57 [scrapy.core.engine] DEBUG: Crawled (200) <GET https://www.goodreads.com/book/show/10128428-wonderstruck> (referer: https://www.goodreads.com/list/show/1.Best_Books_Ever?page=33)\n",
      "2020-05-09 20:19:57 [scrapy.core.engine] DEBUG: Crawled (200) <GET https://www.goodreads.com/book/show/10551947-the-outcasts> (referer: https://www.goodreads.com/list/show/1.Best_Books_Ever?page=33)\n",
      "2020-05-09 20:19:57 [scrapy.core.engine] DEBUG: Crawled (200) <GET https://www.goodreads.com/book/show/6371117-betrayals> (referer: https://www.goodreads.com/list/show/1.Best_Books_Ever?page=33)\n",
      "2020-05-09 20:19:57 [scrapy.core.engine] DEBUG: Crawled (200) <GET https://www.goodreads.com/book/show/49465.Those_Who_Save_Us> (referer: https://www.goodreads.com/list/show/1.Best_Books_Ever?page=33)\n"
     ]
    },
    {
     "name": "stdout",
     "output_type": "stream",
     "text": [
      "Warning: Book missing series (https://www.goodreads.com/book/show/10128428-wonderstruck).\n"
     ]
    },
    {
     "name": "stderr",
     "output_type": "stream",
     "text": [
      "2020-05-09 20:19:58 [scrapy.core.engine] DEBUG: Crawled (200) <GET https://www.goodreads.com/book/show/26074181-the-crown> (referer: https://www.goodreads.com/list/show/1.Best_Books_Ever?page=33)\n"
     ]
    },
    {
     "name": "stdout",
     "output_type": "stream",
     "text": [
      "Warning: Book missing series (https://www.goodreads.com/book/show/49465.Those_Who_Save_Us).\n"
     ]
    },
    {
     "name": "stderr",
     "output_type": "stream",
     "text": [
      "2020-05-09 20:19:58 [scrapy.core.engine] DEBUG: Crawled (200) <GET https://www.goodreads.com/book/show/175242.Every_Dead_Thing> (referer: https://www.goodreads.com/list/show/1.Best_Books_Ever?page=33)\n",
      "2020-05-09 20:19:58 [scrapy.core.engine] DEBUG: Crawled (200) <GET https://www.goodreads.com/book/show/321950.Blood_and_Guts_in_High_School> (referer: https://www.goodreads.com/list/show/1.Best_Books_Ever?page=33)\n",
      "2020-05-09 20:19:58 [scrapy.core.engine] DEBUG: Crawled (200) <GET https://www.goodreads.com/book/show/13477676-forgive-me-leonard-peacock> (referer: https://www.goodreads.com/list/show/1.Best_Books_Ever?page=33)\n"
     ]
    },
    {
     "name": "stdout",
     "output_type": "stream",
     "text": [
      "Warning: Book missing series (https://www.goodreads.com/book/show/321950.Blood_and_Guts_in_High_School).\n"
     ]
    },
    {
     "name": "stderr",
     "output_type": "stream",
     "text": [
      "2020-05-09 20:19:58 [scrapy.core.engine] DEBUG: Crawled (200) <GET https://www.goodreads.com/book/show/266904.The_Penderwicks> (referer: https://www.goodreads.com/list/show/1.Best_Books_Ever?page=33)\n"
     ]
    },
    {
     "name": "stdout",
     "output_type": "stream",
     "text": [
      "Warning: Book missing series (https://www.goodreads.com/book/show/13477676-forgive-me-leonard-peacock).\n"
     ]
    },
    {
     "name": "stderr",
     "output_type": "stream",
     "text": [
      "2020-05-09 20:19:59 [scrapy.core.engine] DEBUG: Crawled (200) <GET https://www.goodreads.com/book/show/91479.Death_Masks> (referer: https://www.goodreads.com/list/show/1.Best_Books_Ever?page=33)\n",
      "2020-05-09 20:19:59 [scrapy.extensions.logstats] INFO: Crawled 1878 pages (at 184 pages/min), scraped 0 items (at 0 items/min)\n",
      "2020-05-09 20:19:59 [scrapy.core.engine] DEBUG: Crawled (200) <GET https://www.goodreads.com/book/show/7882.On_the_Banks_of_Plum_Creek> (referer: https://www.goodreads.com/list/show/1.Best_Books_Ever?page=33)\n",
      "2020-05-09 20:20:00 [scrapy.core.engine] DEBUG: Crawled (200) <GET https://www.goodreads.com/book/show/107664.Raven_s_Gate> (referer: https://www.goodreads.com/list/show/1.Best_Books_Ever?page=33)\n",
      "2020-05-09 20:20:00 [scrapy.core.engine] DEBUG: Crawled (200) <GET https://www.goodreads.com/book/show/15982935-the-last-sunset> (referer: https://www.goodreads.com/list/show/1.Best_Books_Ever?page=33)\n"
     ]
    },
    {
     "name": "stdout",
     "output_type": "stream",
     "text": [
      "Warning: Missing book original title (https://www.goodreads.com/book/show/15982935-the-last-sunset).\n",
      "Warning: Book missing series (https://www.goodreads.com/book/show/15982935-the-last-sunset).\n"
     ]
    },
    {
     "name": "stderr",
     "output_type": "stream",
     "text": [
      "2020-05-09 20:20:00 [scrapy.core.engine] DEBUG: Crawled (200) <GET https://www.goodreads.com/book/show/11607.The_Running_Man> (referer: https://www.goodreads.com/list/show/1.Best_Books_Ever?page=33)\n"
     ]
    },
    {
     "name": "stdout",
     "output_type": "stream",
     "text": [
      "Warning: Book missing series (https://www.goodreads.com/book/show/11607.The_Running_Man).\n"
     ]
    },
    {
     "name": "stderr",
     "output_type": "stream",
     "text": [
      "2020-05-09 20:20:01 [scrapy.core.engine] DEBUG: Crawled (200) <GET https://www.goodreads.com/book/show/8696.Last_Chance_to_See> (referer: https://www.goodreads.com/list/show/1.Best_Books_Ever?page=33)\n",
      "2020-05-09 20:20:01 [scrapy.core.engine] DEBUG: Crawled (200) <GET https://www.goodreads.com/book/show/9118135-state-of-wonder> (referer: https://www.goodreads.com/list/show/1.Best_Books_Ever?page=33)\n"
     ]
    },
    {
     "name": "stdout",
     "output_type": "stream",
     "text": [
      "Warning: Book missing series (https://www.goodreads.com/book/show/8696.Last_Chance_to_See).\n",
      "Warning: Book missing language (https://www.goodreads.com/book/show/8696.Last_Chance_to_See).\n"
     ]
    },
    {
     "name": "stderr",
     "output_type": "stream",
     "text": [
      "2020-05-09 20:20:01 [scrapy.core.engine] DEBUG: Crawled (200) <GET https://www.goodreads.com/book/show/3467.The_People_of_Sparks> (referer: https://www.goodreads.com/list/show/1.Best_Books_Ever?page=33)\n",
      "2020-05-09 20:20:02 [scrapy.core.engine] DEBUG: Crawled (200) <GET https://www.goodreads.com/book/show/15755296-through-the-zombie-glass> (referer: https://www.goodreads.com/list/show/1.Best_Books_Ever?page=33)\n"
     ]
    },
    {
     "name": "stdout",
     "output_type": "stream",
     "text": [
      "Warning: Book missing series (https://www.goodreads.com/book/show/9118135-state-of-wonder).\n"
     ]
    },
    {
     "name": "stderr",
     "output_type": "stream",
     "text": [
      "2020-05-09 20:20:02 [scrapy.core.engine] DEBUG: Crawled (200) <GET https://www.goodreads.com/book/show/84573.Frenchman_s_Creek> (referer: https://www.goodreads.com/list/show/1.Best_Books_Ever?page=33)\n"
     ]
    },
    {
     "name": "stdout",
     "output_type": "stream",
     "text": [
      "Warning: Book missing series (https://www.goodreads.com/book/show/84573.Frenchman_s_Creek).\n"
     ]
    },
    {
     "name": "stderr",
     "output_type": "stream",
     "text": [
      "2020-05-09 20:20:02 [scrapy.core.engine] DEBUG: Crawled (200) <GET https://www.goodreads.com/book/show/8366402-the-tiger-s-wife> (referer: https://www.goodreads.com/list/show/1.Best_Books_Ever?page=33)\n",
      "2020-05-09 20:20:02 [scrapy.core.engine] DEBUG: Crawled (200) <GET https://www.goodreads.com/book/show/2880.Bleach_Volume_01> (referer: https://www.goodreads.com/list/show/1.Best_Books_Ever?page=33)\n"
     ]
    },
    {
     "name": "stdout",
     "output_type": "stream",
     "text": [
      "Warning: Book missing series (https://www.goodreads.com/book/show/8366402-the-tiger-s-wife).\n"
     ]
    },
    {
     "name": "stderr",
     "output_type": "stream",
     "text": [
      "2020-05-09 20:20:03 [scrapy.core.engine] DEBUG: Crawled (200) <GET https://www.goodreads.com/book/show/17566243-silber> (referer: https://www.goodreads.com/list/show/1.Best_Books_Ever?page=33)\n",
      "2020-05-09 20:20:03 [scrapy.core.engine] DEBUG: Crawled (200) <GET https://www.goodreads.com/book/show/244572.Charmed_Life> (referer: https://www.goodreads.com/list/show/1.Best_Books_Ever?page=33)\n",
      "2020-05-09 20:20:04 [scrapy.core.engine] DEBUG: Crawled (200) <GET https://www.goodreads.com/book/show/93405.The_Notebooks_of_Malte_Laurids_Brigge> (referer: https://www.goodreads.com/list/show/1.Best_Books_Ever?page=33)\n",
      "2020-05-09 20:20:04 [scrapy.core.engine] DEBUG: Crawled (200) <GET https://www.goodreads.com/book/show/17886.Fyodor_Dostoyevsky_s_Crime_and_Punishment> (referer: https://www.goodreads.com/list/show/1.Best_Books_Ever?page=33)\n"
     ]
    },
    {
     "name": "stdout",
     "output_type": "stream",
     "text": [
      "Warning: Book missing series (https://www.goodreads.com/book/show/93405.The_Notebooks_of_Malte_Laurids_Brigge).\n"
     ]
    },
    {
     "name": "stderr",
     "output_type": "stream",
     "text": [
      "2020-05-09 20:20:04 [scrapy.core.engine] DEBUG: Crawled (200) <GET https://www.goodreads.com/book/show/40407141-what-the-wind-knows> (referer: https://www.goodreads.com/list/show/1.Best_Books_Ever?page=33)\n"
     ]
    },
    {
     "name": "stdout",
     "output_type": "stream",
     "text": [
      "Warning: Book missing language (https://www.goodreads.com/book/show/17886.Fyodor_Dostoyevsky_s_Crime_and_Punishment).\n",
      "Warning: Book missing description (https://www.goodreads.com/book/show/17886.Fyodor_Dostoyevsky_s_Crime_and_Punishment).\n"
     ]
    },
    {
     "name": "stderr",
     "output_type": "stream",
     "text": [
      "2020-05-09 20:20:04 [scrapy.core.engine] DEBUG: Crawled (200) <GET https://www.goodreads.com/book/show/11447962-the-rootless> (referer: https://www.goodreads.com/list/show/1.Best_Books_Ever?page=33)\n",
      "2020-05-09 20:20:05 [scrapy.core.engine] DEBUG: Crawled (200) <GET https://www.goodreads.com/book/show/66354.Flow> (referer: https://www.goodreads.com/list/show/1.Best_Books_Ever?page=33)\n"
     ]
    },
    {
     "name": "stdout",
     "output_type": "stream",
     "text": [
      "Warning: Book missing series (https://www.goodreads.com/book/show/40407141-what-the-wind-knows).\n",
      "Warning: Missing book original title (https://www.goodreads.com/book/show/11447962-the-rootless).\n",
      "Warning: Book missing series (https://www.goodreads.com/book/show/11447962-the-rootless).\n"
     ]
    },
    {
     "name": "stderr",
     "output_type": "stream",
     "text": [
      "2020-05-09 20:20:05 [scrapy.core.engine] DEBUG: Crawled (200) <GET https://www.goodreads.com/book/show/181087.Mio_My_Son> (referer: https://www.goodreads.com/list/show/1.Best_Books_Ever?page=33)\n"
     ]
    },
    {
     "name": "stdout",
     "output_type": "stream",
     "text": [
      "Warning: Missing book original title (https://www.goodreads.com/book/show/66354.Flow).\n",
      "Warning: Book missing series (https://www.goodreads.com/book/show/66354.Flow).\n",
      "Warning: Book missing series (https://www.goodreads.com/book/show/181087.Mio_My_Son).\n"
     ]
    },
    {
     "name": "stderr",
     "output_type": "stream",
     "text": [
      "2020-05-09 20:20:05 [scrapy.core.engine] DEBUG: Crawled (200) <GET https://www.goodreads.com/book/show/7726143-origins> (referer: https://www.goodreads.com/list/show/1.Best_Books_Ever?page=33)\n"
     ]
    },
    {
     "name": "stdout",
     "output_type": "stream",
     "text": [
      "Warning: Missing book original title (https://www.goodreads.com/book/show/7726143-origins).\n"
     ]
    },
    {
     "name": "stderr",
     "output_type": "stream",
     "text": [
      "2020-05-09 20:20:06 [scrapy.core.engine] DEBUG: Crawled (200) <GET https://www.goodreads.com/book/show/463063.The_Chronicles_of_Prydain> (referer: https://www.goodreads.com/list/show/1.Best_Books_Ever?page=33)\n",
      "2020-05-09 20:20:06 [scrapy.core.engine] DEBUG: Crawled (200) <GET https://www.goodreads.com/book/show/32767.At_the_Mountains_of_Madness> (referer: https://www.goodreads.com/list/show/1.Best_Books_Ever?page=33)\n",
      "2020-05-09 20:20:07 [scrapy.core.engine] DEBUG: Crawled (200) <GET https://www.goodreads.com/book/show/4008.The_Devil_and_Miss_Prym> (referer: https://www.goodreads.com/list/show/1.Best_Books_Ever?page=33)\n",
      "2020-05-09 20:20:07 [scrapy.core.engine] DEBUG: Crawled (200) <GET https://www.goodreads.com/book/show/35517449-the-koalemos-initiative> (referer: https://www.goodreads.com/list/show/1.Best_Books_Ever?page=33)\n"
     ]
    },
    {
     "name": "stdout",
     "output_type": "stream",
     "text": [
      "Warning: Book missing series (https://www.goodreads.com/book/show/32767.At_the_Mountains_of_Madness).\n",
      "Warning: Missing book original title (https://www.goodreads.com/book/show/35517449-the-koalemos-initiative).\n",
      "Warning: Book missing series (https://www.goodreads.com/book/show/35517449-the-koalemos-initiative).\n",
      "Warning: Book missing genres (https://www.goodreads.com/book/show/35517449-the-koalemos-initiative).\n"
     ]
    },
    {
     "name": "stderr",
     "output_type": "stream",
     "text": [
      "2020-05-09 20:20:07 [scrapy.core.engine] DEBUG: Crawled (200) <GET https://www.goodreads.com/book/show/17158596-collide> (referer: https://www.goodreads.com/list/show/1.Best_Books_Ever?page=33)\n",
      "2020-05-09 20:20:07 [scrapy.core.engine] DEBUG: Crawled (200) <GET https://www.goodreads.com/book/show/36274218-the-death-and-life-of-charlie-st-cloud> (referer: https://www.goodreads.com/list/show/1.Best_Books_Ever?page=33)\n"
     ]
    },
    {
     "name": "stdout",
     "output_type": "stream",
     "text": [
      "Warning: Book missing series (https://www.goodreads.com/book/show/36274218-the-death-and-life-of-charlie-st-cloud).\n"
     ]
    },
    {
     "name": "stderr",
     "output_type": "stream",
     "text": [
      "2020-05-09 20:20:08 [scrapy.core.engine] DEBUG: Crawled (200) <GET https://www.goodreads.com/book/show/11887020-american-sniper> (referer: https://www.goodreads.com/list/show/1.Best_Books_Ever?page=33)\n",
      "2020-05-09 20:20:08 [scrapy.core.engine] DEBUG: Crawled (200) <GET https://www.goodreads.com/book/show/206172.The_Pit_and_the_Pendulum> (referer: https://www.goodreads.com/list/show/1.Best_Books_Ever?page=33)\n"
     ]
    },
    {
     "name": "stdout",
     "output_type": "stream",
     "text": [
      "Warning: Book missing series (https://www.goodreads.com/book/show/11887020-american-sniper).\n",
      "Warning: Book missing series (https://www.goodreads.com/book/show/206172.The_Pit_and_the_Pendulum).\n"
     ]
    },
    {
     "name": "stderr",
     "output_type": "stream",
     "text": [
      "2020-05-09 20:20:08 [scrapy.core.engine] DEBUG: Crawled (200) <GET https://www.goodreads.com/book/show/35260723-why-we-never-repeat-jokes> (referer: https://www.goodreads.com/list/show/1.Best_Books_Ever?page=33)\n"
     ]
    },
    {
     "name": "stdout",
     "output_type": "stream",
     "text": [
      "Warning: Missing book original title (https://www.goodreads.com/book/show/35260723-why-we-never-repeat-jokes).\n",
      "Warning: Book missing series (https://www.goodreads.com/book/show/35260723-why-we-never-repeat-jokes).\n",
      "Warning: Book missing language (https://www.goodreads.com/book/show/35260723-why-we-never-repeat-jokes).\n"
     ]
    },
    {
     "name": "stderr",
     "output_type": "stream",
     "text": [
      "2020-05-09 20:20:09 [scrapy.core.engine] DEBUG: Crawled (200) <GET https://www.goodreads.com/book/show/6407514-forest-born> (referer: https://www.goodreads.com/list/show/1.Best_Books_Ever?page=33)\n",
      "2020-05-09 20:20:09 [scrapy.core.engine] DEBUG: Crawled (200) <GET https://www.goodreads.com/book/show/153785.Page> (referer: https://www.goodreads.com/list/show/1.Best_Books_Ever?page=33)\n",
      "2020-05-09 20:20:10 [scrapy.core.engine] DEBUG: Crawled (200) <GET https://www.goodreads.com/book/show/500743.The_Wizard_Heir> (referer: https://www.goodreads.com/list/show/1.Best_Books_Ever?page=33)\n",
      "2020-05-09 20:20:10 [scrapy.core.engine] DEBUG: Crawled (200) <GET https://www.goodreads.com/book/show/23937.The_Soft_Machine> (referer: https://www.goodreads.com/list/show/1.Best_Books_Ever?page=33)\n",
      "2020-05-09 20:20:11 [scrapy.core.engine] DEBUG: Crawled (200) <GET https://www.goodreads.com/book/show/84144.Seize_the_Night> (referer: https://www.goodreads.com/list/show/1.Best_Books_Ever?page=33)\n",
      "2020-05-09 20:20:11 [scrapy.core.engine] DEBUG: Crawled (200) <GET https://www.goodreads.com/book/show/33313.Kitchen_Confidential> (referer: https://www.goodreads.com/list/show/1.Best_Books_Ever?page=33)\n",
      "2020-05-09 20:20:11 [scrapy.core.engine] DEBUG: Crawled (200) <GET https://www.goodreads.com/book/show/92147.Map_of_Bones> (referer: https://www.goodreads.com/list/show/1.Best_Books_Ever?page=33)\n",
      "2020-05-09 20:20:11 [scrapy.core.engine] DEBUG: Crawled (200) <GET https://www.goodreads.com/book/show/6668467-winter-garden> (referer: https://www.goodreads.com/list/show/1.Best_Books_Ever?page=33)\n",
      "2020-05-09 20:20:11 [scrapy.core.engine] DEBUG: Crawled (200) <GET https://www.goodreads.com/book/show/16718083-the-redemption-of-callie-kayden> (referer: https://www.goodreads.com/list/show/1.Best_Books_Ever?page=33)\n"
     ]
    },
    {
     "name": "stdout",
     "output_type": "stream",
     "text": [
      "Warning: Book missing series (https://www.goodreads.com/book/show/33313.Kitchen_Confidential).\n"
     ]
    },
    {
     "name": "stderr",
     "output_type": "stream",
     "text": [
      "2020-05-09 20:20:12 [scrapy.core.engine] DEBUG: Crawled (200) <GET https://www.goodreads.com/book/show/78249.Don_Juan> (referer: https://www.goodreads.com/list/show/1.Best_Books_Ever?page=33)\n"
     ]
    },
    {
     "name": "stdout",
     "output_type": "stream",
     "text": [
      "Warning: Book missing series (https://www.goodreads.com/book/show/6668467-winter-garden).\n"
     ]
    },
    {
     "name": "stderr",
     "output_type": "stream",
     "text": [
      "2020-05-09 20:20:12 [scrapy.core.engine] DEBUG: Crawled (200) <GET https://www.goodreads.com/book/show/9317452-rivers-of-london> (referer: https://www.goodreads.com/list/show/1.Best_Books_Ever?page=33)\n",
      "2020-05-09 20:20:12 [scrapy.core.engine] DEBUG: Crawled (200) <GET https://www.goodreads.com/book/show/2678349> (referer: https://www.goodreads.com/list/show/1.Best_Books_Ever?page=33)\n",
      "2020-05-09 20:20:12 [scrapy.core.engine] DEBUG: Crawled (200) <GET https://www.goodreads.com/book/show/22646445-how-to-not-be-an-idiot-when-you-get-divorced> (referer: https://www.goodreads.com/list/show/1.Best_Books_Ever?page=33)\n"
     ]
    },
    {
     "name": "stdout",
     "output_type": "stream",
     "text": [
      "Warning: Book missing series (https://www.goodreads.com/book/show/78249.Don_Juan).\n",
      "Warning: Book missing series (https://www.goodreads.com/book/show/2678349).\n",
      "Warning: Missing book original title (https://www.goodreads.com/book/show/22646445-how-to-not-be-an-idiot-when-you-get-divorced).\n",
      "Warning: Book missing series (https://www.goodreads.com/book/show/22646445-how-to-not-be-an-idiot-when-you-get-divorced).\n",
      "Warning: Book missing language (https://www.goodreads.com/book/show/22646445-how-to-not-be-an-idiot-when-you-get-divorced).\n"
     ]
    },
    {
     "name": "stderr",
     "output_type": "stream",
     "text": [
      "2020-05-09 20:20:13 [scrapy.core.engine] DEBUG: Crawled (200) <GET https://www.goodreads.com/book/show/13222282-the-manson-file> (referer: https://www.goodreads.com/list/show/1.Best_Books_Ever?page=33)\n"
     ]
    },
    {
     "name": "stdout",
     "output_type": "stream",
     "text": [
      "Warning: Missing book original title (https://www.goodreads.com/book/show/13222282-the-manson-file).\n",
      "Warning: Book missing series (https://www.goodreads.com/book/show/13222282-the-manson-file).\n"
     ]
    },
    {
     "name": "stderr",
     "output_type": "stream",
     "text": [
      "2020-05-09 20:20:13 [scrapy.core.engine] DEBUG: Crawled (200) <GET https://www.goodreads.com/book/show/480479.Under_the_Tuscan_Sun> (referer: https://www.goodreads.com/list/show/1.Best_Books_Ever?page=32)\n",
      "2020-05-09 20:20:14 [scrapy.core.engine] DEBUG: Crawled (200) <GET https://www.goodreads.com/book/show/7059135-inside-out> (referer: https://www.goodreads.com/list/show/1.Best_Books_Ever?page=32)\n"
     ]
    },
    {
     "name": "stdout",
     "output_type": "stream",
     "text": [
      "Warning: Book missing series (https://www.goodreads.com/book/show/480479.Under_the_Tuscan_Sun).\n"
     ]
    },
    {
     "name": "stderr",
     "output_type": "stream",
     "text": [
      "2020-05-09 20:20:14 [scrapy.core.engine] DEBUG: Crawled (200) <GET https://www.goodreads.com/book/show/13602221-goblinheart> (referer: https://www.goodreads.com/list/show/1.Best_Books_Ever?page=33)\n"
     ]
    },
    {
     "name": "stdout",
     "output_type": "stream",
     "text": [
      "Warning: Missing book original title (https://www.goodreads.com/book/show/13602221-goblinheart).\n",
      "Warning: Book missing series (https://www.goodreads.com/book/show/13602221-goblinheart).\n"
     ]
    },
    {
     "name": "stderr",
     "output_type": "stream",
     "text": [
      "2020-05-09 20:20:14 [scrapy.core.engine] DEBUG: Crawled (200) <GET https://www.goodreads.com/book/show/413.Mason_Dixon> (referer: https://www.goodreads.com/list/show/1.Best_Books_Ever?page=32)\n"
     ]
    },
    {
     "name": "stdout",
     "output_type": "stream",
     "text": [
      "Warning: Book missing series (https://www.goodreads.com/book/show/413.Mason_Dixon).\n"
     ]
    },
    {
     "name": "stderr",
     "output_type": "stream",
     "text": [
      "2020-05-09 20:20:15 [scrapy.core.engine] DEBUG: Crawled (200) <GET https://www.goodreads.com/book/show/3491072-200> (referer: https://www.goodreads.com/list/show/1.Best_Books_Ever?page=32)\n"
     ]
    },
    {
     "name": "stdout",
     "output_type": "stream",
     "text": [
      "Warning: Book missing series (https://www.goodreads.com/book/show/3491072-200).\n"
     ]
    },
    {
     "name": "stderr",
     "output_type": "stream",
     "text": [
      "2020-05-09 20:20:15 [scrapy.core.engine] DEBUG: Crawled (200) <GET https://www.goodreads.com/book/show/19412.They_Cage_the_Animals_at_Night> (referer: https://www.goodreads.com/list/show/1.Best_Books_Ever?page=32)\n",
      "2020-05-09 20:20:15 [scrapy.core.engine] DEBUG: Crawled (200) <GET https://www.goodreads.com/book/show/15852756-naked> (referer: https://www.goodreads.com/list/show/1.Best_Books_Ever?page=32)\n",
      "2020-05-09 20:20:16 [scrapy.core.engine] DEBUG: Crawled (200) <GET https://www.goodreads.com/book/show/45967.The_Blind_Owl> (referer: https://www.goodreads.com/list/show/1.Best_Books_Ever?page=32)\n"
     ]
    },
    {
     "name": "stdout",
     "output_type": "stream",
     "text": [
      "Warning: Book missing series (https://www.goodreads.com/book/show/19412.They_Cage_the_Animals_at_Night).\n"
     ]
    },
    {
     "name": "stderr",
     "output_type": "stream",
     "text": [
      "2020-05-09 20:20:16 [scrapy.core.engine] DEBUG: Crawled (200) <GET https://www.goodreads.com/book/show/48467.Wise_Blood> (referer: https://www.goodreads.com/list/show/1.Best_Books_Ever?page=32)\n"
     ]
    },
    {
     "name": "stdout",
     "output_type": "stream",
     "text": [
      "Warning: Book missing series (https://www.goodreads.com/book/show/45967.The_Blind_Owl).\n",
      "Warning: Book missing series (https://www.goodreads.com/book/show/48467.Wise_Blood).\n"
     ]
    },
    {
     "name": "stderr",
     "output_type": "stream",
     "text": [
      "2020-05-09 20:20:16 [scrapy.core.engine] DEBUG: Crawled (200) <GET https://www.goodreads.com/book/show/133664.Academ_s_Fury> (referer: https://www.goodreads.com/list/show/1.Best_Books_Ever?page=32)\n",
      "2020-05-09 20:20:17 [scrapy.core.engine] DEBUG: Crawled (200) <GET https://www.goodreads.com/book/show/6437061-the-hundred-thousand-kingdoms> (referer: https://www.goodreads.com/list/show/1.Best_Books_Ever?page=32)\n",
      "2020-05-09 20:20:17 [scrapy.core.engine] DEBUG: Crawled (200) <GET https://www.goodreads.com/book/show/11337912-the-prisoner-of-cell-25> (referer: https://www.goodreads.com/list/show/1.Best_Books_Ever?page=32)\n",
      "2020-05-09 20:20:17 [scrapy.core.engine] DEBUG: Crawled (200) <GET https://www.goodreads.com/book/show/18481271-unite-me> (referer: https://www.goodreads.com/list/show/1.Best_Books_Ever?page=32)\n"
     ]
    },
    {
     "name": "stdout",
     "output_type": "stream",
     "text": [
      "Warning: Missing book original title (https://www.goodreads.com/book/show/18481271-unite-me).\n"
     ]
    },
    {
     "name": "stderr",
     "output_type": "stream",
     "text": [
      "2020-05-09 20:20:18 [scrapy.core.engine] DEBUG: Crawled (200) <GET https://www.goodreads.com/book/show/293625.Child_of_God> (referer: https://www.goodreads.com/list/show/1.Best_Books_Ever?page=32)\n",
      "2020-05-09 20:20:18 [scrapy.core.engine] DEBUG: Crawled (200) <GET https://www.goodreads.com/book/show/55401.Deadhouse_Gates> (referer: https://www.goodreads.com/list/show/1.Best_Books_Ever?page=32)\n"
     ]
    },
    {
     "name": "stdout",
     "output_type": "stream",
     "text": [
      "Warning: Book missing series (https://www.goodreads.com/book/show/293625.Child_of_God).\n"
     ]
    },
    {
     "name": "stderr",
     "output_type": "stream",
     "text": [
      "2020-05-09 20:20:18 [scrapy.core.engine] DEBUG: Crawled (200) <GET https://www.goodreads.com/book/show/13448656-motorcycle-man> (referer: https://www.goodreads.com/list/show/1.Best_Books_Ever?page=32)\n",
      "2020-05-09 20:20:19 [scrapy.core.engine] DEBUG: Crawled (200) <GET https://www.goodreads.com/book/show/22320.Pattern_Recognition> (referer: https://www.goodreads.com/list/show/1.Best_Books_Ever?page=32)\n",
      "2020-05-09 20:20:19 [scrapy.core.engine] DEBUG: Crawled (200) <GET https://www.goodreads.com/book/show/15781026-heart-of-obsidian> (referer: https://www.goodreads.com/list/show/1.Best_Books_Ever?page=32)\n",
      "2020-05-09 20:20:19 [scrapy.core.engine] DEBUG: Crawled (200) <GET https://www.goodreads.com/book/show/250024.The_City_and_the_Stars> (referer: https://www.goodreads.com/list/show/1.Best_Books_Ever?page=32)\n",
      "2020-05-09 20:20:19 [scrapy.core.engine] DEBUG: Crawled (200) <GET https://www.goodreads.com/book/show/11100431-heir-of-novron> (referer: https://www.goodreads.com/list/show/1.Best_Books_Ever?page=32)\n"
     ]
    },
    {
     "name": "stdout",
     "output_type": "stream",
     "text": [
      "Warning: Book missing series (https://www.goodreads.com/book/show/250024.The_City_and_the_Stars).\n"
     ]
    },
    {
     "name": "stderr",
     "output_type": "stream",
     "text": [
      "2020-05-09 20:20:19 [scrapy.core.engine] DEBUG: Crawled (200) <GET https://www.goodreads.com/book/show/1254951.The_Luxe> (referer: https://www.goodreads.com/list/show/1.Best_Books_Ever?page=32)\n",
      "2020-05-09 20:20:20 [scrapy.core.engine] DEBUG: Crawled (200) <GET https://www.goodreads.com/book/show/775346.The_Little_Friend> (referer: https://www.goodreads.com/list/show/1.Best_Books_Ever?page=32)\n",
      "2020-05-09 20:20:20 [scrapy.core.engine] DEBUG: Crawled (200) <GET https://www.goodreads.com/book/show/100464.Dragon_Rider> (referer: https://www.goodreads.com/list/show/1.Best_Books_Ever?page=32)\n"
     ]
    },
    {
     "name": "stdout",
     "output_type": "stream",
     "text": [
      "Warning: Book missing series (https://www.goodreads.com/book/show/775346.The_Little_Friend).\n"
     ]
    },
    {
     "name": "stderr",
     "output_type": "stream",
     "text": [
      "2020-05-09 20:20:20 [scrapy.core.engine] DEBUG: Crawled (200) <GET https://www.goodreads.com/book/show/87665.Orthodoxy> (referer: https://www.goodreads.com/list/show/1.Best_Books_Ever?page=33)\n"
     ]
    },
    {
     "name": "stdout",
     "output_type": "stream",
     "text": [
      "Warning: Book missing series (https://www.goodreads.com/book/show/87665.Orthodoxy).\n"
     ]
    },
    {
     "name": "stderr",
     "output_type": "stream",
     "text": [
      "2020-05-09 20:20:21 [scrapy.core.engine] DEBUG: Crawled (200) <GET https://www.goodreads.com/book/show/5996209-thorn-queen> (referer: https://www.goodreads.com/list/show/1.Best_Books_Ever?page=33)\n",
      "2020-05-09 20:20:22 [scrapy.core.engine] DEBUG: Crawled (200) <GET https://www.goodreads.com/book/show/12279098-the-god-complex> (referer: https://www.goodreads.com/list/show/1.Best_Books_Ever?page=33)\n"
     ]
    },
    {
     "name": "stdout",
     "output_type": "stream",
     "text": [
      "Warning: Missing book original title (https://www.goodreads.com/book/show/12279098-the-god-complex).\n",
      "Warning: Book missing series (https://www.goodreads.com/book/show/12279098-the-god-complex).\n"
     ]
    },
    {
     "name": "stderr",
     "output_type": "stream",
     "text": [
      "2020-05-09 20:20:22 [scrapy.core.engine] DEBUG: Crawled (200) <GET https://www.goodreads.com/book/show/20578084-we-got-zombies-on-the-lawn-again-ma> (referer: https://www.goodreads.com/list/show/1.Best_Books_Ever?page=33)\n",
      "2020-05-09 20:20:22 [scrapy.core.engine] DEBUG: Crawled (200) <GET https://www.goodreads.com/book/show/17904495-curse-of-the-salute> (referer: https://www.goodreads.com/list/show/1.Best_Books_Ever?page=33)\n",
      "2020-05-09 20:20:22 [scrapy.core.engine] DEBUG: Crawled (200) <GET https://www.goodreads.com/book/show/31138556-homo-deus> (referer: https://www.goodreads.com/list/show/1.Best_Books_Ever?page=33)\n",
      "2020-05-09 20:20:22 [scrapy.core.engine] DEBUG: Crawled (200) <GET https://www.goodreads.com/book/show/84351.The_Secret_History_of_the_Pink_Carnation> (referer: https://www.goodreads.com/list/show/1.Best_Books_Ever?page=33)\n"
     ]
    },
    {
     "name": "stdout",
     "output_type": "stream",
     "text": [
      "Warning: Missing book original title (https://www.goodreads.com/book/show/20578084-we-got-zombies-on-the-lawn-again-ma).\n",
      "Warning: Book missing series (https://www.goodreads.com/book/show/20578084-we-got-zombies-on-the-lawn-again-ma).\n",
      "Warning: Book missing language (https://www.goodreads.com/book/show/20578084-we-got-zombies-on-the-lawn-again-ma).\n",
      "Warning: Missing book original title (https://www.goodreads.com/book/show/17904495-curse-of-the-salute).\n",
      "Warning: Book missing series (https://www.goodreads.com/book/show/17904495-curse-of-the-salute).\n",
      "Warning: Book missing series (https://www.goodreads.com/book/show/31138556-homo-deus).\n"
     ]
    },
    {
     "name": "stderr",
     "output_type": "stream",
     "text": [
      "2020-05-09 20:20:23 [scrapy.core.engine] DEBUG: Crawled (200) <GET https://www.goodreads.com/book/show/30156088-the-beech-tree> (referer: https://www.goodreads.com/list/show/1.Best_Books_Ever?page=33)\n",
      "2020-05-09 20:20:23 [scrapy.core.engine] DEBUG: Crawled (200) <GET https://www.goodreads.com/book/show/92121.Nine_Princes_in_Amber> (referer: https://www.goodreads.com/list/show/1.Best_Books_Ever?page=33)\n",
      "2020-05-09 20:20:23 [scrapy.core.engine] DEBUG: Crawled (200) <GET https://www.goodreads.com/book/show/358846.Death_and_the_Dervish> (referer: https://www.goodreads.com/list/show/1.Best_Books_Ever?page=33)\n"
     ]
    },
    {
     "name": "stdout",
     "output_type": "stream",
     "text": [
      "Warning: Missing book original title (https://www.goodreads.com/book/show/84351.The_Secret_History_of_the_Pink_Carnation).\n",
      "Warning: Book missing series (https://www.goodreads.com/book/show/30156088-the-beech-tree).\n",
      "Warning: Book missing series (https://www.goodreads.com/book/show/358846.Death_and_the_Dervish).\n"
     ]
    },
    {
     "name": "stderr",
     "output_type": "stream",
     "text": [
      "2020-05-09 20:20:24 [scrapy.core.engine] DEBUG: Crawled (200) <GET https://www.goodreads.com/book/show/953260.Disney_After_Dark> (referer: https://www.goodreads.com/list/show/1.Best_Books_Ever?page=33)\n",
      "2020-05-09 20:20:24 [scrapy.core.engine] DEBUG: Crawled (200) <GET https://www.goodreads.com/book/show/11390271-origins> (referer: https://www.goodreads.com/list/show/1.Best_Books_Ever?page=33)\n",
      "2020-05-09 20:20:24 [scrapy.core.engine] DEBUG: Crawled (200) <GET https://www.goodreads.com/book/show/114166.Devil_in_Winter> (referer: https://www.goodreads.com/list/show/1.Best_Books_Ever?page=33)\n",
      "2020-05-09 20:20:25 [scrapy.core.engine] DEBUG: Crawled (200) <GET https://www.goodreads.com/book/show/43255.Not_Without_My_Daughter> (referer: https://www.goodreads.com/list/show/1.Best_Books_Ever?page=33)\n",
      "2020-05-09 20:20:25 [scrapy.core.engine] DEBUG: Crawled (200) <GET https://www.goodreads.com/book/show/27014776-dark-lands> (referer: https://www.goodreads.com/list/show/1.Best_Books_Ever?page=33)\n",
      "2020-05-09 20:20:25 [scrapy.core.engine] DEBUG: Crawled (200) <GET https://www.goodreads.com/book/show/67238.Dead_Poets_Society> (referer: https://www.goodreads.com/list/show/1.Best_Books_Ever?page=33)\n",
      "2020-05-09 20:20:25 [scrapy.core.engine] DEBUG: Crawled (200) <GET https://www.goodreads.com/book/show/12021.The_Crow_Road> (referer: https://www.goodreads.com/list/show/1.Best_Books_Ever?page=33)\n"
     ]
    },
    {
     "name": "stdout",
     "output_type": "stream",
     "text": [
      "Warning: Book missing series (https://www.goodreads.com/book/show/43255.Not_Without_My_Daughter).\n",
      "Warning: Missing book original title (https://www.goodreads.com/book/show/27014776-dark-lands).\n",
      "Warning: Book missing language (https://www.goodreads.com/book/show/27014776-dark-lands).\n",
      "Warning: Book missing series (https://www.goodreads.com/book/show/67238.Dead_Poets_Society).\n",
      "Warning: Book missing series (https://www.goodreads.com/book/show/12021.The_Crow_Road).\n"
     ]
    },
    {
     "name": "stderr",
     "output_type": "stream",
     "text": [
      "2020-05-09 20:20:26 [scrapy.core.engine] DEBUG: Crawled (200) <GET https://www.goodreads.com/book/show/30244626-4-3-2-1> (referer: https://www.goodreads.com/list/show/1.Best_Books_Ever?page=33)\n",
      "2020-05-09 20:20:26 [scrapy.core.engine] DEBUG: Crawled (200) <GET https://www.goodreads.com/book/show/715834.The_Apprentice> (referer: https://www.goodreads.com/list/show/1.Best_Books_Ever?page=33)\n",
      "2020-05-09 20:20:26 [scrapy.core.engine] DEBUG: Crawled (200) <GET https://www.goodreads.com/book/show/153800.Lady_Knight> (referer: https://www.goodreads.com/list/show/1.Best_Books_Ever?page=33)\n"
     ]
    },
    {
     "name": "stdout",
     "output_type": "stream",
     "text": [
      "Warning: Book missing series (https://www.goodreads.com/book/show/30244626-4-3-2-1).\n"
     ]
    },
    {
     "name": "stderr",
     "output_type": "stream",
     "text": [
      "2020-05-09 20:20:26 [scrapy.core.engine] DEBUG: Crawled (200) <GET https://www.goodreads.com/book/show/13912.A_Beautiful_Mind> (referer: https://www.goodreads.com/list/show/1.Best_Books_Ever?page=33)\n"
     ]
    },
    {
     "name": "stdout",
     "output_type": "stream",
     "text": [
      "Warning: Book missing series (https://www.goodreads.com/book/show/13912.A_Beautiful_Mind).\n"
     ]
    },
    {
     "name": "stderr",
     "output_type": "stream",
     "text": [
      "2020-05-09 20:20:27 [scrapy.core.engine] DEBUG: Crawled (200) <GET https://www.goodreads.com/book/show/9436632-vanish> (referer: https://www.goodreads.com/list/show/1.Best_Books_Ever?page=33)\n"
     ]
    }
   ],
   "source": [
    "class GoodReadsSpider(scrapy.Spider):\n",
    "\tname = 'goodreads_spider'\n",
    "\tdownload_delay = 0.25 # Avoid requesting too quickly.\n",
    "\n",
    "\tdef start_requests(self):\n",
    "\t\tfor page_id in range(START_PAGE, END_PAGE+1):\n",
    "\t\t\tpage_url = f'https://www.goodreads.com/list/show/1.Best_Books_Ever?page={page_id}'\n",
    "\t\t\tyield scrapy.Request(url=page_url, callback=self.parse_page)\n",
    "\t\t#end\n",
    "\t#end\n",
    "\n",
    "\tdef parse_page(self, selector):\n",
    "\t\t# Instead of parsing the hierarchy, just pull all `bookTitle` anchors, which are the titles/links of the books in the list.\n",
    "\t\tall_book_titles = selector.css('a.bookTitle')\n",
    "\t\tfor curr_book in all_book_titles:\n",
    "\t\t\tbook_link = curr_book.attrib['href']\n",
    "\t\t\tbook_url = f'https://www.goodreads.com{book_link}'\n",
    "\t\t\tyield selector.follow(url=book_url, callback=self.parse_book)\n",
    "\t\t#end\n",
    "\t#end\n",
    "\n",
    "\tdef parse_book(self, selector):\n",
    "\t\t# Values we will fill in.\n",
    "\t\tbook_title = None\n",
    "\t\tbook_orig_title = None # Title in the original language.\n",
    "\t\tbook_series = None\n",
    "\t\tbook_language = None\n",
    "\t\tbook_authors = []\n",
    "\t\tbook_avg_rating = None\n",
    "\t\tbook_num_ratings = None\n",
    "\t\tbook_num_reviews = None\n",
    "\t\tbook_genres = []\n",
    "\t\tbook_description = ''\n",
    "\n",
    "\t\t# Regular title (usually in English).\n",
    "\t\tbook_title = selector.css('h1#bookTitle::text').get()\n",
    "\t\tbook_title = None if book_title is None else book_title.strip()\n",
    "\n",
    "\t\t# Each book has a metadata listing, but it's quite difficult to parse, so grab it all.\n",
    "\t\tbook_data = selector.css('#bookDataBox > div.clearFloats')\n",
    "\t\tfor data in book_data:\n",
    "\t\t\t# What and how we parse differs based on the value of this.\n",
    "\t\t\trow_title = data.css('.infoBoxRowTitle::text').get()\n",
    "\n",
    "\t\t\t# Original book title.\n",
    "\t\t\tif 'Original Title' == row_title:\n",
    "\t\t\t\tbook_orig_title = data.css('.infoBoxRowItem::text').get()\n",
    "\t\t\t\tbook_orig_title = None if book_orig_title is None else book_orig_title.strip() # Cleanup.\n",
    "\t\t\t#end\n",
    "\n",
    "\t\t\t# Series.\n",
    "\t\t\tif 'Series' == row_title:\n",
    "\t\t\t\tbook_series = data.css('.infoBoxRowItem > a::text').get()\n",
    "\t\t\t\thash_idx = book_series.find('#')\n",
    "\t\t\t\tif hash_idx != -1:\n",
    "\t\t\t\t\tbook_series = book_series[:hash_idx-1]\n",
    "\t\t\t\t#end\n",
    "\t\t\t#end\n",
    "\n",
    "\t\t\t# Language.\n",
    "\t\t\tif 'Edition Language' == row_title:\n",
    "\t\t\t\tbook_language = data.css('.infoBoxRowItem::text').get()\n",
    "\t\t\t\tbook_language = None if book_language is None else book_language.strip()\n",
    "\t\t\t#end\n",
    "\t\t#end\n",
    "\n",
    "\t\t# Author(s).  Multiple can be listed.\n",
    "\t\tfor author in selector.css('.authorName__container'):\n",
    "\t\t\tauthor_name = author.css('a > span::text').get()\n",
    "\t\t\tauthor_role = author.css('.role::text').get()\n",
    "\t\t\t# Add either just the author or combined with their role.\n",
    "\t\t\tbook_authors.append(author_name if author_role is None else ' '.join([author_name, author_role]))\n",
    "\t\t#end\n",
    "\n",
    "\t\t# Average rating (?/5).\n",
    "\t\tbook_avg_rating = selector.css('span[itemprop=\"ratingValue\"]::text').get()\n",
    "\t\tif book_avg_rating != None:\n",
    "\t\t\tbook_avg_rating = book_avg_rating.strip()\n",
    "\n",
    "\t\t# Number of ratings and reviews are deep in `#bookMeta` in impossible to differentiate tags.\n",
    "\t\t# Unfortunately the only real solution here is to get all children and find which has `ratings` and `reviews` in it!\n",
    "\t\tbook_metas = selector.css('#bookMeta > a::text').getall()\n",
    "\t\t#\n",
    "\t\t# Ratings (contains `ratings`).\n",
    "\t\tnum_ratings_idx = [i for i,s in enumerate(book_metas) if ('ratings' in s or 'rating' in s)]\n",
    "\t\tif len(num_ratings_idx):\n",
    "\t\t\tbook_num_ratings = book_metas[num_ratings_idx[0]].replace('\\n', '').replace(',', '').replace('ratings', '').replace('rating', '').strip()\n",
    "\t\t# Reviews (contains `reviews`).\n",
    "\t\tnum_reviews_idx = [i for i,s in enumerate(book_metas) if ('reviews' in s or 'review' in s)]\n",
    "\t\tif len(num_reviews_idx):\n",
    "\t\t\tbook_num_reviews = book_metas[num_reviews_idx[0]].replace('\\n', '').replace(',', '').replace('reviews', '').replace('review', '').strip()\n",
    "\t\t#end\n",
    "\n",
    "\t\t# Genre(s).\n",
    "\t\tbook_genres = selector.css('div.left > a.bookPageGenreLink::text').getall()\n",
    "\n",
    "\t\t# Description (see function comments).\n",
    "\t\tdesc_texts = self.process_book_description(selector.xpath('//*[@id=\"description\"]/span[contains(@style, \"display:none\")]/node()').getall())\n",
    "\t\tbook_description = ' '.join(desc_texts)\n",
    "\t\t# The `display:none` span is only present when the preview needs expanding. If the preview is small enough, it's just\n",
    "\t\t# a regular span. So, repeat the above process for a normal span if the text is empty\n",
    "\t\tif not len(book_description):\n",
    "\t\t\tdesc_texts = self.process_book_description(selector.xpath('//*[@id=\"description\"]/span/node()').getall())\n",
    "\t\t\tbook_description = ' '.join(desc_texts)\n",
    "\n",
    "\n",
    "\t\t## Error checking.\n",
    "\t\t# Needs title.\n",
    "\t\tif None == book_title:\n",
    "\t\t\tprint(f'Error: Missing book title ({selector.url}).')\n",
    "\t\t\treturn\n",
    "\t\t# Original title.\n",
    "\t\tif None == book_orig_title:\n",
    "\t\t\tprint(f'Warning: Missing book original title ({selector.url}).')\n",
    "\t\t# Series.\n",
    "\t\tif None == book_series:\n",
    "\t\t\tprint(f'Warning: Book missing series ({selector.url}).')\n",
    "\t\t# Language.\n",
    "\t\tif None == book_language:\n",
    "\t\t\tprint(f'Warning: Book missing language ({selector.url}).')\n",
    "\t\t# Authors.\n",
    "\t\tif not len(book_authors):\n",
    "\t\t\tprint(f'Warning: Book missing authors ({selector.url}).')\n",
    "\t\t# Average rating.\n",
    "\t\tif None == book_avg_rating:\n",
    "\t\t\tprint(f'Warning: Book missing average rating ({selector.url}).')\n",
    "\t\t# Number of ratings.\n",
    "\t\tif None == book_num_ratings:\n",
    "\t\t\tprint(f'Warning: Book missing number of ratings ({selector.url}).')\n",
    "\t\t# Number of reviews.\n",
    "\t\tif None == book_num_reviews:\n",
    "\t\t\tprint(f'Warning: Book missing number of reviews ({selector.url}).')\n",
    "\t\t# Genres.\n",
    "\t\tif not len(book_genres):\n",
    "\t\t\tprint(f'Warning: Book missing genres ({selector.url}).')\n",
    "\t\t# Description.\n",
    "\t\tif not len(book_description):\n",
    "\t\t\tprint(f'Warning: Book missing description ({selector.url}).')\n",
    "\n",
    "\t\t# Fill in the df.\n",
    "\t\tbook_df = pd.DataFrame()\n",
    "\t\tbook_df['title'] = [book_title]\n",
    "\t\tbook_df['original_title'] = [book_orig_title]\n",
    "\t\tbook_df['series'] = [book_series]\n",
    "\t\tbook_df['language'] = [book_language]\n",
    "\t\tbook_df['authors'] = ','.join(book_authors)\n",
    "\t\tbook_df['avg_rating'] = book_avg_rating\n",
    "\t\tbook_df['num_ratings'] = book_num_ratings\n",
    "\t\tbook_df['num_reviews'] = book_num_reviews\n",
    "\t\tbook_df['genres'] = ','.join(book_genres)\n",
    "\t\tbook_df['description'] = book_description\n",
    "\t\tbook_df['url'] = selector.url # Easier to debug.\n",
    "\n",
    "\t\t# Append to the master df.\n",
    "\t\tglobal all_books_df\n",
    "\t\tall_books_df = pd.concat([all_books_df, book_df], sort=False)\n",
    "\t#end\n",
    "\n",
    "\tdef process_book_description(self, spans):\n",
    "\t\t# This is a strange one. There's a div w/ the ID `description` which contains a bunch of `span` tags.\n",
    "\t\t# However, one is the preview before pressing `...more`, and the other is hidden (`display:none`).\n",
    "\t\t# Inside the span is arbitrary HTML but it seems only one layer deep.  So, I'm processing all of the strings and then\n",
    "\t\t# pooling them together.  I'd do it in one line but there's some oddities that mean it must be looped.\n",
    "\t\ttexts = []\n",
    "\n",
    "\t\tfor desc_span in spans:\n",
    "\t\t\tdesc_text = desc_span.strip()\n",
    "\t\t\t# Remove newlines.\n",
    "\t\t\tdesc_text = desc_text.replace('\\n', '')\n",
    "\t\t\t# Remove tabs in case I store in TSV.\n",
    "\t\t\tdesc_text = desc_text.replace('\\t', ' ')\n",
    "\t\t\t# Remove HTML tags (a bit risky but seems to be okay).\n",
    "\t\t\tdesc_text = re.sub(r\"<[^>]*>\", '', desc_text)\n",
    "\n",
    "\t\t\t# Only add if not empty as some nodes are just pure HTML (would add extra spaces when concatenating).\n",
    "\t\t\tif len(desc_text):\n",
    "\t\t\t\ttexts.append(desc_text)\n",
    "\t\t#end\n",
    "\n",
    "\t\treturn texts\n",
    "\t#end\n",
    "#end\n",
    "\n",
    "# Which page to begin and end at.  You could always automate the end but I want a manual range.\n",
    "START_PAGE = 1\n",
    "END_PAGE = 100\n",
    "# Master DF with all books for the given range.\n",
    "all_books_df = pd.DataFrame()\n",
    "\n",
    "process = CrawlerProcess()\n",
    "process.crawl(GoodReadsSpider)\n",
    "process.start()\n",
    "\n",
    "# Write a TSV.\n",
    "output_tsv = f'./output/pages-{START_PAGE}-{END_PAGE}.tsv'\n",
    "all_books_df.to_csv(output_tsv, index=False, sep='\\t')\n",
    "\n",
    "# Write a CSV.\n",
    "output_csv = f'./output/pages-{START_PAGE}-{END_PAGE}.csv'\n",
    "all_books_df.to_csv(output_csv, index=False)"
   ]
  },
  {
   "cell_type": "code",
   "execution_count": null,
   "metadata": {},
   "outputs": [],
   "source": []
  }
 ],
 "metadata": {
  "kernelspec": {
   "display_name": "Python 3",
   "language": "python",
   "name": "python3"
  }
 },
 "nbformat": 4,
 "nbformat_minor": 2
}
